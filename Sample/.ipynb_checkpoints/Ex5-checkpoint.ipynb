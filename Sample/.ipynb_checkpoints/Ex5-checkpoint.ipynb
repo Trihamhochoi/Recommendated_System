{
 "cells": [
  {
   "cell_type": "code",
   "execution_count": 1,
   "id": "f156b464-4600-4022-a0e2-973835be22f7",
   "metadata": {
    "id": "c0JvcgTY_23t",
    "tags": []
   },
   "outputs": [],
   "source": [
    "import findspark\n",
    "findspark.init()"
   ]
  },
  {
   "cell_type": "code",
   "execution_count": 2,
   "id": "a0615c91-8032-42c5-972d-a1514256f6a1",
   "metadata": {
    "colab": {
     "base_uri": "https://localhost:8080/"
    },
    "id": "dumPUEuh_-nY",
    "outputId": "e36bcd58-0d12-4ff0-f6d9-320c8b0f7be6"
   },
   "outputs": [],
   "source": [
    "# from google.colab import drive\n",
    "# drive.mount('/content/gdrive', force_remount=True)"
   ]
  },
  {
   "cell_type": "code",
   "execution_count": 3,
   "id": "870e815a-32c9-4fcc-b458-4ec8b1f9aa1a",
   "metadata": {
    "colab": {
     "base_uri": "https://localhost:8080/"
    },
    "id": "RH0SEBw0ABPH",
    "outputId": "6149f3ea-d487-4a86-ea61-f1a64e90e521"
   },
   "outputs": [],
   "source": [
    "# %cd '/content/gdrive/My Drive/LDS9/Practice/Chapter5/'"
   ]
  },
  {
   "cell_type": "code",
   "execution_count": 2,
   "id": "fe6c9197-f38d-472b-876c-b7e8688d6d03",
   "metadata": {
    "id": "sMEWXllEAD3X"
   },
   "outputs": [],
   "source": [
    "# import libraries\n",
    "from pyspark import SparkContext\n",
    "from pyspark.conf import SparkConf\n",
    "from pyspark.sql import SparkSession\n",
    "import matplotlib.pyplot as plt\n",
    "import seaborn as sns\n",
    "from scipy import stats\n",
    "from datetime import datetime\n",
    "from pyspark.sql import Row\n",
    "import pyspark.sql.functions as f\n",
    "\n",
    "import pyspark.sql.types as t\n",
    "\n",
    "import pyspark.ml.feature as feat\n",
    "\n",
    "import numpy as np\n",
    "import pandas as pd\n",
    "\n",
    "# Pipeline\n",
    "from pyspark.ml import Pipeline, PipelineModel\n",
    "\n",
    "# Machine learning\n",
    "from pyspark.ml.recommendation import ALS\n",
    "from pyspark.ml.evaluation import RegressionEvaluator"
   ]
  },
  {
   "cell_type": "code",
   "execution_count": 5,
   "id": "5881e1c1-835b-4187-8f6d-c8856baad8bc",
   "metadata": {},
   "outputs": [],
   "source": [
    "# import os\n",
    "# import sys\n",
    "\n",
    "# os.environ['PYSPARK_PYTHON'] = sys.executable\n",
    "# os.environ['PYSPARK_DRIVER_PYTHON'] = sys.executable"
   ]
  },
  {
   "cell_type": "markdown",
   "id": "7d700b8c-e3bc-4dd9-bdb6-c4ecf9da0c60",
   "metadata": {
    "tags": []
   },
   "source": [
    "# About Dataset\n",
    "Use the information:\n",
    "- \"reviewerID\", \n",
    "- \"asin\" (ProductID), \n",
    "- and “overall” (users’ratings for each product) \n",
    "\n",
    "in dataset reviews_Toys_and_Games_5.json.gz to build a model to predict overalls for products that have not been selectedby users. \n",
    "\n",
    "**Then make recommendations to some users: A3GJPLCZCDXXG6, A34U85WY8ZWBPV, A2VIY2TL6QPYLG**"
   ]
  },
  {
   "cell_type": "code",
   "execution_count": 3,
   "id": "cda6533d-a4ff-4487-a8b3-29d67df8eb7c",
   "metadata": {},
   "outputs": [],
   "source": [
    "SparkContext.setSystemProperty(key='spark.hadoop.dfs.client.use.datanode.hostname',value='true')"
   ]
  },
  {
   "cell_type": "code",
   "execution_count": 4,
   "id": "3367c41c-09b6-438a-8037-b060dbf4be64",
   "metadata": {
    "id": "wnB3qrDkAJNX"
   },
   "outputs": [],
   "source": [
    "sc =SparkContext()"
   ]
  },
  {
   "cell_type": "code",
   "execution_count": 5,
   "id": "237856e6-0560-4fc6-bd31-dc3e19dec492",
   "metadata": {
    "id": "2mfBvmJoejHV"
   },
   "outputs": [],
   "source": [
    "sc.setLogLevel(\"ERROR\")"
   ]
  },
  {
   "cell_type": "code",
   "execution_count": 6,
   "id": "3b2e41ba-de81-41f3-a563-f992fe56ac91",
   "metadata": {
    "id": "bxVoyCsJAU1Q"
   },
   "outputs": [],
   "source": [
    "spark = SparkSession(sc)"
   ]
  },
  {
   "cell_type": "code",
   "execution_count": 8,
   "id": "10f2ac4c-cae0-4e8f-b67b-032c184ee266",
   "metadata": {},
   "outputs": [],
   "source": [
    "df = spark.read.json('data/reviews_Toys_and_Games_5.json.gz')"
   ]
  },
  {
   "cell_type": "markdown",
   "id": "9f82ae3c-ac0e-41e0-8ab4-ef453698b10d",
   "metadata": {
    "tags": []
   },
   "source": [
    "# Overview"
   ]
  },
  {
   "cell_type": "code",
   "execution_count": 9,
   "id": "0ebad491-b088-442a-b490-611e6e4c85e0",
   "metadata": {},
   "outputs": [
    {
     "name": "stdout",
     "output_type": "stream",
     "text": [
      "+----------+--------+-------+--------------------+-----------+--------------+--------------+--------------------+--------------+\n",
      "|      asin| helpful|overall|          reviewText| reviewTime|    reviewerID|  reviewerName|             summary|unixReviewTime|\n",
      "+----------+--------+-------+--------------------+-----------+--------------+--------------+--------------------+--------------+\n",
      "|0439893577|  [0, 0]|    5.0|I like the item p...|01 29, 2014|A1VXOAVRGKGEAK|         Angie|      Magnetic board|    1390953600|\n",
      "|0439893577|  [1, 1]|    4.0|Love the magnet e...|03 28, 2014| A8R62G708TSCM|       Candace|it works pretty g...|    1395964800|\n",
      "|0439893577|  [1, 1]|    5.0|Both sides are ma...|01 28, 2013|A21KH420DK0ICA|capemaychristy|          love this!|    1359331200|\n",
      "|0439893577|  [0, 0]|    5.0|Bought one a few ...| 02 8, 2014| AR29QK6HPFYZ4|          dcrm|   Daughters love it|    1391817600|\n",
      "|0439893577|  [1, 1]|    4.0|I have a stainles...| 05 5, 2014| ACCH8EOML6FN5|          DoyZ|Great to have so ...|    1399248000|\n",
      "|0439893577|  [0, 0]|    3.0|this is a nice ma...|05 16, 2013|A1EDPGHC9EYBUN|            kp|             grandma|    1368662400|\n",
      "|0439893577|  [0, 0]|    3.0|This is just as I...|12 26, 2012|A181ZNB42LISRZ|         laura|  Serves the purpose|    1356480000|\n",
      "|0439893577|  [1, 1]|    5.0|My granddaughter ...|04 15, 2014|A1RBEJ5UQ1RWAW|         Linda|               Great|    1397520000|\n",
      "|0439893577|  [0, 0]|    4.0|This is good prod...|03 28, 2013| AFGGC7SIV964O|    Maan's Mom|A must have for a...|    1364428800|\n",
      "|0439893577|[59, 59]|    3.0|I keep this board...|11 19, 2009|A2XU46XXNV19C8|      Margaret|  Nifty little thing|    1258588800|\n",
      "+----------+--------+-------+--------------------+-----------+--------------+--------------+--------------------+--------------+\n",
      "only showing top 10 rows\n",
      "\n",
      "root\n",
      " |-- asin: string (nullable = true)\n",
      " |-- helpful: array (nullable = true)\n",
      " |    |-- element: long (containsNull = true)\n",
      " |-- overall: double (nullable = true)\n",
      " |-- reviewText: string (nullable = true)\n",
      " |-- reviewTime: string (nullable = true)\n",
      " |-- reviewerID: string (nullable = true)\n",
      " |-- reviewerName: string (nullable = true)\n",
      " |-- summary: string (nullable = true)\n",
      " |-- unixReviewTime: long (nullable = true)\n",
      "\n",
      "There are 167597 rows and 9 columns in dataframe\n"
     ]
    }
   ],
   "source": [
    "df.show(10)\n",
    "df.printSchema()\n",
    "print(f'There are {df.count()} rows and {len(df.columns)} columns in dataframe')"
   ]
  },
  {
   "cell_type": "markdown",
   "id": "6529d270-3235-4914-ab78-7a121c47c2de",
   "metadata": {},
   "source": [
    "According to the exercises, I drop all columns except folowing coluns:\n",
    "- \"reviewerID\", \n",
    "- \"asin\" (ProductID), \n",
    "- and “overall” (users’ratings for each product) "
   ]
  },
  {
   "cell_type": "code",
   "execution_count": 10,
   "id": "173f00c3-e95e-4b21-a8fe-9083badd9452",
   "metadata": {},
   "outputs": [],
   "source": [
    "df_rmd = df"
   ]
  },
  {
   "cell_type": "code",
   "execution_count": 11,
   "id": "d89072ac-5ae5-4b88-be5b-21c878c704af",
   "metadata": {},
   "outputs": [],
   "source": [
    "df = df.select('reviewerID','asin','overall')"
   ]
  },
  {
   "cell_type": "code",
   "execution_count": null,
   "id": "9c10ca4e-73e1-43e2-8396-066399fb0663",
   "metadata": {},
   "outputs": [],
   "source": [
    "df.withColumn('reviewerID',f.col('reviewerID'))"
   ]
  },
  {
   "cell_type": "code",
   "execution_count": 12,
   "id": "1267a033-8a42-47c3-bd31-3e7f9bf45a91",
   "metadata": {},
   "outputs": [
    {
     "name": "stdout",
     "output_type": "stream",
     "text": [
      "+--------------+----------+-------+\n",
      "|    reviewerID|      asin|overall|\n",
      "+--------------+----------+-------+\n",
      "|A1VXOAVRGKGEAK|0439893577|    5.0|\n",
      "| A8R62G708TSCM|0439893577|    4.0|\n",
      "|A21KH420DK0ICA|0439893577|    5.0|\n",
      "| AR29QK6HPFYZ4|0439893577|    5.0|\n",
      "| ACCH8EOML6FN5|0439893577|    4.0|\n",
      "|A1EDPGHC9EYBUN|0439893577|    3.0|\n",
      "|A181ZNB42LISRZ|0439893577|    3.0|\n",
      "|A1RBEJ5UQ1RWAW|0439893577|    5.0|\n",
      "| AFGGC7SIV964O|0439893577|    4.0|\n",
      "|A2XU46XXNV19C8|0439893577|    3.0|\n",
      "+--------------+----------+-------+\n",
      "only showing top 10 rows\n",
      "\n",
      "root\n",
      " |-- reviewerID: string (nullable = true)\n",
      " |-- asin: string (nullable = true)\n",
      " |-- overall: double (nullable = true)\n",
      "\n",
      "There are 167597 rows and 3 columns in dataframe\n"
     ]
    }
   ],
   "source": [
    "df.show(10)\n",
    "df.printSchema()\n",
    "print(f'There are {df.count()} rows and {len(df.columns)} columns in dataframe')"
   ]
  },
  {
   "cell_type": "markdown",
   "id": "b96ef814-2f74-4a80-ae2a-ad98dd7bdae4",
   "metadata": {},
   "source": [
    "## check null"
   ]
  },
  {
   "cell_type": "code",
   "execution_count": 29,
   "id": "ee770f03-85b9-4448-8210-622dad6b7068",
   "metadata": {},
   "outputs": [
    {
     "name": "stdout",
     "output_type": "stream",
     "text": [
      "+----------+----+-------+\n",
      "|reviewerID|asin|overall|\n",
      "+----------+----+-------+\n",
      "|         0|   0|      0|\n",
      "+----------+----+-------+\n",
      "\n"
     ]
    }
   ],
   "source": [
    "df.select([f.count(f.when(f.isnan(c), c)).alias(c) for c in df.columns]).show()"
   ]
  },
  {
   "cell_type": "code",
   "execution_count": 14,
   "id": "889f094a-7425-4bba-ac28-303cca9d4761",
   "metadata": {},
   "outputs": [
    {
     "name": "stdout",
     "output_type": "stream",
     "text": [
      "+----------+----+-------+\n",
      "|reviewerID|asin|overall|\n",
      "+----------+----+-------+\n",
      "|         0|   0|      0|\n",
      "+----------+----+-------+\n",
      "\n"
     ]
    }
   ],
   "source": [
    "df.select([f.count(f.when(f.isnull(c), c)).alias(c) for c in df.columns]).show()"
   ]
  },
  {
   "cell_type": "markdown",
   "id": "862851f4-c0f0-4125-81b4-86571a082173",
   "metadata": {},
   "source": [
    "## Descirble data"
   ]
  },
  {
   "cell_type": "code",
   "execution_count": 15,
   "id": "25bcff48-77a0-49b6-8b05-0498213ff7d2",
   "metadata": {},
   "outputs": [
    {
     "data": {
      "text/plain": [
       "['reviewerID', 'asin', 'overall']"
      ]
     },
     "execution_count": 15,
     "metadata": {},
     "output_type": "execute_result"
    }
   ],
   "source": [
    "cat_col = df.columns\n",
    "cat_col"
   ]
  },
  {
   "cell_type": "markdown",
   "id": "5e9e3fe1-5740-4a8c-a7c5-b7d9d88fbf97",
   "metadata": {},
   "source": [
    "## Category data"
   ]
  },
  {
   "cell_type": "markdown",
   "id": "60ed6495-f27b-41d9-85fa-6f97ee711d3d",
   "metadata": {},
   "source": [
    "### Check distinct values"
   ]
  },
  {
   "cell_type": "code",
   "execution_count": 17,
   "id": "ae4eb1d3-30ff-4c51-be19-1fe2c6a78037",
   "metadata": {},
   "outputs": [
    {
     "name": "stdout",
     "output_type": "stream",
     "text": [
      "+----------+-----+-------+\n",
      "|reviewerID| asin|overall|\n",
      "+----------+-----+-------+\n",
      "|     19412|11924|      5|\n",
      "+----------+-----+-------+\n",
      "\n"
     ]
    }
   ],
   "source": [
    "df.select([f.count_distinct(c).alias(c) for c in df.columns]).show()"
   ]
  },
  {
   "cell_type": "markdown",
   "id": "aaee5de9-01ae-4d72-8715-248996397fff",
   "metadata": {},
   "source": [
    "### Check top5 disticnt value count of each category columns in df "
   ]
  },
  {
   "cell_type": "code",
   "execution_count": 19,
   "id": "a08c83b1-d0ca-4cff-b6ac-45826e017aa4",
   "metadata": {},
   "outputs": [
    {
     "name": "stdout",
     "output_type": "stream",
     "text": [
      "+--------------+-----+---------------------+\n",
      "|reviewerID    |count|Normalize            |\n",
      "+--------------+-----+---------------------+\n",
      "|AJGU56YG8G1DQ |550  |0.003281681653012882 |\n",
      "|A1M8AYAL3L8ACP|168  |0.0010024045776475712|\n",
      "|A1II2ZRPKZAQQD|157  |9.367709445873136E-4 |\n",
      "|A2WW57XX2UVLM6|151  |9.009707810999003E-4 |\n",
      "|A1POFVVXUZR3IQ|133  |7.935702906376606E-4 |\n",
      "+--------------+-----+---------------------+\n",
      "only showing top 5 rows\n",
      "\n",
      "+----------+-----+---------------------+\n",
      "|asin      |count|Normalize            |\n",
      "+----------+-----+---------------------+\n",
      "|B004S8F7QM|309  |0.001843708419601783 |\n",
      "|B0089RPUHO|253  |0.0015095735603859258|\n",
      "|B0039S7NO6|215  |0.0012828391916323084|\n",
      "|B001W30D2O|207  |0.0012351056403157575|\n",
      "|B002NPBT50|196  |0.0011694720072554998|\n",
      "+----------+-----+---------------------+\n",
      "only showing top 5 rows\n",
      "\n",
      "+-------+------+--------------------+\n",
      "|overall|count |Normalize           |\n",
      "+-------+------+--------------------+\n",
      "|5.0    |102790|0.6133164674785349  |\n",
      "|4.0    |37445 |0.2234228536310316  |\n",
      "|3.0    |16357 |0.09759721236060312 |\n",
      "|2.0    |6298  |0.03757823827395478 |\n",
      "|1.0    |4707  |0.028085228255875703|\n",
      "+-------+------+--------------------+\n",
      "\n"
     ]
    }
   ],
   "source": [
    "for col in cat_col:\n",
    "    (df.groupby(col).count()\n",
    "     .withColumn('Normalize',(f.col('count')/df.count()))\n",
    "     .orderBy(f.col('count').desc())\n",
    "     .show(5,vertical=False,truncate=False))"
   ]
  },
  {
   "cell_type": "markdown",
   "id": "e31d726a-0caf-4909-b3bb-512a873962b1",
   "metadata": {},
   "source": [
    "# Preprocessing"
   ]
  },
  {
   "cell_type": "code",
   "execution_count": 22,
   "id": "964a2adb-5606-495a-a87f-83b62de2560b",
   "metadata": {},
   "outputs": [],
   "source": [
    "strindex = feat.StringIndexer(inputCols=['reviewerID','asin'],outputCols=['user_id','prd_id']).fit(df)"
   ]
  },
  {
   "cell_type": "code",
   "execution_count": 25,
   "id": "2107353a-db7b-4404-ba04-5c0835e1c272",
   "metadata": {},
   "outputs": [],
   "source": [
    "final_df = strindex.transform(df)"
   ]
  },
  {
   "cell_type": "code",
   "execution_count": 28,
   "id": "7d8cad50-37d0-474d-be60-f7198949bdba",
   "metadata": {},
   "outputs": [
    {
     "name": "stdout",
     "output_type": "stream",
     "text": [
      "+--------------+----------+-------+-------+------+\n",
      "|    reviewerID|      asin|overall|user_id|prd_id|\n",
      "+--------------+----------+-------+-------+------+\n",
      "|A1VXOAVRGKGEAK|0439893577|    5.0|14349.0|2524.0|\n",
      "| A8R62G708TSCM|0439893577|    4.0|18115.0|2524.0|\n",
      "|A21KH420DK0ICA|0439893577|    5.0| 4454.0|2524.0|\n",
      "| AR29QK6HPFYZ4|0439893577|    5.0|18990.0|2524.0|\n",
      "| ACCH8EOML6FN5|0439893577|    4.0| 2769.0|2524.0|\n",
      "|A1EDPGHC9EYBUN|0439893577|    3.0| 1816.0|2524.0|\n",
      "|A181ZNB42LISRZ|0439893577|    3.0| 6888.0|2524.0|\n",
      "|A1RBEJ5UQ1RWAW|0439893577|    5.0| 5526.0|2524.0|\n",
      "| AFGGC7SIV964O|0439893577|    4.0|12255.0|2524.0|\n",
      "|A2XU46XXNV19C8|0439893577|    3.0| 7909.0|2524.0|\n",
      "+--------------+----------+-------+-------+------+\n",
      "only showing top 10 rows\n",
      "\n",
      "root\n",
      " |-- reviewerID: string (nullable = true)\n",
      " |-- asin: string (nullable = true)\n",
      " |-- overall: double (nullable = true)\n",
      " |-- user_id: double (nullable = false)\n",
      " |-- prd_id: double (nullable = false)\n",
      "\n"
     ]
    }
   ],
   "source": [
    "final_df.show(10)\n",
    "final_df.printSchema()"
   ]
  },
  {
   "cell_type": "code",
   "execution_count": 31,
   "id": "5e48e886-a34a-4b0c-a950-4e37d36be57e",
   "metadata": {},
   "outputs": [
    {
     "name": "stdout",
     "output_type": "stream",
     "text": [
      "+----------+----+-------+-------+------+\n",
      "|reviewerID|asin|overall|user_id|prd_id|\n",
      "+----------+----+-------+-------+------+\n",
      "|         0|   0|      0|      0|     0|\n",
      "+----------+----+-------+-------+------+\n",
      "\n"
     ]
    }
   ],
   "source": [
    "final_df.select([f.count(f.when(f.isnan(c), c)).alias(c) for c in final_df.columns]).show()"
   ]
  },
  {
   "cell_type": "code",
   "execution_count": 32,
   "id": "873654af-d674-4571-881b-1d7e8d184835",
   "metadata": {},
   "outputs": [
    {
     "name": "stdout",
     "output_type": "stream",
     "text": [
      "+----------+----+-------+-------+------+\n",
      "|reviewerID|asin|overall|user_id|prd_id|\n",
      "+----------+----+-------+-------+------+\n",
      "|         0|   0|      0|      0|     0|\n",
      "+----------+----+-------+-------+------+\n",
      "\n"
     ]
    }
   ],
   "source": [
    "final_df.select([f.count(f.when(f.isnull(c), c)).alias(c) for c in final_df.columns]).show()"
   ]
  },
  {
   "cell_type": "markdown",
   "id": "b521e9f7-cd8c-4d8e-8928-ed4c3e421e24",
   "metadata": {
    "tags": []
   },
   "source": [
    "# Split Data"
   ]
  },
  {
   "cell_type": "code",
   "execution_count": 33,
   "id": "f64455a9-1d32-4477-bd7c-ab7bd0de3e84",
   "metadata": {},
   "outputs": [],
   "source": [
    "train, test = final_df.randomSplit([0.8,0.2],seed=42)"
   ]
  },
  {
   "cell_type": "markdown",
   "id": "61732834-eaf4-4a84-81ce-d372cce8c4f2",
   "metadata": {},
   "source": [
    "# Model"
   ]
  },
  {
   "cell_type": "markdown",
   "id": "00497ee4-dc5a-4e25-b8ae-b4bb01298d38",
   "metadata": {},
   "source": [
    "# Evaluation"
   ]
  },
  {
   "cell_type": "code",
   "execution_count": 44,
   "id": "e770553f-7130-4313-ab59-7f12d9f74e39",
   "metadata": {},
   "outputs": [],
   "source": [
    "predictions = model.transform(test)"
   ]
  },
  {
   "cell_type": "code",
   "execution_count": 45,
   "id": "3b547660-81d3-49e2-afee-18d0ce2d28e2",
   "metadata": {},
   "outputs": [
    {
     "name": "stdout",
     "output_type": "stream",
     "text": [
      "+--------------+----------+-------+-------+-------+----------+\n",
      "|    reviewerID|      asin|overall|user_id| prd_id|prediction|\n",
      "+--------------+----------+-------+-------+-------+----------+\n",
      "|A1235J5HSC60MW|B00000DMC6|    5.0| 1088.0| 4738.0| 2.6736891|\n",
      "|A1235J5HSC60MW|B00AHAJ8TC|    5.0| 1088.0| 5229.0|  5.174826|\n",
      "|A129RD9VDUUD6S|B00GSPFC2M|    5.0|12940.0| 4235.0| 2.2905302|\n",
      "|A129RD9VDUUD6S|B00GSPFCYU|    5.0|12940.0| 2957.0|  3.969718|\n",
      "|A129RD9VDUUD6S|B00GSPFD1W|    5.0|12940.0|11895.0|  4.010417|\n",
      "+--------------+----------+-------+-------+-------+----------+\n",
      "only showing top 5 rows\n",
      "\n"
     ]
    }
   ],
   "source": [
    "predictions.show(5)"
   ]
  },
  {
   "cell_type": "code",
   "execution_count": 46,
   "id": "b67b5516-ab25-404f-bdeb-aab5900f1d7c",
   "metadata": {},
   "outputs": [
    {
     "name": "stdout",
     "output_type": "stream",
     "text": [
      "Root-mean square error = 1.3638542060439658\n"
     ]
    }
   ],
   "source": [
    "evaluator = RegressionEvaluator(metricName='rmse',\n",
    "                                labelCol='overall',\n",
    "                                predictionCol='prediction')\n",
    "rmse = evaluator.evaluate(predictions)\n",
    "print(\"Root-mean square error = \"+str(rmse))"
   ]
  },
  {
   "cell_type": "code",
   "execution_count": 47,
   "id": "a7dae928-9cc9-4647-b306-f2c50e97c04d",
   "metadata": {},
   "outputs": [],
   "source": [
    "als = ALS(maxIter=20,\n",
    "          regParam=0.01, \n",
    "          userCol='user_id',\n",
    "          itemCol='prd_id', \n",
    "          ratingCol='overall', \n",
    "          coldStartStrategy='drop',\n",
    "          rank=10,\n",
    "          nonnegative=True)\n",
    "model_t = als.fit(train)"
   ]
  },
  {
   "cell_type": "code",
   "execution_count": 49,
   "id": "68c73ff5-6aa4-4bcb-8012-eb19c2b9b1a7",
   "metadata": {},
   "outputs": [
    {
     "name": "stdout",
     "output_type": "stream",
     "text": [
      "Root-mean square error = 1.3074620224307896\n"
     ]
    }
   ],
   "source": [
    "# evaluate \n",
    "pred_t = model_t.transform(test)\n",
    "evaluator = RegressionEvaluator(metricName='rmse',\n",
    "                                labelCol='overall',\n",
    "                                predictionCol='prediction')\n",
    "rmse = evaluator.evaluate(pred_t)\n",
    "print(\"Root-mean square error = \"+str(rmse))"
   ]
  },
  {
   "cell_type": "code",
   "execution_count": 50,
   "id": "0c69ec7e-dfb5-4beb-b289-94ff8cd38bc8",
   "metadata": {},
   "outputs": [],
   "source": [
    "user_recs = model_t.recommendForAllUsers(10)"
   ]
  },
  {
   "cell_type": "code",
   "execution_count": 51,
   "id": "5ab9a913-f528-4c96-96ae-325a8060f422",
   "metadata": {},
   "outputs": [
    {
     "name": "stdout",
     "output_type": "stream",
     "text": [
      "root\n",
      " |-- user_id: integer (nullable = false)\n",
      " |-- recommendations: array (nullable = true)\n",
      " |    |-- element: struct (containsNull = true)\n",
      " |    |    |-- prd_id: integer (nullable = true)\n",
      " |    |    |-- rating: float (nullable = true)\n",
      "\n"
     ]
    }
   ],
   "source": [
    "user_recs.printSchema()"
   ]
  },
  {
   "cell_type": "code",
   "execution_count": 64,
   "id": "5a588fd3-738e-40ec-b499-523f64f51736",
   "metadata": {},
   "outputs": [
    {
     "name": "stdout",
     "output_type": "stream",
     "text": [
      "+-------+--------------------+\n",
      "|user_id|     recommendations|\n",
      "+-------+--------------------+\n",
      "|     31|[{2608, 6.0681133...|\n",
      "|     34|[{11808, 8.067472...|\n",
      "|     53|[{9466, 7.335936}...|\n",
      "|     65|[{10928, 7.626090...|\n",
      "|     78|[{6875, 8.079903}...|\n",
      "|     85|[{2700, 8.284455}...|\n",
      "|    108|[{10731, 7.793638...|\n",
      "|    133|[{10928, 8.332048...|\n",
      "|    137|[{5377, 8.048038}...|\n",
      "|    148|[{10928, 9.205428...|\n",
      "+-------+--------------------+\n",
      "only showing top 10 rows\n",
      "\n"
     ]
    }
   ],
   "source": [
    "user_recs.show(10)"
   ]
  },
  {
   "cell_type": "code",
   "execution_count": 65,
   "id": "942c8403-25aa-435b-8198-ec2b954b538c",
   "metadata": {},
   "outputs": [
    {
     "name": "stdout",
     "output_type": "stream",
     "text": [
      "+-------+------------------+------+---------+\n",
      "|user_id|               col|prd_id|   rating|\n",
      "+-------+------------------+------+---------+\n",
      "|     31| {2608, 6.0681133}|  2608|6.0681133|\n",
      "|     31| {2941, 6.0042872}|  2941|6.0042872|\n",
      "|     31| {11802, 5.924115}| 11802| 5.924115|\n",
      "|     31|  {7332, 5.847309}|  7332| 5.847309|\n",
      "|     31| {7524, 5.8088546}|  7524|5.8088546|\n",
      "|     31|{11395, 5.7949514}| 11395|5.7949514|\n",
      "|     31|  {10731, 5.70828}| 10731|  5.70828|\n",
      "|     31|  {5389, 5.664432}|  5389| 5.664432|\n",
      "|     31|  {9703, 5.643629}|  9703| 5.643629|\n",
      "|     31| {4395, 5.6272407}|  4395|5.6272407|\n",
      "|     34| {11808, 8.067472}| 11808| 8.067472|\n",
      "|     34|  {6875, 7.980544}|  6875| 7.980544|\n",
      "|     34|{11802, 7.3937116}| 11802|7.3937116|\n",
      "|     34| {9866, 7.2814918}|  9866|7.2814918|\n",
      "|     34|  {4961, 7.113665}|  4961| 7.113665|\n",
      "|     34| {7769, 7.0938873}|  7769|7.0938873|\n",
      "|     34| {9425, 7.0872297}|  9425|7.0872297|\n",
      "|     34|  {6022, 7.034169}|  6022| 7.034169|\n",
      "|     34|  {3474, 7.011326}|  3474| 7.011326|\n",
      "|     34|  {2685, 6.995719}|  2685| 6.995719|\n",
      "+-------+------------------+------+---------+\n",
      "only showing top 20 rows\n",
      "\n"
     ]
    }
   ],
   "source": [
    "result = user_recs.select(f.col('user_id'),\n",
    "                       f.explode(f.col('recommendations')))\n",
    "\n",
    "result = (result.withColumn('prd_id', \n",
    "                               result.col.getField('prd_id'))\n",
    "             .withColumn('rating',  \n",
    "                         result.col.getField('rating'))\n",
    "            )\n",
    "result.show()"
   ]
  },
  {
   "cell_type": "code",
   "execution_count": 66,
   "id": "15b83cea-7b85-4104-9421-113041aba2cd",
   "metadata": {},
   "outputs": [
    {
     "name": "stdout",
     "output_type": "stream",
     "text": [
      "+-------+-----------------+\n",
      "|summary|           rating|\n",
      "+-------+-----------------+\n",
      "|  count|           194080|\n",
      "|   mean|7.053887954934731|\n",
      "| stddev|0.972378526601487|\n",
      "|    min|        1.0987473|\n",
      "|    max|         17.95811|\n",
      "+-------+-----------------+\n",
      "\n"
     ]
    }
   ],
   "source": [
    "result.select('rating').describe().show()"
   ]
  },
  {
   "cell_type": "markdown",
   "id": "aa588dde-f030-4458-9d57-71efd729a233",
   "metadata": {},
   "source": [
    "# Check new data"
   ]
  },
  {
   "cell_type": "code",
   "execution_count": 69,
   "id": "35c77d68-2d7f-4414-b88c-eb67282b2095",
   "metadata": {},
   "outputs": [
    {
     "name": "stdout",
     "output_type": "stream",
     "text": [
      "+--------------+----------+-------+-------+------+\n",
      "|    reviewerID|      asin|overall|user_id|prd_id|\n",
      "+--------------+----------+-------+-------+------+\n",
      "|A1VXOAVRGKGEAK|0439893577|    5.0|14349.0|2524.0|\n",
      "| A8R62G708TSCM|0439893577|    4.0|18115.0|2524.0|\n",
      "|A21KH420DK0ICA|0439893577|    5.0| 4454.0|2524.0|\n",
      "| AR29QK6HPFYZ4|0439893577|    5.0|18990.0|2524.0|\n",
      "| ACCH8EOML6FN5|0439893577|    4.0| 2769.0|2524.0|\n",
      "+--------------+----------+-------+-------+------+\n",
      "only showing top 5 rows\n",
      "\n"
     ]
    }
   ],
   "source": [
    "final_df.show(5)"
   ]
  },
  {
   "cell_type": "code",
   "execution_count": 81,
   "id": "6e245d59-fd70-4cd1-9b03-730a58126e6b",
   "metadata": {},
   "outputs": [],
   "source": [
    "check_reviewer = ['A3GJPLCZCDXXG6', 'A34U85WY8ZWBPV', 'A2VIY2TL6QPYLG']"
   ]
  },
  {
   "cell_type": "markdown",
   "id": "aec51e2e-9211-4e88-be3d-19fb5babaf08",
   "metadata": {},
   "source": [
    "- test if there are more than 2 values for one reviewer "
   ]
  },
  {
   "cell_type": "code",
   "execution_count": 79,
   "id": "8610a321-e37a-42f8-b461-c6b712b102ba",
   "metadata": {},
   "outputs": [
    {
     "name": "stdout",
     "output_type": "stream",
     "text": [
      "+--------------+--------+\n",
      "|    reviewerID|count_id|\n",
      "+--------------+--------+\n",
      "| ADF0URBXWJQOJ|       1|\n",
      "| ARIFCL50JD5SK|       1|\n",
      "| ATRQPL5OG4NIP|       1|\n",
      "|A1OPV6BD37T1VL|       1|\n",
      "| A2S0HZ2WHXRKD|       1|\n",
      "|A2P6QCZWW3H1X6|       1|\n",
      "| A9XCW04U6X4NP|       1|\n",
      "|A3LUUDFQJWLRTB|       1|\n",
      "| ATHUV6LFX2AXM|       1|\n",
      "|A3OPXNND84JPV6|       1|\n",
      "+--------------+--------+\n",
      "only showing top 10 rows\n",
      "\n"
     ]
    }
   ],
   "source": [
    "check_distinct = final_df.select('reviewerID','user_id').distinct().groupby('reviewerID').agg(f.count(f.col('user_id')).alias('count_id'))\n",
    "check_distinct.show(10)"
   ]
  },
  {
   "cell_type": "code",
   "execution_count": 80,
   "id": "815f3942-5bcc-444b-9345-13556e6eae2f",
   "metadata": {},
   "outputs": [
    {
     "name": "stdout",
     "output_type": "stream",
     "text": [
      "+----------+--------+\n",
      "|reviewerID|count_id|\n",
      "+----------+--------+\n",
      "+----------+--------+\n",
      "\n"
     ]
    }
   ],
   "source": [
    "check_distinct.filter(f.col('count_id')>1).show()"
   ]
  },
  {
   "cell_type": "code",
   "execution_count": 83,
   "id": "ae3607b5-5eec-4454-992e-1f66ac099e43",
   "metadata": {},
   "outputs": [
    {
     "name": "stdout",
     "output_type": "stream",
     "text": [
      "+--------------+-------+\n",
      "|    reviewerID|user_id|\n",
      "+--------------+-------+\n",
      "|A34U85WY8ZWBPV|16527.0|\n",
      "|A2VIY2TL6QPYLG| 7861.0|\n",
      "|A3GJPLCZCDXXG6| 6190.0|\n",
      "+--------------+-------+\n",
      "\n"
     ]
    }
   ],
   "source": [
    "map_data = final_df.select('reviewerID','user_id').distinct().filter(f.col('reviewerID').isin(check_reviewer))\n",
    "map_data.show()"
   ]
  },
  {
   "cell_type": "code",
   "execution_count": 87,
   "id": "00f802f3-face-4b24-86bf-58f26652a62f",
   "metadata": {},
   "outputs": [
    {
     "data": {
      "text/plain": [
       "[16527.0, 7861.0, 6190.0]"
      ]
     },
     "execution_count": 87,
     "metadata": {},
     "output_type": "execute_result"
    }
   ],
   "source": [
    "id_reviewer_encode = [i[0] for i in map_data.select('user_id').collect()]\n",
    "id_reviewer_encode"
   ]
  },
  {
   "cell_type": "markdown",
   "id": "15b9fa00-78b8-4ac7-b185-210bfc9a9fbc",
   "metadata": {},
   "source": [
    "- List of product id encoder is recommended by system  "
   ]
  },
  {
   "cell_type": "code",
   "execution_count": 88,
   "id": "8c1d06d4-16a2-4d9c-94b0-ec60d72cd9f7",
   "metadata": {},
   "outputs": [
    {
     "name": "stdout",
     "output_type": "stream",
     "text": [
      "+-------+------------------+------+---------+\n",
      "|user_id|               col|prd_id|   rating|\n",
      "+-------+------------------+------+---------+\n",
      "|   7861| {6874, 7.1505904}|  6874|7.1505904|\n",
      "|   7861|  {5309, 7.061749}|  5309| 7.061749|\n",
      "|   7861| {5308, 6.8394947}|  5308|6.8394947|\n",
      "|   7861|  {3500, 6.692243}|  3500| 6.692243|\n",
      "|   7861| {3503, 6.6303864}|  3503|6.6303864|\n",
      "|   7861| {3209, 6.6245437}|  3209|6.6245437|\n",
      "|   7861| {11883, 6.582908}| 11883| 6.582908|\n",
      "|   7861| {6794, 6.5016327}|  6794|6.5016327|\n",
      "|   7861|  {7944, 6.410063}|  7944| 6.410063|\n",
      "|   7861| {3099, 6.4076023}|  3099|6.4076023|\n",
      "|   6190| {5377, 7.2214284}|  5377|7.2214284|\n",
      "|   6190| {8154, 6.9718266}|  8154|6.9718266|\n",
      "|   6190| {2649, 6.8427224}|  2649|6.8427224|\n",
      "|   6190| {10731, 6.788498}| 10731| 6.788498|\n",
      "|   6190|  {8158, 6.787895}|  8158| 6.787895|\n",
      "|   6190|  {6095, 6.750331}|  6095| 6.750331|\n",
      "|   6190|  {9424, 6.742305}|  9424| 6.742305|\n",
      "|   6190|{11832, 6.7392454}| 11832|6.7392454|\n",
      "|   6190|  {6708, 6.711317}|  6708| 6.711317|\n",
      "|   6190| {6766, 6.6967993}|  6766|6.6967993|\n",
      "+-------+------------------+------+---------+\n",
      "only showing top 20 rows\n",
      "\n"
     ]
    }
   ],
   "source": [
    "result.filter(f.col('user_id').isin(id_reviewer_encode)).show()"
   ]
  }
 ],
 "metadata": {
  "kernelspec": {
   "display_name": "Python 3 (ipykernel)",
   "language": "python",
   "name": "python3"
  },
  "language_info": {
   "codemirror_mode": {
    "name": "ipython",
    "version": 3
   },
   "file_extension": ".py",
   "mimetype": "text/x-python",
   "name": "python",
   "nbconvert_exporter": "python",
   "pygments_lexer": "ipython3",
   "version": "3.9.18"
  }
 },
 "nbformat": 4,
 "nbformat_minor": 5
}
