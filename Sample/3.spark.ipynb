{
 "cells": [
  {
   "cell_type": "markdown",
   "metadata": {
    "id": "RVHisUJqVCVZ"
   },
   "source": [
    "# Recommendation - Amazon – Toys and Games\n",
    "Pham Quoc Thai"
   ]
  },
  {
   "cell_type": "markdown",
   "metadata": {},
   "source": [
    "## Import library"
   ]
  },
  {
   "cell_type": "code",
   "execution_count": 1,
   "metadata": {},
   "outputs": [],
   "source": [
    "import findspark\n",
    "findspark.init()"
   ]
  },
  {
   "cell_type": "code",
   "execution_count": 2,
   "metadata": {
    "id": "q27Cc8duVCVe"
   },
   "outputs": [],
   "source": [
    "from pyspark.sql import SparkSession\n",
    "from pyspark import SparkContext\n",
    "from pyspark import SparkConf"
   ]
  },
  {
   "cell_type": "code",
   "execution_count": 3,
   "metadata": {},
   "outputs": [],
   "source": [
    "from pyspark.sql.types import DoubleType, IntegerType\n",
    "from pyspark.sql.functions import isnan, when, count, col, udf\n",
    "from pyspark.ml.feature import StringIndexer\n",
    "from pyspark.ml import Pipeline\n",
    "from pyspark.sql.functions import col"
   ]
  },
  {
   "cell_type": "code",
   "execution_count": 4,
   "metadata": {},
   "outputs": [],
   "source": [
    "from pyspark.ml.evaluation import RegressionEvaluator\n",
    "from pyspark.ml.recommendation import ALS"
   ]
  },
  {
   "cell_type": "code",
   "execution_count": 5,
   "metadata": {
    "id": "YD13jxRM1IWh"
   },
   "outputs": [
    {
     "name": "stderr",
     "output_type": "stream",
     "text": [
      "24/03/14 12:39:40 WARN Utils: Your hostname, QT-Ubuntu resolves to a loopback address: 127.0.1.1; using 172.16.8.87 instead (on interface enp3s0)\n",
      "24/03/14 12:39:40 WARN Utils: Set SPARK_LOCAL_IP if you need to bind to another address\n",
      "Setting default log level to \"WARN\".\n",
      "To adjust logging level use sc.setLogLevel(newLevel). For SparkR, use setLogLevel(newLevel).\n",
      "24/03/14 12:39:46 WARN NativeCodeLoader: Unable to load native-hadoop library for your platform... using builtin-java classes where applicable\n"
     ]
    }
   ],
   "source": [
    "SparkContext.setSystemProperty('spark.executor.memory', '12g')\n",
    "SparkContext.setSystemProperty('spark.driver.memory', '12g')\n",
    "#SparkContext.setSystemProperty('spark.executor.memoryOverhead', '2048')\n",
    "\n",
    "sc = SparkContext(master='local', appName='Recommendation')"
   ]
  },
  {
   "cell_type": "code",
   "execution_count": 6,
   "metadata": {
    "id": "oKPMUF9HVCVg"
   },
   "outputs": [],
   "source": [
    "spark = SparkSession(sc)"
   ]
  },
  {
   "cell_type": "markdown",
   "metadata": {},
   "source": [
    "## Read data and overview"
   ]
  },
  {
   "cell_type": "code",
   "execution_count": 7,
   "metadata": {},
   "outputs": [],
   "source": [
    "df_rating = spark.read.csv('cleaned_data/Products_ThoiTrangNam_rating_clean.csv', header=True)"
   ]
  },
  {
   "cell_type": "code",
   "execution_count": 30,
   "metadata": {},
   "outputs": [],
   "source": [
    "df_product = spark.read.option(\"multiLine\", \"true\").csv('cleaned_data/Products_ThoiTrangNam_clean.csv', header=True)"
   ]
  },
  {
   "cell_type": "code",
   "execution_count": 31,
   "metadata": {},
   "outputs": [
    {
     "name": "stdout",
     "output_type": "stream",
     "text": [
      "+----------+-------+------+--------------------+----------------+--------------------+\n",
      "|product_id|  price|rating|    product_name_new|sub_category_new|     description_new|\n",
      "+----------+-------+------+--------------------+----------------+--------------------+\n",
      "|       190|86250.0|   4.9|áo lỗ gân form th...|           áo lỗ|mục shopee thời n...|\n",
      "|       191|26800.0|   4.9|áo lỗ nam trắng c...|           áo lỗ|mục shopee thời n...|\n",
      "|       192|39500.0|   4.8|áo lỗ nam tyasuo ...|           áo lỗ|mục shopee thời n...|\n",
      "|       193|16500.0|   4.8| áo lỗ hàng việt nam|           áo lỗ|mục shopee thời n...|\n",
      "|       194|45000.0|   4.8|áo nam thể lỗ mẫu...|           áo lỗ|mục shopee thời n...|\n",
      "+----------+-------+------+--------------------+----------------+--------------------+\n",
      "only showing top 5 rows\n",
      "\n"
     ]
    }
   ],
   "source": [
    "df_product.show(5, truncate=True)"
   ]
  },
  {
   "cell_type": "code",
   "execution_count": 32,
   "metadata": {},
   "outputs": [
    {
     "name": "stderr",
     "output_type": "stream",
     "text": [
      "\r",
      "[Stage 67:>                                                         (0 + 1) / 1]\r",
      "\r",
      "                                                                                \r"
     ]
    },
    {
     "data": {
      "text/html": [
       "<div>\n",
       "<style scoped>\n",
       "    .dataframe tbody tr th:only-of-type {\n",
       "        vertical-align: middle;\n",
       "    }\n",
       "\n",
       "    .dataframe tbody tr th {\n",
       "        vertical-align: top;\n",
       "    }\n",
       "\n",
       "    .dataframe thead th {\n",
       "        text-align: right;\n",
       "    }\n",
       "</style>\n",
       "<table border=\"1\" class=\"dataframe\">\n",
       "  <thead>\n",
       "    <tr style=\"text-align: right;\">\n",
       "      <th></th>\n",
       "      <th>0</th>\n",
       "    </tr>\n",
       "  </thead>\n",
       "  <tbody>\n",
       "    <tr>\n",
       "      <th>product_id</th>\n",
       "      <td>0</td>\n",
       "    </tr>\n",
       "    <tr>\n",
       "      <th>price</th>\n",
       "      <td>0</td>\n",
       "    </tr>\n",
       "    <tr>\n",
       "      <th>rating</th>\n",
       "      <td>0</td>\n",
       "    </tr>\n",
       "    <tr>\n",
       "      <th>product_name_new</th>\n",
       "      <td>0</td>\n",
       "    </tr>\n",
       "    <tr>\n",
       "      <th>sub_category_new</th>\n",
       "      <td>0</td>\n",
       "    </tr>\n",
       "    <tr>\n",
       "      <th>description_new</th>\n",
       "      <td>0</td>\n",
       "    </tr>\n",
       "  </tbody>\n",
       "</table>\n",
       "</div>"
      ],
      "text/plain": [
       "                  0\n",
       "product_id        0\n",
       "price             0\n",
       "rating            0\n",
       "product_name_new  0\n",
       "sub_category_new  0\n",
       "description_new   0"
      ]
     },
     "execution_count": 32,
     "metadata": {},
     "output_type": "execute_result"
    }
   ],
   "source": [
    "#check nan/null values\n",
    "df_product.select([count(when(col(c).isNull(), c)).alias(c) for c in\n",
    "           df_product.columns]).toPandas().T"
   ]
  },
  {
   "cell_type": "code",
   "execution_count": 33,
   "metadata": {},
   "outputs": [
    {
     "name": "stdout",
     "output_type": "stream",
     "text": [
      "+----------+--------------------+\n",
      "|product_id|    product_name_new|\n",
      "+----------+--------------------+\n",
      "|       190|áo lỗ gân form th...|\n",
      "|       191|áo lỗ nam trắng c...|\n",
      "|       192|áo lỗ nam tyasuo ...|\n",
      "|       193| áo lỗ hàng việt nam|\n",
      "|       194|áo nam thể lỗ mẫu...|\n",
      "+----------+--------------------+\n",
      "only showing top 5 rows\n",
      "\n"
     ]
    }
   ],
   "source": [
    "df_product = df_product.select('product_id','product_name_new')\n",
    "df_product.show(5, truncate=True)"
   ]
  },
  {
   "cell_type": "code",
   "execution_count": 34,
   "metadata": {
    "colab": {
     "base_uri": "https://localhost:8080/"
    },
    "id": "6cyCpTM1VCVh",
    "outputId": "239972af-314c-4957-ebca-7fdd60a4d1b3"
   },
   "outputs": [
    {
     "name": "stdout",
     "output_type": "stream",
     "text": [
      "+----------+-------+------------------+------+\n",
      "|product_id|user_id|              user|rating|\n",
      "+----------+-------+------------------+------+\n",
      "|       190|      1|      karmakyun2nd|     5|\n",
      "|       190|      2|  tranquangvinh_vv|     5|\n",
      "|       190|      3|nguyenquoctoan2005|     5|\n",
      "|       190|      4|    nguyenthuyhavi|     5|\n",
      "|       190|      5|      luonganh5595|     5|\n",
      "+----------+-------+------------------+------+\n",
      "only showing top 5 rows\n",
      "\n"
     ]
    }
   ],
   "source": [
    "df_rating.show(5,truncate=True)"
   ]
  },
  {
   "cell_type": "code",
   "execution_count": 35,
   "metadata": {
    "id": "OHQNV_xnVCVj"
   },
   "outputs": [
    {
     "name": "stdout",
     "output_type": "stream",
     "text": [
      "+----------+-------+------------------+------+--------------------+\n",
      "|product_id|user_id|              user|rating|    product_name_new|\n",
      "+----------+-------+------------------+------+--------------------+\n",
      "|       190|      1|      karmakyun2nd|     5|áo lỗ gân form th...|\n",
      "|       190|      2|  tranquangvinh_vv|     5|áo lỗ gân form th...|\n",
      "|       190|      3|nguyenquoctoan2005|     5|áo lỗ gân form th...|\n",
      "|       190|      4|    nguyenthuyhavi|     5|áo lỗ gân form th...|\n",
      "|       190|      5|      luonganh5595|     5|áo lỗ gân form th...|\n",
      "+----------+-------+------------------+------+--------------------+\n",
      "only showing top 5 rows\n",
      "\n"
     ]
    },
    {
     "name": "stderr",
     "output_type": "stream",
     "text": [
      "\r",
      "[Stage 73:>                                                         (0 + 1) / 1]\r",
      "\r",
      "                                                                                \r"
     ]
    }
   ],
   "source": [
    "data_sub = df_rating.join(df_product, on=['product_id'], how='left')\n",
    "data_sub.show(5)"
   ]
  },
  {
   "cell_type": "code",
   "execution_count": 44,
   "metadata": {
    "colab": {
     "base_uri": "https://localhost:8080/"
    },
    "id": "jn-4PiU7VCVj",
    "outputId": "c1ee3c6a-7d22-4eba-9b5f-180264b4f1b1"
   },
   "outputs": [
    {
     "name": "stderr",
     "output_type": "stream",
     "text": [
      "                                                                                \r"
     ]
    },
    {
     "data": {
      "text/plain": [
       "952548"
      ]
     },
     "execution_count": 44,
     "metadata": {},
     "output_type": "execute_result"
    }
   ],
   "source": [
    "data_sub.count()"
   ]
  },
  {
   "cell_type": "markdown",
   "metadata": {},
   "source": [
    "## Preprocessing data"
   ]
  },
  {
   "cell_type": "code",
   "execution_count": 37,
   "metadata": {
    "id": "bpMYUmBj1fgp"
   },
   "outputs": [],
   "source": [
    "#make sure rating column is DoubleType, and product_id, user_id is numeric\n",
    "data_sub = data_sub.withColumn(\"product_id\", data_sub[\"product_id\"].cast(IntegerType()))\n",
    "data_sub = data_sub.withColumn(\"user_id\", data_sub[\"user_id\"].cast(IntegerType()))\n",
    "data_sub = data_sub.withColumn(\"rating\", data_sub[\"rating\"].cast(DoubleType()))"
   ]
  },
  {
   "cell_type": "code",
   "execution_count": 38,
   "metadata": {},
   "outputs": [
    {
     "name": "stdout",
     "output_type": "stream",
     "text": [
      "root\n",
      " |-- product_id: integer (nullable = true)\n",
      " |-- user_id: integer (nullable = true)\n",
      " |-- user: string (nullable = true)\n",
      " |-- rating: double (nullable = true)\n",
      " |-- product_name_new: string (nullable = true)\n",
      "\n"
     ]
    }
   ],
   "source": [
    "# Print the Schema of the DataFrame\n",
    "data_sub.printSchema()"
   ]
  },
  {
   "cell_type": "code",
   "execution_count": 39,
   "metadata": {
    "colab": {
     "base_uri": "https://localhost:8080/"
    },
    "id": "rohKrZWOVCVl",
    "outputId": "86438350-2067-4821-8120-ffeb6ef87e3c"
   },
   "outputs": [
    {
     "name": "stdout",
     "output_type": "stream",
     "text": [
      "+----------+-------+------------------+------+--------------------+\n",
      "|product_id|user_id|              user|rating|    product_name_new|\n",
      "+----------+-------+------------------+------+--------------------+\n",
      "|       190|      1|      karmakyun2nd|   5.0|áo lỗ gân form th...|\n",
      "|       190|      2|  tranquangvinh_vv|   5.0|áo lỗ gân form th...|\n",
      "|       190|      3|nguyenquoctoan2005|   5.0|áo lỗ gân form th...|\n",
      "|       190|      4|    nguyenthuyhavi|   5.0|áo lỗ gân form th...|\n",
      "|       190|      5|      luonganh5595|   5.0|áo lỗ gân form th...|\n",
      "+----------+-------+------------------+------+--------------------+\n",
      "only showing top 5 rows\n",
      "\n"
     ]
    },
    {
     "name": "stderr",
     "output_type": "stream",
     "text": [
      "\r",
      "[Stage 82:>                                                         (0 + 1) / 1]\r",
      "\r",
      "                                                                                \r"
     ]
    }
   ],
   "source": [
    "#inspect\n",
    "data_sub.show(5, truncate=True)"
   ]
  },
  {
   "cell_type": "code",
   "execution_count": 43,
   "metadata": {
    "colab": {
     "base_uri": "https://localhost:8080/",
     "height": 143
    },
    "id": "X1Pf0H7hVCVl",
    "outputId": "1483bfb0-cf04-486b-f95c-9027eeb29b62"
   },
   "outputs": [
    {
     "name": "stderr",
     "output_type": "stream",
     "text": [
      "                                                                                \r"
     ]
    },
    {
     "data": {
      "text/html": [
       "<div>\n",
       "<style scoped>\n",
       "    .dataframe tbody tr th:only-of-type {\n",
       "        vertical-align: middle;\n",
       "    }\n",
       "\n",
       "    .dataframe tbody tr th {\n",
       "        vertical-align: top;\n",
       "    }\n",
       "\n",
       "    .dataframe thead th {\n",
       "        text-align: right;\n",
       "    }\n",
       "</style>\n",
       "<table border=\"1\" class=\"dataframe\">\n",
       "  <thead>\n",
       "    <tr style=\"text-align: right;\">\n",
       "      <th></th>\n",
       "      <th>0</th>\n",
       "    </tr>\n",
       "  </thead>\n",
       "  <tbody>\n",
       "    <tr>\n",
       "      <th>product_id</th>\n",
       "      <td>0</td>\n",
       "    </tr>\n",
       "    <tr>\n",
       "      <th>user_id</th>\n",
       "      <td>0</td>\n",
       "    </tr>\n",
       "    <tr>\n",
       "      <th>user</th>\n",
       "      <td>0</td>\n",
       "    </tr>\n",
       "    <tr>\n",
       "      <th>rating</th>\n",
       "      <td>0</td>\n",
       "    </tr>\n",
       "    <tr>\n",
       "      <th>product_name_new</th>\n",
       "      <td>0</td>\n",
       "    </tr>\n",
       "  </tbody>\n",
       "</table>\n",
       "</div>"
      ],
      "text/plain": [
       "                  0\n",
       "product_id        0\n",
       "user_id           0\n",
       "user              0\n",
       "rating            0\n",
       "product_name_new  0"
      ]
     },
     "execution_count": 43,
     "metadata": {},
     "output_type": "execute_result"
    }
   ],
   "source": [
    "#check nan/null values\n",
    "data_sub.select([count(when(col(c).isNull(), c)).alias(c) for c in\n",
    "           data_sub.columns]).toPandas().T"
   ]
  },
  {
   "cell_type": "code",
   "execution_count": 42,
   "metadata": {},
   "outputs": [],
   "source": [
    "data_sub = data_sub.dropna(subset=[\"product_name_new\"])"
   ]
  },
  {
   "cell_type": "code",
   "execution_count": 41,
   "metadata": {},
   "outputs": [
    {
     "name": "stderr",
     "output_type": "stream",
     "text": [
      "\r",
      "[Stage 96:>                                                         (0 + 1) / 1]\r"
     ]
    },
    {
     "name": "stdout",
     "output_type": "stream",
     "text": [
      "+------+------+\n",
      "|rating| count|\n",
      "+------+------+\n",
      "|   1.0| 41447|\n",
      "|   4.0|118212|\n",
      "|   3.0| 63051|\n",
      "|   2.0| 24110|\n",
      "|   5.0|777662|\n",
      "+------+------+\n",
      "\n"
     ]
    },
    {
     "name": "stderr",
     "output_type": "stream",
     "text": [
      "\r",
      "                                                                                \r"
     ]
    }
   ],
   "source": [
    "#Check classes\n",
    "data_sub.groupBy('rating').count().show()"
   ]
  },
  {
   "cell_type": "code",
   "execution_count": null,
   "metadata": {
    "id": "kvhpS6MdVCVm"
   },
   "outputs": [
    {
     "name": "stderr",
     "output_type": "stream",
     "text": [
      "[Stage 126:>                                                        (0 + 1) / 1]\r"
     ]
    }
   ],
   "source": [
    "# Distinct users and movies\n",
    "users = data_sub.select(\"user_id\").distinct().count()\n",
    "products = data_sub.select(\"product_id\").distinct().count()\n",
    "numerator = data_sub.count()"
   ]
  },
  {
   "cell_type": "code",
   "execution_count": null,
   "metadata": {
    "colab": {
     "base_uri": "https://localhost:8080/",
     "height": 69
    },
    "id": "BFR_3vlHVCVm",
    "outputId": "6643206e-6f17-4c87-bf95-755cf001fc60"
   },
   "outputs": [],
   "source": [
    "print('Number of users:', users)\n",
    "print('Number of products:', products)\n",
    "print('Number of records:', numerator)"
   ]
  },
  {
   "cell_type": "code",
   "execution_count": null,
   "metadata": {
    "colab": {
     "base_uri": "https://localhost:8080/"
    },
    "id": "buhB6P0eVCVn",
    "outputId": "69a1ae8c-16ca-46ef-f434-25ec6c43a264"
   },
   "outputs": [],
   "source": [
    "# Number of ratings matrix could contain if no empty cells\n",
    "denominator = users * products\n",
    "denominator"
   ]
  },
  {
   "cell_type": "code",
   "execution_count": null,
   "metadata": {
    "colab": {
     "base_uri": "https://localhost:8080/"
    },
    "id": "cNBxGZXhVCVo",
    "outputId": "e0cb6f59-0191-4afc-9e36-e7c45f97f467"
   },
   "outputs": [],
   "source": [
    "#Calculating sparsity\n",
    "sparsity = 1 - (numerator*1.0 / denominator)\n",
    "print (\"Sparsity: \"), sparsity"
   ]
  },
  {
   "cell_type": "markdown",
   "metadata": {},
   "source": [
    "High sparse"
   ]
  },
  {
   "cell_type": "markdown",
   "metadata": {},
   "source": [
    "## Prepare data to ALS format"
   ]
  },
  {
   "cell_type": "code",
   "execution_count": 23,
   "metadata": {
    "id": "cSTKhkQgVCVp"
   },
   "outputs": [
    {
     "name": "stderr",
     "output_type": "stream",
     "text": [
      "                                                                                \r"
     ]
    }
   ],
   "source": [
    "# Create an indexer\n",
    "#indexer = StringIndexer(inputCol='user_id',\n",
    "#                       outputCol='asin_idx')\n",
    "\n",
    "# Indexer identifies categories in the data\n",
    "#indexer_model = indexer.fit(data_sub)\n",
    "\n",
    "# Indexer creates a new column with numeric index values\n",
    "#data_indexed = indexer_model.transform(data_sub)\n",
    "\n",
    "# Repeat the process for the other categorical feature\n",
    "#indexer1 = StringIndexer(inputCol='reviewerID',\n",
    " #                        outputCol='reviewerID_idx')\n",
    "#indexer1_model = indexer1.fit(data_indexed)\n",
    "#data_indexed = indexer1_model.transform(data_indexed)"
   ]
  },
  {
   "cell_type": "code",
   "execution_count": 36,
   "metadata": {
    "colab": {
     "base_uri": "https://localhost:8080/"
    },
    "id": "gs6JGcIsVCVq",
    "outputId": "d4749d24-13f4-49dc-8190-6ce53bee6819"
   },
   "outputs": [
    {
     "name": "stdout",
     "output_type": "stream",
     "text": [
      "+----------+-------+------+\n",
      "|product_id|user_id|rating|\n",
      "+----------+-------+------+\n",
      "|       190|      1|   5.0|\n",
      "|       190|      2|   5.0|\n",
      "|       190|      3|   5.0|\n",
      "|       190|      4|   5.0|\n",
      "|       190|      5|   5.0|\n",
      "+----------+-------+------+\n",
      "only showing top 5 rows\n",
      "\n"
     ]
    }
   ],
   "source": [
    "#inspect\n",
    "data_indexed = data_sub\n",
    "del data_sub\n",
    "data_indexed.show(5, truncate=True)"
   ]
  },
  {
   "cell_type": "code",
   "execution_count": 37,
   "metadata": {
    "colab": {
     "base_uri": "https://localhost:8080/",
     "height": 206
    },
    "id": "2bxPsbAXVCVq",
    "outputId": "eb140545-11a4-4fbb-f015-2fe0b67d204d"
   },
   "outputs": [
    {
     "name": "stderr",
     "output_type": "stream",
     "text": [
      "                                                                                \r"
     ]
    },
    {
     "data": {
      "text/html": [
       "<div>\n",
       "<style scoped>\n",
       "    .dataframe tbody tr th:only-of-type {\n",
       "        vertical-align: middle;\n",
       "    }\n",
       "\n",
       "    .dataframe tbody tr th {\n",
       "        vertical-align: top;\n",
       "    }\n",
       "\n",
       "    .dataframe thead th {\n",
       "        text-align: right;\n",
       "    }\n",
       "</style>\n",
       "<table border=\"1\" class=\"dataframe\">\n",
       "  <thead>\n",
       "    <tr style=\"text-align: right;\">\n",
       "      <th></th>\n",
       "      <th>0</th>\n",
       "    </tr>\n",
       "  </thead>\n",
       "  <tbody>\n",
       "    <tr>\n",
       "      <th>product_id</th>\n",
       "      <td>0</td>\n",
       "    </tr>\n",
       "    <tr>\n",
       "      <th>user_id</th>\n",
       "      <td>0</td>\n",
       "    </tr>\n",
       "    <tr>\n",
       "      <th>rating</th>\n",
       "      <td>0</td>\n",
       "    </tr>\n",
       "  </tbody>\n",
       "</table>\n",
       "</div>"
      ],
      "text/plain": [
       "            0\n",
       "product_id  0\n",
       "user_id     0\n",
       "rating      0"
      ]
     },
     "execution_count": 37,
     "metadata": {},
     "output_type": "execute_result"
    }
   ],
   "source": [
    "#check null\n",
    "data_indexed.select([count(when(col(c).isNull(), c)).alias(c) for c in\n",
    "           data_indexed.columns]).toPandas().T"
   ]
  },
  {
   "cell_type": "markdown",
   "metadata": {},
   "source": [
    "## Modeling"
   ]
  },
  {
   "cell_type": "code",
   "execution_count": 38,
   "metadata": {
    "id": "8-sG04RxVCVr"
   },
   "outputs": [],
   "source": [
    "#split data into trainset, testset\n",
    "# many data so we will use 0.8 / 0.2\n",
    "(training, test) = data_indexed.randomSplit([0.8, 0.2])"
   ]
  },
  {
   "cell_type": "code",
   "execution_count": 39,
   "metadata": {
    "id": "L-Enl0iEVCVs",
    "scrolled": true
   },
   "outputs": [
    {
     "name": "stderr",
     "output_type": "stream",
     "text": [
      "24/03/13 21:00:52 WARN InstanceBuilder: Failed to load implementation from:dev.ludovic.netlib.blas.JNIBLAS\n",
      "                                                                                \r"
     ]
    }
   ],
   "source": [
    "#some parameter\n",
    "#maxIter: maximum number of iterations that ALS will run during training\n",
    "#regParam: controls regularization to prevent overfitting. higher value indicates stronger regularization, lower value allows more flexibility in fitting the data.\n",
    "#rank: determines the number of latent factors used to represent users and items.\n",
    "#higher ranker the lower error but more complexity compute\n",
    "_maxIter = 20\n",
    "_regParam = 0.01\n",
    "_rank = 60\n",
    "#train the model\n",
    "als = ALS(maxIter=_maxIter,\n",
    "          regParam=_regParam,\n",
    "          rank = _rank,\n",
    "          userCol=\"user_id\",\n",
    "          itemCol=\"product_id\",\n",
    "          ratingCol=\"rating\",\n",
    "          coldStartStrategy=\"drop\",\n",
    "          nonnegative=True)\n",
    "model = als.fit(training)"
   ]
  },
  {
   "cell_type": "markdown",
   "metadata": {},
   "source": [
    "## Evaluation"
   ]
  },
  {
   "cell_type": "code",
   "execution_count": 40,
   "metadata": {
    "id": "X-OgP9nIVCVs"
   },
   "outputs": [],
   "source": [
    "# Evaluate the model by computing the RMSE on the test data\n",
    "predictions = model.transform(test)"
   ]
  },
  {
   "cell_type": "code",
   "execution_count": 41,
   "metadata": {
    "id": "IReXbKhbVCVt"
   },
   "outputs": [
    {
     "name": "stderr",
     "output_type": "stream",
     "text": [
      "                                                                                \r"
     ]
    },
    {
     "name": "stdout",
     "output_type": "stream",
     "text": [
      "+----------+-------+------+----------+\n",
      "|product_id|user_id|rating|prediction|\n",
      "+----------+-------+------+----------+\n",
      "|      2142|     40|   5.0| 3.9790876|\n",
      "|     25517|     40|   5.0| 3.8241038|\n",
      "|    232473|     40|   5.0|  5.035574|\n",
      "|     11317|     50|   5.0|  4.661109|\n",
      "|     13623|     57|   5.0|  5.002939|\n",
      "+----------+-------+------+----------+\n",
      "only showing top 5 rows\n",
      "\n"
     ]
    }
   ],
   "source": [
    "#inspect\n",
    "predictions.show(5)"
   ]
  },
  {
   "cell_type": "code",
   "execution_count": 42,
   "metadata": {
    "id": "Pl8V2CoaVCVt"
   },
   "outputs": [
    {
     "name": "stderr",
     "output_type": "stream",
     "text": [
      "                                                                                \r"
     ]
    }
   ],
   "source": [
    "#calcuate rmse score\n",
    "evaluator = RegressionEvaluator(metricName=\"rmse\",\n",
    "                                labelCol=\"rating\",\n",
    "                                predictionCol=\"prediction\")\n",
    "rmse = evaluator.evaluate(predictions)"
   ]
  },
  {
   "cell_type": "code",
   "execution_count": 43,
   "metadata": {
    "colab": {
     "base_uri": "https://localhost:8080/"
    },
    "id": "T-34dlobMIyv",
    "outputId": "9e42042c-b349-43b5-b7fc-a2d196072c65"
   },
   "outputs": [
    {
     "name": "stdout",
     "output_type": "stream",
     "text": [
      "Root-mean-square error = 1.1477614413474846\n"
     ]
    }
   ],
   "source": [
    "print(\"Root-mean-square error = \" + str(rmse))"
   ]
  },
  {
   "cell_type": "markdown",
   "metadata": {},
   "source": [
    "The model can predict new overall with error nearly 1.0 "
   ]
  },
  {
   "cell_type": "code",
   "execution_count": 44,
   "metadata": {
    "id": "6QcxCIkpVCVu"
   },
   "outputs": [],
   "source": [
    "# save model to disk\n",
    "#model.save(\"recommendation_model_amazon_toys_games\")"
   ]
  },
  {
   "cell_type": "markdown",
   "metadata": {
    "id": "vNVOyJjJVCVu"
   },
   "source": [
    "### Providing Recommendations: for all users"
   ]
  },
  {
   "cell_type": "code",
   "execution_count": 45,
   "metadata": {
    "id": "OEDUyeybVCVu"
   },
   "outputs": [],
   "source": [
    "# get 5 recommendations which have highest rating.\n",
    "user_recs = model.recommendForAllUsers(5)"
   ]
  },
  {
   "cell_type": "code",
   "execution_count": 46,
   "metadata": {
    "colab": {
     "base_uri": "https://localhost:8080/"
    },
    "id": "L64umoOCgiLz",
    "outputId": "cac9505d-6eaa-40ba-c8c3-883428204744"
   },
   "outputs": [
    {
     "name": "stderr",
     "output_type": "stream",
     "text": [
      "[Stage 277:>                                                        (0 + 1) / 1]\r"
     ]
    },
    {
     "name": "stdout",
     "output_type": "stream",
     "text": [
      "+-------+------------------------------------------------------------------------------------------------------+\n",
      "|user_id|recommendations                                                                                       |\n",
      "+-------+------------------------------------------------------------------------------------------------------+\n",
      "|12     |[{19344, 6.25057}, {173345, 6.2220078}, {172416, 6.1911573}, {235012, 6.1029043}, {172944, 6.0931697}]|\n",
      "|26     |[{12334, 6.008749}, {172944, 6.0044107}, {19344, 5.9870224}, {173345, 5.9641447}, {235012, 5.909465}] |\n",
      "|28     |[{173345, 6.349544}, {172416, 6.240093}, {173325, 6.196763}, {231384, 6.1837873}, {151305, 6.1657777}]|\n",
      "|31     |[{10489, 6.274107}, {111747, 6.2604423}, {12382, 6.2467313}, {173710, 6.0998383}, {174879, 6.099676}] |\n",
      "|34     |[{12741, 6.9398265}, {10490, 6.916534}, {173345, 6.9019046}, {16155, 6.8827195}, {174436, 6.8670235}] |\n",
      "+-------+------------------------------------------------------------------------------------------------------+\n",
      "only showing top 5 rows\n",
      "\n"
     ]
    },
    {
     "name": "stderr",
     "output_type": "stream",
     "text": [
      "\r",
      "                                                                                \r"
     ]
    }
   ],
   "source": [
    "user_recs.show(5, truncate=False)"
   ]
  },
  {
   "cell_type": "code",
   "execution_count": 35,
   "metadata": {
    "colab": {
     "base_uri": "https://localhost:8080/"
    },
    "id": "Te6XcXhPj3qs",
    "outputId": "9c187233-96d4-4855-c5de-416422469b1c"
   },
   "outputs": [],
   "source": [
    "#user_recs.count()"
   ]
  },
  {
   "cell_type": "markdown",
   "metadata": {
    "id": "wdkVIOhH7SYP"
   },
   "source": [
    "## Save data to file"
   ]
  },
  {
   "cell_type": "code",
   "execution_count": 49,
   "metadata": {},
   "outputs": [],
   "source": [
    "df_product = df_product.select('product_id','product_name_new')"
   ]
  },
  {
   "cell_type": "code",
   "execution_count": 36,
   "metadata": {
    "id": "isoJNg-Whlfh"
   },
   "outputs": [],
   "source": [
    "#get reviewerID for reviewerID_idx\n",
    "df_reviewer_reviewer_id = data_indexed.select('reviewerID_idx', 'reviewerID').distinct()"
   ]
  },
  {
   "cell_type": "code",
   "execution_count": 37,
   "metadata": {
    "id": "ouQSqOjPic71"
   },
   "outputs": [],
   "source": [
    "#get product_id for asin_idx\n",
    "df_product_idx = data_indexed.select('asin_idx', 'asin').distinct()"
   ]
  },
  {
   "cell_type": "code",
   "execution_count": 51,
   "metadata": {},
   "outputs": [
    {
     "name": "stdout",
     "output_type": "stream",
     "text": [
      "+----------+-------+------+\n",
      "|product_id|user_id|rating|\n",
      "+----------+-------+------+\n",
      "|       190|      1|   5.0|\n",
      "|       190|      2|   5.0|\n",
      "|       190|      3|   5.0|\n",
      "+----------+-------+------+\n",
      "only showing top 3 rows\n",
      "\n"
     ]
    }
   ],
   "source": [
    "data_indexed.show(3)"
   ]
  },
  {
   "cell_type": "code",
   "execution_count": 55,
   "metadata": {
    "id": "DIRu1ozKlQqj"
   },
   "outputs": [
    {
     "ename": "AnalysisException",
     "evalue": "[UNRESOLVED_USING_COLUMN_FOR_JOIN] USING column `product_id` cannot be resolved on the left side of the join. The left-side columns: [`recommendations`, `user_id`].",
     "output_type": "error",
     "traceback": [
      "\u001b[0;31m---------------------------------------------------------------------------\u001b[0m",
      "\u001b[0;31mAnalysisException\u001b[0m                         Traceback (most recent call last)",
      "\u001b[0;32m/tmp/ipykernel_8085/4197009445.py\u001b[0m in \u001b[0;36m<module>\u001b[0;34m\u001b[0m\n\u001b[1;32m      1\u001b[0m \u001b[0;31m#combine dataframe with reviewerID\u001b[0m\u001b[0;34m\u001b[0m\u001b[0;34m\u001b[0m\u001b[0;34m\u001b[0m\u001b[0m\n\u001b[0;32m----> 2\u001b[0;31m \u001b[0mnew_user_recs\u001b[0m \u001b[0;34m=\u001b[0m \u001b[0muser_recs\u001b[0m\u001b[0;34m.\u001b[0m\u001b[0mjoin\u001b[0m\u001b[0;34m(\u001b[0m\u001b[0mdf_product\u001b[0m\u001b[0;34m,\u001b[0m \u001b[0mon\u001b[0m\u001b[0;34m=\u001b[0m\u001b[0;34m[\u001b[0m\u001b[0;34m'product_id'\u001b[0m\u001b[0;34m]\u001b[0m\u001b[0;34m,\u001b[0m \u001b[0mhow\u001b[0m\u001b[0;34m=\u001b[0m\u001b[0;34m'left'\u001b[0m\u001b[0;34m)\u001b[0m\u001b[0;34m\u001b[0m\u001b[0;34m\u001b[0m\u001b[0m\n\u001b[0m",
      "\u001b[0;32m~/spark/spark-3.4.1-bin-hadoop3/python/pyspark/sql/dataframe.py\u001b[0m in \u001b[0;36mjoin\u001b[0;34m(self, other, on, how)\u001b[0m\n\u001b[1;32m   2342\u001b[0m                 \u001b[0mon\u001b[0m \u001b[0;34m=\u001b[0m \u001b[0mself\u001b[0m\u001b[0;34m.\u001b[0m\u001b[0m_jseq\u001b[0m\u001b[0;34m(\u001b[0m\u001b[0;34m[\u001b[0m\u001b[0;34m]\u001b[0m\u001b[0;34m)\u001b[0m\u001b[0;34m\u001b[0m\u001b[0;34m\u001b[0m\u001b[0m\n\u001b[1;32m   2343\u001b[0m             \u001b[0;32massert\u001b[0m \u001b[0misinstance\u001b[0m\u001b[0;34m(\u001b[0m\u001b[0mhow\u001b[0m\u001b[0;34m,\u001b[0m \u001b[0mstr\u001b[0m\u001b[0;34m)\u001b[0m\u001b[0;34m,\u001b[0m \u001b[0;34m\"how should be a string\"\u001b[0m\u001b[0;34m\u001b[0m\u001b[0;34m\u001b[0m\u001b[0m\n\u001b[0;32m-> 2344\u001b[0;31m             \u001b[0mjdf\u001b[0m \u001b[0;34m=\u001b[0m \u001b[0mself\u001b[0m\u001b[0;34m.\u001b[0m\u001b[0m_jdf\u001b[0m\u001b[0;34m.\u001b[0m\u001b[0mjoin\u001b[0m\u001b[0;34m(\u001b[0m\u001b[0mother\u001b[0m\u001b[0;34m.\u001b[0m\u001b[0m_jdf\u001b[0m\u001b[0;34m,\u001b[0m \u001b[0mon\u001b[0m\u001b[0;34m,\u001b[0m \u001b[0mhow\u001b[0m\u001b[0;34m)\u001b[0m\u001b[0;34m\u001b[0m\u001b[0;34m\u001b[0m\u001b[0m\n\u001b[0m\u001b[1;32m   2345\u001b[0m         \u001b[0;32mreturn\u001b[0m \u001b[0mDataFrame\u001b[0m\u001b[0;34m(\u001b[0m\u001b[0mjdf\u001b[0m\u001b[0;34m,\u001b[0m \u001b[0mself\u001b[0m\u001b[0;34m.\u001b[0m\u001b[0msparkSession\u001b[0m\u001b[0;34m)\u001b[0m\u001b[0;34m\u001b[0m\u001b[0;34m\u001b[0m\u001b[0m\n\u001b[1;32m   2346\u001b[0m \u001b[0;34m\u001b[0m\u001b[0m\n",
      "\u001b[0;32m~/spark/spark-3.4.1-bin-hadoop3/python/lib/py4j-0.10.9.7-src.zip/py4j/java_gateway.py\u001b[0m in \u001b[0;36m__call__\u001b[0;34m(self, *args)\u001b[0m\n\u001b[1;32m   1320\u001b[0m \u001b[0;34m\u001b[0m\u001b[0m\n\u001b[1;32m   1321\u001b[0m         \u001b[0manswer\u001b[0m \u001b[0;34m=\u001b[0m \u001b[0mself\u001b[0m\u001b[0;34m.\u001b[0m\u001b[0mgateway_client\u001b[0m\u001b[0;34m.\u001b[0m\u001b[0msend_command\u001b[0m\u001b[0;34m(\u001b[0m\u001b[0mcommand\u001b[0m\u001b[0;34m)\u001b[0m\u001b[0;34m\u001b[0m\u001b[0;34m\u001b[0m\u001b[0m\n\u001b[0;32m-> 1322\u001b[0;31m         return_value = get_return_value(\n\u001b[0m\u001b[1;32m   1323\u001b[0m             answer, self.gateway_client, self.target_id, self.name)\n\u001b[1;32m   1324\u001b[0m \u001b[0;34m\u001b[0m\u001b[0m\n",
      "\u001b[0;32m~/spark/spark-3.4.1-bin-hadoop3/python/pyspark/errors/exceptions/captured.py\u001b[0m in \u001b[0;36mdeco\u001b[0;34m(*a, **kw)\u001b[0m\n\u001b[1;32m    173\u001b[0m                 \u001b[0;31m# Hide where the exception came from that shows a non-Pythonic\u001b[0m\u001b[0;34m\u001b[0m\u001b[0;34m\u001b[0m\u001b[0;34m\u001b[0m\u001b[0m\n\u001b[1;32m    174\u001b[0m                 \u001b[0;31m# JVM exception message.\u001b[0m\u001b[0;34m\u001b[0m\u001b[0;34m\u001b[0m\u001b[0;34m\u001b[0m\u001b[0m\n\u001b[0;32m--> 175\u001b[0;31m                 \u001b[0;32mraise\u001b[0m \u001b[0mconverted\u001b[0m \u001b[0;32mfrom\u001b[0m \u001b[0;32mNone\u001b[0m\u001b[0;34m\u001b[0m\u001b[0;34m\u001b[0m\u001b[0m\n\u001b[0m\u001b[1;32m    176\u001b[0m             \u001b[0;32melse\u001b[0m\u001b[0;34m:\u001b[0m\u001b[0;34m\u001b[0m\u001b[0;34m\u001b[0m\u001b[0m\n\u001b[1;32m    177\u001b[0m                 \u001b[0;32mraise\u001b[0m\u001b[0;34m\u001b[0m\u001b[0;34m\u001b[0m\u001b[0m\n",
      "\u001b[0;31mAnalysisException\u001b[0m: [UNRESOLVED_USING_COLUMN_FOR_JOIN] USING column `product_id` cannot be resolved on the left side of the join. The left-side columns: [`recommendations`, `user_id`]."
     ]
    }
   ],
   "source": [
    "#combine dataframe with reviewerID\n",
    "new_user_recs = user_recs.join(df_product, on=['product_id'], how='left')"
   ]
  },
  {
   "cell_type": "code",
   "execution_count": 39,
   "metadata": {
    "colab": {
     "base_uri": "https://localhost:8080/"
    },
    "id": "Ai885yA3jEbo",
    "outputId": "448a7007-6b08-4058-fb0f-a724ee7955bb"
   },
   "outputs": [
    {
     "name": "stderr",
     "output_type": "stream",
     "text": [
      "23/08/04 14:54:47 WARN DAGScheduler: Broadcasting large task binary with size 1327.2 KiB\n",
      "23/08/04 14:55:05 WARN DAGScheduler: Broadcasting large task binary with size 1324.1 KiB\n"
     ]
    },
    {
     "name": "stdout",
     "output_type": "stream",
     "text": [
      "+--------------+-----------------------------------------------------------------------------------------------+--------------+\n",
      "|reviewerID_idx|recommendations                                                                                |reviewerID    |\n",
      "+--------------+-----------------------------------------------------------------------------------------------+--------------+\n",
      "|0             |[{9847, 6.2357802}, {6836, 5.9811497}, {9254, 5.9066997}, {7533, 5.8986154}, {7735, 5.8954325}]|AJGU56YG8G1DQ |\n",
      "|1             |[{6696, 5.283102}, {4135, 5.2031755}, {4560, 5.169352}, {7244, 5.1690936}, {8672, 5.165695}]   |A1M8AYAL3L8ACP|\n",
      "|2             |[{10415, 5.114091}, {2700, 5.0675197}, {7010, 5.048225}, {9254, 5.0290294}, {7735, 5.0211015}] |A1II2ZRPKZAQQD|\n",
      "+--------------+-----------------------------------------------------------------------------------------------+--------------+\n",
      "only showing top 3 rows\n",
      "\n"
     ]
    }
   ],
   "source": [
    "#inspect\n",
    "new_user_recs.show(3, truncate=False)"
   ]
  },
  {
   "cell_type": "code",
   "execution_count": 40,
   "metadata": {},
   "outputs": [
    {
     "name": "stderr",
     "output_type": "stream",
     "text": [
      "23/08/04 14:55:06 WARN DAGScheduler: Broadcasting large task binary with size 1327.2 KiB\n",
      "23/08/04 14:55:23 WARN DAGScheduler: Broadcasting large task binary with size 1525.3 KiB\n",
      "                                                                                \r"
     ]
    }
   ],
   "source": [
    "# Save to disk\n",
    "new_user_recs.write.parquet('reviews_Toys_and_Games_5_User.parquet', mode='overwrite')\n",
    "df_asin_asin_idx.write.parquet('reviews_Toys_and_Games_5_Product.parquet', mode='overwrite')"
   ]
  },
  {
   "cell_type": "markdown",
   "metadata": {},
   "source": [
    "## Then make recommendations to some users: \n",
    "A3GJPLCZCDXXG6, A34U85WY8ZWBPV, A2VIY2TL6QPYLG"
   ]
  },
  {
   "cell_type": "code",
   "execution_count": 41,
   "metadata": {},
   "outputs": [],
   "source": [
    "def make_recommendation(reviewerID):\n",
    "    #create a dictionary for user recommendation\n",
    "    find_user_rec = new_user_recs.filter(new_user_recs['reviewerID'] == reviewerID)\n",
    "    user = find_user_rec.first()\n",
    "    lst = []\n",
    "    for row in user['recommendations']:\n",
    "        row_f = df_asin_asin_idx.filter(df_asin_asin_idx.asin_idx == row['asin_idx'])\n",
    "        row_f_first = row_f.first()\n",
    "        lst.append((row['asin_idx'], row_f_first['asin'], row['rating']))\n",
    "    dic_user_rec = {'reviewerID' : user.reviewerID, 'recommendations' :lst}\n",
    "    return dic_user_rec"
   ]
  },
  {
   "cell_type": "code",
   "execution_count": 42,
   "metadata": {},
   "outputs": [],
   "source": [
    "def make_result_dataframe(dic_user_rec, rating=4):\n",
    "    #adjust rating parameter for filter higher rating\n",
    "    #creating dataframe recommendations for new users\n",
    "    import pandas as pd\n",
    "    df_result = pd.DataFrame(dic_user_rec['recommendations'], columns=['asin_idx', 'productID', 'rating'])\n",
    "    df_result['reviewerID'] = dic_user_rec['reviewerID']\n",
    "    column_order = ['reviewerID',  'productID', 'rating', 'asin_idx']\n",
    "    df_result = df_result.reindex(columns=column_order)\n",
    "    df_result.drop('asin_idx', axis=1, inplace=True)\n",
    "    result = df_result[df_result['rating']>rating]\n",
    "    return result"
   ]
  },
  {
   "cell_type": "code",
   "execution_count": 43,
   "metadata": {},
   "outputs": [
    {
     "name": "stderr",
     "output_type": "stream",
     "text": [
      "23/08/04 14:55:28 WARN DAGScheduler: Broadcasting large task binary with size 1327.2 KiB\n",
      "23/08/04 14:55:45 WARN DAGScheduler: Broadcasting large task binary with size 1323.3 KiB\n",
      "[Stage 369:>                                                        (0 + 1) / 1]\r"
     ]
    },
    {
     "name": "stdout",
     "output_type": "stream",
     "text": [
      "Recommendation for:  A3GJPLCZCDXXG6\n"
     ]
    },
    {
     "name": "stderr",
     "output_type": "stream",
     "text": [
      "\r",
      "                                                                                \r"
     ]
    },
    {
     "data": {
      "text/html": [
       "<div>\n",
       "<style scoped>\n",
       "    .dataframe tbody tr th:only-of-type {\n",
       "        vertical-align: middle;\n",
       "    }\n",
       "\n",
       "    .dataframe tbody tr th {\n",
       "        vertical-align: top;\n",
       "    }\n",
       "\n",
       "    .dataframe thead th {\n",
       "        text-align: right;\n",
       "    }\n",
       "</style>\n",
       "<table border=\"1\" class=\"dataframe\">\n",
       "  <thead>\n",
       "    <tr style=\"text-align: right;\">\n",
       "      <th></th>\n",
       "      <th>reviewerID</th>\n",
       "      <th>productID</th>\n",
       "      <th>rating</th>\n",
       "    </tr>\n",
       "  </thead>\n",
       "  <tbody>\n",
       "    <tr>\n",
       "      <th>0</th>\n",
       "      <td>A3GJPLCZCDXXG6</td>\n",
       "      <td>B00D3Y18WO</td>\n",
       "      <td>5.634512</td>\n",
       "    </tr>\n",
       "    <tr>\n",
       "      <th>1</th>\n",
       "      <td>A3GJPLCZCDXXG6</td>\n",
       "      <td>B0007DI63S</td>\n",
       "      <td>5.598936</td>\n",
       "    </tr>\n",
       "    <tr>\n",
       "      <th>2</th>\n",
       "      <td>A3GJPLCZCDXXG6</td>\n",
       "      <td>B008L264Q8</td>\n",
       "      <td>5.564395</td>\n",
       "    </tr>\n",
       "    <tr>\n",
       "      <th>3</th>\n",
       "      <td>A3GJPLCZCDXXG6</td>\n",
       "      <td>B004Y3U90K</td>\n",
       "      <td>5.558105</td>\n",
       "    </tr>\n",
       "    <tr>\n",
       "      <th>4</th>\n",
       "      <td>A3GJPLCZCDXXG6</td>\n",
       "      <td>B00GHPHRI0</td>\n",
       "      <td>5.535957</td>\n",
       "    </tr>\n",
       "  </tbody>\n",
       "</table>\n",
       "</div>"
      ],
      "text/plain": [
       "       reviewerID   productID    rating\n",
       "0  A3GJPLCZCDXXG6  B00D3Y18WO  5.634512\n",
       "1  A3GJPLCZCDXXG6  B0007DI63S  5.598936\n",
       "2  A3GJPLCZCDXXG6  B008L264Q8  5.564395\n",
       "3  A3GJPLCZCDXXG6  B004Y3U90K  5.558105\n",
       "4  A3GJPLCZCDXXG6  B00GHPHRI0  5.535957"
      ]
     },
     "metadata": {},
     "output_type": "display_data"
    },
    {
     "name": "stderr",
     "output_type": "stream",
     "text": [
      "23/08/04 14:55:51 WARN DAGScheduler: Broadcasting large task binary with size 1327.2 KiB\n",
      "23/08/04 14:56:08 WARN DAGScheduler: Broadcasting large task binary with size 1323.3 KiB\n",
      "                                                                                \r"
     ]
    },
    {
     "name": "stdout",
     "output_type": "stream",
     "text": [
      "Recommendation for:  A34U85WY8ZWBPV\n"
     ]
    },
    {
     "data": {
      "text/html": [
       "<div>\n",
       "<style scoped>\n",
       "    .dataframe tbody tr th:only-of-type {\n",
       "        vertical-align: middle;\n",
       "    }\n",
       "\n",
       "    .dataframe tbody tr th {\n",
       "        vertical-align: top;\n",
       "    }\n",
       "\n",
       "    .dataframe thead th {\n",
       "        text-align: right;\n",
       "    }\n",
       "</style>\n",
       "<table border=\"1\" class=\"dataframe\">\n",
       "  <thead>\n",
       "    <tr style=\"text-align: right;\">\n",
       "      <th></th>\n",
       "      <th>reviewerID</th>\n",
       "      <th>productID</th>\n",
       "      <th>rating</th>\n",
       "    </tr>\n",
       "  </thead>\n",
       "  <tbody>\n",
       "    <tr>\n",
       "      <th>0</th>\n",
       "      <td>A34U85WY8ZWBPV</td>\n",
       "      <td>B00BK3FA8I</td>\n",
       "      <td>5.089292</td>\n",
       "    </tr>\n",
       "    <tr>\n",
       "      <th>1</th>\n",
       "      <td>A34U85WY8ZWBPV</td>\n",
       "      <td>B0093HPI9E</td>\n",
       "      <td>5.066402</td>\n",
       "    </tr>\n",
       "    <tr>\n",
       "      <th>2</th>\n",
       "      <td>A34U85WY8ZWBPV</td>\n",
       "      <td>B0007DI63S</td>\n",
       "      <td>5.065325</td>\n",
       "    </tr>\n",
       "    <tr>\n",
       "      <th>3</th>\n",
       "      <td>A34U85WY8ZWBPV</td>\n",
       "      <td>B00739W6VM</td>\n",
       "      <td>5.064379</td>\n",
       "    </tr>\n",
       "    <tr>\n",
       "      <th>4</th>\n",
       "      <td>A34U85WY8ZWBPV</td>\n",
       "      <td>B0007XIZ0M</td>\n",
       "      <td>5.021018</td>\n",
       "    </tr>\n",
       "  </tbody>\n",
       "</table>\n",
       "</div>"
      ],
      "text/plain": [
       "       reviewerID   productID    rating\n",
       "0  A34U85WY8ZWBPV  B00BK3FA8I  5.089292\n",
       "1  A34U85WY8ZWBPV  B0093HPI9E  5.066402\n",
       "2  A34U85WY8ZWBPV  B0007DI63S  5.065325\n",
       "3  A34U85WY8ZWBPV  B00739W6VM  5.064379\n",
       "4  A34U85WY8ZWBPV  B0007XIZ0M  5.021018"
      ]
     },
     "metadata": {},
     "output_type": "display_data"
    },
    {
     "name": "stderr",
     "output_type": "stream",
     "text": [
      "23/08/04 14:56:12 WARN DAGScheduler: Broadcasting large task binary with size 1327.2 KiB\n",
      "23/08/04 14:56:29 WARN DAGScheduler: Broadcasting large task binary with size 1323.3 KiB\n",
      "[Stage 483:>                                                        (0 + 1) / 1]\r"
     ]
    },
    {
     "name": "stdout",
     "output_type": "stream",
     "text": [
      "Recommendation for:  A2VIY2TL6QPYLG\n"
     ]
    },
    {
     "name": "stderr",
     "output_type": "stream",
     "text": [
      "\r",
      "                                                                                \r"
     ]
    },
    {
     "data": {
      "text/html": [
       "<div>\n",
       "<style scoped>\n",
       "    .dataframe tbody tr th:only-of-type {\n",
       "        vertical-align: middle;\n",
       "    }\n",
       "\n",
       "    .dataframe tbody tr th {\n",
       "        vertical-align: top;\n",
       "    }\n",
       "\n",
       "    .dataframe thead th {\n",
       "        text-align: right;\n",
       "    }\n",
       "</style>\n",
       "<table border=\"1\" class=\"dataframe\">\n",
       "  <thead>\n",
       "    <tr style=\"text-align: right;\">\n",
       "      <th></th>\n",
       "      <th>reviewerID</th>\n",
       "      <th>productID</th>\n",
       "      <th>rating</th>\n",
       "    </tr>\n",
       "  </thead>\n",
       "  <tbody>\n",
       "    <tr>\n",
       "      <th>0</th>\n",
       "      <td>A2VIY2TL6QPYLG</td>\n",
       "      <td>B00BY7YIPG</td>\n",
       "      <td>4.860012</td>\n",
       "    </tr>\n",
       "    <tr>\n",
       "      <th>1</th>\n",
       "      <td>A2VIY2TL6QPYLG</td>\n",
       "      <td>B009B7F6CA</td>\n",
       "      <td>4.828602</td>\n",
       "    </tr>\n",
       "    <tr>\n",
       "      <th>2</th>\n",
       "      <td>A2VIY2TL6QPYLG</td>\n",
       "      <td>B00ERZGLT8</td>\n",
       "      <td>4.795135</td>\n",
       "    </tr>\n",
       "    <tr>\n",
       "      <th>3</th>\n",
       "      <td>A2VIY2TL6QPYLG</td>\n",
       "      <td>B004SGOSI2</td>\n",
       "      <td>4.794385</td>\n",
       "    </tr>\n",
       "    <tr>\n",
       "      <th>4</th>\n",
       "      <td>A2VIY2TL6QPYLG</td>\n",
       "      <td>B00ERZVZZS</td>\n",
       "      <td>4.739208</td>\n",
       "    </tr>\n",
       "  </tbody>\n",
       "</table>\n",
       "</div>"
      ],
      "text/plain": [
       "       reviewerID   productID    rating\n",
       "0  A2VIY2TL6QPYLG  B00BY7YIPG  4.860012\n",
       "1  A2VIY2TL6QPYLG  B009B7F6CA  4.828602\n",
       "2  A2VIY2TL6QPYLG  B00ERZGLT8  4.795135\n",
       "3  A2VIY2TL6QPYLG  B004SGOSI2  4.794385\n",
       "4  A2VIY2TL6QPYLG  B00ERZVZZS  4.739208"
      ]
     },
     "metadata": {},
     "output_type": "display_data"
    }
   ],
   "source": [
    "#recommendation for each users\n",
    "for user in ['A3GJPLCZCDXXG6', 'A34U85WY8ZWBPV', 'A2VIY2TL6QPYLG']:\n",
    "    user_recom = make_recommendation(user)\n",
    "    result = make_result_dataframe(user_recom)\n",
    "    print(\"Recommendation for: \", user)\n",
    "    display(result)    "
   ]
  },
  {
   "cell_type": "markdown",
   "metadata": {},
   "source": [
    "#### Summary\n",
    "* A3GJPLCZCDXXG6 user might likes these productIDs: B009Y943F6, B009Y94H1G, B007CB7X1E, B00D0GYMTG, B00ERZVZZS\n",
    "\n",
    "* A34U85WY8ZWBPV user might likes these productIDs: B00D3Y18WO, B004Y3U90K, B003AVWOMS, B00AZQ2SYU, B000BX4TTO\n",
    "\n",
    "* A2VIY2TL6QPYLG user might likes these productIDs: B00A0GNOVQ, B00D95E30G, B001L123JS, B000PC62EQ, B00CFELU30 \t"
   ]
  },
  {
   "cell_type": "markdown",
   "metadata": {
    "id": "1mfdo6Lh1ILQ"
   },
   "source": [
    "## Or reading the saved file to get input data => recommendation"
   ]
  },
  {
   "cell_type": "code",
   "execution_count": 44,
   "metadata": {
    "id": "KNxbC0z21XIr"
   },
   "outputs": [],
   "source": [
    "# Read the Parquet file into a new DataFrame\n",
    "new_user_recs = spark.read.parquet('reviews_Toys_and_Games_5_User.parquet')"
   ]
  },
  {
   "cell_type": "code",
   "execution_count": 45,
   "metadata": {
    "colab": {
     "base_uri": "https://localhost:8080/"
    },
    "id": "q80alzhr1wHK",
    "outputId": "10018a7f-fdfe-4d5a-b825-d6574557dc0e"
   },
   "outputs": [
    {
     "name": "stdout",
     "output_type": "stream",
     "text": [
      "root\n",
      " |-- reviewerID_idx: integer (nullable = true)\n",
      " |-- recommendations: array (nullable = true)\n",
      " |    |-- element: struct (containsNull = true)\n",
      " |    |    |-- asin_idx: integer (nullable = true)\n",
      " |    |    |-- rating: float (nullable = true)\n",
      " |-- reviewerID: string (nullable = true)\n",
      "\n"
     ]
    }
   ],
   "source": [
    "new_user_recs.printSchema()"
   ]
  },
  {
   "cell_type": "code",
   "execution_count": 46,
   "metadata": {
    "colab": {
     "base_uri": "https://localhost:8080/"
    },
    "id": "cvUonJ-v1z7r",
    "outputId": "4b8a638c-ad45-4ab8-e5e6-b572377ef2a8"
   },
   "outputs": [
    {
     "name": "stdout",
     "output_type": "stream",
     "text": [
      "+--------------+--------------------+--------------+\n",
      "|reviewerID_idx|     recommendations|    reviewerID|\n",
      "+--------------+--------------------+--------------+\n",
      "|             0|[{9847, 6.2357802...| AJGU56YG8G1DQ|\n",
      "|             1|[{6696, 5.283102}...|A1M8AYAL3L8ACP|\n",
      "+--------------+--------------------+--------------+\n",
      "only showing top 2 rows\n",
      "\n"
     ]
    }
   ],
   "source": [
    "new_user_recs.show(2)"
   ]
  },
  {
   "cell_type": "code",
   "execution_count": 47,
   "metadata": {
    "id": "xsCwUpBi14sl"
   },
   "outputs": [],
   "source": [
    "df_asin_asin_idx = spark.read.parquet('reviews_Toys_and_Games_5_Product.parquet')"
   ]
  },
  {
   "cell_type": "code",
   "execution_count": 48,
   "metadata": {
    "colab": {
     "base_uri": "https://localhost:8080/"
    },
    "id": "MuDRy-gT2EJw",
    "outputId": "6c9f942c-5ec5-4a68-9141-b80a3733aab6"
   },
   "outputs": [
    {
     "name": "stdout",
     "output_type": "stream",
     "text": [
      "root\n",
      " |-- asin_idx: double (nullable = true)\n",
      " |-- asin: string (nullable = true)\n",
      "\n"
     ]
    }
   ],
   "source": [
    "df_asin_asin_idx.printSchema()"
   ]
  },
  {
   "cell_type": "code",
   "execution_count": 49,
   "metadata": {
    "colab": {
     "base_uri": "https://localhost:8080/"
    },
    "id": "CFOn_ioC2JIl",
    "outputId": "817e8c43-b7c4-4ca2-bde9-e6fc3b9ba3d9"
   },
   "outputs": [
    {
     "name": "stdout",
     "output_type": "stream",
     "text": [
      "+--------+----------+\n",
      "|asin_idx|      asin|\n",
      "+--------+----------+\n",
      "|  9630.0|1603800689|\n",
      "|    19.0|B00000K3BR|\n",
      "+--------+----------+\n",
      "only showing top 2 rows\n",
      "\n"
     ]
    }
   ],
   "source": [
    "df_asin_asin_idx.show(2)"
   ]
  },
  {
   "cell_type": "code",
   "execution_count": 50,
   "metadata": {},
   "outputs": [
    {
     "name": "stdout",
     "output_type": "stream",
     "text": [
      "Recommendation for:  A3GJPLCZCDXXG6\n"
     ]
    },
    {
     "data": {
      "text/html": [
       "<div>\n",
       "<style scoped>\n",
       "    .dataframe tbody tr th:only-of-type {\n",
       "        vertical-align: middle;\n",
       "    }\n",
       "\n",
       "    .dataframe tbody tr th {\n",
       "        vertical-align: top;\n",
       "    }\n",
       "\n",
       "    .dataframe thead th {\n",
       "        text-align: right;\n",
       "    }\n",
       "</style>\n",
       "<table border=\"1\" class=\"dataframe\">\n",
       "  <thead>\n",
       "    <tr style=\"text-align: right;\">\n",
       "      <th></th>\n",
       "      <th>reviewerID</th>\n",
       "      <th>productID</th>\n",
       "      <th>rating</th>\n",
       "    </tr>\n",
       "  </thead>\n",
       "  <tbody>\n",
       "    <tr>\n",
       "      <th>0</th>\n",
       "      <td>A3GJPLCZCDXXG6</td>\n",
       "      <td>B00D3Y18WO</td>\n",
       "      <td>5.634512</td>\n",
       "    </tr>\n",
       "    <tr>\n",
       "      <th>1</th>\n",
       "      <td>A3GJPLCZCDXXG6</td>\n",
       "      <td>B0007DI63S</td>\n",
       "      <td>5.598936</td>\n",
       "    </tr>\n",
       "    <tr>\n",
       "      <th>2</th>\n",
       "      <td>A3GJPLCZCDXXG6</td>\n",
       "      <td>B008L264Q8</td>\n",
       "      <td>5.564395</td>\n",
       "    </tr>\n",
       "    <tr>\n",
       "      <th>3</th>\n",
       "      <td>A3GJPLCZCDXXG6</td>\n",
       "      <td>B004Y3U90K</td>\n",
       "      <td>5.558105</td>\n",
       "    </tr>\n",
       "    <tr>\n",
       "      <th>4</th>\n",
       "      <td>A3GJPLCZCDXXG6</td>\n",
       "      <td>B00GHPHRI0</td>\n",
       "      <td>5.535957</td>\n",
       "    </tr>\n",
       "  </tbody>\n",
       "</table>\n",
       "</div>"
      ],
      "text/plain": [
       "       reviewerID   productID    rating\n",
       "0  A3GJPLCZCDXXG6  B00D3Y18WO  5.634512\n",
       "1  A3GJPLCZCDXXG6  B0007DI63S  5.598936\n",
       "2  A3GJPLCZCDXXG6  B008L264Q8  5.564395\n",
       "3  A3GJPLCZCDXXG6  B004Y3U90K  5.558105\n",
       "4  A3GJPLCZCDXXG6  B00GHPHRI0  5.535957"
      ]
     },
     "metadata": {},
     "output_type": "display_data"
    },
    {
     "name": "stdout",
     "output_type": "stream",
     "text": [
      "Recommendation for:  A34U85WY8ZWBPV\n"
     ]
    },
    {
     "data": {
      "text/html": [
       "<div>\n",
       "<style scoped>\n",
       "    .dataframe tbody tr th:only-of-type {\n",
       "        vertical-align: middle;\n",
       "    }\n",
       "\n",
       "    .dataframe tbody tr th {\n",
       "        vertical-align: top;\n",
       "    }\n",
       "\n",
       "    .dataframe thead th {\n",
       "        text-align: right;\n",
       "    }\n",
       "</style>\n",
       "<table border=\"1\" class=\"dataframe\">\n",
       "  <thead>\n",
       "    <tr style=\"text-align: right;\">\n",
       "      <th></th>\n",
       "      <th>reviewerID</th>\n",
       "      <th>productID</th>\n",
       "      <th>rating</th>\n",
       "    </tr>\n",
       "  </thead>\n",
       "  <tbody>\n",
       "    <tr>\n",
       "      <th>0</th>\n",
       "      <td>A34U85WY8ZWBPV</td>\n",
       "      <td>B00BK3FA8I</td>\n",
       "      <td>5.089292</td>\n",
       "    </tr>\n",
       "    <tr>\n",
       "      <th>1</th>\n",
       "      <td>A34U85WY8ZWBPV</td>\n",
       "      <td>B0093HPI9E</td>\n",
       "      <td>5.066402</td>\n",
       "    </tr>\n",
       "    <tr>\n",
       "      <th>2</th>\n",
       "      <td>A34U85WY8ZWBPV</td>\n",
       "      <td>B0007DI63S</td>\n",
       "      <td>5.065325</td>\n",
       "    </tr>\n",
       "    <tr>\n",
       "      <th>3</th>\n",
       "      <td>A34U85WY8ZWBPV</td>\n",
       "      <td>B00739W6VM</td>\n",
       "      <td>5.064379</td>\n",
       "    </tr>\n",
       "    <tr>\n",
       "      <th>4</th>\n",
       "      <td>A34U85WY8ZWBPV</td>\n",
       "      <td>B0007XIZ0M</td>\n",
       "      <td>5.021018</td>\n",
       "    </tr>\n",
       "  </tbody>\n",
       "</table>\n",
       "</div>"
      ],
      "text/plain": [
       "       reviewerID   productID    rating\n",
       "0  A34U85WY8ZWBPV  B00BK3FA8I  5.089292\n",
       "1  A34U85WY8ZWBPV  B0093HPI9E  5.066402\n",
       "2  A34U85WY8ZWBPV  B0007DI63S  5.065325\n",
       "3  A34U85WY8ZWBPV  B00739W6VM  5.064379\n",
       "4  A34U85WY8ZWBPV  B0007XIZ0M  5.021018"
      ]
     },
     "metadata": {},
     "output_type": "display_data"
    },
    {
     "name": "stdout",
     "output_type": "stream",
     "text": [
      "Recommendation for:  A2VIY2TL6QPYLG\n"
     ]
    },
    {
     "data": {
      "text/html": [
       "<div>\n",
       "<style scoped>\n",
       "    .dataframe tbody tr th:only-of-type {\n",
       "        vertical-align: middle;\n",
       "    }\n",
       "\n",
       "    .dataframe tbody tr th {\n",
       "        vertical-align: top;\n",
       "    }\n",
       "\n",
       "    .dataframe thead th {\n",
       "        text-align: right;\n",
       "    }\n",
       "</style>\n",
       "<table border=\"1\" class=\"dataframe\">\n",
       "  <thead>\n",
       "    <tr style=\"text-align: right;\">\n",
       "      <th></th>\n",
       "      <th>reviewerID</th>\n",
       "      <th>productID</th>\n",
       "      <th>rating</th>\n",
       "    </tr>\n",
       "  </thead>\n",
       "  <tbody>\n",
       "    <tr>\n",
       "      <th>0</th>\n",
       "      <td>A2VIY2TL6QPYLG</td>\n",
       "      <td>B00BY7YIPG</td>\n",
       "      <td>4.860012</td>\n",
       "    </tr>\n",
       "    <tr>\n",
       "      <th>1</th>\n",
       "      <td>A2VIY2TL6QPYLG</td>\n",
       "      <td>B009B7F6CA</td>\n",
       "      <td>4.828602</td>\n",
       "    </tr>\n",
       "    <tr>\n",
       "      <th>2</th>\n",
       "      <td>A2VIY2TL6QPYLG</td>\n",
       "      <td>B00ERZGLT8</td>\n",
       "      <td>4.795135</td>\n",
       "    </tr>\n",
       "    <tr>\n",
       "      <th>3</th>\n",
       "      <td>A2VIY2TL6QPYLG</td>\n",
       "      <td>B004SGOSI2</td>\n",
       "      <td>4.794385</td>\n",
       "    </tr>\n",
       "    <tr>\n",
       "      <th>4</th>\n",
       "      <td>A2VIY2TL6QPYLG</td>\n",
       "      <td>B00ERZVZZS</td>\n",
       "      <td>4.739208</td>\n",
       "    </tr>\n",
       "  </tbody>\n",
       "</table>\n",
       "</div>"
      ],
      "text/plain": [
       "       reviewerID   productID    rating\n",
       "0  A2VIY2TL6QPYLG  B00BY7YIPG  4.860012\n",
       "1  A2VIY2TL6QPYLG  B009B7F6CA  4.828602\n",
       "2  A2VIY2TL6QPYLG  B00ERZGLT8  4.795135\n",
       "3  A2VIY2TL6QPYLG  B004SGOSI2  4.794385\n",
       "4  A2VIY2TL6QPYLG  B00ERZVZZS  4.739208"
      ]
     },
     "metadata": {},
     "output_type": "display_data"
    }
   ],
   "source": [
    "#recommendation for each users\n",
    "for user in ['A3GJPLCZCDXXG6', 'A34U85WY8ZWBPV', 'A2VIY2TL6QPYLG']:\n",
    "    user_recom = make_recommendation(user)\n",
    "    result = make_result_dataframe(user_recom)\n",
    "    print(\"Recommendation for: \", user)\n",
    "    display(result)    "
   ]
  },
  {
   "cell_type": "code",
   "execution_count": null,
   "metadata": {},
   "outputs": [],
   "source": []
  }
 ],
 "metadata": {
  "colab": {
   "provenance": []
  },
  "kernelspec": {
   "display_name": "Python 3 (ipykernel)",
   "language": "python",
   "name": "python3"
  },
  "language_info": {
   "codemirror_mode": {
    "name": "ipython",
    "version": 3
   },
   "file_extension": ".py",
   "mimetype": "text/x-python",
   "name": "python",
   "nbconvert_exporter": "python",
   "pygments_lexer": "ipython3",
   "version": "3.9.18"
  }
 },
 "nbformat": 4,
 "nbformat_minor": 4
}
