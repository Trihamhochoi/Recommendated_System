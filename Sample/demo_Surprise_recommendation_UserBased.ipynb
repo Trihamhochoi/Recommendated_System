{
 "cells": [
  {
   "cell_type": "markdown",
   "metadata": {
    "id": "maHrE4NpGpPr"
   },
   "source": [
    "#Recommender System with Surprise"
   ]
  },
  {
   "cell_type": "markdown",
   "metadata": {
    "id": "BRgjlcdg9WFe"
   },
   "source": [
    "### surprise - Simple Python Recommendation System Engine"
   ]
  },
  {
   "cell_type": "markdown",
   "metadata": {
    "id": "6XwarB0G2pHF"
   },
   "source": [
    "- https://github.com/yzzhang/machine-learning/blob/master/recommender/netflix-demo.ipynb\n",
    "- https://towardsdatascience.com/machine-learning-for-building-recommender-system-in-python-9e4922dd7e97\n",
    "- Hướng dẫn chi tiết: https://surprise.readthedocs.io/en/stable/getting_started.html\n",
    "- http://surpriselib.com/\n",
    "- List of Support Algorithms in **surprise** package:"
   ]
  },
  {
   "cell_type": "markdown",
   "metadata": {
    "id": "fs71L4NuIqZX"
   },
   "source": [
    "![image.png](data:image/png;base64,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)"
   ]
  },
  {
   "cell_type": "code",
   "execution_count": null,
   "metadata": {
    "id": "MAxX8Wt5zOol"
   },
   "outputs": [],
   "source": [
    "!pip install surprise"
   ]
  },
  {
   "cell_type": "code",
   "execution_count": null,
   "metadata": {
    "colab": {
     "base_uri": "https://localhost:8080/"
    },
    "id": "Hoc7_gVszcLk",
    "outputId": "9f98a4f8-6539-4e09-9618-d6d21414af30"
   },
   "outputs": [
    {
     "name": "stdout",
     "output_type": "stream",
     "text": [
      "Mounted at /content/gdrive\n",
      "/content/gdrive/My Drive/LDS0/Topic_8_2/demo\n"
     ]
    }
   ],
   "source": [
    "from google.colab import drive\n",
    "drive.mount(\"/content/gdrive\", force_remount=True)\n",
    "\n",
    "%cd '/content/gdrive/My Drive/LDS0/Topic_8_2/demo/'"
   ]
  },
  {
   "cell_type": "code",
   "execution_count": 1,
   "metadata": {
    "id": "nX5-ZIKa0uXa"
   },
   "outputs": [],
   "source": [
    "import pandas as pd\n",
    "import numpy as np\n",
    "# from surprise import Reader, Dataset, SVD, SVDpp, NMF, SlopeOne, KNNBasic, KNNBaseline, KNNWithMeans, KNNWithZScore, CoClustering, BaselineOnly\n",
    "from surprise import *\n",
    "from surprise.model_selection.validation import cross_validate"
   ]
  },
  {
   "cell_type": "code",
   "execution_count": 2,
   "metadata": {
    "id": "B0iUAGgd0axD"
   },
   "outputs": [],
   "source": [
    "df = pd.read_csv(\"DATA/cung_cap_HV/movielens_ratings.csv\")"
   ]
  },
  {
   "cell_type": "code",
   "execution_count": 3,
   "metadata": {
    "colab": {
     "base_uri": "https://localhost:8080/"
    },
    "id": "9C4zj8S21RIs",
    "outputId": "7a69e93f-c2e4-412f-a284-ccf6f93be9c4"
   },
   "outputs": [
    {
     "name": "stdout",
     "output_type": "stream",
     "text": [
      "<class 'pandas.core.frame.DataFrame'>\n",
      "RangeIndex: 1501 entries, 0 to 1500\n",
      "Data columns (total 3 columns):\n",
      " #   Column   Non-Null Count  Dtype  \n",
      "---  ------   --------------  -----  \n",
      " 0   movieId  1501 non-null   int64  \n",
      " 1   rating   1501 non-null   float64\n",
      " 2   userId   1501 non-null   int64  \n",
      "dtypes: float64(1), int64(2)\n",
      "memory usage: 35.3 KB\n"
     ]
    }
   ],
   "source": [
    "df.info()"
   ]
  },
  {
   "cell_type": "code",
   "execution_count": 4,
   "metadata": {
    "colab": {
     "base_uri": "https://localhost:8080/",
     "height": 206
    },
    "id": "eLsk07V51SUK",
    "outputId": "ac66c064-0141-4527-cec9-389a7e5d0c05"
   },
   "outputs": [
    {
     "data": {
      "text/html": [
       "<div>\n",
       "<style scoped>\n",
       "    .dataframe tbody tr th:only-of-type {\n",
       "        vertical-align: middle;\n",
       "    }\n",
       "\n",
       "    .dataframe tbody tr th {\n",
       "        vertical-align: top;\n",
       "    }\n",
       "\n",
       "    .dataframe thead th {\n",
       "        text-align: right;\n",
       "    }\n",
       "</style>\n",
       "<table border=\"1\" class=\"dataframe\">\n",
       "  <thead>\n",
       "    <tr style=\"text-align: right;\">\n",
       "      <th></th>\n",
       "      <th>movieId</th>\n",
       "      <th>rating</th>\n",
       "      <th>userId</th>\n",
       "    </tr>\n",
       "  </thead>\n",
       "  <tbody>\n",
       "    <tr>\n",
       "      <th>0</th>\n",
       "      <td>2</td>\n",
       "      <td>3.0</td>\n",
       "      <td>0</td>\n",
       "    </tr>\n",
       "    <tr>\n",
       "      <th>1</th>\n",
       "      <td>3</td>\n",
       "      <td>1.0</td>\n",
       "      <td>0</td>\n",
       "    </tr>\n",
       "    <tr>\n",
       "      <th>2</th>\n",
       "      <td>5</td>\n",
       "      <td>2.0</td>\n",
       "      <td>0</td>\n",
       "    </tr>\n",
       "    <tr>\n",
       "      <th>3</th>\n",
       "      <td>9</td>\n",
       "      <td>4.0</td>\n",
       "      <td>0</td>\n",
       "    </tr>\n",
       "    <tr>\n",
       "      <th>4</th>\n",
       "      <td>11</td>\n",
       "      <td>1.0</td>\n",
       "      <td>0</td>\n",
       "    </tr>\n",
       "  </tbody>\n",
       "</table>\n",
       "</div>"
      ],
      "text/plain": [
       "   movieId  rating  userId\n",
       "0        2     3.0       0\n",
       "1        3     1.0       0\n",
       "2        5     2.0       0\n",
       "3        9     4.0       0\n",
       "4       11     1.0       0"
      ]
     },
     "execution_count": 4,
     "metadata": {},
     "output_type": "execute_result"
    }
   ],
   "source": [
    "df.head()"
   ]
  },
  {
   "cell_type": "code",
   "execution_count": 5,
   "metadata": {
    "id": "5ewunQXg7m3P"
   },
   "outputs": [],
   "source": [
    "n_ratings = len(df)\n",
    "n_movies = len(df['movieId'].unique())\n",
    "n_users = len(df['userId'].unique())"
   ]
  },
  {
   "cell_type": "code",
   "execution_count": 6,
   "metadata": {
    "colab": {
     "base_uri": "https://localhost:8080/",
     "height": 69
    },
    "id": "sx71m3kK7sPi",
    "outputId": "0d1b8517-e9f5-47e0-a085-1def305c19d9"
   },
   "outputs": [
    {
     "data": {
      "text/plain": [
       "1501"
      ]
     },
     "metadata": {},
     "output_type": "display_data"
    },
    {
     "data": {
      "text/plain": [
       "100"
      ]
     },
     "metadata": {},
     "output_type": "display_data"
    },
    {
     "data": {
      "text/plain": [
       "30"
      ]
     },
     "metadata": {},
     "output_type": "display_data"
    }
   ],
   "source": [
    "display(n_ratings, n_movies, n_users)"
   ]
  },
  {
   "cell_type": "code",
   "execution_count": 7,
   "metadata": {
    "colab": {
     "base_uri": "https://localhost:8080/"
    },
    "id": "Z794igWN1UFC",
    "outputId": "32cd9e88-ccae-4d41-a44f-eef18f19c992"
   },
   "outputs": [
    {
     "data": {
      "text/plain": [
       "6     20\n",
       "29    20\n",
       "22    20\n",
       "51    20\n",
       "50    20\n",
       "      ..\n",
       "41    10\n",
       "93    10\n",
       "46    10\n",
       "42     8\n",
       "8      7\n",
       "Name: movieId, Length: 100, dtype: int64"
      ]
     },
     "execution_count": 7,
     "metadata": {},
     "output_type": "execute_result"
    }
   ],
   "source": [
    "df['movieId'].value_counts()"
   ]
  },
  {
   "cell_type": "code",
   "execution_count": 8,
   "metadata": {
    "id": "K3luERvf2cGK"
   },
   "outputs": [],
   "source": [
    "# https://surprise.readthedocs.io/en/stable/reader.html\n",
    "reader = Reader()\n",
    "data = Dataset.load_from_df(df[['userId', 'movieId', 'rating']], reader)"
   ]
  },
  {
   "cell_type": "code",
   "execution_count": 9,
   "metadata": {
    "colab": {
     "base_uri": "https://localhost:8080/"
    },
    "id": "Y99JaeRn25JD",
    "outputId": "97ad30d2-ee86-4a0f-ac20-21bb957a5bb3"
   },
   "outputs": [
    {
     "name": "stdout",
     "output_type": "stream",
     "text": [
      "Computing the msd similarity matrix...\n",
      "Done computing similarity matrix.\n",
      "Computing the msd similarity matrix...\n",
      "Done computing similarity matrix.\n",
      "Computing the msd similarity matrix...\n",
      "Done computing similarity matrix.\n",
      "Computing the msd similarity matrix...\n",
      "Done computing similarity matrix.\n",
      "Computing the msd similarity matrix...\n",
      "Done computing similarity matrix.\n",
      "Evaluating RMSE, MAE of algorithm KNNBasic on 5 split(s).\n",
      "\n",
      "                  Fold 1  Fold 2  Fold 3  Fold 4  Fold 5  Mean    Std     \n",
      "RMSE (testset)    1.1481  1.1237  1.1578  1.1839  1.0832  1.1393  0.0341  \n",
      "MAE (testset)     0.9077  0.8646  0.9005  0.9406  0.8674  0.8961  0.0281  \n",
      "Fit time          0.00    0.00    0.00    0.00    0.00    0.00    0.00    \n",
      "Test time         0.00    0.00    0.01    0.00    0.00    0.00    0.00    \n"
     ]
    }
   ],
   "source": [
    "# https://www.youtube.com/watch?v=8wLKuscyO9I\n",
    "# Singular value decomposition\n",
    "# algorithm = SVD()\n",
    "algorithm = KNNBasic()\n",
    "# Run 5-fold cross-validation and print results\n",
    "results = cross_validate(algorithm, data, measures=['RMSE', 'MAE'], cv=5, verbose=True)"
   ]
  },
  {
   "cell_type": "code",
   "execution_count": 10,
   "metadata": {
    "colab": {
     "base_uri": "https://localhost:8080/"
    },
    "id": "SA_bW3qlClpx",
    "outputId": "e653a502-f6b7-452f-a9d6-3b5437446117"
   },
   "outputs": [
    {
     "data": {
      "text/plain": [
       "{'test_rmse': array([1.14811387, 1.1236637 , 1.15783434, 1.18389246, 1.083194  ]),\n",
       " 'test_mae': array([0.90765263, 0.86457279, 0.90047727, 0.94064639, 0.86735624]),\n",
       " 'fit_time': (0.0010023117065429688,\n",
       "  0.0010972023010253906,\n",
       "  0.0,\n",
       "  0.0010938644409179688,\n",
       "  0.0013320446014404297),\n",
       " 'test_time': (0.004259824752807617,\n",
       "  0.004309177398681641,\n",
       "  0.0070879459381103516,\n",
       "  0.0035943984985351562,\n",
       "  0.004209280014038086)}"
      ]
     },
     "execution_count": 10,
     "metadata": {},
     "output_type": "execute_result"
    }
   ],
   "source": [
    "results"
   ]
  },
  {
   "cell_type": "code",
   "execution_count": 11,
   "metadata": {
    "colab": {
     "base_uri": "https://localhost:8080/"
    },
    "id": "Vwo4tKxK31zN",
    "outputId": "11012a49-cd08-42e0-e0a0-d85ba0751aaa"
   },
   "outputs": [
    {
     "name": "stdout",
     "output_type": "stream",
     "text": [
      "Computing the msd similarity matrix...\n",
      "Done computing similarity matrix.\n"
     ]
    },
    {
     "data": {
      "text/plain": [
       "<surprise.prediction_algorithms.knns.KNNBasic at 0x21ffa0663a0>"
      ]
     },
     "execution_count": 11,
     "metadata": {},
     "output_type": "execute_result"
    }
   ],
   "source": [
    "# If the results are OK => getting full dataset => fit model\n",
    "trainset = data.build_full_trainset()\n",
    "algorithm.fit(trainset)"
   ]
  },
  {
   "cell_type": "markdown",
   "metadata": {
    "id": "vidXLyjZEnue"
   },
   "source": [
    "### Recommender for a specific user"
   ]
  },
  {
   "cell_type": "code",
   "execution_count": 12,
   "metadata": {
    "colab": {
     "base_uri": "https://localhost:8080/",
     "height": 425
    },
    "id": "QglUdX3m2-Dr",
    "outputId": "9f169149-1c03-4484-891b-e6971b68eaac"
   },
   "outputs": [
    {
     "data": {
      "text/html": [
       "<div>\n",
       "<style scoped>\n",
       "    .dataframe tbody tr th:only-of-type {\n",
       "        vertical-align: middle;\n",
       "    }\n",
       "\n",
       "    .dataframe tbody tr th {\n",
       "        vertical-align: top;\n",
       "    }\n",
       "\n",
       "    .dataframe thead th {\n",
       "        text-align: right;\n",
       "    }\n",
       "</style>\n",
       "<table border=\"1\" class=\"dataframe\">\n",
       "  <thead>\n",
       "    <tr style=\"text-align: right;\">\n",
       "      <th></th>\n",
       "      <th>rating</th>\n",
       "      <th>userId</th>\n",
       "    </tr>\n",
       "    <tr>\n",
       "      <th>movieId</th>\n",
       "      <th></th>\n",
       "      <th></th>\n",
       "    </tr>\n",
       "  </thead>\n",
       "  <tbody>\n",
       "    <tr>\n",
       "      <th>18</th>\n",
       "      <td>4.0</td>\n",
       "      <td>27</td>\n",
       "    </tr>\n",
       "    <tr>\n",
       "      <th>19</th>\n",
       "      <td>3.0</td>\n",
       "      <td>27</td>\n",
       "    </tr>\n",
       "    <tr>\n",
       "      <th>27</th>\n",
       "      <td>3.0</td>\n",
       "      <td>27</td>\n",
       "    </tr>\n",
       "    <tr>\n",
       "      <th>33</th>\n",
       "      <td>3.0</td>\n",
       "      <td>27</td>\n",
       "    </tr>\n",
       "    <tr>\n",
       "      <th>44</th>\n",
       "      <td>3.0</td>\n",
       "      <td>27</td>\n",
       "    </tr>\n",
       "    <tr>\n",
       "      <th>51</th>\n",
       "      <td>3.0</td>\n",
       "      <td>27</td>\n",
       "    </tr>\n",
       "    <tr>\n",
       "      <th>55</th>\n",
       "      <td>3.0</td>\n",
       "      <td>27</td>\n",
       "    </tr>\n",
       "    <tr>\n",
       "      <th>66</th>\n",
       "      <td>3.0</td>\n",
       "      <td>27</td>\n",
       "    </tr>\n",
       "    <tr>\n",
       "      <th>75</th>\n",
       "      <td>3.0</td>\n",
       "      <td>27</td>\n",
       "    </tr>\n",
       "    <tr>\n",
       "      <th>80</th>\n",
       "      <td>3.0</td>\n",
       "      <td>27</td>\n",
       "    </tr>\n",
       "    <tr>\n",
       "      <th>83</th>\n",
       "      <td>3.0</td>\n",
       "      <td>27</td>\n",
       "    </tr>\n",
       "  </tbody>\n",
       "</table>\n",
       "</div>"
      ],
      "text/plain": [
       "         rating  userId\n",
       "movieId                \n",
       "18          4.0      27\n",
       "19          3.0      27\n",
       "27          3.0      27\n",
       "33          3.0      27\n",
       "44          3.0      27\n",
       "51          3.0      27\n",
       "55          3.0      27\n",
       "66          3.0      27\n",
       "75          3.0      27\n",
       "80          3.0      27\n",
       "83          3.0      27"
      ]
     },
     "execution_count": 12,
     "metadata": {},
     "output_type": "execute_result"
    }
   ],
   "source": [
    "# userId = 27 has seen some movies:\n",
    "userId = 27\n",
    "df_select = df[(df['userId'] == userId) & (df['rating'] >=3)]\n",
    "df_select = df_select.set_index('movieId')\n",
    "#df_select = df_select.join(df_title)['Name']\n",
    "df_select.head(df_select.shape[0])"
   ]
  },
  {
   "cell_type": "code",
   "execution_count": 13,
   "metadata": {
    "colab": {
     "base_uri": "https://localhost:8080/"
    },
    "id": "G80-AoFV3Xbt",
    "outputId": "cadcb360-d012-4000-d28c-c83590e015ef"
   },
   "outputs": [
    {
     "data": {
      "text/plain": [
       "(11, 2)"
      ]
     },
     "execution_count": 13,
     "metadata": {},
     "output_type": "execute_result"
    }
   ],
   "source": [
    "df_select.shape"
   ]
  },
  {
   "cell_type": "code",
   "execution_count": 14,
   "metadata": {
    "id": "JiCTGcoP36Lp"
   },
   "outputs": [],
   "source": [
    "df_score = df[[\"movieId\"]]"
   ]
  },
  {
   "cell_type": "code",
   "execution_count": 15,
   "metadata": {
    "colab": {
     "base_uri": "https://localhost:8080/",
     "height": 423
    },
    "id": "8E2z4NUB4Qti",
    "outputId": "edce1b72-134d-49a0-8d3a-402b11092729"
   },
   "outputs": [
    {
     "data": {
      "text/html": [
       "<div>\n",
       "<style scoped>\n",
       "    .dataframe tbody tr th:only-of-type {\n",
       "        vertical-align: middle;\n",
       "    }\n",
       "\n",
       "    .dataframe tbody tr th {\n",
       "        vertical-align: top;\n",
       "    }\n",
       "\n",
       "    .dataframe thead th {\n",
       "        text-align: right;\n",
       "    }\n",
       "</style>\n",
       "<table border=\"1\" class=\"dataframe\">\n",
       "  <thead>\n",
       "    <tr style=\"text-align: right;\">\n",
       "      <th></th>\n",
       "      <th>movieId</th>\n",
       "    </tr>\n",
       "  </thead>\n",
       "  <tbody>\n",
       "    <tr>\n",
       "      <th>0</th>\n",
       "      <td>2</td>\n",
       "    </tr>\n",
       "    <tr>\n",
       "      <th>1</th>\n",
       "      <td>3</td>\n",
       "    </tr>\n",
       "    <tr>\n",
       "      <th>2</th>\n",
       "      <td>5</td>\n",
       "    </tr>\n",
       "    <tr>\n",
       "      <th>3</th>\n",
       "      <td>9</td>\n",
       "    </tr>\n",
       "    <tr>\n",
       "      <th>4</th>\n",
       "      <td>11</td>\n",
       "    </tr>\n",
       "    <tr>\n",
       "      <th>...</th>\n",
       "      <td>...</td>\n",
       "    </tr>\n",
       "    <tr>\n",
       "      <th>1496</th>\n",
       "      <td>90</td>\n",
       "    </tr>\n",
       "    <tr>\n",
       "      <th>1497</th>\n",
       "      <td>93</td>\n",
       "    </tr>\n",
       "    <tr>\n",
       "      <th>1498</th>\n",
       "      <td>94</td>\n",
       "    </tr>\n",
       "    <tr>\n",
       "      <th>1499</th>\n",
       "      <td>97</td>\n",
       "    </tr>\n",
       "    <tr>\n",
       "      <th>1500</th>\n",
       "      <td>99</td>\n",
       "    </tr>\n",
       "  </tbody>\n",
       "</table>\n",
       "<p>1501 rows × 1 columns</p>\n",
       "</div>"
      ],
      "text/plain": [
       "      movieId\n",
       "0           2\n",
       "1           3\n",
       "2           5\n",
       "3           9\n",
       "4          11\n",
       "...       ...\n",
       "1496       90\n",
       "1497       93\n",
       "1498       94\n",
       "1499       97\n",
       "1500       99\n",
       "\n",
       "[1501 rows x 1 columns]"
      ]
     },
     "execution_count": 15,
     "metadata": {},
     "output_type": "execute_result"
    }
   ],
   "source": [
    "df_score"
   ]
  },
  {
   "cell_type": "markdown",
   "metadata": {
    "id": "x5Gt4rAX6WO2"
   },
   "source": [
    "- Once the model has been evaluated to our satisfaction, then we can re-train the model using the entire training dataset"
   ]
  },
  {
   "cell_type": "code",
   "execution_count": 16,
   "metadata": {
    "colab": {
     "base_uri": "https://localhost:8080/"
    },
    "id": "_DA1phU34ShZ",
    "outputId": "82aea10f-91df-43eb-9f34-c05b122562f6"
   },
   "outputs": [
    {
     "name": "stderr",
     "output_type": "stream",
     "text": [
      "C:\\Users\\ASUS\\AppData\\Local\\Temp\\ipykernel_23152\\2382982136.py:5: SettingWithCopyWarning: \n",
      "A value is trying to be set on a copy of a slice from a DataFrame.\n",
      "Try using .loc[row_indexer,col_indexer] = value instead\n",
      "\n",
      "See the caveats in the documentation: https://pandas.pydata.org/pandas-docs/stable/user_guide/indexing.html#returning-a-view-versus-a-copy\n",
      "  df_score['EstimateScore'] = df_score['movieId'].apply(lambda x: algorithm.predict(userId, x).est) # est: get EstimateScore\n"
     ]
    }
   ],
   "source": [
    "# The following are the top 5 movies to be recommended to the user with userId\n",
    "# To recommend products (i.e., movies) to the given user,\n",
    "# we can sort the list of movies in decreasing order of predicted ratings\n",
    "# and take the top N movies as recommendations:\n",
    "df_score['EstimateScore'] = df_score['movieId'].apply(lambda x: algorithm.predict(userId, x).est) # est: get EstimateScore\n",
    "df_score = df_score.sort_values(by=['EstimateScore'], ascending=False)"
   ]
  },
  {
   "cell_type": "code",
   "execution_count": 17,
   "metadata": {
    "id": "eXVculve4vDx"
   },
   "outputs": [],
   "source": [
    "df_score = df_score.drop_duplicates()"
   ]
  },
  {
   "cell_type": "code",
   "execution_count": 18,
   "metadata": {
    "colab": {
     "base_uri": "https://localhost:8080/",
     "height": 206
    },
    "id": "BRW8MWy75Cz6",
    "outputId": "b8879f76-6d15-4166-9a60-3b31f51569d4"
   },
   "outputs": [
    {
     "data": {
      "text/html": [
       "<div>\n",
       "<style scoped>\n",
       "    .dataframe tbody tr th:only-of-type {\n",
       "        vertical-align: middle;\n",
       "    }\n",
       "\n",
       "    .dataframe tbody tr th {\n",
       "        vertical-align: top;\n",
       "    }\n",
       "\n",
       "    .dataframe thead th {\n",
       "        text-align: right;\n",
       "    }\n",
       "</style>\n",
       "<table border=\"1\" class=\"dataframe\">\n",
       "  <thead>\n",
       "    <tr style=\"text-align: right;\">\n",
       "      <th></th>\n",
       "      <th>movieId</th>\n",
       "      <th>EstimateScore</th>\n",
       "    </tr>\n",
       "  </thead>\n",
       "  <tbody>\n",
       "    <tr>\n",
       "      <th>971</th>\n",
       "      <td>32</td>\n",
       "      <td>3.063436</td>\n",
       "    </tr>\n",
       "    <tr>\n",
       "      <th>561</th>\n",
       "      <td>18</td>\n",
       "      <td>2.748508</td>\n",
       "    </tr>\n",
       "    <tr>\n",
       "      <th>449</th>\n",
       "      <td>90</td>\n",
       "      <td>2.639691</td>\n",
       "    </tr>\n",
       "    <tr>\n",
       "      <th>1221</th>\n",
       "      <td>30</td>\n",
       "      <td>2.610390</td>\n",
       "    </tr>\n",
       "    <tr>\n",
       "      <th>10</th>\n",
       "      <td>23</td>\n",
       "      <td>2.572454</td>\n",
       "    </tr>\n",
       "  </tbody>\n",
       "</table>\n",
       "</div>"
      ],
      "text/plain": [
       "      movieId  EstimateScore\n",
       "971        32       3.063436\n",
       "561        18       2.748508\n",
       "449        90       2.639691\n",
       "1221       30       2.610390\n",
       "10         23       2.572454"
      ]
     },
     "execution_count": 18,
     "metadata": {},
     "output_type": "execute_result"
    }
   ],
   "source": [
    "df_score.head()"
   ]
  },
  {
   "cell_type": "code",
   "execution_count": 19,
   "metadata": {
    "colab": {
     "base_uri": "https://localhost:8080/",
     "height": 81
    },
    "id": "FQXBHuZmdhGy",
    "outputId": "02248a5d-15f0-4d75-f5af-3fa3320f189d"
   },
   "outputs": [
    {
     "data": {
      "text/html": [
       "<div>\n",
       "<style scoped>\n",
       "    .dataframe tbody tr th:only-of-type {\n",
       "        vertical-align: middle;\n",
       "    }\n",
       "\n",
       "    .dataframe tbody tr th {\n",
       "        vertical-align: top;\n",
       "    }\n",
       "\n",
       "    .dataframe thead th {\n",
       "        text-align: right;\n",
       "    }\n",
       "</style>\n",
       "<table border=\"1\" class=\"dataframe\">\n",
       "  <thead>\n",
       "    <tr style=\"text-align: right;\">\n",
       "      <th></th>\n",
       "      <th>movieId</th>\n",
       "      <th>EstimateScore</th>\n",
       "    </tr>\n",
       "  </thead>\n",
       "  <tbody>\n",
       "    <tr>\n",
       "      <th>971</th>\n",
       "      <td>32</td>\n",
       "      <td>3.063436</td>\n",
       "    </tr>\n",
       "  </tbody>\n",
       "</table>\n",
       "</div>"
      ],
      "text/plain": [
       "     movieId  EstimateScore\n",
       "971       32       3.063436"
      ]
     },
     "execution_count": 19,
     "metadata": {},
     "output_type": "execute_result"
    }
   ],
   "source": [
    "df_score[df_score.EstimateScore>=3]"
   ]
  }
 ],
 "metadata": {
  "colab": {
   "provenance": []
  },
  "kernelspec": {
   "display_name": "Python 3 (ipykernel)",
   "language": "python",
   "name": "python3"
  },
  "language_info": {
   "codemirror_mode": {
    "name": "ipython",
    "version": 3
   },
   "file_extension": ".py",
   "mimetype": "text/x-python",
   "name": "python",
   "nbconvert_exporter": "python",
   "pygments_lexer": "ipython3",
   "version": "3.9.18"
  }
 },
 "nbformat": 4,
 "nbformat_minor": 4
}
