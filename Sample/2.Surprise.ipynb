{
 "cells": [
  {
   "cell_type": "markdown",
   "metadata": {
    "id": "maHrE4NpGpPr"
   },
   "source": [
    "#Recommender System with Surprise"
   ]
  },
  {
   "cell_type": "markdown",
   "metadata": {
    "id": "BRgjlcdg9WFe"
   },
   "source": [
    "### surprise - Simple Python Recommendation System Engine"
   ]
  },
  {
   "cell_type": "markdown",
   "metadata": {
    "id": "6XwarB0G2pHF"
   },
   "source": [
    "- https://github.com/yzzhang/machine-learning/blob/master/recommender/netflix-demo.ipynb\n",
    "- https://towardsdatascience.com/machine-learning-for-building-recommender-system-in-python-9e4922dd7e97\n",
    "- Hướng dẫn chi tiết: https://surprise.readthedocs.io/en/stable/getting_started.html\n",
    "- http://surpriselib.com/\n",
    "- List of Support Algorithms in **surprise** package:"
   ]
  },
  {
   "cell_type": "markdown",
   "metadata": {
    "id": "fs71L4NuIqZX"
   },
   "source": [
    "![image.png](data:image/png;base64,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)"
   ]
  },
  {
   "cell_type": "code",
   "execution_count": 1,
   "metadata": {
    "colab": {
     "base_uri": "https://localhost:8080/"
    },
    "executionInfo": {
     "elapsed": 6159,
     "status": "ok",
     "timestamp": 1710404547620,
     "user": {
      "displayName": "Quốc Thái Phạm",
      "userId": "05056944187763502577"
     },
     "user_tz": -420
    },
    "id": "MAxX8Wt5zOol",
    "outputId": "d2bbffd2-750a-42e2-a5a8-e29d262f49ec"
   },
   "outputs": [
    {
     "name": "stdout",
     "output_type": "stream",
     "text": [
      "Requirement already satisfied: surprise in /usr/local/lib/python3.10/dist-packages (0.1)\n",
      "Requirement already satisfied: scikit-surprise in /usr/local/lib/python3.10/dist-packages (from surprise) (1.1.3)\n",
      "Requirement already satisfied: joblib>=1.0.0 in /usr/local/lib/python3.10/dist-packages (from scikit-surprise->surprise) (1.3.2)\n",
      "Requirement already satisfied: numpy>=1.17.3 in /usr/local/lib/python3.10/dist-packages (from scikit-surprise->surprise) (1.25.2)\n",
      "Requirement already satisfied: scipy>=1.3.2 in /usr/local/lib/python3.10/dist-packages (from scikit-surprise->surprise) (1.11.4)\n"
     ]
    }
   ],
   "source": [
    "!pip install surprise"
   ]
  },
  {
   "cell_type": "code",
   "execution_count": 2,
   "metadata": {
    "colab": {
     "base_uri": "https://localhost:8080/"
    },
    "executionInfo": {
     "elapsed": 4063,
     "status": "ok",
     "timestamp": 1710404551667,
     "user": {
      "displayName": "Quốc Thái Phạm",
      "userId": "05056944187763502577"
     },
     "user_tz": -420
    },
    "id": "Hoc7_gVszcLk",
    "outputId": "667e1fc7-905a-48f1-9714-286efb30e589"
   },
   "outputs": [
    {
     "name": "stdout",
     "output_type": "stream",
     "text": [
      "Mounted at /content/gdrive\n",
      "/content/gdrive/MyDrive/COMPUTER SCIENCE/CSC_Courses/0.MDS0_Capstone/LDS0_K292_Online_PhamQuocThai/Project_2\n"
     ]
    }
   ],
   "source": [
    "from google.colab import drive\n",
    "drive.mount(\"/content/gdrive\", force_remount=True)\n",
    "\n",
    "%cd '/content/gdrive/MyDrive/COMPUTER SCIENCE/CSC_Courses/0.MDS0_Capstone/LDS0_K292_Online_PhamQuocThai/Project_2'"
   ]
  },
  {
   "cell_type": "code",
   "execution_count": 3,
   "metadata": {
    "executionInfo": {
     "elapsed": 974,
     "status": "ok",
     "timestamp": 1710404552630,
     "user": {
      "displayName": "Quốc Thái Phạm",
      "userId": "05056944187763502577"
     },
     "user_tz": -420
    },
    "id": "nX5-ZIKa0uXa"
   },
   "outputs": [],
   "source": [
    "import pandas as pd\n",
    "import numpy as np\n",
    "# from surprise import Reader, Dataset, SVD, SVDpp, NMF, SlopeOne, KNNBasic, KNNBaseline, KNNWithMeans, KNNWithZScore, CoClustering, BaselineOnly\n",
    "#from surprise import *\n",
    "from surprise.model_selection.validation import cross_validate\n",
    "\n",
    "from surprise import Dataset, Reader, KNNBasic, SVD\n",
    "from surprise.model_selection import train_test_split"
   ]
  },
  {
   "cell_type": "code",
   "execution_count": 4,
   "metadata": {
    "executionInfo": {
     "elapsed": 882,
     "status": "ok",
     "timestamp": 1710404553502,
     "user": {
      "displayName": "Quốc Thái Phạm",
      "userId": "05056944187763502577"
     },
     "user_tz": -420
    },
    "id": "B0iUAGgd0axD"
   },
   "outputs": [],
   "source": [
    "df = pd.read_csv(\"cleaned_data/Products_ThoiTrangNam_rating_clean.csv\")"
   ]
  },
  {
   "cell_type": "code",
   "execution_count": 5,
   "metadata": {
    "colab": {
     "base_uri": "https://localhost:8080/"
    },
    "executionInfo": {
     "elapsed": 45,
     "status": "ok",
     "timestamp": 1710404553503,
     "user": {
      "displayName": "Quốc Thái Phạm",
      "userId": "05056944187763502577"
     },
     "user_tz": -420
    },
    "id": "9C4zj8S21RIs",
    "outputId": "90af2ee6-bf4c-495a-983f-f461583b6c47"
   },
   "outputs": [
    {
     "name": "stdout",
     "output_type": "stream",
     "text": [
      "<class 'pandas.core.frame.DataFrame'>\n",
      "RangeIndex: 1024482 entries, 0 to 1024481\n",
      "Data columns (total 4 columns):\n",
      " #   Column      Non-Null Count    Dtype \n",
      "---  ------      --------------    ----- \n",
      " 0   product_id  1024482 non-null  int64 \n",
      " 1   user_id     1024482 non-null  int64 \n",
      " 2   user        1024482 non-null  object\n",
      " 3   rating      1024482 non-null  int64 \n",
      "dtypes: int64(3), object(1)\n",
      "memory usage: 31.3+ MB\n"
     ]
    }
   ],
   "source": [
    "df.info()"
   ]
  },
  {
   "cell_type": "code",
   "execution_count": 6,
   "metadata": {
    "executionInfo": {
     "elapsed": 37,
     "status": "ok",
     "timestamp": 1710404553503,
     "user": {
      "displayName": "Quốc Thái Phạm",
      "userId": "05056944187763502577"
     },
     "user_tz": -420
    },
    "id": "UUrpqXNzt9KN"
   },
   "outputs": [],
   "source": [
    "#df['product_id'] = df['product_id'].astype('int8')\n",
    "#df['user_id'] = df['user_id'].astype('int8')\n",
    "#df['rating'] = df['rating'].astype('float16')"
   ]
  },
  {
   "cell_type": "code",
   "execution_count": 7,
   "metadata": {
    "colab": {
     "base_uri": "https://localhost:8080/",
     "height": 206
    },
    "executionInfo": {
     "elapsed": 36,
     "status": "ok",
     "timestamp": 1710404553503,
     "user": {
      "displayName": "Quốc Thái Phạm",
      "userId": "05056944187763502577"
     },
     "user_tz": -420
    },
    "id": "eLsk07V51SUK",
    "outputId": "fc347eea-49ee-47a0-f261-271556ce700c"
   },
   "outputs": [
    {
     "data": {
      "application/vnd.google.colaboratory.intrinsic+json": {
       "type": "dataframe",
       "variable_name": "df"
      },
      "text/html": [
       "\n",
       "  <div id=\"df-9f4ec648-dc86-44ca-8fd0-2977c34b8213\" class=\"colab-df-container\">\n",
       "    <div>\n",
       "<style scoped>\n",
       "    .dataframe tbody tr th:only-of-type {\n",
       "        vertical-align: middle;\n",
       "    }\n",
       "\n",
       "    .dataframe tbody tr th {\n",
       "        vertical-align: top;\n",
       "    }\n",
       "\n",
       "    .dataframe thead th {\n",
       "        text-align: right;\n",
       "    }\n",
       "</style>\n",
       "<table border=\"1\" class=\"dataframe\">\n",
       "  <thead>\n",
       "    <tr style=\"text-align: right;\">\n",
       "      <th></th>\n",
       "      <th>product_id</th>\n",
       "      <th>user_id</th>\n",
       "      <th>user</th>\n",
       "      <th>rating</th>\n",
       "    </tr>\n",
       "  </thead>\n",
       "  <tbody>\n",
       "    <tr>\n",
       "      <th>0</th>\n",
       "      <td>190</td>\n",
       "      <td>1</td>\n",
       "      <td>karmakyun2nd</td>\n",
       "      <td>5</td>\n",
       "    </tr>\n",
       "    <tr>\n",
       "      <th>1</th>\n",
       "      <td>190</td>\n",
       "      <td>2</td>\n",
       "      <td>tranquangvinh_vv</td>\n",
       "      <td>5</td>\n",
       "    </tr>\n",
       "    <tr>\n",
       "      <th>2</th>\n",
       "      <td>190</td>\n",
       "      <td>3</td>\n",
       "      <td>nguyenquoctoan2005</td>\n",
       "      <td>5</td>\n",
       "    </tr>\n",
       "    <tr>\n",
       "      <th>3</th>\n",
       "      <td>190</td>\n",
       "      <td>4</td>\n",
       "      <td>nguyenthuyhavi</td>\n",
       "      <td>5</td>\n",
       "    </tr>\n",
       "    <tr>\n",
       "      <th>4</th>\n",
       "      <td>190</td>\n",
       "      <td>5</td>\n",
       "      <td>luonganh5595</td>\n",
       "      <td>5</td>\n",
       "    </tr>\n",
       "  </tbody>\n",
       "</table>\n",
       "</div>\n",
       "    <div class=\"colab-df-buttons\">\n",
       "\n",
       "  <div class=\"colab-df-container\">\n",
       "    <button class=\"colab-df-convert\" onclick=\"convertToInteractive('df-9f4ec648-dc86-44ca-8fd0-2977c34b8213')\"\n",
       "            title=\"Convert this dataframe to an interactive table.\"\n",
       "            style=\"display:none;\">\n",
       "\n",
       "  <svg xmlns=\"http://www.w3.org/2000/svg\" height=\"24px\" viewBox=\"0 -960 960 960\">\n",
       "    <path d=\"M120-120v-720h720v720H120Zm60-500h600v-160H180v160Zm220 220h160v-160H400v160Zm0 220h160v-160H400v160ZM180-400h160v-160H180v160Zm440 0h160v-160H620v160ZM180-180h160v-160H180v160Zm440 0h160v-160H620v160Z\"/>\n",
       "  </svg>\n",
       "    </button>\n",
       "\n",
       "  <style>\n",
       "    .colab-df-container {\n",
       "      display:flex;\n",
       "      gap: 12px;\n",
       "    }\n",
       "\n",
       "    .colab-df-convert {\n",
       "      background-color: #E8F0FE;\n",
       "      border: none;\n",
       "      border-radius: 50%;\n",
       "      cursor: pointer;\n",
       "      display: none;\n",
       "      fill: #1967D2;\n",
       "      height: 32px;\n",
       "      padding: 0 0 0 0;\n",
       "      width: 32px;\n",
       "    }\n",
       "\n",
       "    .colab-df-convert:hover {\n",
       "      background-color: #E2EBFA;\n",
       "      box-shadow: 0px 1px 2px rgba(60, 64, 67, 0.3), 0px 1px 3px 1px rgba(60, 64, 67, 0.15);\n",
       "      fill: #174EA6;\n",
       "    }\n",
       "\n",
       "    .colab-df-buttons div {\n",
       "      margin-bottom: 4px;\n",
       "    }\n",
       "\n",
       "    [theme=dark] .colab-df-convert {\n",
       "      background-color: #3B4455;\n",
       "      fill: #D2E3FC;\n",
       "    }\n",
       "\n",
       "    [theme=dark] .colab-df-convert:hover {\n",
       "      background-color: #434B5C;\n",
       "      box-shadow: 0px 1px 3px 1px rgba(0, 0, 0, 0.15);\n",
       "      filter: drop-shadow(0px 1px 2px rgba(0, 0, 0, 0.3));\n",
       "      fill: #FFFFFF;\n",
       "    }\n",
       "  </style>\n",
       "\n",
       "    <script>\n",
       "      const buttonEl =\n",
       "        document.querySelector('#df-9f4ec648-dc86-44ca-8fd0-2977c34b8213 button.colab-df-convert');\n",
       "      buttonEl.style.display =\n",
       "        google.colab.kernel.accessAllowed ? 'block' : 'none';\n",
       "\n",
       "      async function convertToInteractive(key) {\n",
       "        const element = document.querySelector('#df-9f4ec648-dc86-44ca-8fd0-2977c34b8213');\n",
       "        const dataTable =\n",
       "          await google.colab.kernel.invokeFunction('convertToInteractive',\n",
       "                                                    [key], {});\n",
       "        if (!dataTable) return;\n",
       "\n",
       "        const docLinkHtml = 'Like what you see? Visit the ' +\n",
       "          '<a target=\"_blank\" href=https://colab.research.google.com/notebooks/data_table.ipynb>data table notebook</a>'\n",
       "          + ' to learn more about interactive tables.';\n",
       "        element.innerHTML = '';\n",
       "        dataTable['output_type'] = 'display_data';\n",
       "        await google.colab.output.renderOutput(dataTable, element);\n",
       "        const docLink = document.createElement('div');\n",
       "        docLink.innerHTML = docLinkHtml;\n",
       "        element.appendChild(docLink);\n",
       "      }\n",
       "    </script>\n",
       "  </div>\n",
       "\n",
       "\n",
       "<div id=\"df-ed5a8ec6-6294-4aa4-b2a3-36c2dafd61f6\">\n",
       "  <button class=\"colab-df-quickchart\" onclick=\"quickchart('df-ed5a8ec6-6294-4aa4-b2a3-36c2dafd61f6')\"\n",
       "            title=\"Suggest charts\"\n",
       "            style=\"display:none;\">\n",
       "\n",
       "<svg xmlns=\"http://www.w3.org/2000/svg\" height=\"24px\"viewBox=\"0 0 24 24\"\n",
       "     width=\"24px\">\n",
       "    <g>\n",
       "        <path d=\"M19 3H5c-1.1 0-2 .9-2 2v14c0 1.1.9 2 2 2h14c1.1 0 2-.9 2-2V5c0-1.1-.9-2-2-2zM9 17H7v-7h2v7zm4 0h-2V7h2v10zm4 0h-2v-4h2v4z\"/>\n",
       "    </g>\n",
       "</svg>\n",
       "  </button>\n",
       "\n",
       "<style>\n",
       "  .colab-df-quickchart {\n",
       "      --bg-color: #E8F0FE;\n",
       "      --fill-color: #1967D2;\n",
       "      --hover-bg-color: #E2EBFA;\n",
       "      --hover-fill-color: #174EA6;\n",
       "      --disabled-fill-color: #AAA;\n",
       "      --disabled-bg-color: #DDD;\n",
       "  }\n",
       "\n",
       "  [theme=dark] .colab-df-quickchart {\n",
       "      --bg-color: #3B4455;\n",
       "      --fill-color: #D2E3FC;\n",
       "      --hover-bg-color: #434B5C;\n",
       "      --hover-fill-color: #FFFFFF;\n",
       "      --disabled-bg-color: #3B4455;\n",
       "      --disabled-fill-color: #666;\n",
       "  }\n",
       "\n",
       "  .colab-df-quickchart {\n",
       "    background-color: var(--bg-color);\n",
       "    border: none;\n",
       "    border-radius: 50%;\n",
       "    cursor: pointer;\n",
       "    display: none;\n",
       "    fill: var(--fill-color);\n",
       "    height: 32px;\n",
       "    padding: 0;\n",
       "    width: 32px;\n",
       "  }\n",
       "\n",
       "  .colab-df-quickchart:hover {\n",
       "    background-color: var(--hover-bg-color);\n",
       "    box-shadow: 0 1px 2px rgba(60, 64, 67, 0.3), 0 1px 3px 1px rgba(60, 64, 67, 0.15);\n",
       "    fill: var(--button-hover-fill-color);\n",
       "  }\n",
       "\n",
       "  .colab-df-quickchart-complete:disabled,\n",
       "  .colab-df-quickchart-complete:disabled:hover {\n",
       "    background-color: var(--disabled-bg-color);\n",
       "    fill: var(--disabled-fill-color);\n",
       "    box-shadow: none;\n",
       "  }\n",
       "\n",
       "  .colab-df-spinner {\n",
       "    border: 2px solid var(--fill-color);\n",
       "    border-color: transparent;\n",
       "    border-bottom-color: var(--fill-color);\n",
       "    animation:\n",
       "      spin 1s steps(1) infinite;\n",
       "  }\n",
       "\n",
       "  @keyframes spin {\n",
       "    0% {\n",
       "      border-color: transparent;\n",
       "      border-bottom-color: var(--fill-color);\n",
       "      border-left-color: var(--fill-color);\n",
       "    }\n",
       "    20% {\n",
       "      border-color: transparent;\n",
       "      border-left-color: var(--fill-color);\n",
       "      border-top-color: var(--fill-color);\n",
       "    }\n",
       "    30% {\n",
       "      border-color: transparent;\n",
       "      border-left-color: var(--fill-color);\n",
       "      border-top-color: var(--fill-color);\n",
       "      border-right-color: var(--fill-color);\n",
       "    }\n",
       "    40% {\n",
       "      border-color: transparent;\n",
       "      border-right-color: var(--fill-color);\n",
       "      border-top-color: var(--fill-color);\n",
       "    }\n",
       "    60% {\n",
       "      border-color: transparent;\n",
       "      border-right-color: var(--fill-color);\n",
       "    }\n",
       "    80% {\n",
       "      border-color: transparent;\n",
       "      border-right-color: var(--fill-color);\n",
       "      border-bottom-color: var(--fill-color);\n",
       "    }\n",
       "    90% {\n",
       "      border-color: transparent;\n",
       "      border-bottom-color: var(--fill-color);\n",
       "    }\n",
       "  }\n",
       "</style>\n",
       "\n",
       "  <script>\n",
       "    async function quickchart(key) {\n",
       "      const quickchartButtonEl =\n",
       "        document.querySelector('#' + key + ' button');\n",
       "      quickchartButtonEl.disabled = true;  // To prevent multiple clicks.\n",
       "      quickchartButtonEl.classList.add('colab-df-spinner');\n",
       "      try {\n",
       "        const charts = await google.colab.kernel.invokeFunction(\n",
       "            'suggestCharts', [key], {});\n",
       "      } catch (error) {\n",
       "        console.error('Error during call to suggestCharts:', error);\n",
       "      }\n",
       "      quickchartButtonEl.classList.remove('colab-df-spinner');\n",
       "      quickchartButtonEl.classList.add('colab-df-quickchart-complete');\n",
       "    }\n",
       "    (() => {\n",
       "      let quickchartButtonEl =\n",
       "        document.querySelector('#df-ed5a8ec6-6294-4aa4-b2a3-36c2dafd61f6 button');\n",
       "      quickchartButtonEl.style.display =\n",
       "        google.colab.kernel.accessAllowed ? 'block' : 'none';\n",
       "    })();\n",
       "  </script>\n",
       "</div>\n",
       "\n",
       "    </div>\n",
       "  </div>\n"
      ],
      "text/plain": [
       "   product_id  user_id                user  rating\n",
       "0         190        1        karmakyun2nd       5\n",
       "1         190        2    tranquangvinh_vv       5\n",
       "2         190        3  nguyenquoctoan2005       5\n",
       "3         190        4      nguyenthuyhavi       5\n",
       "4         190        5        luonganh5595       5"
      ]
     },
     "execution_count": 7,
     "metadata": {},
     "output_type": "execute_result"
    }
   ],
   "source": [
    "df.head()"
   ]
  },
  {
   "cell_type": "code",
   "execution_count": 8,
   "metadata": {
    "executionInfo": {
     "elapsed": 33,
     "status": "ok",
     "timestamp": 1710404553504,
     "user": {
      "displayName": "Quốc Thái Phạm",
      "userId": "05056944187763502577"
     },
     "user_tz": -420
    },
    "id": "5ewunQXg7m3P"
   },
   "outputs": [],
   "source": [
    "n_ratings = len(df)\n",
    "n_movies = len(df['product_id'].unique())\n",
    "n_users = len(df['user_id'].unique())"
   ]
  },
  {
   "cell_type": "code",
   "execution_count": 9,
   "metadata": {
    "colab": {
     "base_uri": "https://localhost:8080/",
     "height": 69
    },
    "executionInfo": {
     "elapsed": 32,
     "status": "ok",
     "timestamp": 1710404553504,
     "user": {
      "displayName": "Quốc Thái Phạm",
      "userId": "05056944187763502577"
     },
     "user_tz": -420
    },
    "id": "sx71m3kK7sPi",
    "outputId": "7939365b-d7c6-4eff-c724-5d475833dda8"
   },
   "outputs": [
    {
     "data": {
      "text/plain": [
       "1024482"
      ]
     },
     "metadata": {},
     "output_type": "display_data"
    },
    {
     "data": {
      "text/plain": [
       "31267"
      ]
     },
     "metadata": {},
     "output_type": "display_data"
    },
    {
     "data": {
      "text/plain": [
       "650636"
      ]
     },
     "metadata": {},
     "output_type": "display_data"
    }
   ],
   "source": [
    "display(n_ratings, n_movies, n_users)"
   ]
  },
  {
   "cell_type": "code",
   "execution_count": 10,
   "metadata": {
    "colab": {
     "base_uri": "https://localhost:8080/"
    },
    "executionInfo": {
     "elapsed": 30,
     "status": "ok",
     "timestamp": 1710404553505,
     "user": {
      "displayName": "Quốc Thái Phạm",
      "userId": "05056944187763502577"
     },
     "user_tz": -420
    },
    "id": "Z794igWN1UFC",
    "outputId": "00b4e1d5-40fd-4f63-bc6b-bea26a4807a9"
   },
   "outputs": [
    {
     "data": {
      "text/plain": [
       "1731      412\n",
       "177       395\n",
       "231       391\n",
       "17194     389\n",
       "2359      387\n",
       "         ... \n",
       "121331      1\n",
       "121330      1\n",
       "121328      1\n",
       "121326      1\n",
       "26899       1\n",
       "Name: product_id, Length: 31267, dtype: int64"
      ]
     },
     "execution_count": 10,
     "metadata": {},
     "output_type": "execute_result"
    }
   ],
   "source": [
    "df['product_id'].value_counts()"
   ]
  },
  {
   "cell_type": "code",
   "execution_count": 11,
   "metadata": {
    "executionInfo": {
     "elapsed": 838,
     "status": "ok",
     "timestamp": 1710404554319,
     "user": {
      "displayName": "Quốc Thái Phạm",
      "userId": "05056944187763502577"
     },
     "user_tz": -420
    },
    "id": "K3luERvf2cGK"
   },
   "outputs": [],
   "source": [
    "# https://surprise.readthedocs.io/en/stable/reader.html\n",
    "reader = Reader()\n",
    "data = Dataset.load_from_df(df[['user_id', 'product_id', 'rating']], reader)"
   ]
  },
  {
   "cell_type": "code",
   "execution_count": 15,
   "metadata": {
    "colab": {
     "base_uri": "https://localhost:8080/"
    },
    "executionInfo": {
     "elapsed": 27518,
     "status": "ok",
     "timestamp": 1710404730633,
     "user": {
      "displayName": "Quốc Thái Phạm",
      "userId": "05056944187763502577"
     },
     "user_tz": -420
    },
    "id": "NQ6h7lLL9avn",
    "outputId": "9967bef8-8ddc-439c-ddb9-1c7b4650fe93"
   },
   "outputs": [
    {
     "name": "stdout",
     "output_type": "stream",
     "text": [
      "Item ID: 104 Estimated rating: 5\n",
      "Item ID: 153 Estimated rating: 5\n",
      "Item ID: 162 Estimated rating: 5\n",
      "Item ID: 1011 Estimated rating: 5\n",
      "Item ID: 1017 Estimated rating: 5\n",
      "Item ID: 1024 Estimated rating: 5\n",
      "Item ID: 1025 Estimated rating: 5\n",
      "Item ID: 1026 Estimated rating: 5\n",
      "Item ID: 1027 Estimated rating: 5\n",
      "Item ID: 1029 Estimated rating: 5\n"
     ]
    }
   ],
   "source": [
    "# Define similarity measure\n",
    "sim_options = {'name': 'cosine', 'user_based': True}\n",
    "\n",
    "# Split dataset into train and test sets\n",
    "trainset, testset = train_test_split(data, test_size=0.2)\n",
    "\n",
    "# Build and train model\n",
    "#model = KNNBasic(sim_options=sim_options)\n",
    "model = SVD()\n",
    "model.fit(trainset)\n",
    "\n",
    "# Make recommendations for a specific user (replace 'user_id' with the desired user ID)\n",
    "user_id = 1\n",
    "# Get items the user hasn't rated yet\n",
    "items_to_predict = [item_id for item_id in data.build_full_trainset().all_items() if item_id not in trainset.ur[trainset.to_inner_uid(user_id)]]\n",
    "# Predict ratings for the items\n",
    "predictions = [model.predict(user_id, item_id) for item_id in items_to_predict]\n",
    "# Sort predictions by estimated rating\n",
    "top_n = sorted(predictions, key=lambda x: x.est, reverse=True)[:10]\n",
    "\n",
    "# Print top recommendations\n",
    "for prediction in top_n:\n",
    "    print('Item ID:', prediction.iid, 'Estimated rating:', prediction.est)\n"
   ]
  },
  {
   "cell_type": "code",
   "execution_count": null,
   "metadata": {
    "executionInfo": {
     "elapsed": 33,
     "status": "aborted",
     "timestamp": 1710404580924,
     "user": {
      "displayName": "Quốc Thái Phạm",
      "userId": "05056944187763502577"
     },
     "user_tz": -420
    },
    "id": "mriR2a1O9ayc"
   },
   "outputs": [],
   "source": []
  },
  {
   "cell_type": "code",
   "execution_count": null,
   "metadata": {
    "executionInfo": {
     "elapsed": 34,
     "status": "aborted",
     "timestamp": 1710404580925,
     "user": {
      "displayName": "Quốc Thái Phạm",
      "userId": "05056944187763502577"
     },
     "user_tz": -420
    },
    "id": "wNH2BoPy9a2U"
   },
   "outputs": [],
   "source": []
  },
  {
   "cell_type": "code",
   "execution_count": 16,
   "metadata": {
    "colab": {
     "base_uri": "https://localhost:8080/"
    },
    "executionInfo": {
     "elapsed": 119539,
     "status": "ok",
     "timestamp": 1710404882588,
     "user": {
      "displayName": "Quốc Thái Phạm",
      "userId": "05056944187763502577"
     },
     "user_tz": -420
    },
    "id": "Y99JaeRn25JD",
    "outputId": "6dfd0055-00bb-4539-f6fb-bb73f7b75159"
   },
   "outputs": [
    {
     "name": "stdout",
     "output_type": "stream",
     "text": [
      "Evaluating RMSE, MAE of algorithm SVD on 5 split(s).\n",
      "\n",
      "                  Fold 1  Fold 2  Fold 3  Fold 4  Fold 5  Mean    Std     \n",
      "RMSE (testset)    0.8806  0.8797  0.8813  0.8786  0.8793  0.8799  0.0009  \n",
      "MAE (testset)     0.5598  0.5599  0.5593  0.5581  0.5574  0.5589  0.0010  \n",
      "Fit time          17.67   18.02   18.55   18.51   18.13   18.18   0.33    \n",
      "Test time         2.90    1.10    1.11    1.14    1.00    1.45    0.73    \n"
     ]
    }
   ],
   "source": [
    "# https://www.youtube.com/watch?v=8wLKuscyO9I\n",
    "# Singular value decomposition\n",
    "algorithm = SVD()\n",
    "#algorithm = KNNBasic()\n",
    "#Run 5-fold cross-validation and print results\n",
    "results = cross_validate(algorithm, data, measures=['RMSE', 'MAE'], cv=5, verbose=True)"
   ]
  },
  {
   "cell_type": "code",
   "execution_count": 17,
   "metadata": {
    "colab": {
     "base_uri": "https://localhost:8080/"
    },
    "executionInfo": {
     "elapsed": 36,
     "status": "ok",
     "timestamp": 1710404882591,
     "user": {
      "displayName": "Quốc Thái Phạm",
      "userId": "05056944187763502577"
     },
     "user_tz": -420
    },
    "id": "SA_bW3qlClpx",
    "outputId": "aeb154fd-ac68-49eb-8f67-8eb390852767"
   },
   "outputs": [
    {
     "data": {
      "text/plain": [
       "{'test_rmse': array([0.88056536, 0.87970535, 0.88126705, 0.87856147, 0.87928961]),\n",
       " 'test_mae': array([0.55978302, 0.55993771, 0.55932297, 0.55811778, 0.557388  ]),\n",
       " 'fit_time': (17.665936946868896,\n",
       "  18.02358317375183,\n",
       "  18.554624795913696,\n",
       "  18.50905179977417,\n",
       "  18.132914543151855),\n",
       " 'test_time': (2.8990285396575928,\n",
       "  1.0998523235321045,\n",
       "  1.1073429584503174,\n",
       "  1.1376926898956299,\n",
       "  0.999748945236206)}"
      ]
     },
     "execution_count": 17,
     "metadata": {},
     "output_type": "execute_result"
    }
   ],
   "source": [
    "results"
   ]
  },
  {
   "cell_type": "code",
   "execution_count": 18,
   "metadata": {
    "colab": {
     "base_uri": "https://localhost:8080/"
    },
    "executionInfo": {
     "elapsed": 19522,
     "status": "ok",
     "timestamp": 1710405710564,
     "user": {
      "displayName": "Quốc Thái Phạm",
      "userId": "05056944187763502577"
     },
     "user_tz": -420
    },
    "id": "Vwo4tKxK31zN",
    "outputId": "fc0dfa2b-a9ff-4254-f130-f641a4f59901"
   },
   "outputs": [
    {
     "data": {
      "text/plain": [
       "<surprise.prediction_algorithms.matrix_factorization.SVD at 0x7f28cbb0f880>"
      ]
     },
     "execution_count": 18,
     "metadata": {},
     "output_type": "execute_result"
    }
   ],
   "source": [
    "# If the results are OK => getting full dataset => fit model\n",
    "trainset = data.build_full_trainset()\n",
    "algorithm.fit(trainset)"
   ]
  },
  {
   "cell_type": "markdown",
   "metadata": {
    "id": "vidXLyjZEnue"
   },
   "source": [
    "### Recommender for a specific user"
   ]
  },
  {
   "cell_type": "code",
   "execution_count": 19,
   "metadata": {
    "colab": {
     "base_uri": "https://localhost:8080/",
     "height": 112
    },
    "executionInfo": {
     "elapsed": 51,
     "status": "ok",
     "timestamp": 1710405710565,
     "user": {
      "displayName": "Quốc Thái Phạm",
      "userId": "05056944187763502577"
     },
     "user_tz": -420
    },
    "id": "QglUdX3m2-Dr",
    "outputId": "21fa250d-1b34-40a5-9bb0-2a3a4956f136"
   },
   "outputs": [
    {
     "data": {
      "application/vnd.google.colaboratory.intrinsic+json": {
       "summary": "{\n  \"name\": \"df_select\",\n  \"rows\": 1,\n  \"fields\": [\n    {\n      \"column\": \"product_id\",\n      \"properties\": {\n        \"dtype\": \"number\",\n        \"std\": null,\n        \"min\": 190,\n        \"max\": 190,\n        \"num_unique_values\": 1,\n        \"samples\": [\n          190\n        ],\n        \"semantic_type\": \"\",\n        \"description\": \"\"\n      }\n    },\n    {\n      \"column\": \"user_id\",\n      \"properties\": {\n        \"dtype\": \"number\",\n        \"std\": null,\n        \"min\": 27,\n        \"max\": 27,\n        \"num_unique_values\": 1,\n        \"samples\": [\n          27\n        ],\n        \"semantic_type\": \"\",\n        \"description\": \"\"\n      }\n    },\n    {\n      \"column\": \"user\",\n      \"properties\": {\n        \"dtype\": \"string\",\n        \"num_unique_values\": 1,\n        \"samples\": [\n          \"huyen170691\"\n        ],\n        \"semantic_type\": \"\",\n        \"description\": \"\"\n      }\n    },\n    {\n      \"column\": \"rating\",\n      \"properties\": {\n        \"dtype\": \"number\",\n        \"std\": null,\n        \"min\": 5,\n        \"max\": 5,\n        \"num_unique_values\": 1,\n        \"samples\": [\n          5\n        ],\n        \"semantic_type\": \"\",\n        \"description\": \"\"\n      }\n    }\n  ]\n}",
       "type": "dataframe",
       "variable_name": "df_select"
      },
      "text/html": [
       "\n",
       "  <div id=\"df-1d91ee6e-a8f5-4978-8505-22c0f6b8b3b8\" class=\"colab-df-container\">\n",
       "    <div>\n",
       "<style scoped>\n",
       "    .dataframe tbody tr th:only-of-type {\n",
       "        vertical-align: middle;\n",
       "    }\n",
       "\n",
       "    .dataframe tbody tr th {\n",
       "        vertical-align: top;\n",
       "    }\n",
       "\n",
       "    .dataframe thead th {\n",
       "        text-align: right;\n",
       "    }\n",
       "</style>\n",
       "<table border=\"1\" class=\"dataframe\">\n",
       "  <thead>\n",
       "    <tr style=\"text-align: right;\">\n",
       "      <th></th>\n",
       "      <th>user_id</th>\n",
       "      <th>user</th>\n",
       "      <th>rating</th>\n",
       "    </tr>\n",
       "    <tr>\n",
       "      <th>product_id</th>\n",
       "      <th></th>\n",
       "      <th></th>\n",
       "      <th></th>\n",
       "    </tr>\n",
       "  </thead>\n",
       "  <tbody>\n",
       "    <tr>\n",
       "      <th>190</th>\n",
       "      <td>27</td>\n",
       "      <td>huyen170691</td>\n",
       "      <td>5</td>\n",
       "    </tr>\n",
       "  </tbody>\n",
       "</table>\n",
       "</div>\n",
       "    <div class=\"colab-df-buttons\">\n",
       "\n",
       "  <div class=\"colab-df-container\">\n",
       "    <button class=\"colab-df-convert\" onclick=\"convertToInteractive('df-1d91ee6e-a8f5-4978-8505-22c0f6b8b3b8')\"\n",
       "            title=\"Convert this dataframe to an interactive table.\"\n",
       "            style=\"display:none;\">\n",
       "\n",
       "  <svg xmlns=\"http://www.w3.org/2000/svg\" height=\"24px\" viewBox=\"0 -960 960 960\">\n",
       "    <path d=\"M120-120v-720h720v720H120Zm60-500h600v-160H180v160Zm220 220h160v-160H400v160Zm0 220h160v-160H400v160ZM180-400h160v-160H180v160Zm440 0h160v-160H620v160ZM180-180h160v-160H180v160Zm440 0h160v-160H620v160Z\"/>\n",
       "  </svg>\n",
       "    </button>\n",
       "\n",
       "  <style>\n",
       "    .colab-df-container {\n",
       "      display:flex;\n",
       "      gap: 12px;\n",
       "    }\n",
       "\n",
       "    .colab-df-convert {\n",
       "      background-color: #E8F0FE;\n",
       "      border: none;\n",
       "      border-radius: 50%;\n",
       "      cursor: pointer;\n",
       "      display: none;\n",
       "      fill: #1967D2;\n",
       "      height: 32px;\n",
       "      padding: 0 0 0 0;\n",
       "      width: 32px;\n",
       "    }\n",
       "\n",
       "    .colab-df-convert:hover {\n",
       "      background-color: #E2EBFA;\n",
       "      box-shadow: 0px 1px 2px rgba(60, 64, 67, 0.3), 0px 1px 3px 1px rgba(60, 64, 67, 0.15);\n",
       "      fill: #174EA6;\n",
       "    }\n",
       "\n",
       "    .colab-df-buttons div {\n",
       "      margin-bottom: 4px;\n",
       "    }\n",
       "\n",
       "    [theme=dark] .colab-df-convert {\n",
       "      background-color: #3B4455;\n",
       "      fill: #D2E3FC;\n",
       "    }\n",
       "\n",
       "    [theme=dark] .colab-df-convert:hover {\n",
       "      background-color: #434B5C;\n",
       "      box-shadow: 0px 1px 3px 1px rgba(0, 0, 0, 0.15);\n",
       "      filter: drop-shadow(0px 1px 2px rgba(0, 0, 0, 0.3));\n",
       "      fill: #FFFFFF;\n",
       "    }\n",
       "  </style>\n",
       "\n",
       "    <script>\n",
       "      const buttonEl =\n",
       "        document.querySelector('#df-1d91ee6e-a8f5-4978-8505-22c0f6b8b3b8 button.colab-df-convert');\n",
       "      buttonEl.style.display =\n",
       "        google.colab.kernel.accessAllowed ? 'block' : 'none';\n",
       "\n",
       "      async function convertToInteractive(key) {\n",
       "        const element = document.querySelector('#df-1d91ee6e-a8f5-4978-8505-22c0f6b8b3b8');\n",
       "        const dataTable =\n",
       "          await google.colab.kernel.invokeFunction('convertToInteractive',\n",
       "                                                    [key], {});\n",
       "        if (!dataTable) return;\n",
       "\n",
       "        const docLinkHtml = 'Like what you see? Visit the ' +\n",
       "          '<a target=\"_blank\" href=https://colab.research.google.com/notebooks/data_table.ipynb>data table notebook</a>'\n",
       "          + ' to learn more about interactive tables.';\n",
       "        element.innerHTML = '';\n",
       "        dataTable['output_type'] = 'display_data';\n",
       "        await google.colab.output.renderOutput(dataTable, element);\n",
       "        const docLink = document.createElement('div');\n",
       "        docLink.innerHTML = docLinkHtml;\n",
       "        element.appendChild(docLink);\n",
       "      }\n",
       "    </script>\n",
       "  </div>\n",
       "\n",
       "\n",
       "    </div>\n",
       "  </div>\n"
      ],
      "text/plain": [
       "            user_id         user  rating\n",
       "product_id                              \n",
       "190              27  huyen170691       5"
      ]
     },
     "execution_count": 19,
     "metadata": {},
     "output_type": "execute_result"
    }
   ],
   "source": [
    "# userId = 27 has seen some movies:\n",
    "userId = 27\n",
    "df_select = df[(df['user_id'] == userId) & (df['rating'] >=3)]\n",
    "df_select = df_select.set_index('product_id')\n",
    "#df_select = df_select.join(df_title)['Name']\n",
    "df_select.head(df_select.shape[0])"
   ]
  },
  {
   "cell_type": "code",
   "execution_count": 20,
   "metadata": {
    "colab": {
     "base_uri": "https://localhost:8080/"
    },
    "executionInfo": {
     "elapsed": 46,
     "status": "ok",
     "timestamp": 1710405710566,
     "user": {
      "displayName": "Quốc Thái Phạm",
      "userId": "05056944187763502577"
     },
     "user_tz": -420
    },
    "id": "G80-AoFV3Xbt",
    "outputId": "a6eca2c1-5eb6-44d3-ce4b-62045fccbec3"
   },
   "outputs": [
    {
     "data": {
      "text/plain": [
       "(1, 3)"
      ]
     },
     "execution_count": 20,
     "metadata": {},
     "output_type": "execute_result"
    }
   ],
   "source": [
    "df_select.shape"
   ]
  },
  {
   "cell_type": "code",
   "execution_count": 21,
   "metadata": {
    "executionInfo": {
     "elapsed": 40,
     "status": "ok",
     "timestamp": 1710405710568,
     "user": {
      "displayName": "Quốc Thái Phạm",
      "userId": "05056944187763502577"
     },
     "user_tz": -420
    },
    "id": "JiCTGcoP36Lp"
   },
   "outputs": [],
   "source": [
    "df_score = df[[\"product_id\"]]"
   ]
  },
  {
   "cell_type": "code",
   "execution_count": 22,
   "metadata": {
    "colab": {
     "base_uri": "https://localhost:8080/",
     "height": 424
    },
    "executionInfo": {
     "elapsed": 42,
     "status": "ok",
     "timestamp": 1710405710570,
     "user": {
      "displayName": "Quốc Thái Phạm",
      "userId": "05056944187763502577"
     },
     "user_tz": -420
    },
    "id": "8E2z4NUB4Qti",
    "outputId": "96fd830c-4934-4c63-dbf9-2a4f3a746c60"
   },
   "outputs": [
    {
     "data": {
      "application/vnd.google.colaboratory.intrinsic+json": {
       "type": "dataframe",
       "variable_name": "df_score"
      },
      "text/html": [
       "\n",
       "  <div id=\"df-8920e5ad-6948-425e-b3cf-8fc9174e8d29\" class=\"colab-df-container\">\n",
       "    <div>\n",
       "<style scoped>\n",
       "    .dataframe tbody tr th:only-of-type {\n",
       "        vertical-align: middle;\n",
       "    }\n",
       "\n",
       "    .dataframe tbody tr th {\n",
       "        vertical-align: top;\n",
       "    }\n",
       "\n",
       "    .dataframe thead th {\n",
       "        text-align: right;\n",
       "    }\n",
       "</style>\n",
       "<table border=\"1\" class=\"dataframe\">\n",
       "  <thead>\n",
       "    <tr style=\"text-align: right;\">\n",
       "      <th></th>\n",
       "      <th>product_id</th>\n",
       "    </tr>\n",
       "  </thead>\n",
       "  <tbody>\n",
       "    <tr>\n",
       "      <th>0</th>\n",
       "      <td>190</td>\n",
       "    </tr>\n",
       "    <tr>\n",
       "      <th>1</th>\n",
       "      <td>190</td>\n",
       "    </tr>\n",
       "    <tr>\n",
       "      <th>2</th>\n",
       "      <td>190</td>\n",
       "    </tr>\n",
       "    <tr>\n",
       "      <th>3</th>\n",
       "      <td>190</td>\n",
       "    </tr>\n",
       "    <tr>\n",
       "      <th>4</th>\n",
       "      <td>190</td>\n",
       "    </tr>\n",
       "    <tr>\n",
       "      <th>...</th>\n",
       "      <td>...</td>\n",
       "    </tr>\n",
       "    <tr>\n",
       "      <th>1024477</th>\n",
       "      <td>171107</td>\n",
       "    </tr>\n",
       "    <tr>\n",
       "      <th>1024478</th>\n",
       "      <td>171107</td>\n",
       "    </tr>\n",
       "    <tr>\n",
       "      <th>1024479</th>\n",
       "      <td>171107</td>\n",
       "    </tr>\n",
       "    <tr>\n",
       "      <th>1024480</th>\n",
       "      <td>171107</td>\n",
       "    </tr>\n",
       "    <tr>\n",
       "      <th>1024481</th>\n",
       "      <td>171107</td>\n",
       "    </tr>\n",
       "  </tbody>\n",
       "</table>\n",
       "<p>1024482 rows × 1 columns</p>\n",
       "</div>\n",
       "    <div class=\"colab-df-buttons\">\n",
       "\n",
       "  <div class=\"colab-df-container\">\n",
       "    <button class=\"colab-df-convert\" onclick=\"convertToInteractive('df-8920e5ad-6948-425e-b3cf-8fc9174e8d29')\"\n",
       "            title=\"Convert this dataframe to an interactive table.\"\n",
       "            style=\"display:none;\">\n",
       "\n",
       "  <svg xmlns=\"http://www.w3.org/2000/svg\" height=\"24px\" viewBox=\"0 -960 960 960\">\n",
       "    <path d=\"M120-120v-720h720v720H120Zm60-500h600v-160H180v160Zm220 220h160v-160H400v160Zm0 220h160v-160H400v160ZM180-400h160v-160H180v160Zm440 0h160v-160H620v160ZM180-180h160v-160H180v160Zm440 0h160v-160H620v160Z\"/>\n",
       "  </svg>\n",
       "    </button>\n",
       "\n",
       "  <style>\n",
       "    .colab-df-container {\n",
       "      display:flex;\n",
       "      gap: 12px;\n",
       "    }\n",
       "\n",
       "    .colab-df-convert {\n",
       "      background-color: #E8F0FE;\n",
       "      border: none;\n",
       "      border-radius: 50%;\n",
       "      cursor: pointer;\n",
       "      display: none;\n",
       "      fill: #1967D2;\n",
       "      height: 32px;\n",
       "      padding: 0 0 0 0;\n",
       "      width: 32px;\n",
       "    }\n",
       "\n",
       "    .colab-df-convert:hover {\n",
       "      background-color: #E2EBFA;\n",
       "      box-shadow: 0px 1px 2px rgba(60, 64, 67, 0.3), 0px 1px 3px 1px rgba(60, 64, 67, 0.15);\n",
       "      fill: #174EA6;\n",
       "    }\n",
       "\n",
       "    .colab-df-buttons div {\n",
       "      margin-bottom: 4px;\n",
       "    }\n",
       "\n",
       "    [theme=dark] .colab-df-convert {\n",
       "      background-color: #3B4455;\n",
       "      fill: #D2E3FC;\n",
       "    }\n",
       "\n",
       "    [theme=dark] .colab-df-convert:hover {\n",
       "      background-color: #434B5C;\n",
       "      box-shadow: 0px 1px 3px 1px rgba(0, 0, 0, 0.15);\n",
       "      filter: drop-shadow(0px 1px 2px rgba(0, 0, 0, 0.3));\n",
       "      fill: #FFFFFF;\n",
       "    }\n",
       "  </style>\n",
       "\n",
       "    <script>\n",
       "      const buttonEl =\n",
       "        document.querySelector('#df-8920e5ad-6948-425e-b3cf-8fc9174e8d29 button.colab-df-convert');\n",
       "      buttonEl.style.display =\n",
       "        google.colab.kernel.accessAllowed ? 'block' : 'none';\n",
       "\n",
       "      async function convertToInteractive(key) {\n",
       "        const element = document.querySelector('#df-8920e5ad-6948-425e-b3cf-8fc9174e8d29');\n",
       "        const dataTable =\n",
       "          await google.colab.kernel.invokeFunction('convertToInteractive',\n",
       "                                                    [key], {});\n",
       "        if (!dataTable) return;\n",
       "\n",
       "        const docLinkHtml = 'Like what you see? Visit the ' +\n",
       "          '<a target=\"_blank\" href=https://colab.research.google.com/notebooks/data_table.ipynb>data table notebook</a>'\n",
       "          + ' to learn more about interactive tables.';\n",
       "        element.innerHTML = '';\n",
       "        dataTable['output_type'] = 'display_data';\n",
       "        await google.colab.output.renderOutput(dataTable, element);\n",
       "        const docLink = document.createElement('div');\n",
       "        docLink.innerHTML = docLinkHtml;\n",
       "        element.appendChild(docLink);\n",
       "      }\n",
       "    </script>\n",
       "  </div>\n",
       "\n",
       "\n",
       "<div id=\"df-29f8c6a3-7b3a-4f67-9b70-7283c562c9e7\">\n",
       "  <button class=\"colab-df-quickchart\" onclick=\"quickchart('df-29f8c6a3-7b3a-4f67-9b70-7283c562c9e7')\"\n",
       "            title=\"Suggest charts\"\n",
       "            style=\"display:none;\">\n",
       "\n",
       "<svg xmlns=\"http://www.w3.org/2000/svg\" height=\"24px\"viewBox=\"0 0 24 24\"\n",
       "     width=\"24px\">\n",
       "    <g>\n",
       "        <path d=\"M19 3H5c-1.1 0-2 .9-2 2v14c0 1.1.9 2 2 2h14c1.1 0 2-.9 2-2V5c0-1.1-.9-2-2-2zM9 17H7v-7h2v7zm4 0h-2V7h2v10zm4 0h-2v-4h2v4z\"/>\n",
       "    </g>\n",
       "</svg>\n",
       "  </button>\n",
       "\n",
       "<style>\n",
       "  .colab-df-quickchart {\n",
       "      --bg-color: #E8F0FE;\n",
       "      --fill-color: #1967D2;\n",
       "      --hover-bg-color: #E2EBFA;\n",
       "      --hover-fill-color: #174EA6;\n",
       "      --disabled-fill-color: #AAA;\n",
       "      --disabled-bg-color: #DDD;\n",
       "  }\n",
       "\n",
       "  [theme=dark] .colab-df-quickchart {\n",
       "      --bg-color: #3B4455;\n",
       "      --fill-color: #D2E3FC;\n",
       "      --hover-bg-color: #434B5C;\n",
       "      --hover-fill-color: #FFFFFF;\n",
       "      --disabled-bg-color: #3B4455;\n",
       "      --disabled-fill-color: #666;\n",
       "  }\n",
       "\n",
       "  .colab-df-quickchart {\n",
       "    background-color: var(--bg-color);\n",
       "    border: none;\n",
       "    border-radius: 50%;\n",
       "    cursor: pointer;\n",
       "    display: none;\n",
       "    fill: var(--fill-color);\n",
       "    height: 32px;\n",
       "    padding: 0;\n",
       "    width: 32px;\n",
       "  }\n",
       "\n",
       "  .colab-df-quickchart:hover {\n",
       "    background-color: var(--hover-bg-color);\n",
       "    box-shadow: 0 1px 2px rgba(60, 64, 67, 0.3), 0 1px 3px 1px rgba(60, 64, 67, 0.15);\n",
       "    fill: var(--button-hover-fill-color);\n",
       "  }\n",
       "\n",
       "  .colab-df-quickchart-complete:disabled,\n",
       "  .colab-df-quickchart-complete:disabled:hover {\n",
       "    background-color: var(--disabled-bg-color);\n",
       "    fill: var(--disabled-fill-color);\n",
       "    box-shadow: none;\n",
       "  }\n",
       "\n",
       "  .colab-df-spinner {\n",
       "    border: 2px solid var(--fill-color);\n",
       "    border-color: transparent;\n",
       "    border-bottom-color: var(--fill-color);\n",
       "    animation:\n",
       "      spin 1s steps(1) infinite;\n",
       "  }\n",
       "\n",
       "  @keyframes spin {\n",
       "    0% {\n",
       "      border-color: transparent;\n",
       "      border-bottom-color: var(--fill-color);\n",
       "      border-left-color: var(--fill-color);\n",
       "    }\n",
       "    20% {\n",
       "      border-color: transparent;\n",
       "      border-left-color: var(--fill-color);\n",
       "      border-top-color: var(--fill-color);\n",
       "    }\n",
       "    30% {\n",
       "      border-color: transparent;\n",
       "      border-left-color: var(--fill-color);\n",
       "      border-top-color: var(--fill-color);\n",
       "      border-right-color: var(--fill-color);\n",
       "    }\n",
       "    40% {\n",
       "      border-color: transparent;\n",
       "      border-right-color: var(--fill-color);\n",
       "      border-top-color: var(--fill-color);\n",
       "    }\n",
       "    60% {\n",
       "      border-color: transparent;\n",
       "      border-right-color: var(--fill-color);\n",
       "    }\n",
       "    80% {\n",
       "      border-color: transparent;\n",
       "      border-right-color: var(--fill-color);\n",
       "      border-bottom-color: var(--fill-color);\n",
       "    }\n",
       "    90% {\n",
       "      border-color: transparent;\n",
       "      border-bottom-color: var(--fill-color);\n",
       "    }\n",
       "  }\n",
       "</style>\n",
       "\n",
       "  <script>\n",
       "    async function quickchart(key) {\n",
       "      const quickchartButtonEl =\n",
       "        document.querySelector('#' + key + ' button');\n",
       "      quickchartButtonEl.disabled = true;  // To prevent multiple clicks.\n",
       "      quickchartButtonEl.classList.add('colab-df-spinner');\n",
       "      try {\n",
       "        const charts = await google.colab.kernel.invokeFunction(\n",
       "            'suggestCharts', [key], {});\n",
       "      } catch (error) {\n",
       "        console.error('Error during call to suggestCharts:', error);\n",
       "      }\n",
       "      quickchartButtonEl.classList.remove('colab-df-spinner');\n",
       "      quickchartButtonEl.classList.add('colab-df-quickchart-complete');\n",
       "    }\n",
       "    (() => {\n",
       "      let quickchartButtonEl =\n",
       "        document.querySelector('#df-29f8c6a3-7b3a-4f67-9b70-7283c562c9e7 button');\n",
       "      quickchartButtonEl.style.display =\n",
       "        google.colab.kernel.accessAllowed ? 'block' : 'none';\n",
       "    })();\n",
       "  </script>\n",
       "</div>\n",
       "\n",
       "  <div id=\"id_92d0cc3e-6db4-4145-8e5b-070d5570df32\">\n",
       "    <style>\n",
       "      .colab-df-generate {\n",
       "        background-color: #E8F0FE;\n",
       "        border: none;\n",
       "        border-radius: 50%;\n",
       "        cursor: pointer;\n",
       "        display: none;\n",
       "        fill: #1967D2;\n",
       "        height: 32px;\n",
       "        padding: 0 0 0 0;\n",
       "        width: 32px;\n",
       "      }\n",
       "\n",
       "      .colab-df-generate:hover {\n",
       "        background-color: #E2EBFA;\n",
       "        box-shadow: 0px 1px 2px rgba(60, 64, 67, 0.3), 0px 1px 3px 1px rgba(60, 64, 67, 0.15);\n",
       "        fill: #174EA6;\n",
       "      }\n",
       "\n",
       "      [theme=dark] .colab-df-generate {\n",
       "        background-color: #3B4455;\n",
       "        fill: #D2E3FC;\n",
       "      }\n",
       "\n",
       "      [theme=dark] .colab-df-generate:hover {\n",
       "        background-color: #434B5C;\n",
       "        box-shadow: 0px 1px 3px 1px rgba(0, 0, 0, 0.15);\n",
       "        filter: drop-shadow(0px 1px 2px rgba(0, 0, 0, 0.3));\n",
       "        fill: #FFFFFF;\n",
       "      }\n",
       "    </style>\n",
       "    <button class=\"colab-df-generate\" onclick=\"generateWithVariable('df_score')\"\n",
       "            title=\"Generate code using this dataframe.\"\n",
       "            style=\"display:none;\">\n",
       "\n",
       "  <svg xmlns=\"http://www.w3.org/2000/svg\" height=\"24px\"viewBox=\"0 0 24 24\"\n",
       "       width=\"24px\">\n",
       "    <path d=\"M7,19H8.4L18.45,9,17,7.55,7,17.6ZM5,21V16.75L18.45,3.32a2,2,0,0,1,2.83,0l1.4,1.43a1.91,1.91,0,0,1,.58,1.4,1.91,1.91,0,0,1-.58,1.4L9.25,21ZM18.45,9,17,7.55Zm-12,3A5.31,5.31,0,0,0,4.9,8.1,5.31,5.31,0,0,0,1,6.5,5.31,5.31,0,0,0,4.9,4.9,5.31,5.31,0,0,0,6.5,1,5.31,5.31,0,0,0,8.1,4.9,5.31,5.31,0,0,0,12,6.5,5.46,5.46,0,0,0,6.5,12Z\"/>\n",
       "  </svg>\n",
       "    </button>\n",
       "    <script>\n",
       "      (() => {\n",
       "      const buttonEl =\n",
       "        document.querySelector('#id_92d0cc3e-6db4-4145-8e5b-070d5570df32 button.colab-df-generate');\n",
       "      buttonEl.style.display =\n",
       "        google.colab.kernel.accessAllowed ? 'block' : 'none';\n",
       "\n",
       "      buttonEl.onclick = () => {\n",
       "        google.colab.notebook.generateWithVariable('df_score');\n",
       "      }\n",
       "      })();\n",
       "    </script>\n",
       "  </div>\n",
       "\n",
       "    </div>\n",
       "  </div>\n"
      ],
      "text/plain": [
       "         product_id\n",
       "0               190\n",
       "1               190\n",
       "2               190\n",
       "3               190\n",
       "4               190\n",
       "...             ...\n",
       "1024477      171107\n",
       "1024478      171107\n",
       "1024479      171107\n",
       "1024480      171107\n",
       "1024481      171107\n",
       "\n",
       "[1024482 rows x 1 columns]"
      ]
     },
     "execution_count": 22,
     "metadata": {},
     "output_type": "execute_result"
    }
   ],
   "source": [
    "df_score"
   ]
  },
  {
   "cell_type": "markdown",
   "metadata": {
    "id": "x5Gt4rAX6WO2"
   },
   "source": [
    "- Once the model has been evaluated to our satisfaction, then we can re-train the model using the entire training dataset"
   ]
  },
  {
   "cell_type": "code",
   "execution_count": 23,
   "metadata": {
    "colab": {
     "base_uri": "https://localhost:8080/"
    },
    "executionInfo": {
     "elapsed": 4458,
     "status": "ok",
     "timestamp": 1710405874118,
     "user": {
      "displayName": "Quốc Thái Phạm",
      "userId": "05056944187763502577"
     },
     "user_tz": -420
    },
    "id": "_DA1phU34ShZ",
    "outputId": "99a007ea-fc38-4305-f6ff-d8ed56f3f1d0"
   },
   "outputs": [
    {
     "name": "stderr",
     "output_type": "stream",
     "text": [
      "<ipython-input-23-aed8c273f3bd>:5: SettingWithCopyWarning: \n",
      "A value is trying to be set on a copy of a slice from a DataFrame.\n",
      "Try using .loc[row_indexer,col_indexer] = value instead\n",
      "\n",
      "See the caveats in the documentation: https://pandas.pydata.org/pandas-docs/stable/user_guide/indexing.html#returning-a-view-versus-a-copy\n",
      "  df_score['EstimateScore'] = df_score['product_id'].apply(lambda x: algorithm.predict(userId, x).est) # est: get EstimateScore\n"
     ]
    }
   ],
   "source": [
    "# The following are the top 5 movies to be recommended to the user with userId\n",
    "# To recommend products (i.e., movies) to the given user,\n",
    "# we can sort the list of movies in decreasing order of predicted ratings\n",
    "# and take the top N movies as recommendations:\n",
    "df_score['EstimateScore'] = df_score['product_id'].apply(lambda x: algorithm.predict(userId, x).est) # est: get EstimateScore\n",
    "df_score = df_score.sort_values(by=['EstimateScore'], ascending=False)"
   ]
  },
  {
   "cell_type": "code",
   "execution_count": 24,
   "metadata": {
    "executionInfo": {
     "elapsed": 317,
     "status": "ok",
     "timestamp": 1710405880303,
     "user": {
      "displayName": "Quốc Thái Phạm",
      "userId": "05056944187763502577"
     },
     "user_tz": -420
    },
    "id": "eXVculve4vDx"
   },
   "outputs": [],
   "source": [
    "df_score = df_score.drop_duplicates()"
   ]
  },
  {
   "cell_type": "code",
   "execution_count": 25,
   "metadata": {
    "colab": {
     "base_uri": "https://localhost:8080/",
     "height": 206
    },
    "executionInfo": {
     "elapsed": 13,
     "status": "ok",
     "timestamp": 1710405881695,
     "user": {
      "displayName": "Quốc Thái Phạm",
      "userId": "05056944187763502577"
     },
     "user_tz": -420
    },
    "id": "BRW8MWy75Cz6",
    "outputId": "ab1bdb73-bdfc-4c5c-eac0-fd0176628b5a"
   },
   "outputs": [
    {
     "data": {
      "application/vnd.google.colaboratory.intrinsic+json": {
       "summary": "{\n  \"name\": \"df_score\",\n  \"rows\": 31267,\n  \"fields\": [\n    {\n      \"column\": \"product_id\",\n      \"properties\": {\n        \"dtype\": \"number\",\n        \"std\": 88155,\n        \"min\": 100,\n        \"max\": 261469,\n        \"num_unique_values\": 31267,\n        \"samples\": [\n          231443,\n          174370,\n          12861\n        ],\n        \"semantic_type\": \"\",\n        \"description\": \"\"\n      }\n    },\n    {\n      \"column\": \"EstimateScore\",\n      \"properties\": {\n        \"dtype\": \"number\",\n        \"std\": 0.27840851473914774,\n        \"min\": 2.1480267361610914,\n        \"max\": 5.0,\n        \"num_unique_values\": 26775,\n        \"samples\": [\n          4.85252739095119,\n          4.706543870465322,\n          4.666453826815384\n        ],\n        \"semantic_type\": \"\",\n        \"description\": \"\"\n      }\n    }\n  ]\n}",
       "type": "dataframe",
       "variable_name": "df_score"
      },
      "text/html": [
       "\n",
       "  <div id=\"df-995bcb9a-714f-4d3c-8dc5-49d93c8fe626\" class=\"colab-df-container\">\n",
       "    <div>\n",
       "<style scoped>\n",
       "    .dataframe tbody tr th:only-of-type {\n",
       "        vertical-align: middle;\n",
       "    }\n",
       "\n",
       "    .dataframe tbody tr th {\n",
       "        vertical-align: top;\n",
       "    }\n",
       "\n",
       "    .dataframe thead th {\n",
       "        text-align: right;\n",
       "    }\n",
       "</style>\n",
       "<table border=\"1\" class=\"dataframe\">\n",
       "  <thead>\n",
       "    <tr style=\"text-align: right;\">\n",
       "      <th></th>\n",
       "      <th>product_id</th>\n",
       "      <th>EstimateScore</th>\n",
       "    </tr>\n",
       "  </thead>\n",
       "  <tbody>\n",
       "    <tr>\n",
       "      <th>644305</th>\n",
       "      <td>12379</td>\n",
       "      <td>5.0</td>\n",
       "    </tr>\n",
       "    <tr>\n",
       "      <th>530065</th>\n",
       "      <td>25237</td>\n",
       "      <td>5.0</td>\n",
       "    </tr>\n",
       "    <tr>\n",
       "      <th>529897</th>\n",
       "      <td>25235</td>\n",
       "      <td>5.0</td>\n",
       "    </tr>\n",
       "    <tr>\n",
       "      <th>321681</th>\n",
       "      <td>231176</td>\n",
       "      <td>5.0</td>\n",
       "    </tr>\n",
       "    <tr>\n",
       "      <th>125054</th>\n",
       "      <td>21775</td>\n",
       "      <td>5.0</td>\n",
       "    </tr>\n",
       "  </tbody>\n",
       "</table>\n",
       "</div>\n",
       "    <div class=\"colab-df-buttons\">\n",
       "\n",
       "  <div class=\"colab-df-container\">\n",
       "    <button class=\"colab-df-convert\" onclick=\"convertToInteractive('df-995bcb9a-714f-4d3c-8dc5-49d93c8fe626')\"\n",
       "            title=\"Convert this dataframe to an interactive table.\"\n",
       "            style=\"display:none;\">\n",
       "\n",
       "  <svg xmlns=\"http://www.w3.org/2000/svg\" height=\"24px\" viewBox=\"0 -960 960 960\">\n",
       "    <path d=\"M120-120v-720h720v720H120Zm60-500h600v-160H180v160Zm220 220h160v-160H400v160Zm0 220h160v-160H400v160ZM180-400h160v-160H180v160Zm440 0h160v-160H620v160ZM180-180h160v-160H180v160Zm440 0h160v-160H620v160Z\"/>\n",
       "  </svg>\n",
       "    </button>\n",
       "\n",
       "  <style>\n",
       "    .colab-df-container {\n",
       "      display:flex;\n",
       "      gap: 12px;\n",
       "    }\n",
       "\n",
       "    .colab-df-convert {\n",
       "      background-color: #E8F0FE;\n",
       "      border: none;\n",
       "      border-radius: 50%;\n",
       "      cursor: pointer;\n",
       "      display: none;\n",
       "      fill: #1967D2;\n",
       "      height: 32px;\n",
       "      padding: 0 0 0 0;\n",
       "      width: 32px;\n",
       "    }\n",
       "\n",
       "    .colab-df-convert:hover {\n",
       "      background-color: #E2EBFA;\n",
       "      box-shadow: 0px 1px 2px rgba(60, 64, 67, 0.3), 0px 1px 3px 1px rgba(60, 64, 67, 0.15);\n",
       "      fill: #174EA6;\n",
       "    }\n",
       "\n",
       "    .colab-df-buttons div {\n",
       "      margin-bottom: 4px;\n",
       "    }\n",
       "\n",
       "    [theme=dark] .colab-df-convert {\n",
       "      background-color: #3B4455;\n",
       "      fill: #D2E3FC;\n",
       "    }\n",
       "\n",
       "    [theme=dark] .colab-df-convert:hover {\n",
       "      background-color: #434B5C;\n",
       "      box-shadow: 0px 1px 3px 1px rgba(0, 0, 0, 0.15);\n",
       "      filter: drop-shadow(0px 1px 2px rgba(0, 0, 0, 0.3));\n",
       "      fill: #FFFFFF;\n",
       "    }\n",
       "  </style>\n",
       "\n",
       "    <script>\n",
       "      const buttonEl =\n",
       "        document.querySelector('#df-995bcb9a-714f-4d3c-8dc5-49d93c8fe626 button.colab-df-convert');\n",
       "      buttonEl.style.display =\n",
       "        google.colab.kernel.accessAllowed ? 'block' : 'none';\n",
       "\n",
       "      async function convertToInteractive(key) {\n",
       "        const element = document.querySelector('#df-995bcb9a-714f-4d3c-8dc5-49d93c8fe626');\n",
       "        const dataTable =\n",
       "          await google.colab.kernel.invokeFunction('convertToInteractive',\n",
       "                                                    [key], {});\n",
       "        if (!dataTable) return;\n",
       "\n",
       "        const docLinkHtml = 'Like what you see? Visit the ' +\n",
       "          '<a target=\"_blank\" href=https://colab.research.google.com/notebooks/data_table.ipynb>data table notebook</a>'\n",
       "          + ' to learn more about interactive tables.';\n",
       "        element.innerHTML = '';\n",
       "        dataTable['output_type'] = 'display_data';\n",
       "        await google.colab.output.renderOutput(dataTable, element);\n",
       "        const docLink = document.createElement('div');\n",
       "        docLink.innerHTML = docLinkHtml;\n",
       "        element.appendChild(docLink);\n",
       "      }\n",
       "    </script>\n",
       "  </div>\n",
       "\n",
       "\n",
       "<div id=\"df-9414c038-a257-48cf-bb30-04b03ad0320f\">\n",
       "  <button class=\"colab-df-quickchart\" onclick=\"quickchart('df-9414c038-a257-48cf-bb30-04b03ad0320f')\"\n",
       "            title=\"Suggest charts\"\n",
       "            style=\"display:none;\">\n",
       "\n",
       "<svg xmlns=\"http://www.w3.org/2000/svg\" height=\"24px\"viewBox=\"0 0 24 24\"\n",
       "     width=\"24px\">\n",
       "    <g>\n",
       "        <path d=\"M19 3H5c-1.1 0-2 .9-2 2v14c0 1.1.9 2 2 2h14c1.1 0 2-.9 2-2V5c0-1.1-.9-2-2-2zM9 17H7v-7h2v7zm4 0h-2V7h2v10zm4 0h-2v-4h2v4z\"/>\n",
       "    </g>\n",
       "</svg>\n",
       "  </button>\n",
       "\n",
       "<style>\n",
       "  .colab-df-quickchart {\n",
       "      --bg-color: #E8F0FE;\n",
       "      --fill-color: #1967D2;\n",
       "      --hover-bg-color: #E2EBFA;\n",
       "      --hover-fill-color: #174EA6;\n",
       "      --disabled-fill-color: #AAA;\n",
       "      --disabled-bg-color: #DDD;\n",
       "  }\n",
       "\n",
       "  [theme=dark] .colab-df-quickchart {\n",
       "      --bg-color: #3B4455;\n",
       "      --fill-color: #D2E3FC;\n",
       "      --hover-bg-color: #434B5C;\n",
       "      --hover-fill-color: #FFFFFF;\n",
       "      --disabled-bg-color: #3B4455;\n",
       "      --disabled-fill-color: #666;\n",
       "  }\n",
       "\n",
       "  .colab-df-quickchart {\n",
       "    background-color: var(--bg-color);\n",
       "    border: none;\n",
       "    border-radius: 50%;\n",
       "    cursor: pointer;\n",
       "    display: none;\n",
       "    fill: var(--fill-color);\n",
       "    height: 32px;\n",
       "    padding: 0;\n",
       "    width: 32px;\n",
       "  }\n",
       "\n",
       "  .colab-df-quickchart:hover {\n",
       "    background-color: var(--hover-bg-color);\n",
       "    box-shadow: 0 1px 2px rgba(60, 64, 67, 0.3), 0 1px 3px 1px rgba(60, 64, 67, 0.15);\n",
       "    fill: var(--button-hover-fill-color);\n",
       "  }\n",
       "\n",
       "  .colab-df-quickchart-complete:disabled,\n",
       "  .colab-df-quickchart-complete:disabled:hover {\n",
       "    background-color: var(--disabled-bg-color);\n",
       "    fill: var(--disabled-fill-color);\n",
       "    box-shadow: none;\n",
       "  }\n",
       "\n",
       "  .colab-df-spinner {\n",
       "    border: 2px solid var(--fill-color);\n",
       "    border-color: transparent;\n",
       "    border-bottom-color: var(--fill-color);\n",
       "    animation:\n",
       "      spin 1s steps(1) infinite;\n",
       "  }\n",
       "\n",
       "  @keyframes spin {\n",
       "    0% {\n",
       "      border-color: transparent;\n",
       "      border-bottom-color: var(--fill-color);\n",
       "      border-left-color: var(--fill-color);\n",
       "    }\n",
       "    20% {\n",
       "      border-color: transparent;\n",
       "      border-left-color: var(--fill-color);\n",
       "      border-top-color: var(--fill-color);\n",
       "    }\n",
       "    30% {\n",
       "      border-color: transparent;\n",
       "      border-left-color: var(--fill-color);\n",
       "      border-top-color: var(--fill-color);\n",
       "      border-right-color: var(--fill-color);\n",
       "    }\n",
       "    40% {\n",
       "      border-color: transparent;\n",
       "      border-right-color: var(--fill-color);\n",
       "      border-top-color: var(--fill-color);\n",
       "    }\n",
       "    60% {\n",
       "      border-color: transparent;\n",
       "      border-right-color: var(--fill-color);\n",
       "    }\n",
       "    80% {\n",
       "      border-color: transparent;\n",
       "      border-right-color: var(--fill-color);\n",
       "      border-bottom-color: var(--fill-color);\n",
       "    }\n",
       "    90% {\n",
       "      border-color: transparent;\n",
       "      border-bottom-color: var(--fill-color);\n",
       "    }\n",
       "  }\n",
       "</style>\n",
       "\n",
       "  <script>\n",
       "    async function quickchart(key) {\n",
       "      const quickchartButtonEl =\n",
       "        document.querySelector('#' + key + ' button');\n",
       "      quickchartButtonEl.disabled = true;  // To prevent multiple clicks.\n",
       "      quickchartButtonEl.classList.add('colab-df-spinner');\n",
       "      try {\n",
       "        const charts = await google.colab.kernel.invokeFunction(\n",
       "            'suggestCharts', [key], {});\n",
       "      } catch (error) {\n",
       "        console.error('Error during call to suggestCharts:', error);\n",
       "      }\n",
       "      quickchartButtonEl.classList.remove('colab-df-spinner');\n",
       "      quickchartButtonEl.classList.add('colab-df-quickchart-complete');\n",
       "    }\n",
       "    (() => {\n",
       "      let quickchartButtonEl =\n",
       "        document.querySelector('#df-9414c038-a257-48cf-bb30-04b03ad0320f button');\n",
       "      quickchartButtonEl.style.display =\n",
       "        google.colab.kernel.accessAllowed ? 'block' : 'none';\n",
       "    })();\n",
       "  </script>\n",
       "</div>\n",
       "\n",
       "    </div>\n",
       "  </div>\n"
      ],
      "text/plain": [
       "        product_id  EstimateScore\n",
       "644305       12379            5.0\n",
       "530065       25237            5.0\n",
       "529897       25235            5.0\n",
       "321681      231176            5.0\n",
       "125054       21775            5.0"
      ]
     },
     "execution_count": 25,
     "metadata": {},
     "output_type": "execute_result"
    }
   ],
   "source": [
    "df_score.head()"
   ]
  },
  {
   "cell_type": "code",
   "execution_count": 26,
   "metadata": {
    "colab": {
     "base_uri": "https://localhost:8080/",
     "height": 424
    },
    "executionInfo": {
     "elapsed": 350,
     "status": "ok",
     "timestamp": 1710405887116,
     "user": {
      "displayName": "Quốc Thái Phạm",
      "userId": "05056944187763502577"
     },
     "user_tz": -420
    },
    "id": "FQXBHuZmdhGy",
    "outputId": "d0113f91-d3c4-4634-e670-86c5816258b6"
   },
   "outputs": [
    {
     "data": {
      "application/vnd.google.colaboratory.intrinsic+json": {
       "summary": "{\n  \"name\": \"df_score[df_score\",\n  \"rows\": 31211,\n  \"fields\": [\n    {\n      \"column\": \"product_id\",\n      \"properties\": {\n        \"dtype\": \"number\",\n        \"std\": 88147,\n        \"min\": 100,\n        \"max\": 261469,\n        \"num_unique_values\": 31211,\n        \"samples\": [\n          232650,\n          231520,\n          1147\n        ],\n        \"semantic_type\": \"\",\n        \"description\": \"\"\n      }\n    },\n    {\n      \"column\": \"EstimateScore\",\n      \"properties\": {\n        \"dtype\": \"number\",\n        \"std\": 0.26543945644795136,\n        \"min\": 3.0047173658743813,\n        \"max\": 5.0,\n        \"num_unique_values\": 26719,\n        \"samples\": [\n          4.679773283641127,\n          4.915285293592559,\n          4.7015538643378845\n        ],\n        \"semantic_type\": \"\",\n        \"description\": \"\"\n      }\n    }\n  ]\n}",
       "type": "dataframe"
      },
      "text/html": [
       "\n",
       "  <div id=\"df-e4c6fd5d-c487-4b82-b238-88a64c3820ee\" class=\"colab-df-container\">\n",
       "    <div>\n",
       "<style scoped>\n",
       "    .dataframe tbody tr th:only-of-type {\n",
       "        vertical-align: middle;\n",
       "    }\n",
       "\n",
       "    .dataframe tbody tr th {\n",
       "        vertical-align: top;\n",
       "    }\n",
       "\n",
       "    .dataframe thead th {\n",
       "        text-align: right;\n",
       "    }\n",
       "</style>\n",
       "<table border=\"1\" class=\"dataframe\">\n",
       "  <thead>\n",
       "    <tr style=\"text-align: right;\">\n",
       "      <th></th>\n",
       "      <th>product_id</th>\n",
       "      <th>EstimateScore</th>\n",
       "    </tr>\n",
       "  </thead>\n",
       "  <tbody>\n",
       "    <tr>\n",
       "      <th>644305</th>\n",
       "      <td>12379</td>\n",
       "      <td>5.000000</td>\n",
       "    </tr>\n",
       "    <tr>\n",
       "      <th>530065</th>\n",
       "      <td>25237</td>\n",
       "      <td>5.000000</td>\n",
       "    </tr>\n",
       "    <tr>\n",
       "      <th>529897</th>\n",
       "      <td>25235</td>\n",
       "      <td>5.000000</td>\n",
       "    </tr>\n",
       "    <tr>\n",
       "      <th>321681</th>\n",
       "      <td>231176</td>\n",
       "      <td>5.000000</td>\n",
       "    </tr>\n",
       "    <tr>\n",
       "      <th>125054</th>\n",
       "      <td>21775</td>\n",
       "      <td>5.000000</td>\n",
       "    </tr>\n",
       "    <tr>\n",
       "      <th>...</th>\n",
       "      <td>...</td>\n",
       "      <td>...</td>\n",
       "    </tr>\n",
       "    <tr>\n",
       "      <th>295522</th>\n",
       "      <td>2359</td>\n",
       "      <td>3.030350</td>\n",
       "    </tr>\n",
       "    <tr>\n",
       "      <th>219923</th>\n",
       "      <td>18318</td>\n",
       "      <td>3.028572</td>\n",
       "    </tr>\n",
       "    <tr>\n",
       "      <th>78073</th>\n",
       "      <td>2181</td>\n",
       "      <td>3.018304</td>\n",
       "    </tr>\n",
       "    <tr>\n",
       "      <th>266471</th>\n",
       "      <td>18943</td>\n",
       "      <td>3.005924</td>\n",
       "    </tr>\n",
       "    <tr>\n",
       "      <th>113564</th>\n",
       "      <td>21531</td>\n",
       "      <td>3.004717</td>\n",
       "    </tr>\n",
       "  </tbody>\n",
       "</table>\n",
       "<p>31211 rows × 2 columns</p>\n",
       "</div>\n",
       "    <div class=\"colab-df-buttons\">\n",
       "\n",
       "  <div class=\"colab-df-container\">\n",
       "    <button class=\"colab-df-convert\" onclick=\"convertToInteractive('df-e4c6fd5d-c487-4b82-b238-88a64c3820ee')\"\n",
       "            title=\"Convert this dataframe to an interactive table.\"\n",
       "            style=\"display:none;\">\n",
       "\n",
       "  <svg xmlns=\"http://www.w3.org/2000/svg\" height=\"24px\" viewBox=\"0 -960 960 960\">\n",
       "    <path d=\"M120-120v-720h720v720H120Zm60-500h600v-160H180v160Zm220 220h160v-160H400v160Zm0 220h160v-160H400v160ZM180-400h160v-160H180v160Zm440 0h160v-160H620v160ZM180-180h160v-160H180v160Zm440 0h160v-160H620v160Z\"/>\n",
       "  </svg>\n",
       "    </button>\n",
       "\n",
       "  <style>\n",
       "    .colab-df-container {\n",
       "      display:flex;\n",
       "      gap: 12px;\n",
       "    }\n",
       "\n",
       "    .colab-df-convert {\n",
       "      background-color: #E8F0FE;\n",
       "      border: none;\n",
       "      border-radius: 50%;\n",
       "      cursor: pointer;\n",
       "      display: none;\n",
       "      fill: #1967D2;\n",
       "      height: 32px;\n",
       "      padding: 0 0 0 0;\n",
       "      width: 32px;\n",
       "    }\n",
       "\n",
       "    .colab-df-convert:hover {\n",
       "      background-color: #E2EBFA;\n",
       "      box-shadow: 0px 1px 2px rgba(60, 64, 67, 0.3), 0px 1px 3px 1px rgba(60, 64, 67, 0.15);\n",
       "      fill: #174EA6;\n",
       "    }\n",
       "\n",
       "    .colab-df-buttons div {\n",
       "      margin-bottom: 4px;\n",
       "    }\n",
       "\n",
       "    [theme=dark] .colab-df-convert {\n",
       "      background-color: #3B4455;\n",
       "      fill: #D2E3FC;\n",
       "    }\n",
       "\n",
       "    [theme=dark] .colab-df-convert:hover {\n",
       "      background-color: #434B5C;\n",
       "      box-shadow: 0px 1px 3px 1px rgba(0, 0, 0, 0.15);\n",
       "      filter: drop-shadow(0px 1px 2px rgba(0, 0, 0, 0.3));\n",
       "      fill: #FFFFFF;\n",
       "    }\n",
       "  </style>\n",
       "\n",
       "    <script>\n",
       "      const buttonEl =\n",
       "        document.querySelector('#df-e4c6fd5d-c487-4b82-b238-88a64c3820ee button.colab-df-convert');\n",
       "      buttonEl.style.display =\n",
       "        google.colab.kernel.accessAllowed ? 'block' : 'none';\n",
       "\n",
       "      async function convertToInteractive(key) {\n",
       "        const element = document.querySelector('#df-e4c6fd5d-c487-4b82-b238-88a64c3820ee');\n",
       "        const dataTable =\n",
       "          await google.colab.kernel.invokeFunction('convertToInteractive',\n",
       "                                                    [key], {});\n",
       "        if (!dataTable) return;\n",
       "\n",
       "        const docLinkHtml = 'Like what you see? Visit the ' +\n",
       "          '<a target=\"_blank\" href=https://colab.research.google.com/notebooks/data_table.ipynb>data table notebook</a>'\n",
       "          + ' to learn more about interactive tables.';\n",
       "        element.innerHTML = '';\n",
       "        dataTable['output_type'] = 'display_data';\n",
       "        await google.colab.output.renderOutput(dataTable, element);\n",
       "        const docLink = document.createElement('div');\n",
       "        docLink.innerHTML = docLinkHtml;\n",
       "        element.appendChild(docLink);\n",
       "      }\n",
       "    </script>\n",
       "  </div>\n",
       "\n",
       "\n",
       "<div id=\"df-605dbd99-5048-40cb-ae12-5b77ea5573cf\">\n",
       "  <button class=\"colab-df-quickchart\" onclick=\"quickchart('df-605dbd99-5048-40cb-ae12-5b77ea5573cf')\"\n",
       "            title=\"Suggest charts\"\n",
       "            style=\"display:none;\">\n",
       "\n",
       "<svg xmlns=\"http://www.w3.org/2000/svg\" height=\"24px\"viewBox=\"0 0 24 24\"\n",
       "     width=\"24px\">\n",
       "    <g>\n",
       "        <path d=\"M19 3H5c-1.1 0-2 .9-2 2v14c0 1.1.9 2 2 2h14c1.1 0 2-.9 2-2V5c0-1.1-.9-2-2-2zM9 17H7v-7h2v7zm4 0h-2V7h2v10zm4 0h-2v-4h2v4z\"/>\n",
       "    </g>\n",
       "</svg>\n",
       "  </button>\n",
       "\n",
       "<style>\n",
       "  .colab-df-quickchart {\n",
       "      --bg-color: #E8F0FE;\n",
       "      --fill-color: #1967D2;\n",
       "      --hover-bg-color: #E2EBFA;\n",
       "      --hover-fill-color: #174EA6;\n",
       "      --disabled-fill-color: #AAA;\n",
       "      --disabled-bg-color: #DDD;\n",
       "  }\n",
       "\n",
       "  [theme=dark] .colab-df-quickchart {\n",
       "      --bg-color: #3B4455;\n",
       "      --fill-color: #D2E3FC;\n",
       "      --hover-bg-color: #434B5C;\n",
       "      --hover-fill-color: #FFFFFF;\n",
       "      --disabled-bg-color: #3B4455;\n",
       "      --disabled-fill-color: #666;\n",
       "  }\n",
       "\n",
       "  .colab-df-quickchart {\n",
       "    background-color: var(--bg-color);\n",
       "    border: none;\n",
       "    border-radius: 50%;\n",
       "    cursor: pointer;\n",
       "    display: none;\n",
       "    fill: var(--fill-color);\n",
       "    height: 32px;\n",
       "    padding: 0;\n",
       "    width: 32px;\n",
       "  }\n",
       "\n",
       "  .colab-df-quickchart:hover {\n",
       "    background-color: var(--hover-bg-color);\n",
       "    box-shadow: 0 1px 2px rgba(60, 64, 67, 0.3), 0 1px 3px 1px rgba(60, 64, 67, 0.15);\n",
       "    fill: var(--button-hover-fill-color);\n",
       "  }\n",
       "\n",
       "  .colab-df-quickchart-complete:disabled,\n",
       "  .colab-df-quickchart-complete:disabled:hover {\n",
       "    background-color: var(--disabled-bg-color);\n",
       "    fill: var(--disabled-fill-color);\n",
       "    box-shadow: none;\n",
       "  }\n",
       "\n",
       "  .colab-df-spinner {\n",
       "    border: 2px solid var(--fill-color);\n",
       "    border-color: transparent;\n",
       "    border-bottom-color: var(--fill-color);\n",
       "    animation:\n",
       "      spin 1s steps(1) infinite;\n",
       "  }\n",
       "\n",
       "  @keyframes spin {\n",
       "    0% {\n",
       "      border-color: transparent;\n",
       "      border-bottom-color: var(--fill-color);\n",
       "      border-left-color: var(--fill-color);\n",
       "    }\n",
       "    20% {\n",
       "      border-color: transparent;\n",
       "      border-left-color: var(--fill-color);\n",
       "      border-top-color: var(--fill-color);\n",
       "    }\n",
       "    30% {\n",
       "      border-color: transparent;\n",
       "      border-left-color: var(--fill-color);\n",
       "      border-top-color: var(--fill-color);\n",
       "      border-right-color: var(--fill-color);\n",
       "    }\n",
       "    40% {\n",
       "      border-color: transparent;\n",
       "      border-right-color: var(--fill-color);\n",
       "      border-top-color: var(--fill-color);\n",
       "    }\n",
       "    60% {\n",
       "      border-color: transparent;\n",
       "      border-right-color: var(--fill-color);\n",
       "    }\n",
       "    80% {\n",
       "      border-color: transparent;\n",
       "      border-right-color: var(--fill-color);\n",
       "      border-bottom-color: var(--fill-color);\n",
       "    }\n",
       "    90% {\n",
       "      border-color: transparent;\n",
       "      border-bottom-color: var(--fill-color);\n",
       "    }\n",
       "  }\n",
       "</style>\n",
       "\n",
       "  <script>\n",
       "    async function quickchart(key) {\n",
       "      const quickchartButtonEl =\n",
       "        document.querySelector('#' + key + ' button');\n",
       "      quickchartButtonEl.disabled = true;  // To prevent multiple clicks.\n",
       "      quickchartButtonEl.classList.add('colab-df-spinner');\n",
       "      try {\n",
       "        const charts = await google.colab.kernel.invokeFunction(\n",
       "            'suggestCharts', [key], {});\n",
       "      } catch (error) {\n",
       "        console.error('Error during call to suggestCharts:', error);\n",
       "      }\n",
       "      quickchartButtonEl.classList.remove('colab-df-spinner');\n",
       "      quickchartButtonEl.classList.add('colab-df-quickchart-complete');\n",
       "    }\n",
       "    (() => {\n",
       "      let quickchartButtonEl =\n",
       "        document.querySelector('#df-605dbd99-5048-40cb-ae12-5b77ea5573cf button');\n",
       "      quickchartButtonEl.style.display =\n",
       "        google.colab.kernel.accessAllowed ? 'block' : 'none';\n",
       "    })();\n",
       "  </script>\n",
       "</div>\n",
       "\n",
       "    </div>\n",
       "  </div>\n"
      ],
      "text/plain": [
       "        product_id  EstimateScore\n",
       "644305       12379       5.000000\n",
       "530065       25237       5.000000\n",
       "529897       25235       5.000000\n",
       "321681      231176       5.000000\n",
       "125054       21775       5.000000\n",
       "...            ...            ...\n",
       "295522        2359       3.030350\n",
       "219923       18318       3.028572\n",
       "78073         2181       3.018304\n",
       "266471       18943       3.005924\n",
       "113564       21531       3.004717\n",
       "\n",
       "[31211 rows x 2 columns]"
      ]
     },
     "execution_count": 26,
     "metadata": {},
     "output_type": "execute_result"
    }
   ],
   "source": [
    "df_score[df_score.EstimateScore>=3]"
   ]
  },
  {
   "cell_type": "code",
   "execution_count": null,
   "metadata": {
    "executionInfo": {
     "elapsed": 40,
     "status": "aborted",
     "timestamp": 1710404580938,
     "user": {
      "displayName": "Quốc Thái Phạm",
      "userId": "05056944187763502577"
     },
     "user_tz": -420
    },
    "id": "viWGpo3Gt9Kn"
   },
   "outputs": [],
   "source": [
    "!"
   ]
  }
 ],
 "metadata": {
  "colab": {
   "provenance": []
  },
  "kernelspec": {
   "display_name": "Python 3 (ipykernel)",
   "language": "python",
   "name": "python3"
  },
  "language_info": {
   "codemirror_mode": {
    "name": "ipython",
    "version": 3
   },
   "file_extension": ".py",
   "mimetype": "text/x-python",
   "name": "python",
   "nbconvert_exporter": "python",
   "pygments_lexer": "ipython3",
   "version": "3.9.18"
  }
 },
 "nbformat": 4,
 "nbformat_minor": 4
}
