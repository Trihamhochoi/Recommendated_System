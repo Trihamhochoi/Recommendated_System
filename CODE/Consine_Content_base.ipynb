{
 "cells": [
  {
   "cell_type": "code",
   "execution_count": 6,
   "id": "b81f11d0-6d09-4278-b80b-fc8cb6490419",
   "metadata": {},
   "outputs": [],
   "source": [
    "import numpy as np\n",
    "import pandas as pd\n",
    "import matplotlib.pyplot as plt\n",
    "from sklearn.feature_extraction.text import TfidfVectorizer\n",
    "from sklearn.metrics.pairwise import linear_kernel, cosine_similarity\n",
    "from underthesea import word_tokenize, pos_tag, sent_tokenize\n",
    "import warnings\n",
    "import re"
   ]
  },
  {
   "cell_type": "markdown",
   "id": "89a5ca6d-70cc-44a3-badd-3c6511162b89",
   "metadata": {},
   "source": [
    "# Load Some Data to preprocess Vietnamese languages"
   ]
  },
  {
   "cell_type": "code",
   "execution_count": 7,
   "id": "62ca0420-30d7-4b0a-b945-9b83d34f70dc",
   "metadata": {},
   "outputs": [],
   "source": [
    "# EMOJI\n",
    "with open('../DATA/files/emojicon.txt', 'r', encoding=\"utf8\") as file:\n",
    "    emoji_lst = file.read().split('\\n')\n",
    "    emoji_dict = {}\n",
    "    for line in emoji_lst:\n",
    "        key, value = line.split('\\t')\n",
    "        emoji_dict[key] = str(value)\n",
    "\n",
    "# TEEN CODE\n",
    "with open('../DATA/files/teencode.txt', 'r', encoding=\"utf8\") as file:\n",
    "    teen_lst = file.read().split('\\n')\n",
    "    teen_dict = {}\n",
    "    for line in teen_lst:\n",
    "        key, value = line.split('\\t')\n",
    "        teen_dict[key] = str(value)\n",
    "\n",
    "# ENG VIET\n",
    "with open('../DATA/files/english-vnmese.txt', 'r', encoding=\"utf8\") as file:\n",
    "    eng_lst = file.read().split('\\n')\n",
    "    eng_dict = {}\n",
    "    for line in eng_lst:\n",
    "        key, value = line.split('\\t')\n",
    "        eng_dict[key] = str(value)\n",
    "\n",
    "# WRONG WORD\n",
    "with open('../DATA/files/wrong-word.txt', 'r', encoding=\"utf8\") as file:\n",
    "    wrong_lst = file.read().split('\\n')\n",
    "\n",
    "# STOP WORD\n",
    "with open('../DATA/files/vietnamese-stopwords.txt', 'r', encoding=\"utf8\") as file:\n",
    "    stop_lst = file.read().split('\\n')"
   ]
  },
  {
   "cell_type": "markdown",
   "id": "448d72c8-6544-4c8c-a1ca-050dd43198c8",
   "metadata": {},
   "source": [
    "# Load file data:"
   ]
  },
  {
   "cell_type": "code",
   "execution_count": 2,
   "id": "bbd4dc01-9631-48ee-9f5d-0bc350cc4860",
   "metadata": {},
   "outputs": [],
   "source": [
    "use_cols = ['product_id','sub_category','price','rating','clean_desc','product_name','clean_prd_name']\n",
    "clean_prd_df = pd.read_csv('../DATA/clean_products.csv',usecols=use_cols)"
   ]
  },
  {
   "cell_type": "code",
   "execution_count": 3,
   "id": "768d9bcb-6f8b-4552-8e7f-4d7bf4ce6a80",
   "metadata": {},
   "outputs": [
    {
     "data": {
      "text/html": [
       "<div>\n",
       "<style scoped>\n",
       "    .dataframe tbody tr th:only-of-type {\n",
       "        vertical-align: middle;\n",
       "    }\n",
       "\n",
       "    .dataframe tbody tr th {\n",
       "        vertical-align: top;\n",
       "    }\n",
       "\n",
       "    .dataframe thead th {\n",
       "        text-align: right;\n",
       "    }\n",
       "</style>\n",
       "<table border=\"1\" class=\"dataframe\">\n",
       "  <thead>\n",
       "    <tr style=\"text-align: right;\">\n",
       "      <th></th>\n",
       "      <th>product_id</th>\n",
       "      <th>product_name</th>\n",
       "      <th>sub_category</th>\n",
       "      <th>price</th>\n",
       "      <th>rating</th>\n",
       "      <th>clean_desc</th>\n",
       "      <th>clean_prd_name</th>\n",
       "    </tr>\n",
       "  </thead>\n",
       "  <tbody>\n",
       "    <tr>\n",
       "      <th>0</th>\n",
       "      <td>190</td>\n",
       "      <td>Áo ba lỗ thun gân ,form body tôn dáng</td>\n",
       "      <td>Áo Ba Lỗ</td>\n",
       "      <td>86250.0</td>\n",
       "      <td>4.9</td>\n",
       "      <td>áo lỗ chiều đường_phố nhiệt_đới tal fit xuất_x...</td>\n",
       "      <td>áo lỗ thun gân form body</td>\n",
       "    </tr>\n",
       "    <tr>\n",
       "      <th>1</th>\n",
       "      <td>191</td>\n",
       "      <td>Áo Ba Lỗ Nam Trắng Chất Cotton Siêu Mát, Siêu Đẹp</td>\n",
       "      <td>Áo Ba Lỗ</td>\n",
       "      <td>26800.0</td>\n",
       "      <td>4.9</td>\n",
       "      <td>áo lỗ xuất_xứ việt_nam tổ_chức trách_nhiệm sản...</td>\n",
       "      <td>áo lỗ nam trắng chất_cotton siêu_mát đẹp</td>\n",
       "    </tr>\n",
       "    <tr>\n",
       "      <th>2</th>\n",
       "      <td>192</td>\n",
       "      <td>Áo Ba Lỗ Nam Tyasuo chất vải co dãn mát, không...</td>\n",
       "      <td>Áo Ba Lỗ</td>\n",
       "      <td>39500.0</td>\n",
       "      <td>4.8</td>\n",
       "      <td>áo lỗ thương_hiệu tyasuo chiều áo không_thể đư...</td>\n",
       "      <td>áo lỗ nam tyasuo chất vải co_dãn mát không_xù mềm</td>\n",
       "    </tr>\n",
       "    <tr>\n",
       "      <th>3</th>\n",
       "      <td>193</td>\n",
       "      <td>ÁO BA LỖ HÀNG VIỆT NAM 100% COTTON</td>\n",
       "      <td>Áo Ba Lỗ</td>\n",
       "      <td>16500.0</td>\n",
       "      <td>4.8</td>\n",
       "      <td>áo lỗ chất_liệu hàng gửi hà_nội áo lỗ nam mặc ...</td>\n",
       "      <td>áo lỗ hàng việt_nam</td>\n",
       "    </tr>\n",
       "    <tr>\n",
       "      <th>4</th>\n",
       "      <td>194</td>\n",
       "      <td>Áo Thun Nam Thể Thao Ba Lỗ Mẫu Mới Siêu Đẹp (B...</td>\n",
       "      <td>Áo Ba Lỗ</td>\n",
       "      <td>45000.0</td>\n",
       "      <td>4.8</td>\n",
       "      <td>áo lỗ chiều áo không_thể hàng gửi hà_nội thông...</td>\n",
       "      <td>áo thun nam thể_thao lỗ mẫu mới đẹp</td>\n",
       "    </tr>\n",
       "  </tbody>\n",
       "</table>\n",
       "</div>"
      ],
      "text/plain": [
       "   product_id                                       product_name sub_category  \\\n",
       "0         190              Áo ba lỗ thun gân ,form body tôn dáng     Áo Ba Lỗ   \n",
       "1         191  Áo Ba Lỗ Nam Trắng Chất Cotton Siêu Mát, Siêu Đẹp     Áo Ba Lỗ   \n",
       "2         192  Áo Ba Lỗ Nam Tyasuo chất vải co dãn mát, không...     Áo Ba Lỗ   \n",
       "3         193                 ÁO BA LỖ HÀNG VIỆT NAM 100% COTTON     Áo Ba Lỗ   \n",
       "4         194  Áo Thun Nam Thể Thao Ba Lỗ Mẫu Mới Siêu Đẹp (B...     Áo Ba Lỗ   \n",
       "\n",
       "     price  rating                                         clean_desc  \\\n",
       "0  86250.0     4.9  áo lỗ chiều đường_phố nhiệt_đới tal fit xuất_x...   \n",
       "1  26800.0     4.9  áo lỗ xuất_xứ việt_nam tổ_chức trách_nhiệm sản...   \n",
       "2  39500.0     4.8  áo lỗ thương_hiệu tyasuo chiều áo không_thể đư...   \n",
       "3  16500.0     4.8  áo lỗ chất_liệu hàng gửi hà_nội áo lỗ nam mặc ...   \n",
       "4  45000.0     4.8  áo lỗ chiều áo không_thể hàng gửi hà_nội thông...   \n",
       "\n",
       "                                      clean_prd_name  \n",
       "0                           áo lỗ thun gân form body  \n",
       "1           áo lỗ nam trắng chất_cotton siêu_mát đẹp  \n",
       "2  áo lỗ nam tyasuo chất vải co_dãn mát không_xù mềm  \n",
       "3                                áo lỗ hàng việt_nam  \n",
       "4                áo thun nam thể_thao lỗ mẫu mới đẹp  "
      ]
     },
     "execution_count": 3,
     "metadata": {},
     "output_type": "execute_result"
    }
   ],
   "source": [
    "clean_prd_df.head()"
   ]
  },
  {
   "cell_type": "markdown",
   "id": "fe53a592-fde7-4e26-b55e-92b9838cdd4e",
   "metadata": {},
   "source": [
    "## Check na values from clean data"
   ]
  },
  {
   "cell_type": "code",
   "execution_count": 4,
   "id": "705b6bbb-7712-4ae2-bb74-c5d65f3b8ee0",
   "metadata": {},
   "outputs": [],
   "source": [
    "drop_idx = clean_prd_df[clean_prd_df['clean_prd_name'].apply(lambda x: isinstance(x,float))].index"
   ]
  },
  {
   "cell_type": "code",
   "execution_count": 5,
   "id": "eb42c0d8-6a79-4dca-a003-05354f3de120",
   "metadata": {},
   "outputs": [],
   "source": [
    "clean_prd_df = clean_prd_df.drop(index=drop_idx)"
   ]
  },
  {
   "cell_type": "code",
   "execution_count": 13,
   "id": "6b3088c3-ab63-4d6d-986e-fe82b948a3f4",
   "metadata": {},
   "outputs": [],
   "source": [
    "#stop_lst"
   ]
  },
  {
   "cell_type": "markdown",
   "id": "e6bd8e4c-3f54-4f6a-84c8-d75e7b52fa78",
   "metadata": {
    "id": "bRLniR9_-54G"
   },
   "source": [
    "# Cosine_similarity\n",
    "- link https://scikit-learn.org/stable/modules/generated/sklearn.metrics.pairwise.cosine_similarity.html\n",
    "- link https://en.wikipedia.org/wiki/Cosine_similarity"
   ]
  },
  {
   "cell_type": "code",
   "execution_count": 8,
   "id": "c641e318-df3a-4922-8558-31bf2e075192",
   "metadata": {
    "id": "Z0Co_spi-KMS"
   },
   "outputs": [],
   "source": [
    "tf_model = TfidfVectorizer(analyzer='word', stop_words=stop_lst)"
   ]
  },
  {
   "cell_type": "code",
   "execution_count": 14,
   "id": "342f4a37-53fe-494b-82bc-34173b43c29c",
   "metadata": {
    "id": "Q4hifg_YLD5S"
   },
   "outputs": [],
   "source": [
    "tfidf_matrix = tf_model.fit_transform(raw_documents=clean_prd_df['clean_prd_name'])"
   ]
  },
  {
   "cell_type": "code",
   "execution_count": 15,
   "id": "67828846-85fd-442b-bb23-33955de2a1a6",
   "metadata": {
    "id": "y8mOycJtLUW-"
   },
   "outputs": [
    {
     "ename": "MemoryError",
     "evalue": "Unable to allocate 18.3 GiB for an array with shape (49594, 49594) and data type float64",
     "output_type": "error",
     "traceback": [
      "\u001b[1;31m---------------------------------------------------------------------------\u001b[0m",
      "\u001b[1;31mMemoryError\u001b[0m                               Traceback (most recent call last)",
      "Cell \u001b[1;32mIn[15], line 1\u001b[0m\n\u001b[1;32m----> 1\u001b[0m cosine_similarities \u001b[38;5;241m=\u001b[39m \u001b[43mcosine_similarity\u001b[49m\u001b[43m(\u001b[49m\u001b[43mtfidf_matrix\u001b[49m\u001b[43m,\u001b[49m\u001b[43m \u001b[49m\u001b[43mtfidf_matrix\u001b[49m\u001b[43m)\u001b[49m\n",
      "File \u001b[1;32mD:\\App_data\\anaconda3\\envs\\env39\\lib\\site-packages\\sklearn\\utils\\_param_validation.py:211\u001b[0m, in \u001b[0;36mvalidate_params.<locals>.decorator.<locals>.wrapper\u001b[1;34m(*args, **kwargs)\u001b[0m\n\u001b[0;32m    205\u001b[0m \u001b[38;5;28;01mtry\u001b[39;00m:\n\u001b[0;32m    206\u001b[0m     \u001b[38;5;28;01mwith\u001b[39;00m config_context(\n\u001b[0;32m    207\u001b[0m         skip_parameter_validation\u001b[38;5;241m=\u001b[39m(\n\u001b[0;32m    208\u001b[0m             prefer_skip_nested_validation \u001b[38;5;129;01mor\u001b[39;00m global_skip_validation\n\u001b[0;32m    209\u001b[0m         )\n\u001b[0;32m    210\u001b[0m     ):\n\u001b[1;32m--> 211\u001b[0m         \u001b[38;5;28;01mreturn\u001b[39;00m func(\u001b[38;5;241m*\u001b[39margs, \u001b[38;5;241m*\u001b[39m\u001b[38;5;241m*\u001b[39mkwargs)\n\u001b[0;32m    212\u001b[0m \u001b[38;5;28;01mexcept\u001b[39;00m InvalidParameterError \u001b[38;5;28;01mas\u001b[39;00m e:\n\u001b[0;32m    213\u001b[0m     \u001b[38;5;66;03m# When the function is just a wrapper around an estimator, we allow\u001b[39;00m\n\u001b[0;32m    214\u001b[0m     \u001b[38;5;66;03m# the function to delegate validation to the estimator, but we replace\u001b[39;00m\n\u001b[0;32m    215\u001b[0m     \u001b[38;5;66;03m# the name of the estimator by the name of the function in the error\u001b[39;00m\n\u001b[0;32m    216\u001b[0m     \u001b[38;5;66;03m# message to avoid confusion.\u001b[39;00m\n\u001b[0;32m    217\u001b[0m     msg \u001b[38;5;241m=\u001b[39m re\u001b[38;5;241m.\u001b[39msub(\n\u001b[0;32m    218\u001b[0m         \u001b[38;5;124mr\u001b[39m\u001b[38;5;124m\"\u001b[39m\u001b[38;5;124mparameter of \u001b[39m\u001b[38;5;124m\\\u001b[39m\u001b[38;5;124mw+ must be\u001b[39m\u001b[38;5;124m\"\u001b[39m,\n\u001b[0;32m    219\u001b[0m         \u001b[38;5;124mf\u001b[39m\u001b[38;5;124m\"\u001b[39m\u001b[38;5;124mparameter of \u001b[39m\u001b[38;5;132;01m{\u001b[39;00mfunc\u001b[38;5;241m.\u001b[39m\u001b[38;5;18m__qualname__\u001b[39m\u001b[38;5;132;01m}\u001b[39;00m\u001b[38;5;124m must be\u001b[39m\u001b[38;5;124m\"\u001b[39m,\n\u001b[0;32m    220\u001b[0m         \u001b[38;5;28mstr\u001b[39m(e),\n\u001b[0;32m    221\u001b[0m     )\n",
      "File \u001b[1;32mD:\\App_data\\anaconda3\\envs\\env39\\lib\\site-packages\\sklearn\\metrics\\pairwise.py:1585\u001b[0m, in \u001b[0;36mcosine_similarity\u001b[1;34m(X, Y, dense_output)\u001b[0m\n\u001b[0;32m   1582\u001b[0m \u001b[38;5;28;01melse\u001b[39;00m:\n\u001b[0;32m   1583\u001b[0m     Y_normalized \u001b[38;5;241m=\u001b[39m normalize(Y, copy\u001b[38;5;241m=\u001b[39m\u001b[38;5;28;01mTrue\u001b[39;00m)\n\u001b[1;32m-> 1585\u001b[0m K \u001b[38;5;241m=\u001b[39m \u001b[43msafe_sparse_dot\u001b[49m\u001b[43m(\u001b[49m\u001b[43mX_normalized\u001b[49m\u001b[43m,\u001b[49m\u001b[43m \u001b[49m\u001b[43mY_normalized\u001b[49m\u001b[38;5;241;43m.\u001b[39;49m\u001b[43mT\u001b[49m\u001b[43m,\u001b[49m\u001b[43m \u001b[49m\u001b[43mdense_output\u001b[49m\u001b[38;5;241;43m=\u001b[39;49m\u001b[43mdense_output\u001b[49m\u001b[43m)\u001b[49m\n\u001b[0;32m   1587\u001b[0m \u001b[38;5;28;01mreturn\u001b[39;00m K\n",
      "File \u001b[1;32mD:\\App_data\\anaconda3\\envs\\env39\\lib\\site-packages\\sklearn\\utils\\extmath.py:201\u001b[0m, in \u001b[0;36msafe_sparse_dot\u001b[1;34m(a, b, dense_output)\u001b[0m\n\u001b[0;32m    193\u001b[0m     ret \u001b[38;5;241m=\u001b[39m a \u001b[38;5;241m@\u001b[39m b\n\u001b[0;32m    195\u001b[0m \u001b[38;5;28;01mif\u001b[39;00m (\n\u001b[0;32m    196\u001b[0m     sparse\u001b[38;5;241m.\u001b[39missparse(a)\n\u001b[0;32m    197\u001b[0m     \u001b[38;5;129;01mand\u001b[39;00m sparse\u001b[38;5;241m.\u001b[39missparse(b)\n\u001b[0;32m    198\u001b[0m     \u001b[38;5;129;01mand\u001b[39;00m dense_output\n\u001b[0;32m    199\u001b[0m     \u001b[38;5;129;01mand\u001b[39;00m \u001b[38;5;28mhasattr\u001b[39m(ret, \u001b[38;5;124m\"\u001b[39m\u001b[38;5;124mtoarray\u001b[39m\u001b[38;5;124m\"\u001b[39m)\n\u001b[0;32m    200\u001b[0m ):\n\u001b[1;32m--> 201\u001b[0m     \u001b[38;5;28;01mreturn\u001b[39;00m \u001b[43mret\u001b[49m\u001b[38;5;241;43m.\u001b[39;49m\u001b[43mtoarray\u001b[49m\u001b[43m(\u001b[49m\u001b[43m)\u001b[49m\n\u001b[0;32m    202\u001b[0m \u001b[38;5;28;01mreturn\u001b[39;00m ret\n",
      "File \u001b[1;32mD:\\App_data\\anaconda3\\envs\\env39\\lib\\site-packages\\scipy\\sparse\\_compressed.py:1050\u001b[0m, in \u001b[0;36m_cs_matrix.toarray\u001b[1;34m(self, order, out)\u001b[0m\n\u001b[0;32m   1048\u001b[0m \u001b[38;5;28;01mif\u001b[39;00m out \u001b[38;5;129;01mis\u001b[39;00m \u001b[38;5;28;01mNone\u001b[39;00m \u001b[38;5;129;01mand\u001b[39;00m order \u001b[38;5;129;01mis\u001b[39;00m \u001b[38;5;28;01mNone\u001b[39;00m:\n\u001b[0;32m   1049\u001b[0m     order \u001b[38;5;241m=\u001b[39m \u001b[38;5;28mself\u001b[39m\u001b[38;5;241m.\u001b[39m_swap(\u001b[38;5;124m'\u001b[39m\u001b[38;5;124mcf\u001b[39m\u001b[38;5;124m'\u001b[39m)[\u001b[38;5;241m0\u001b[39m]\n\u001b[1;32m-> 1050\u001b[0m out \u001b[38;5;241m=\u001b[39m \u001b[38;5;28;43mself\u001b[39;49m\u001b[38;5;241;43m.\u001b[39;49m\u001b[43m_process_toarray_args\u001b[49m\u001b[43m(\u001b[49m\u001b[43morder\u001b[49m\u001b[43m,\u001b[49m\u001b[43m \u001b[49m\u001b[43mout\u001b[49m\u001b[43m)\u001b[49m\n\u001b[0;32m   1051\u001b[0m \u001b[38;5;28;01mif\u001b[39;00m \u001b[38;5;129;01mnot\u001b[39;00m (out\u001b[38;5;241m.\u001b[39mflags\u001b[38;5;241m.\u001b[39mc_contiguous \u001b[38;5;129;01mor\u001b[39;00m out\u001b[38;5;241m.\u001b[39mflags\u001b[38;5;241m.\u001b[39mf_contiguous):\n\u001b[0;32m   1052\u001b[0m     \u001b[38;5;28;01mraise\u001b[39;00m \u001b[38;5;167;01mValueError\u001b[39;00m(\u001b[38;5;124m'\u001b[39m\u001b[38;5;124mOutput array must be C or F contiguous\u001b[39m\u001b[38;5;124m'\u001b[39m)\n",
      "File \u001b[1;32mD:\\App_data\\anaconda3\\envs\\env39\\lib\\site-packages\\scipy\\sparse\\_base.py:1267\u001b[0m, in \u001b[0;36m_spbase._process_toarray_args\u001b[1;34m(self, order, out)\u001b[0m\n\u001b[0;32m   1265\u001b[0m     \u001b[38;5;28;01mreturn\u001b[39;00m out\n\u001b[0;32m   1266\u001b[0m \u001b[38;5;28;01melse\u001b[39;00m:\n\u001b[1;32m-> 1267\u001b[0m     \u001b[38;5;28;01mreturn\u001b[39;00m \u001b[43mnp\u001b[49m\u001b[38;5;241;43m.\u001b[39;49m\u001b[43mzeros\u001b[49m\u001b[43m(\u001b[49m\u001b[38;5;28;43mself\u001b[39;49m\u001b[38;5;241;43m.\u001b[39;49m\u001b[43mshape\u001b[49m\u001b[43m,\u001b[49m\u001b[43m \u001b[49m\u001b[43mdtype\u001b[49m\u001b[38;5;241;43m=\u001b[39;49m\u001b[38;5;28;43mself\u001b[39;49m\u001b[38;5;241;43m.\u001b[39;49m\u001b[43mdtype\u001b[49m\u001b[43m,\u001b[49m\u001b[43m \u001b[49m\u001b[43morder\u001b[49m\u001b[38;5;241;43m=\u001b[39;49m\u001b[43morder\u001b[49m\u001b[43m)\u001b[49m\n",
      "\u001b[1;31mMemoryError\u001b[0m: Unable to allocate 18.3 GiB for an array with shape (49594, 49594) and data type float64"
     ]
    }
   ],
   "source": [
    "cosine_similarities = cosine_similarity(tfidf_matrix, tfidf_matrix)"
   ]
  },
  {
   "cell_type": "code",
   "execution_count": null,
   "id": "fab40c9d-98d3-495c-9ee2-c9e0a09e942c",
   "metadata": {
    "colab": {
     "base_uri": "https://localhost:8080/"
    },
    "id": "NqfY7tHlLYon",
    "outputId": "8737f4ec-8c03-4832-f32e-4df3f50129e9"
   },
   "outputs": [
    {
     "data": {
      "text/plain": [
       "array([[1.        , 0.69519827, 0.1551208 , 0.12374782, 0.15994914,\n",
       "        0.00965768, 0.04347849, 0.04908612, 0.05106241],\n",
       "       [0.69519827, 1.        , 0.15715171, 0.10934188, 0.21851252,\n",
       "        0.01015654, 0.10185011, 0.06193459, 0.0751564 ],\n",
       "       [0.1551208 , 0.15715171, 1.        , 0.19403449, 0.26562584,\n",
       "        0.0304808 , 0.06240797, 0.0773547 , 0.04822855],\n",
       "       [0.12374782, 0.10934188, 0.19403449, 1.        , 0.1497956 ,\n",
       "        0.08191914, 0.08858269, 0.0278274 , 0.08692276],\n",
       "       [0.15994914, 0.21851252, 0.26562584, 0.1497956 , 1.        ,\n",
       "        0.00771569, 0.13257418, 0.06271941, 0.12209577],\n",
       "       [0.00965768, 0.01015654, 0.0304808 , 0.08191914, 0.00771569,\n",
       "        1.        , 0.04378038, 0.00966135, 0.        ],\n",
       "       [0.04347849, 0.10185011, 0.06240797, 0.08858269, 0.13257418,\n",
       "        0.04378038, 1.        , 0.06232388, 0.10206116],\n",
       "       [0.04908612, 0.06193459, 0.0773547 , 0.0278274 , 0.06271941,\n",
       "        0.00966135, 0.06232388, 1.        , 0.14212572],\n",
       "       [0.05106241, 0.0751564 , 0.04822855, 0.08692276, 0.12209577,\n",
       "        0.        , 0.10206116, 0.14212572, 1.        ]])"
      ]
     },
     "execution_count": 49,
     "metadata": {},
     "output_type": "execute_result"
    }
   ],
   "source": [
    "cosine_similarities"
   ]
  },
  {
   "cell_type": "code",
   "execution_count": null,
   "id": "1262cc41-a9a4-4f28-a334-35eb32bd7544",
   "metadata": {
    "colab": {
     "base_uri": "https://localhost:8080/"
    },
    "id": "JmR09B0hLdXG",
    "outputId": "7d7021b9-df4b-4ef9-e4a4-d4937938dc60"
   },
   "outputs": [
    {
     "data": {
      "text/plain": [
       "(9, 9)"
      ]
     },
     "execution_count": 50,
     "metadata": {},
     "output_type": "execute_result"
    }
   ],
   "source": [
    "cosine_similarities.shape"
   ]
  },
  {
   "cell_type": "code",
   "execution_count": null,
   "id": "4dab8a85-7572-4dc3-a512-d7c8e8be4037",
   "metadata": {
    "colab": {
     "base_uri": "https://localhost:8080/"
    },
    "id": "RhlbsLkmLeEf",
    "outputId": "6d369fe2-44ea-43d5-950e-c3201ada6757"
   },
   "outputs": [
    {
     "name": "stdout",
     "output_type": "stream",
     "text": [
      "[(0.15512079719991662, 2), (0.15994914305652225, 4), (0.6951982684968354, 1)]\n",
      "[(0.15715171135957345, 2), (0.218512522363034, 4), (0.6951982684968354, 0)]\n",
      "[(0.15715171135957345, 1), (0.19403448802686324, 3), (0.26562584202409356, 4)]\n",
      "[(0.12374782171555312, 0), (0.14979560104276052, 4), (0.19403448802686324, 2)]\n",
      "[(0.15994914305652225, 0), (0.218512522363034, 1), (0.26562584202409356, 2)]\n",
      "[(0.03048080117011501, 2), (0.043780376453166577, 6), (0.08191914396190085, 3)]\n",
      "[(0.10185010798524011, 1), (0.1020611638551705, 8), (0.13257417789271964, 4)]\n",
      "[(0.06271940602042296, 4), (0.07735469936250719, 2), (0.14212571768388169, 8)]\n",
      "[(0.1020611638551705, 6), (0.12209577477360442, 4), (0.14212571768388169, 7)]\n"
     ]
    }
   ],
   "source": [
    "# với mỗi sản phẩm, lấy 3 sản phẩm tương quan nhất\n",
    "results = {}\n",
    "\n",
    "for idx, row in df.iterrows():\n",
    "    similar_indices = cosine_similarities[idx].argsort()[-4:-1]\n",
    "    similar_items = [(cosine_similarities[idx][i]) for i in similar_indices]\n",
    "    similar_items = [(cosine_similarities[idx][i], df.index[i]) for i in similar_indices]\n",
    "    print(similar_items[0:])\n",
    "    results[idx] = similar_items[0:]"
   ]
  },
  {
   "cell_type": "code",
   "execution_count": null,
   "id": "4a9c6b9e-cde8-41bf-8767-d503f920871b",
   "metadata": {
    "colab": {
     "base_uri": "https://localhost:8080/"
    },
    "id": "suhVcWK5MVPL",
    "outputId": "fca74265-ab41-459c-ae8d-626635ebf90b"
   },
   "outputs": [
    {
     "data": {
      "text/plain": [
       "[(0.15512079719991662, 2), (0.15994914305652225, 4), (0.6951982684968354, 1)]"
      ]
     },
     "execution_count": 52,
     "metadata": {},
     "output_type": "execute_result"
    }
   ],
   "source": [
    "results[0]"
   ]
  },
  {
   "cell_type": "code",
   "execution_count": 16,
   "id": "c53cbb75-c601-484f-a5f1-a9f5fe9f710f",
   "metadata": {},
   "outputs": [],
   "source": [
    "def item(id_prd,df):\n",
    "    text =  df.loc[df['product_id'] == id_prd,'clean_prd_name']\n",
    "    return text"
   ]
  },
  {
   "cell_type": "code",
   "execution_count": null,
   "id": "6abf9bf0-03ab-4e3c-84a9-16e71f3acdac",
   "metadata": {},
   "outputs": [],
   "source": []
  }
 ],
 "metadata": {
  "kernelspec": {
   "display_name": "Python 3 (ipykernel)",
   "language": "python",
   "name": "python3"
  },
  "language_info": {
   "codemirror_mode": {
    "name": "ipython",
    "version": 3
   },
   "file_extension": ".py",
   "mimetype": "text/x-python",
   "name": "python",
   "nbconvert_exporter": "python",
   "pygments_lexer": "ipython3",
   "version": "3.9.18"
  }
 },
 "nbformat": 4,
 "nbformat_minor": 5
}
