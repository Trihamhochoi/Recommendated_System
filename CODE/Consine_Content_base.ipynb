{
 "cells": [
  {
   "cell_type": "code",
   "execution_count": 1,
   "id": "b81f11d0-6d09-4278-b80b-fc8cb6490419",
   "metadata": {},
   "outputs": [],
   "source": [
    "import numpy as np\n",
    "import pandas as pd\n",
    "import matplotlib.pyplot as plt\n",
    "from sklearn.feature_extraction.text import TfidfVectorizer\n",
    "from sklearn.metrics.pairwise import linear_kernel, cosine_similarity\n",
    "from underthesea import word_tokenize, pos_tag, sent_tokenize\n",
    "import warnings\n",
    "import re"
   ]
  },
  {
   "cell_type": "code",
   "execution_count": 13,
   "id": "8447b859-b1a1-4a11-a1af-12d4758a6c69",
   "metadata": {},
   "outputs": [],
   "source": [
    "from tqdm.auto import tqdm"
   ]
  },
  {
   "cell_type": "markdown",
   "id": "89a5ca6d-70cc-44a3-badd-3c6511162b89",
   "metadata": {},
   "source": [
    "# Load Some Data to preprocess Vietnamese languages"
   ]
  },
  {
   "cell_type": "code",
   "execution_count": 2,
   "id": "62ca0420-30d7-4b0a-b945-9b83d34f70dc",
   "metadata": {},
   "outputs": [],
   "source": [
    "# EMOJI\n",
    "with open('../DATA/files/emojicon.txt', 'r', encoding=\"utf8\") as file:\n",
    "    emoji_lst = file.read().split('\\n')\n",
    "    emoji_dict = {}\n",
    "    for line in emoji_lst:\n",
    "        key, value = line.split('\\t')\n",
    "        emoji_dict[key] = str(value)\n",
    "\n",
    "# TEEN CODE\n",
    "with open('../DATA/files/teencode.txt', 'r', encoding=\"utf8\") as file:\n",
    "    teen_lst = file.read().split('\\n')\n",
    "    teen_dict = {}\n",
    "    for line in teen_lst:\n",
    "        key, value = line.split('\\t')\n",
    "        teen_dict[key] = str(value)\n",
    "\n",
    "# ENG VIET\n",
    "with open('../DATA/files/english-vnmese.txt', 'r', encoding=\"utf8\") as file:\n",
    "    eng_lst = file.read().split('\\n')\n",
    "    eng_dict = {}\n",
    "    for line in eng_lst:\n",
    "        key, value = line.split('\\t')\n",
    "        eng_dict[key] = str(value)\n",
    "\n",
    "# WRONG WORD\n",
    "with open('../DATA/files/wrong-word.txt', 'r', encoding=\"utf8\") as file:\n",
    "    wrong_lst = file.read().split('\\n')\n",
    "\n",
    "# STOP WORD\n",
    "with open('../DATA/files/vietnamese-stopwords.txt', 'r', encoding=\"utf8\") as file:\n",
    "    stop_lst = file.read().split('\\n')"
   ]
  },
  {
   "cell_type": "markdown",
   "id": "448d72c8-6544-4c8c-a1ca-050dd43198c8",
   "metadata": {},
   "source": [
    "# Load file data:"
   ]
  },
  {
   "cell_type": "code",
   "execution_count": 51,
   "id": "bbd4dc01-9631-48ee-9f5d-0bc350cc4860",
   "metadata": {},
   "outputs": [],
   "source": [
    "use_cols = ['product_id','sub_category','price','rating','clean_desc','product_name','clean_prd_name']\n",
    "clean_prd_df = pd.read_csv('../DATA/clean_products.csv',usecols=use_cols)"
   ]
  },
  {
   "cell_type": "code",
   "execution_count": 52,
   "id": "768d9bcb-6f8b-4552-8e7f-4d7bf4ce6a80",
   "metadata": {},
   "outputs": [
    {
     "data": {
      "text/html": [
       "<div>\n",
       "<style scoped>\n",
       "    .dataframe tbody tr th:only-of-type {\n",
       "        vertical-align: middle;\n",
       "    }\n",
       "\n",
       "    .dataframe tbody tr th {\n",
       "        vertical-align: top;\n",
       "    }\n",
       "\n",
       "    .dataframe thead th {\n",
       "        text-align: right;\n",
       "    }\n",
       "</style>\n",
       "<table border=\"1\" class=\"dataframe\">\n",
       "  <thead>\n",
       "    <tr style=\"text-align: right;\">\n",
       "      <th></th>\n",
       "      <th>product_id</th>\n",
       "      <th>product_name</th>\n",
       "      <th>sub_category</th>\n",
       "      <th>price</th>\n",
       "      <th>rating</th>\n",
       "      <th>clean_desc</th>\n",
       "      <th>clean_prd_name</th>\n",
       "    </tr>\n",
       "  </thead>\n",
       "  <tbody>\n",
       "    <tr>\n",
       "      <th>0</th>\n",
       "      <td>190</td>\n",
       "      <td>Áo ba lỗ thun gân ,form body tôn dáng</td>\n",
       "      <td>Áo Ba Lỗ</td>\n",
       "      <td>86250.0</td>\n",
       "      <td>4.9</td>\n",
       "      <td>áo lỗ chiều đường_phố nhiệt_đới tal fit xuất_x...</td>\n",
       "      <td>áo lỗ thun gân form body</td>\n",
       "    </tr>\n",
       "    <tr>\n",
       "      <th>1</th>\n",
       "      <td>191</td>\n",
       "      <td>Áo Ba Lỗ Nam Trắng Chất Cotton Siêu Mát, Siêu Đẹp</td>\n",
       "      <td>Áo Ba Lỗ</td>\n",
       "      <td>26800.0</td>\n",
       "      <td>4.9</td>\n",
       "      <td>áo lỗ xuất_xứ việt_nam tổ_chức trách_nhiệm sản...</td>\n",
       "      <td>áo lỗ nam trắng chất_cotton siêu_mát đẹp</td>\n",
       "    </tr>\n",
       "    <tr>\n",
       "      <th>2</th>\n",
       "      <td>192</td>\n",
       "      <td>Áo Ba Lỗ Nam Tyasuo chất vải co dãn mát, không...</td>\n",
       "      <td>Áo Ba Lỗ</td>\n",
       "      <td>39500.0</td>\n",
       "      <td>4.8</td>\n",
       "      <td>áo lỗ thương_hiệu tyasuo chiều áo không_thể đư...</td>\n",
       "      <td>áo lỗ nam tyasuo chất vải co_dãn mát không_xù mềm</td>\n",
       "    </tr>\n",
       "    <tr>\n",
       "      <th>3</th>\n",
       "      <td>193</td>\n",
       "      <td>ÁO BA LỖ HÀNG VIỆT NAM 100% COTTON</td>\n",
       "      <td>Áo Ba Lỗ</td>\n",
       "      <td>16500.0</td>\n",
       "      <td>4.8</td>\n",
       "      <td>áo lỗ chất_liệu hàng gửi hà_nội áo lỗ nam mặc ...</td>\n",
       "      <td>áo lỗ hàng việt_nam</td>\n",
       "    </tr>\n",
       "    <tr>\n",
       "      <th>4</th>\n",
       "      <td>194</td>\n",
       "      <td>Áo Thun Nam Thể Thao Ba Lỗ Mẫu Mới Siêu Đẹp (B...</td>\n",
       "      <td>Áo Ba Lỗ</td>\n",
       "      <td>45000.0</td>\n",
       "      <td>4.8</td>\n",
       "      <td>áo lỗ chiều áo không_thể hàng gửi hà_nội thông...</td>\n",
       "      <td>áo thun nam thể_thao lỗ mẫu mới đẹp</td>\n",
       "    </tr>\n",
       "  </tbody>\n",
       "</table>\n",
       "</div>"
      ],
      "text/plain": [
       "   product_id                                       product_name sub_category  \\\n",
       "0         190              Áo ba lỗ thun gân ,form body tôn dáng     Áo Ba Lỗ   \n",
       "1         191  Áo Ba Lỗ Nam Trắng Chất Cotton Siêu Mát, Siêu Đẹp     Áo Ba Lỗ   \n",
       "2         192  Áo Ba Lỗ Nam Tyasuo chất vải co dãn mát, không...     Áo Ba Lỗ   \n",
       "3         193                 ÁO BA LỖ HÀNG VIỆT NAM 100% COTTON     Áo Ba Lỗ   \n",
       "4         194  Áo Thun Nam Thể Thao Ba Lỗ Mẫu Mới Siêu Đẹp (B...     Áo Ba Lỗ   \n",
       "\n",
       "     price  rating                                         clean_desc  \\\n",
       "0  86250.0     4.9  áo lỗ chiều đường_phố nhiệt_đới tal fit xuất_x...   \n",
       "1  26800.0     4.9  áo lỗ xuất_xứ việt_nam tổ_chức trách_nhiệm sản...   \n",
       "2  39500.0     4.8  áo lỗ thương_hiệu tyasuo chiều áo không_thể đư...   \n",
       "3  16500.0     4.8  áo lỗ chất_liệu hàng gửi hà_nội áo lỗ nam mặc ...   \n",
       "4  45000.0     4.8  áo lỗ chiều áo không_thể hàng gửi hà_nội thông...   \n",
       "\n",
       "                                      clean_prd_name  \n",
       "0                           áo lỗ thun gân form body  \n",
       "1           áo lỗ nam trắng chất_cotton siêu_mát đẹp  \n",
       "2  áo lỗ nam tyasuo chất vải co_dãn mát không_xù mềm  \n",
       "3                                áo lỗ hàng việt_nam  \n",
       "4                áo thun nam thể_thao lỗ mẫu mới đẹp  "
      ]
     },
     "execution_count": 52,
     "metadata": {},
     "output_type": "execute_result"
    }
   ],
   "source": [
    "clean_prd_df.head()"
   ]
  },
  {
   "cell_type": "markdown",
   "id": "fe53a592-fde7-4e26-b55e-92b9838cdd4e",
   "metadata": {},
   "source": [
    "## Check na values from clean data"
   ]
  },
  {
   "cell_type": "code",
   "execution_count": 53,
   "id": "705b6bbb-7712-4ae2-bb74-c5d65f3b8ee0",
   "metadata": {},
   "outputs": [],
   "source": [
    "drop_idx = clean_prd_df[clean_prd_df['clean_prd_name'].apply(lambda x: isinstance(x,float))].index"
   ]
  },
  {
   "cell_type": "code",
   "execution_count": 54,
   "id": "eb42c0d8-6a79-4dca-a003-05354f3de120",
   "metadata": {},
   "outputs": [],
   "source": [
    "clean_prd_df = clean_prd_df.drop(index=drop_idx)"
   ]
  },
  {
   "cell_type": "code",
   "execution_count": 55,
   "id": "6b3088c3-ab63-4d6d-986e-fe82b948a3f4",
   "metadata": {},
   "outputs": [],
   "source": [
    "clean_prd_df = clean_prd_df.reset_index(drop=True)"
   ]
  },
  {
   "cell_type": "markdown",
   "id": "e6bd8e4c-3f54-4f6a-84c8-d75e7b52fa78",
   "metadata": {
    "id": "bRLniR9_-54G"
   },
   "source": [
    "# Cosine_similarity\n",
    "- link https://scikit-learn.org/stable/modules/generated/sklearn.metrics.pairwise.cosine_similarity.html\n",
    "- link https://en.wikipedia.org/wiki/Cosine_similarity"
   ]
  },
  {
   "cell_type": "code",
   "execution_count": 7,
   "id": "c641e318-df3a-4922-8558-31bf2e075192",
   "metadata": {
    "id": "Z0Co_spi-KMS"
   },
   "outputs": [],
   "source": [
    "tf_model = TfidfVectorizer(analyzer='word', stop_words=stop_lst)"
   ]
  },
  {
   "cell_type": "code",
   "execution_count": 8,
   "id": "342f4a37-53fe-494b-82bc-34173b43c29c",
   "metadata": {
    "id": "Q4hifg_YLD5S"
   },
   "outputs": [
    {
     "name": "stderr",
     "output_type": "stream",
     "text": [
      "C:\\ProgramData\\Anaconda3\\envs\\env39\\lib\\site-packages\\sklearn\\feature_extraction\\text.py:409: UserWarning: Your stop_words may be inconsistent with your preprocessing. Tokenizing the stop words generated tokens ['danh', 'mục', 'nam', 'shopee', 'thời', 'trang'] not in stop_words.\n",
      "  warnings.warn(\n"
     ]
    }
   ],
   "source": [
    "tfidf_matrix = tf_model.fit_transform(raw_documents=clean_prd_df['clean_prd_name'])"
   ]
  },
  {
   "cell_type": "code",
   "execution_count": 9,
   "id": "67828846-85fd-442b-bb23-33955de2a1a6",
   "metadata": {
    "id": "y8mOycJtLUW-"
   },
   "outputs": [],
   "source": [
    "cosine_similarities = cosine_similarity(tfidf_matrix, tfidf_matrix)"
   ]
  },
  {
   "cell_type": "code",
   "execution_count": 11,
   "id": "fab40c9d-98d3-495c-9ee2-c9e0a09e942c",
   "metadata": {
    "colab": {
     "base_uri": "https://localhost:8080/"
    },
    "id": "NqfY7tHlLYon",
    "outputId": "8737f4ec-8c03-4832-f32e-4df3f50129e9"
   },
   "outputs": [
    {
     "data": {
      "text/plain": [
       "(49594,)"
      ]
     },
     "execution_count": 11,
     "metadata": {},
     "output_type": "execute_result"
    }
   ],
   "source": [
    "cosine_similarities[0].shape"
   ]
  },
  {
   "cell_type": "code",
   "execution_count": 12,
   "id": "1262cc41-a9a4-4f28-a334-35eb32bd7544",
   "metadata": {
    "colab": {
     "base_uri": "https://localhost:8080/"
    },
    "id": "JmR09B0hLdXG",
    "outputId": "7d7021b9-df4b-4ef9-e4a4-d4937938dc60"
   },
   "outputs": [
    {
     "data": {
      "text/plain": [
       "(49594, 49594)"
      ]
     },
     "execution_count": 12,
     "metadata": {},
     "output_type": "execute_result"
    }
   ],
   "source": [
    "cosine_similarities.shape"
   ]
  },
  {
   "cell_type": "code",
   "execution_count": 21,
   "id": "4dab8a85-7572-4dc3-a512-d7c8e8be4037",
   "metadata": {
    "colab": {
     "base_uri": "https://localhost:8080/"
    },
    "id": "RhlbsLkmLeEf",
    "outputId": "6d369fe2-44ea-43d5-950e-c3201ada6757",
    "scrolled": true
   },
   "outputs": [
    {
     "data": {
      "application/vnd.jupyter.widget-view+json": {
       "model_id": "7e1ecc00844049f0aa3c293ad39a0dd3",
       "version_major": 2,
       "version_minor": 0
      },
      "text/plain": [
       "Calcualte the high correaltion:   0%|          | 0/49594 [00:00<?, ?it/s]"
      ]
     },
     "metadata": {},
     "output_type": "display_data"
    }
   ],
   "source": [
    "# với mỗi sản phẩm, lấy 3 sản phẩm tương quan nhất\n",
    "results = {}\n",
    "\n",
    "for idx, row in tqdm(clean_prd_df.iterrows(),'Calcualte the high correaltion',total=clean_prd_df.shape[0]):\n",
    "    similar_indices = cosine_similarities[idx].argsort()[-6:-1]\n",
    "    similar_items = [(cosine_similarities[idx][i]) for i in similar_indices]\n",
    "    similar_items = [(cosine_similarities[idx][i], clean_prd_df.index[i]) for i in similar_indices]\n",
    "    #print(similar_items[0:])\n",
    "    results[idx] = similar_items[0:]"
   ]
  },
  {
   "cell_type": "code",
   "execution_count": 22,
   "id": "4a9c6b9e-cde8-41bf-8767-d503f920871b",
   "metadata": {
    "colab": {
     "base_uri": "https://localhost:8080/"
    },
    "id": "suhVcWK5MVPL",
    "outputId": "fca74265-ab41-459c-ae8d-626635ebf90b"
   },
   "outputs": [
    {
     "data": {
      "text/plain": [
       "[(0.5371489791665923, 898),\n",
       " (0.5454050100363411, 1068),\n",
       " (0.5527234870850822, 401),\n",
       " (0.5604763876794088, 7329),\n",
       " (0.5623337185323803, 268)]"
      ]
     },
     "execution_count": 22,
     "metadata": {},
     "output_type": "execute_result"
    }
   ],
   "source": [
    "results[0]"
   ]
  },
  {
   "cell_type": "markdown",
   "id": "f9619a23-19d7-451d-8f93-ddda8913f10d",
   "metadata": {},
   "source": [
    "## Save file"
   ]
  },
  {
   "cell_type": "code",
   "execution_count": 23,
   "id": "ee37a522-9018-430d-8470-deab8e885404",
   "metadata": {},
   "outputs": [],
   "source": [
    "# Save the array to a file\n",
    "np.save('../DATA/cosine_sim_prd.npy', results)"
   ]
  },
  {
   "cell_type": "markdown",
   "id": "30b882e5-f06e-4857-9ef6-bedcb2fee91c",
   "metadata": {},
   "source": [
    "## Apply Cosine Similarity"
   ]
  },
  {
   "cell_type": "code",
   "execution_count": 24,
   "id": "c53cbb75-c601-484f-a5f1-a9f5fe9f710f",
   "metadata": {},
   "outputs": [],
   "source": [
    "def item(id_prd,df):\n",
    "    \n",
    "    return text"
   ]
  },
  {
   "cell_type": "code",
   "execution_count": 56,
   "id": "4b3a42b3-d072-4013-b669-23380b1c17b9",
   "metadata": {},
   "outputs": [
    {
     "data": {
      "text/html": [
       "<div>\n",
       "<style scoped>\n",
       "    .dataframe tbody tr th:only-of-type {\n",
       "        vertical-align: middle;\n",
       "    }\n",
       "\n",
       "    .dataframe tbody tr th {\n",
       "        vertical-align: top;\n",
       "    }\n",
       "\n",
       "    .dataframe thead th {\n",
       "        text-align: right;\n",
       "    }\n",
       "</style>\n",
       "<table border=\"1\" class=\"dataframe\">\n",
       "  <thead>\n",
       "    <tr style=\"text-align: right;\">\n",
       "      <th></th>\n",
       "      <th>item_id</th>\n",
       "      <th>product_id</th>\n",
       "      <th>product_name</th>\n",
       "      <th>sub_category</th>\n",
       "      <th>price</th>\n",
       "      <th>rating</th>\n",
       "      <th>clean_desc</th>\n",
       "      <th>clean_prd_name</th>\n",
       "    </tr>\n",
       "  </thead>\n",
       "  <tbody>\n",
       "    <tr>\n",
       "      <th>0</th>\n",
       "      <td>0</td>\n",
       "      <td>190</td>\n",
       "      <td>Áo ba lỗ thun gân ,form body tôn dáng</td>\n",
       "      <td>Áo Ba Lỗ</td>\n",
       "      <td>86250.0</td>\n",
       "      <td>4.9</td>\n",
       "      <td>áo lỗ chiều đường_phố nhiệt_đới tal fit xuất_x...</td>\n",
       "      <td>áo lỗ thun gân form body</td>\n",
       "    </tr>\n",
       "    <tr>\n",
       "      <th>1</th>\n",
       "      <td>1</td>\n",
       "      <td>191</td>\n",
       "      <td>Áo Ba Lỗ Nam Trắng Chất Cotton Siêu Mát, Siêu Đẹp</td>\n",
       "      <td>Áo Ba Lỗ</td>\n",
       "      <td>26800.0</td>\n",
       "      <td>4.9</td>\n",
       "      <td>áo lỗ xuất_xứ việt_nam tổ_chức trách_nhiệm sản...</td>\n",
       "      <td>áo lỗ nam trắng chất_cotton siêu_mát đẹp</td>\n",
       "    </tr>\n",
       "    <tr>\n",
       "      <th>2</th>\n",
       "      <td>2</td>\n",
       "      <td>192</td>\n",
       "      <td>Áo Ba Lỗ Nam Tyasuo chất vải co dãn mát, không...</td>\n",
       "      <td>Áo Ba Lỗ</td>\n",
       "      <td>39500.0</td>\n",
       "      <td>4.8</td>\n",
       "      <td>áo lỗ thương_hiệu tyasuo chiều áo không_thể đư...</td>\n",
       "      <td>áo lỗ nam tyasuo chất vải co_dãn mát không_xù mềm</td>\n",
       "    </tr>\n",
       "    <tr>\n",
       "      <th>3</th>\n",
       "      <td>3</td>\n",
       "      <td>193</td>\n",
       "      <td>ÁO BA LỖ HÀNG VIỆT NAM 100% COTTON</td>\n",
       "      <td>Áo Ba Lỗ</td>\n",
       "      <td>16500.0</td>\n",
       "      <td>4.8</td>\n",
       "      <td>áo lỗ chất_liệu hàng gửi hà_nội áo lỗ nam mặc ...</td>\n",
       "      <td>áo lỗ hàng việt_nam</td>\n",
       "    </tr>\n",
       "    <tr>\n",
       "      <th>4</th>\n",
       "      <td>4</td>\n",
       "      <td>194</td>\n",
       "      <td>Áo Thun Nam Thể Thao Ba Lỗ Mẫu Mới Siêu Đẹp (B...</td>\n",
       "      <td>Áo Ba Lỗ</td>\n",
       "      <td>45000.0</td>\n",
       "      <td>4.8</td>\n",
       "      <td>áo lỗ chiều áo không_thể hàng gửi hà_nội thông...</td>\n",
       "      <td>áo thun nam thể_thao lỗ mẫu mới đẹp</td>\n",
       "    </tr>\n",
       "  </tbody>\n",
       "</table>\n",
       "</div>"
      ],
      "text/plain": [
       "   item_id  product_id                                       product_name  \\\n",
       "0        0         190              Áo ba lỗ thun gân ,form body tôn dáng   \n",
       "1        1         191  Áo Ba Lỗ Nam Trắng Chất Cotton Siêu Mát, Siêu Đẹp   \n",
       "2        2         192  Áo Ba Lỗ Nam Tyasuo chất vải co dãn mát, không...   \n",
       "3        3         193                 ÁO BA LỖ HÀNG VIỆT NAM 100% COTTON   \n",
       "4        4         194  Áo Thun Nam Thể Thao Ba Lỗ Mẫu Mới Siêu Đẹp (B...   \n",
       "\n",
       "  sub_category    price  rating  \\\n",
       "0     Áo Ba Lỗ  86250.0     4.9   \n",
       "1     Áo Ba Lỗ  26800.0     4.9   \n",
       "2     Áo Ba Lỗ  39500.0     4.8   \n",
       "3     Áo Ba Lỗ  16500.0     4.8   \n",
       "4     Áo Ba Lỗ  45000.0     4.8   \n",
       "\n",
       "                                          clean_desc  \\\n",
       "0  áo lỗ chiều đường_phố nhiệt_đới tal fit xuất_x...   \n",
       "1  áo lỗ xuất_xứ việt_nam tổ_chức trách_nhiệm sản...   \n",
       "2  áo lỗ thương_hiệu tyasuo chiều áo không_thể đư...   \n",
       "3  áo lỗ chất_liệu hàng gửi hà_nội áo lỗ nam mặc ...   \n",
       "4  áo lỗ chiều áo không_thể hàng gửi hà_nội thông...   \n",
       "\n",
       "                                      clean_prd_name  \n",
       "0                           áo lỗ thun gân form body  \n",
       "1           áo lỗ nam trắng chất_cotton siêu_mát đẹp  \n",
       "2  áo lỗ nam tyasuo chất vải co_dãn mát không_xù mềm  \n",
       "3                                áo lỗ hàng việt_nam  \n",
       "4                áo thun nam thể_thao lỗ mẫu mới đẹp  "
      ]
     },
     "execution_count": 56,
     "metadata": {},
     "output_type": "execute_result"
    }
   ],
   "source": [
    "final_df = clean_prd_df.reset_index().rename(columns={'index':'item_id'})\n",
    "final_df.head()"
   ]
  },
  {
   "cell_type": "code",
   "execution_count": 68,
   "id": "698ec5a6-9af3-44e2-85c9-b211940ba325",
   "metadata": {},
   "outputs": [
    {
     "data": {
      "text/plain": [
       "'Áo Ba Lỗ Nam Trắng Chất Cotton Siêu Mát, Siêu Đẹp'"
      ]
     },
     "execution_count": 68,
     "metadata": {},
     "output_type": "execute_result"
    }
   ],
   "source": [
    "final_df.loc[final_df['item_id'] == 1,'product_name'].values[0]"
   ]
  },
  {
   "cell_type": "code",
   "execution_count": 69,
   "id": "6abf9bf0-03ab-4e3c-84a9-16e71f3acdac",
   "metadata": {},
   "outputs": [],
   "source": [
    "def recommend_cosine(prd_id,\n",
    "                     df,\n",
    "                     cosine_array, num = 5):\n",
    "    text =  df.loc[df['item_id'] == prd_id,'product_name'].values[0]\n",
    "    print(f'Recommending {num} products similar to ***{text}***')\n",
    "    recs = cosine_array[prd_id][:num]\n",
    "    for rec in recs:\n",
    "        #print(rec[1])\n",
    "        print(f\"Recommnended:\\tItem ID: {rec[1]}, {df.loc[df['item_id'] == rec[1],'product_name'].values[0]}, (score: {rec[0]})\\n\")"
   ]
  },
  {
   "cell_type": "code",
   "execution_count": 71,
   "id": "a62cda79-beaa-4fbe-bd10-14a1ca4c9fca",
   "metadata": {},
   "outputs": [
    {
     "name": "stdout",
     "output_type": "stream",
     "text": [
      "Recommending 4 products similar to ***áo sọc nam***\n",
      "Recommnended:\tItem ID: 474, áo 3 lỗ nam sọc ngang Mã: NB073, (score: 0.7646320602976147)\n",
      "\n",
      "Recommnended:\tItem ID: 41193, Áo Sơ Mi Nam Dài Tay Kẻ Sọc Thời Trang, (score: 0.8196531776925334)\n",
      "\n",
      "Recommnended:\tItem ID: 35176, Quần thể thao kẻ sọc nam 1 sọc - 2 sọc - 3 sọc, (score: 0.8400904703451335)\n",
      "\n",
      "Recommnended:\tItem ID: 18173, Áo Thun Nam Kẻ Sọc Thời Trang Cy33, (score: 0.8549251132460183)\n",
      "\n"
     ]
    }
   ],
   "source": [
    "recommend_cosine(prd_id=2001,df=final_df,cosine_array=results,num=4)"
   ]
  },
  {
   "cell_type": "code",
   "execution_count": null,
   "id": "ed3d308f-7d64-476f-a143-684098bd399a",
   "metadata": {},
   "outputs": [],
   "source": []
  }
 ],
 "metadata": {
  "kernelspec": {
   "display_name": "Python 3 (ipykernel)",
   "language": "python",
   "name": "python3"
  },
  "language_info": {
   "codemirror_mode": {
    "name": "ipython",
    "version": 3
   },
   "file_extension": ".py",
   "mimetype": "text/x-python",
   "name": "python",
   "nbconvert_exporter": "python",
   "pygments_lexer": "ipython3",
   "version": "3.9.18"
  }
 },
 "nbformat": 4,
 "nbformat_minor": 5
}
