{
 "cells": [
  {
   "cell_type": "code",
   "execution_count": 11,
   "id": "a8ec4991-1591-41b3-a364-92b3d1515297",
   "metadata": {},
   "outputs": [],
   "source": [
    "%load_ext autoreload\n",
    "%autoreload 2\n",
    "from project_transformer import Data_Wrangling"
   ]
  },
  {
   "cell_type": "code",
   "execution_count": 1,
   "id": "4ec42733-a55f-4e72-9e90-fd5736999fce",
   "metadata": {},
   "outputs": [],
   "source": [
    "import numpy as np\n",
    "import pandas as pd\n",
    "import matplotlib.pyplot as plt\n",
    "from sklearn.feature_extraction.text import TfidfVectorizer\n",
    "from sklearn.metrics.pairwise import linear_kernel, cosine_similarity\n",
    "from underthesea import word_tokenize, pos_tag, sent_tokenize\n",
    "import warnings\n",
    "from gensim import corpora, models, similarities\n",
    "import gensim\n",
    "import re"
   ]
  },
  {
   "cell_type": "code",
   "execution_count": 25,
   "id": "c3a98db6-b7b2-411a-9ee7-bbdca70091cc",
   "metadata": {},
   "outputs": [],
   "source": [
    "import matplotlib.pyplot as plt \n",
    "import seaborn as sns\n",
    "import glob\n",
    "import os \n",
    "from tqdm.auto import tqdm\n",
    "import re\n",
    "import pickle"
   ]
  },
  {
   "cell_type": "code",
   "execution_count": 29,
   "id": "0bdc5f6b-d4fb-4078-b99c-4abcab848949",
   "metadata": {},
   "outputs": [],
   "source": [
    "import scipy.sparse as ss"
   ]
  },
  {
   "cell_type": "markdown",
   "id": "84c38e07-6e64-4a30-be78-0923b5545ce8",
   "metadata": {},
   "source": [
    "# Function:"
   ]
  },
  {
   "cell_type": "code",
   "execution_count": 12,
   "id": "eeadfb65-873d-40cf-bc2a-87559761ad60",
   "metadata": {},
   "outputs": [],
   "source": [
    "# EMOJI\n",
    "with open('../DATA/files/emojicon.txt', 'r', encoding=\"utf8\") as file:\n",
    "    emoji_lst = file.read().split('\\n')\n",
    "    emoji_dict = {}\n",
    "    for line in emoji_lst:\n",
    "        key, value = line.split('\\t')\n",
    "        emoji_dict[key] = str(value)\n",
    "\n",
    "# TEEN CODE\n",
    "with open('../DATA/files/teencode.txt', 'r', encoding=\"utf8\") as file:\n",
    "    teen_lst = file.read().split('\\n')\n",
    "    teen_dict = {}\n",
    "    for line in teen_lst:\n",
    "        key, value = line.split('\\t')\n",
    "        teen_dict[key] = str(value)\n",
    "\n",
    "# ENG VIET\n",
    "with open('../DATA/files/english-vnmese.txt', 'r', encoding=\"utf8\") as file:\n",
    "    eng_lst = file.read().split('\\n')\n",
    "    eng_dict = {}\n",
    "    for line in eng_lst:\n",
    "        key, value = line.split('\\t')\n",
    "        eng_dict[key] = str(value)\n",
    "\n",
    "# WRONG WORD\n",
    "with open('../DATA/files/wrong-word.txt', 'r', encoding=\"utf8\") as file:\n",
    "    wrong_lst = file.read().split('\\n')\n",
    "\n",
    "# STOP WORD\n",
    "with open('../DATA/files/vietnamese-stopwords.txt', 'r', encoding=\"utf8\") as file:\n",
    "    stop_lst = file.read().split('\\n')"
   ]
  },
  {
   "cell_type": "markdown",
   "id": "6ea86d53-39a7-49af-9f07-6a9337784743",
   "metadata": {},
   "source": [
    "## Build CLEANSER"
   ]
  },
  {
   "cell_type": "code",
   "execution_count": 13,
   "id": "f4386e8d-dce9-4460-9ba6-0a820b31d3ed",
   "metadata": {},
   "outputs": [],
   "source": [
    "data_cleanser = Data_Wrangling(emoji_dict=emoji_dict,\n",
    "                               teen_dict=teen_dict,\n",
    "                               wrong_lst=wrong_lst,\n",
    "                               eng_vn_dict=eng_dict,\n",
    "                               stop_words=stop_lst)"
   ]
  },
  {
   "cell_type": "markdown",
   "id": "342bd3b6-0084-4a7e-a8ae-c9cacaf78109",
   "metadata": {},
   "source": [
    "### Gensim"
   ]
  },
  {
   "cell_type": "code",
   "execution_count": 52,
   "id": "4459dc50-667e-492f-aab0-71289d680acd",
   "metadata": {},
   "outputs": [],
   "source": [
    "def recommender_gensim(view_prd: str,\n",
    "                       cleaner,\n",
    "                       dict_prd: corpora.Dictionary,\n",
    "                       tfidf_model: gensim.models.tfidfmodel.TfidfModel,\n",
    "                       similarity: gensim.similarities.docsim.SparseMatrixSimilarity,\n",
    "                       prd_df: pd.DataFrame):\n",
    "    # Convert search words into Sparse Vectors\n",
    "    clean_txt = cleaner.process_text(text=view_prd)\n",
    "    clean_txt = cleaner.process_postag_thesea(clean_txt)\n",
    "\n",
    "    clean_ls = clean_txt.split()\n",
    "    kw_vector = dict_prd.doc2bow(clean_ls)\n",
    "    print(\"View product's vector:\")\n",
    "    print(kw_vector)\n",
    "\n",
    "    # similarity calculation\n",
    "    sim = similarity[tfidf_model[kw_vector]]\n",
    "\n",
    "    # print result\n",
    "    list_id = []\n",
    "    list_score = []\n",
    "    for i in range(len(sim)):\n",
    "        list_id.append(i)\n",
    "        list_score.append(sim[i])\n",
    "\n",
    "    # Create df\n",
    "    df_res = pd.DataFrame({'id': list_id, 'score': list_score})\n",
    "\n",
    "    # Get 5 highest score\n",
    "    five_h_score = df_res.sort_values(by='score', ascending=False).head(6)\n",
    "    print(\"Five highest scores:\")\n",
    "    print(five_h_score)\n",
    "    print('IDS to list:')\n",
    "    id_to_ls = five_h_score['id'].to_list()\n",
    "    print(id_to_ls)\n",
    "\n",
    "    # Find prd\n",
    "    prd_find = prd_df[prd_df.index.isin(id_to_ls)]\n",
    "    prd_results = prd_find[['product_id', 'product_name', 'clean_prd_name', 'sub_category', 'price', 'rating']]\n",
    "    final = pd.concat([prd_results, five_h_score], axis=1).sort_values(by='score', ascending=False)\n",
    "    return final"
   ]
  },
  {
   "cell_type": "markdown",
   "id": "1edb1c30-b764-4fd0-beaa-c68c262b3eff",
   "metadata": {},
   "source": [
    "### Similarity:"
   ]
  },
  {
   "cell_type": "code",
   "execution_count": 51,
   "id": "a90e8bd3-120d-43cb-b09e-d75f1e80f7c9",
   "metadata": {},
   "outputs": [],
   "source": [
    "def recommend_cosine(text_,\n",
    "                     df,\n",
    "                     cleaner,\n",
    "                     tf_idf_model,\n",
    "                     tf_idf_arr,\n",
    "                     num=5):\n",
    "    # Convert search words into Sparse Vectors\n",
    "    clean_txt = cleaner.process_text(text=text_)\n",
    "    clean_txt = cleaner.process_postag_thesea(clean_txt)\n",
    "\n",
    "    # Get Sparse Matrix from TFIDF\n",
    "    txt_sparse_matrix = tf_idf_model.transform([clean_txt])\n",
    "\n",
    "    # Calcualte the cosine score\n",
    "    cosine_text_ = cosine_similarity(X=txt_sparse_matrix,\n",
    "                                     Y=tf_idf_arr)\n",
    "\n",
    "    top5_prd = cosine_text_.flatten().argsort()[-num:-1]\n",
    "    top5_score = [(cosine_text_.flatten()[i]) for i in top5_prd]\n",
    "\n",
    "    # Extract Product\n",
    "    ls_item = []\n",
    "    for id, sim in zip(top5_prd, top5_score):\n",
    "        sim_item = {'item_id': id, 'score': sim}\n",
    "        ls_item.append(sim_item)\n",
    "    print(f\"San Pham user nhap: {text_}\\n\\n\")\n",
    "    for rec in ls_item:\n",
    "        # print(rec[1])\n",
    "        print(\n",
    "            f\"Recommnended:\\tItem ID: {rec['item_id']}, {df.loc[df['item_id'] == rec['item_id'], 'product_name'].values[0]}, (score: {rec['score']})\\n\")\n",
    "    get_item = df['item_id'].isin(top5_prd)\n",
    "\n",
    "    return df[get_item]"
   ]
  },
  {
   "cell_type": "markdown",
   "id": "28453734-d7d9-4032-9c42-027597a9a0c3",
   "metadata": {},
   "source": [
    "# Load Product DF:"
   ]
  },
  {
   "cell_type": "code",
   "execution_count": 53,
   "id": "130fac15-7341-4aa0-b07f-3704ee1e098a",
   "metadata": {},
   "outputs": [
    {
     "data": {
      "text/html": [
       "<div>\n",
       "<style scoped>\n",
       "    .dataframe tbody tr th:only-of-type {\n",
       "        vertical-align: middle;\n",
       "    }\n",
       "\n",
       "    .dataframe tbody tr th {\n",
       "        vertical-align: top;\n",
       "    }\n",
       "\n",
       "    .dataframe thead th {\n",
       "        text-align: right;\n",
       "    }\n",
       "</style>\n",
       "<table border=\"1\" class=\"dataframe\">\n",
       "  <thead>\n",
       "    <tr style=\"text-align: right;\">\n",
       "      <th></th>\n",
       "      <th>item_id</th>\n",
       "      <th>product_id</th>\n",
       "      <th>product_name</th>\n",
       "      <th>sub_category</th>\n",
       "      <th>price</th>\n",
       "      <th>rating</th>\n",
       "      <th>clean_desc</th>\n",
       "      <th>clean_prd_name</th>\n",
       "    </tr>\n",
       "  </thead>\n",
       "  <tbody>\n",
       "    <tr>\n",
       "      <th>0</th>\n",
       "      <td>0</td>\n",
       "      <td>190</td>\n",
       "      <td>Áo ba lỗ thun gân ,form body tôn dáng</td>\n",
       "      <td>Áo Ba Lỗ</td>\n",
       "      <td>86250.0</td>\n",
       "      <td>4.9</td>\n",
       "      <td>áo lỗ chiều đường_phố nhiệt_đới tal fit xuất_x...</td>\n",
       "      <td>áo lỗ thun gân form body</td>\n",
       "    </tr>\n",
       "    <tr>\n",
       "      <th>1</th>\n",
       "      <td>1</td>\n",
       "      <td>191</td>\n",
       "      <td>Áo Ba Lỗ Nam Trắng Chất Cotton Siêu Mát, Siêu Đẹp</td>\n",
       "      <td>Áo Ba Lỗ</td>\n",
       "      <td>26800.0</td>\n",
       "      <td>4.9</td>\n",
       "      <td>áo lỗ xuất_xứ việt_nam tổ_chức trách_nhiệm sản...</td>\n",
       "      <td>áo lỗ nam trắng chất_cotton siêu_mát đẹp</td>\n",
       "    </tr>\n",
       "    <tr>\n",
       "      <th>2</th>\n",
       "      <td>2</td>\n",
       "      <td>192</td>\n",
       "      <td>Áo Ba Lỗ Nam Tyasuo chất vải co dãn mát, không...</td>\n",
       "      <td>Áo Ba Lỗ</td>\n",
       "      <td>39500.0</td>\n",
       "      <td>4.8</td>\n",
       "      <td>áo lỗ thương_hiệu tyasuo chiều áo không_thể đư...</td>\n",
       "      <td>áo lỗ nam tyasuo chất vải co_dãn mát không_xù mềm</td>\n",
       "    </tr>\n",
       "    <tr>\n",
       "      <th>3</th>\n",
       "      <td>3</td>\n",
       "      <td>193</td>\n",
       "      <td>ÁO BA LỖ HÀNG VIỆT NAM 100% COTTON</td>\n",
       "      <td>Áo Ba Lỗ</td>\n",
       "      <td>16500.0</td>\n",
       "      <td>4.8</td>\n",
       "      <td>áo lỗ chất_liệu hàng gửi hà_nội áo lỗ nam mặc ...</td>\n",
       "      <td>áo lỗ hàng việt_nam</td>\n",
       "    </tr>\n",
       "    <tr>\n",
       "      <th>4</th>\n",
       "      <td>4</td>\n",
       "      <td>194</td>\n",
       "      <td>Áo Thun Nam Thể Thao Ba Lỗ Mẫu Mới Siêu Đẹp (B...</td>\n",
       "      <td>Áo Ba Lỗ</td>\n",
       "      <td>45000.0</td>\n",
       "      <td>4.8</td>\n",
       "      <td>áo lỗ chiều áo không_thể hàng gửi hà_nội thông...</td>\n",
       "      <td>áo thun nam thể_thao lỗ mẫu mới đẹp</td>\n",
       "    </tr>\n",
       "  </tbody>\n",
       "</table>\n",
       "</div>"
      ],
      "text/plain": [
       "   item_id  product_id                                       product_name  \\\n",
       "0        0         190              Áo ba lỗ thun gân ,form body tôn dáng   \n",
       "1        1         191  Áo Ba Lỗ Nam Trắng Chất Cotton Siêu Mát, Siêu Đẹp   \n",
       "2        2         192  Áo Ba Lỗ Nam Tyasuo chất vải co dãn mát, không...   \n",
       "3        3         193                 ÁO BA LỖ HÀNG VIỆT NAM 100% COTTON   \n",
       "4        4         194  Áo Thun Nam Thể Thao Ba Lỗ Mẫu Mới Siêu Đẹp (B...   \n",
       "\n",
       "  sub_category    price  rating  \\\n",
       "0     Áo Ba Lỗ  86250.0     4.9   \n",
       "1     Áo Ba Lỗ  26800.0     4.9   \n",
       "2     Áo Ba Lỗ  39500.0     4.8   \n",
       "3     Áo Ba Lỗ  16500.0     4.8   \n",
       "4     Áo Ba Lỗ  45000.0     4.8   \n",
       "\n",
       "                                          clean_desc  \\\n",
       "0  áo lỗ chiều đường_phố nhiệt_đới tal fit xuất_x...   \n",
       "1  áo lỗ xuất_xứ việt_nam tổ_chức trách_nhiệm sản...   \n",
       "2  áo lỗ thương_hiệu tyasuo chiều áo không_thể đư...   \n",
       "3  áo lỗ chất_liệu hàng gửi hà_nội áo lỗ nam mặc ...   \n",
       "4  áo lỗ chiều áo không_thể hàng gửi hà_nội thông...   \n",
       "\n",
       "                                      clean_prd_name  \n",
       "0                           áo lỗ thun gân form body  \n",
       "1           áo lỗ nam trắng chất_cotton siêu_mát đẹp  \n",
       "2  áo lỗ nam tyasuo chất vải co_dãn mát không_xù mềm  \n",
       "3                                áo lỗ hàng việt_nam  \n",
       "4                áo thun nam thể_thao lỗ mẫu mới đẹp  "
      ]
     },
     "execution_count": 53,
     "metadata": {},
     "output_type": "execute_result"
    }
   ],
   "source": [
    "use_cols = ['item_id','product_id','sub_category','price','rating','clean_desc','product_name','clean_prd_name']\n",
    "clean_prd_df = pd.read_csv('../DATA/final_details.csv',usecols=use_cols)\n",
    "clean_prd_df.head()"
   ]
  },
  {
   "cell_type": "markdown",
   "id": "998e4deb-aea3-4eab-95e6-776117a62f98",
   "metadata": {},
   "source": [
    "# Gensim"
   ]
  },
  {
   "cell_type": "markdown",
   "id": "52bf77f9-c652-43db-99f4-248f0dd341c3",
   "metadata": {},
   "source": [
    "## Load Model and Product Dataframe:"
   ]
  },
  {
   "cell_type": "code",
   "execution_count": 40,
   "id": "08f5bcaf-4c42-449e-a4fb-e68aa2c1dfcc",
   "metadata": {},
   "outputs": [],
   "source": [
    "# Load the TF-IDF model from the file\n",
    "loaded_tfidf_model = models.TfidfModel.load('../DATA/Gensim/tfidf_model')\n",
    "\n",
    "# Load the dictionary from the file\n",
    "loaded_dictionary = corpora.Dictionary.load('../DATA/Gensim/corpus_dictionary')\n",
    "\n",
    "# Load the similarity matrx \n",
    "loaded_similarity_matrix  = similarities.SparseMatrixSimilarity.load(\"../DATA/Gensim/similarity_matrix.index\")"
   ]
  },
  {
   "cell_type": "markdown",
   "id": "20a6f042-e809-4e03-abfc-0447862e8288",
   "metadata": {},
   "source": [
    "## Test Fuction:"
   ]
  },
  {
   "cell_type": "code",
   "execution_count": 7,
   "id": "6b021bda-1327-4817-a527-6c697ddc0f96",
   "metadata": {},
   "outputs": [],
   "source": [
    "#clean_prd_df"
   ]
  },
  {
   "cell_type": "code",
   "execution_count": 41,
   "id": "d28744ca-4aa5-42a3-8669-de54b7554eeb",
   "metadata": {},
   "outputs": [
    {
     "data": {
      "text/plain": [
       "'Áo thun nam ba lỗ TN195 lông vũ thoáng mát vải sợi tre tổng hợp đẹp'"
      ]
     },
     "execution_count": 41,
     "metadata": {},
     "output_type": "execute_result"
    }
   ],
   "source": [
    "text_prd = clean_prd_df.loc[100,'product_name']\n",
    "text_prd"
   ]
  },
  {
   "cell_type": "code",
   "execution_count": 55,
   "id": "30117237-c965-4faf-b569-355be5def471",
   "metadata": {},
   "outputs": [
    {
     "name": "stdout",
     "output_type": "stream",
     "text": [
      "View product's vector:\n",
      "[(3, 1), (4, 1), (5, 1), (7, 1), (10, 1), (14, 1), (290, 1), (291, 1), (292, 1), (293, 1)]\n",
      "Five highest scores:\n",
      "          id     score\n",
      "100      100  1.000000\n",
      "16256  16256  0.659966\n",
      "7073    7073  0.640037\n",
      "16325  16325  0.578909\n",
      "151      151  0.474653\n",
      "150      150  0.465541\n",
      "IDS to list:\n",
      "[100, 16256, 7073, 16325, 151, 150]\n"
     ]
    }
   ],
   "source": [
    "results_df = recommender_gensim(view_prd=text_prd,\n",
    "                                cleaner=data_cleanser,\n",
    "                                dict_prd=loaded_dictionary,\n",
    "                                tfidf_model=loaded_tfidf_model,\n",
    "                                similarity=loaded_similarity_matrix,\n",
    "                                prd_df=clean_prd_df)"
   ]
  },
  {
   "cell_type": "code",
   "execution_count": 56,
   "id": "82ddf237-84a8-456d-ae10-02e49a512d1f",
   "metadata": {},
   "outputs": [
    {
     "data": {
      "text/html": [
       "<div>\n",
       "<style scoped>\n",
       "    .dataframe tbody tr th:only-of-type {\n",
       "        vertical-align: middle;\n",
       "    }\n",
       "\n",
       "    .dataframe tbody tr th {\n",
       "        vertical-align: top;\n",
       "    }\n",
       "\n",
       "    .dataframe thead th {\n",
       "        text-align: right;\n",
       "    }\n",
       "</style>\n",
       "<table border=\"1\" class=\"dataframe\">\n",
       "  <thead>\n",
       "    <tr style=\"text-align: right;\">\n",
       "      <th></th>\n",
       "      <th>product_id</th>\n",
       "      <th>product_name</th>\n",
       "      <th>clean_prd_name</th>\n",
       "      <th>sub_category</th>\n",
       "      <th>price</th>\n",
       "      <th>rating</th>\n",
       "      <th>id</th>\n",
       "      <th>score</th>\n",
       "    </tr>\n",
       "  </thead>\n",
       "  <tbody>\n",
       "    <tr>\n",
       "      <th>100</th>\n",
       "      <td>19100</td>\n",
       "      <td>Áo thun nam ba lỗ TN195 lông vũ thoáng mát vải...</td>\n",
       "      <td>áo thun nam lỗ lông_vũ_thoáng mát vải_sợi tre ...</td>\n",
       "      <td>Áo Ba Lỗ</td>\n",
       "      <td>47170.0</td>\n",
       "      <td>4.7</td>\n",
       "      <td>100</td>\n",
       "      <td>1.000000</td>\n",
       "    </tr>\n",
       "    <tr>\n",
       "      <th>16256</th>\n",
       "      <td>233928</td>\n",
       "      <td>Đồ bộ thể thao nam DB01 vải sợi tre tổng hợp đẹp</td>\n",
       "      <td>đồ bộ thể_thao nam vải_sợi tre tổng_hợp đẹp</td>\n",
       "      <td>Đồ Bộ</td>\n",
       "      <td>63600.0</td>\n",
       "      <td>4.8</td>\n",
       "      <td>16256</td>\n",
       "      <td>0.659966</td>\n",
       "    </tr>\n",
       "    <tr>\n",
       "      <th>7073</th>\n",
       "      <td>18693</td>\n",
       "      <td>Áo thun nam tay dài TN159 có khoá kéo vải sợi ...</td>\n",
       "      <td>áo thun nam tay dài có khóa kéo vải_sợi tre tổ...</td>\n",
       "      <td>Áo</td>\n",
       "      <td>63600.0</td>\n",
       "      <td>4.7</td>\n",
       "      <td>7073</td>\n",
       "      <td>0.640037</td>\n",
       "    </tr>\n",
       "    <tr>\n",
       "      <th>16325</th>\n",
       "      <td>233997</td>\n",
       "      <td>Đồ bộ thể thao nam DB02 lông vũ vải sợi tre tổ...</td>\n",
       "      <td>đồ bộ thể_thao nam lông_vũ vải_sợi tre tổng_hợ...</td>\n",
       "      <td>Đồ Bộ</td>\n",
       "      <td>63600.0</td>\n",
       "      <td>4.7</td>\n",
       "      <td>16325</td>\n",
       "      <td>0.578909</td>\n",
       "    </tr>\n",
       "    <tr>\n",
       "      <th>151</th>\n",
       "      <td>19151</td>\n",
       "      <td>Áo thun nam ba lỗ TN102 sát nách nhiều màu vải...</td>\n",
       "      <td>áo thun nam lỗ sát_nách nhiều màu vải_sợi tre</td>\n",
       "      <td>Áo Ba Lỗ</td>\n",
       "      <td>68085.0</td>\n",
       "      <td>4.7</td>\n",
       "      <td>151</td>\n",
       "      <td>0.474653</td>\n",
       "    </tr>\n",
       "    <tr>\n",
       "      <th>150</th>\n",
       "      <td>19150</td>\n",
       "      <td>Áo phông nam ba lỗ thể thao SPORT TN109 nhiều ...</td>\n",
       "      <td>áo phông nam lỗ thể_thao sport nhiều màu_sắc v...</td>\n",
       "      <td>Áo Ba Lỗ</td>\n",
       "      <td>32400.0</td>\n",
       "      <td>4.8</td>\n",
       "      <td>150</td>\n",
       "      <td>0.465541</td>\n",
       "    </tr>\n",
       "  </tbody>\n",
       "</table>\n",
       "</div>"
      ],
      "text/plain": [
       "       product_id                                       product_name  \\\n",
       "100         19100  Áo thun nam ba lỗ TN195 lông vũ thoáng mát vải...   \n",
       "16256      233928   Đồ bộ thể thao nam DB01 vải sợi tre tổng hợp đẹp   \n",
       "7073        18693  Áo thun nam tay dài TN159 có khoá kéo vải sợi ...   \n",
       "16325      233997  Đồ bộ thể thao nam DB02 lông vũ vải sợi tre tổ...   \n",
       "151         19151  Áo thun nam ba lỗ TN102 sát nách nhiều màu vải...   \n",
       "150         19150  Áo phông nam ba lỗ thể thao SPORT TN109 nhiều ...   \n",
       "\n",
       "                                          clean_prd_name sub_category  \\\n",
       "100    áo thun nam lỗ lông_vũ_thoáng mát vải_sợi tre ...     Áo Ba Lỗ   \n",
       "16256        đồ bộ thể_thao nam vải_sợi tre tổng_hợp đẹp        Đồ Bộ   \n",
       "7073   áo thun nam tay dài có khóa kéo vải_sợi tre tổ...           Áo   \n",
       "16325  đồ bộ thể_thao nam lông_vũ vải_sợi tre tổng_hợ...        Đồ Bộ   \n",
       "151        áo thun nam lỗ sát_nách nhiều màu vải_sợi tre     Áo Ba Lỗ   \n",
       "150    áo phông nam lỗ thể_thao sport nhiều màu_sắc v...     Áo Ba Lỗ   \n",
       "\n",
       "         price  rating     id     score  \n",
       "100    47170.0     4.7    100  1.000000  \n",
       "16256  63600.0     4.8  16256  0.659966  \n",
       "7073   63600.0     4.7   7073  0.640037  \n",
       "16325  63600.0     4.7  16325  0.578909  \n",
       "151    68085.0     4.7    151  0.474653  \n",
       "150    32400.0     4.8    150  0.465541  "
      ]
     },
     "execution_count": 56,
     "metadata": {},
     "output_type": "execute_result"
    }
   ],
   "source": [
    "results_df"
   ]
  },
  {
   "cell_type": "markdown",
   "id": "eddf36f6-879e-4b66-952c-7be68a2d811f",
   "metadata": {},
   "source": [
    "# Similarity"
   ]
  },
  {
   "cell_type": "markdown",
   "id": "c8933309-b134-493d-8e4c-01c89a2f4e58",
   "metadata": {},
   "source": [
    "## Load Model and Product Dataframe:"
   ]
  },
  {
   "cell_type": "code",
   "execution_count": 47,
   "id": "39138f2d-d37a-4f98-9070-5c9b6d39d1ec",
   "metadata": {},
   "outputs": [
    {
     "data": {
      "text/plain": [
       "sklearn.feature_extraction.text.TfidfVectorizer"
      ]
     },
     "execution_count": 47,
     "metadata": {},
     "output_type": "execute_result"
    }
   ],
   "source": [
    "with open('../DATA/tfidf_vectorizer.pkl', 'rb') as f:\n",
    "    sim_tfidf_model = pickle.load(f)\n",
    "type(sim_tfidf_model)"
   ]
  },
  {
   "cell_type": "code",
   "execution_count": 48,
   "id": "fb50b95e-62de-4a86-82f4-a2afa6015973",
   "metadata": {},
   "outputs": [
    {
     "data": {
      "text/plain": [
       "scipy.sparse._csr.csr_matrix"
      ]
     },
     "execution_count": 48,
     "metadata": {},
     "output_type": "execute_result"
    }
   ],
   "source": [
    "sim_tfidf_matrix = ss.load_npz('../DATA/tfidf_matrix.npz')\n",
    "type(sim_tfidf_matrix)"
   ]
  },
  {
   "cell_type": "markdown",
   "id": "c3fbc6ae-e251-478b-9610-f7734c5497da",
   "metadata": {},
   "source": [
    "## Test Fuction:"
   ]
  },
  {
   "cell_type": "code",
   "execution_count": 7,
   "id": "5b495e81-91c3-466f-89a2-234244174e76",
   "metadata": {},
   "outputs": [],
   "source": [
    "#clean_prd_df"
   ]
  },
  {
   "cell_type": "code",
   "execution_count": 49,
   "id": "23c4fa4b-0e02-4d93-af50-f9fea0089af6",
   "metadata": {},
   "outputs": [
    {
     "data": {
      "text/plain": [
       "'Áo thun nam ba lỗ TN195 lông vũ thoáng mát vải sợi tre tổng hợp đẹp'"
      ]
     },
     "execution_count": 49,
     "metadata": {},
     "output_type": "execute_result"
    }
   ],
   "source": [
    "text_prd = clean_prd_df.loc[100,'product_name']\n",
    "text_prd"
   ]
  },
  {
   "cell_type": "code",
   "execution_count": 58,
   "id": "cf7b9c64-d68c-4de8-b517-5e2ad61cd601",
   "metadata": {},
   "outputs": [
    {
     "name": "stdout",
     "output_type": "stream",
     "text": [
      "San Pham user nhap: Áo thun nam ba lỗ TN195 lông vũ thoáng mát vải sợi tre tổng hợp đẹp\n",
      "\n",
      "\n",
      "Recommnended:\tItem ID: 151, Áo thun nam ba lỗ TN102 sát nách nhiều màu vải sợi tre tổng hợp, (score: 0.5251569176942685)\n",
      "\n",
      "Recommnended:\tItem ID: 16325, Đồ bộ thể thao nam DB02 lông vũ vải sợi tre tổng hợp đẹp, (score: 0.6015559853144546)\n",
      "\n",
      "Recommnended:\tItem ID: 16256, Đồ bộ thể thao nam DB01 vải sợi tre tổng hợp đẹp, (score: 0.684391509250926)\n",
      "\n",
      "Recommnended:\tItem ID: 7073, Áo thun nam tay dài TN159 có khoá kéo vải sợi tre tổng hợp đẹp, (score: 0.6899129740582468)\n",
      "\n"
     ]
    },
    {
     "name": "stderr",
     "output_type": "stream",
     "text": [
      "C:\\ProgramData\\Anaconda3\\envs\\env39\\lib\\site-packages\\sklearn\\feature_extraction\\text.py:409: UserWarning: Your stop_words may be inconsistent with your preprocessing. Tokenizing the stop words generated tokens ['danh', 'mục', 'nam', 'shopee', 'thời', 'trang'] not in stop_words.\n",
      "  warnings.warn(\n"
     ]
    }
   ],
   "source": [
    "sim_res_df = recommend_cosine(text_=text_prd,\n",
    "                              cleaner=data_cleanser,\n",
    "                             df=clean_prd_df,\n",
    "                             tf_idf_model=sim_tfidf_model,\n",
    "                             tf_idf_arr=sim_tfidf_matrix)"
   ]
  }
 ],
 "metadata": {
  "kernelspec": {
   "display_name": "Python 3 (ipykernel)",
   "language": "python",
   "name": "python3"
  },
  "language_info": {
   "codemirror_mode": {
    "name": "ipython",
    "version": 3
   },
   "file_extension": ".py",
   "mimetype": "text/x-python",
   "name": "python",
   "nbconvert_exporter": "python",
   "pygments_lexer": "ipython3",
   "version": "3.9.18"
  }
 },
 "nbformat": 4,
 "nbformat_minor": 5
}
