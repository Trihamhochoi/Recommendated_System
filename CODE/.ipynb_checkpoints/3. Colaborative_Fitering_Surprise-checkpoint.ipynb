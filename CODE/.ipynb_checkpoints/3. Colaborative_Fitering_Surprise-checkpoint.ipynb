{
 "cells": [
  {
   "cell_type": "code",
   "execution_count": 1,
   "id": "f31aebd6-e028-48c5-9212-18353f6064ce",
   "metadata": {
    "executionInfo": {
     "elapsed": 974,
     "status": "ok",
     "timestamp": 1710404552630,
     "user": {
      "displayName": "Quốc Thái Phạm",
      "userId": "05056944187763502577"
     },
     "user_tz": -420
    },
    "id": "nX5-ZIKa0uXa"
   },
   "outputs": [],
   "source": [
    "import pandas as pd\n",
    "import numpy as np\n",
    "# from surprise import Reader, Dataset, SVD, SVDpp, NMF, SlopeOne, KNNBasic, KNNBaseline, KNNWithMeans, KNNWithZScore, CoClustering, BaselineOnly\n",
    "#from surprise import *\n",
    "from surprise.model_selection.validation import cross_validate\n",
    "\n",
    "from surprise import Dataset, Reader, KNNBasic, SVD\n",
    "from surprise.model_selection import train_test_split"
   ]
  },
  {
   "cell_type": "code",
   "execution_count": 2,
   "id": "26e628b9-f899-464f-9cba-592d7b9531bb",
   "metadata": {
    "executionInfo": {
     "elapsed": 882,
     "status": "ok",
     "timestamp": 1710404553502,
     "user": {
      "displayName": "Quốc Thái Phạm",
      "userId": "05056944187763502577"
     },
     "user_tz": -420
    },
    "id": "B0iUAGgd0axD"
   },
   "outputs": [],
   "source": [
    "df = pd.read_csv(\"../DATA/clean_details.csv\")"
   ]
  },
  {
   "cell_type": "code",
   "execution_count": 3,
   "id": "12599412-9935-4422-bdf0-ce60589a6773",
   "metadata": {
    "colab": {
     "base_uri": "https://localhost:8080/"
    },
    "executionInfo": {
     "elapsed": 45,
     "status": "ok",
     "timestamp": 1710404553503,
     "user": {
      "displayName": "Quốc Thái Phạm",
      "userId": "05056944187763502577"
     },
     "user_tz": -420
    },
    "id": "9C4zj8S21RIs",
    "outputId": "90af2ee6-bf4c-495a-983f-f461583b6c47"
   },
   "outputs": [
    {
     "name": "stdout",
     "output_type": "stream",
     "text": [
      "<class 'pandas.core.frame.DataFrame'>\n",
      "RangeIndex: 1024482 entries, 0 to 1024481\n",
      "Data columns (total 3 columns):\n",
      " #   Column      Non-Null Count    Dtype\n",
      "---  ------      --------------    -----\n",
      " 0   product_id  1024482 non-null  int64\n",
      " 1   user_id     1024482 non-null  int64\n",
      " 2   rating      1024482 non-null  int64\n",
      "dtypes: int64(3)\n",
      "memory usage: 23.4 MB\n"
     ]
    }
   ],
   "source": [
    "df.info()"
   ]
  },
  {
   "cell_type": "code",
   "execution_count": 4,
   "id": "a02f7915-2ca6-42f6-b8dd-db8fcb5cf21e",
   "metadata": {
    "executionInfo": {
     "elapsed": 37,
     "status": "ok",
     "timestamp": 1710404553503,
     "user": {
      "displayName": "Quốc Thái Phạm",
      "userId": "05056944187763502577"
     },
     "user_tz": -420
    },
    "id": "UUrpqXNzt9KN"
   },
   "outputs": [],
   "source": [
    "#df['product_id'] = df['product_id'].astype('int8')\n",
    "#df['user_id'] = df['user_id'].astype('int8')\n",
    "#df['rating'] = df['rating'].astype('float16')"
   ]
  },
  {
   "cell_type": "code",
   "execution_count": 5,
   "id": "8d675287-8bfc-42dc-aa26-ea55c40a6ad2",
   "metadata": {
    "colab": {
     "base_uri": "https://localhost:8080/",
     "height": 206
    },
    "executionInfo": {
     "elapsed": 36,
     "status": "ok",
     "timestamp": 1710404553503,
     "user": {
      "displayName": "Quốc Thái Phạm",
      "userId": "05056944187763502577"
     },
     "user_tz": -420
    },
    "id": "eLsk07V51SUK",
    "outputId": "fc347eea-49ee-47a0-f261-271556ce700c"
   },
   "outputs": [
    {
     "data": {
      "text/html": [
       "<div>\n",
       "<style scoped>\n",
       "    .dataframe tbody tr th:only-of-type {\n",
       "        vertical-align: middle;\n",
       "    }\n",
       "\n",
       "    .dataframe tbody tr th {\n",
       "        vertical-align: top;\n",
       "    }\n",
       "\n",
       "    .dataframe thead th {\n",
       "        text-align: right;\n",
       "    }\n",
       "</style>\n",
       "<table border=\"1\" class=\"dataframe\">\n",
       "  <thead>\n",
       "    <tr style=\"text-align: right;\">\n",
       "      <th></th>\n",
       "      <th>product_id</th>\n",
       "      <th>user_id</th>\n",
       "      <th>rating</th>\n",
       "    </tr>\n",
       "  </thead>\n",
       "  <tbody>\n",
       "    <tr>\n",
       "      <th>0</th>\n",
       "      <td>190</td>\n",
       "      <td>1</td>\n",
       "      <td>5</td>\n",
       "    </tr>\n",
       "    <tr>\n",
       "      <th>1</th>\n",
       "      <td>190</td>\n",
       "      <td>2</td>\n",
       "      <td>5</td>\n",
       "    </tr>\n",
       "    <tr>\n",
       "      <th>2</th>\n",
       "      <td>190</td>\n",
       "      <td>3</td>\n",
       "      <td>5</td>\n",
       "    </tr>\n",
       "    <tr>\n",
       "      <th>3</th>\n",
       "      <td>190</td>\n",
       "      <td>4</td>\n",
       "      <td>5</td>\n",
       "    </tr>\n",
       "    <tr>\n",
       "      <th>4</th>\n",
       "      <td>190</td>\n",
       "      <td>5</td>\n",
       "      <td>5</td>\n",
       "    </tr>\n",
       "  </tbody>\n",
       "</table>\n",
       "</div>"
      ],
      "text/plain": [
       "   product_id  user_id  rating\n",
       "0         190        1       5\n",
       "1         190        2       5\n",
       "2         190        3       5\n",
       "3         190        4       5\n",
       "4         190        5       5"
      ]
     },
     "execution_count": 5,
     "metadata": {},
     "output_type": "execute_result"
    }
   ],
   "source": [
    "df.head()"
   ]
  },
  {
   "cell_type": "code",
   "execution_count": 6,
   "id": "5510bc61-78ad-4622-b764-750e7322e2e0",
   "metadata": {
    "executionInfo": {
     "elapsed": 33,
     "status": "ok",
     "timestamp": 1710404553504,
     "user": {
      "displayName": "Quốc Thái Phạm",
      "userId": "05056944187763502577"
     },
     "user_tz": -420
    },
    "id": "5ewunQXg7m3P"
   },
   "outputs": [],
   "source": [
    "n_ratings = len(df)\n",
    "n_movies = len(df['product_id'].unique())\n",
    "n_users = len(df['user_id'].unique())"
   ]
  },
  {
   "cell_type": "code",
   "execution_count": 7,
   "id": "5d224c60-4c80-417c-804b-161b7e33bbbf",
   "metadata": {
    "colab": {
     "base_uri": "https://localhost:8080/",
     "height": 69
    },
    "executionInfo": {
     "elapsed": 32,
     "status": "ok",
     "timestamp": 1710404553504,
     "user": {
      "displayName": "Quốc Thái Phạm",
      "userId": "05056944187763502577"
     },
     "user_tz": -420
    },
    "id": "sx71m3kK7sPi",
    "outputId": "7939365b-d7c6-4eff-c724-5d475833dda8"
   },
   "outputs": [
    {
     "data": {
      "text/plain": [
       "1024482"
      ]
     },
     "metadata": {},
     "output_type": "display_data"
    },
    {
     "data": {
      "text/plain": [
       "31267"
      ]
     },
     "metadata": {},
     "output_type": "display_data"
    },
    {
     "data": {
      "text/plain": [
       "650636"
      ]
     },
     "metadata": {},
     "output_type": "display_data"
    }
   ],
   "source": [
    "display(n_ratings, n_movies, n_users)"
   ]
  },
  {
   "cell_type": "code",
   "execution_count": 8,
   "id": "b033f7a1-7a66-4d00-8025-deda9fd50a61",
   "metadata": {},
   "outputs": [
    {
     "data": {
      "text/plain": [
       "user_id\n",
       "199       19615\n",
       "159        2585\n",
       "831        2541\n",
       "324        2415\n",
       "860        2088\n",
       "          ...  \n",
       "252672        1\n",
       "252671        1\n",
       "252670        1\n",
       "252669        1\n",
       "650636        1\n",
       "Name: count, Length: 650636, dtype: int64"
      ]
     },
     "execution_count": 8,
     "metadata": {},
     "output_type": "execute_result"
    }
   ],
   "source": [
    "df['user_id'].value_counts()"
   ]
  },
  {
   "cell_type": "code",
   "execution_count": 9,
   "id": "0447792b-7586-4613-a2c8-3704d5c7a1bb",
   "metadata": {
    "colab": {
     "base_uri": "https://localhost:8080/"
    },
    "executionInfo": {
     "elapsed": 30,
     "status": "ok",
     "timestamp": 1710404553505,
     "user": {
      "displayName": "Quốc Thái Phạm",
      "userId": "05056944187763502577"
     },
     "user_tz": -420
    },
    "id": "Z794igWN1UFC",
    "outputId": "00b4e1d5-40fd-4f63-bc6b-bea26a4807a9"
   },
   "outputs": [
    {
     "data": {
      "text/plain": [
       "product_id\n",
       "1731      412\n",
       "177       395\n",
       "231       391\n",
       "17194     389\n",
       "2359      387\n",
       "         ... \n",
       "121331      1\n",
       "121330      1\n",
       "121328      1\n",
       "121326      1\n",
       "26899       1\n",
       "Name: count, Length: 31267, dtype: int64"
      ]
     },
     "execution_count": 9,
     "metadata": {},
     "output_type": "execute_result"
    }
   ],
   "source": [
    "df['product_id'].value_counts()"
   ]
  },
  {
   "cell_type": "code",
   "execution_count": 10,
   "id": "32f8814d-9e67-407d-b4a1-02bb5d9ba74e",
   "metadata": {
    "executionInfo": {
     "elapsed": 838,
     "status": "ok",
     "timestamp": 1710404554319,
     "user": {
      "displayName": "Quốc Thái Phạm",
      "userId": "05056944187763502577"
     },
     "user_tz": -420
    },
    "id": "K3luERvf2cGK"
   },
   "outputs": [],
   "source": [
    "# https://surprise.readthedocs.io/en/stable/reader.html\n",
    "reader = Reader()\n",
    "data = Dataset.load_from_df(df[['user_id', 'product_id', 'rating']], reader)"
   ]
  },
  {
   "cell_type": "code",
   "execution_count": 11,
   "id": "53f89e29-af95-4c48-ad53-e1299165af62",
   "metadata": {
    "colab": {
     "base_uri": "https://localhost:8080/"
    },
    "executionInfo": {
     "elapsed": 27518,
     "status": "ok",
     "timestamp": 1710404730633,
     "user": {
      "displayName": "Quốc Thái Phạm",
      "userId": "05056944187763502577"
     },
     "user_tz": -420
    },
    "id": "NQ6h7lLL9avn",
    "outputId": "9967bef8-8ddc-439c-ddb9-1c7b4650fe93"
   },
   "outputs": [
    {
     "name": "stdout",
     "output_type": "stream",
     "text": [
      "Item ID: 128 Estimated rating: 5\n",
      "Item ID: 268 Estimated rating: 5\n",
      "Item ID: 1017 Estimated rating: 5\n",
      "Item ID: 1029 Estimated rating: 5\n",
      "Item ID: 1092 Estimated rating: 5\n",
      "Item ID: 1230 Estimated rating: 5\n",
      "Item ID: 1287 Estimated rating: 5\n",
      "Item ID: 1342 Estimated rating: 5\n",
      "Item ID: 1614 Estimated rating: 5\n",
      "Item ID: 1635 Estimated rating: 5\n"
     ]
    }
   ],
   "source": [
    "# Define similarity measure\n",
    "sim_options = {'name': 'cosine', 'user_based': True}\n",
    "\n",
    "# Split dataset into train and test sets\n",
    "trainset, testset = train_test_split(data, test_size=0.2)\n",
    "\n",
    "# Build and train model\n",
    "#model = KNNBasic(sim_options=sim_options)\n",
    "model = SVD()\n",
    "model.fit(trainset)\n",
    "\n",
    "# Make recommendations for a specific user (replace 'user_id' with the desired user ID)\n",
    "user_id = 199\n",
    "# Get items the user hasn't rated yet\n",
    "items_to_predict = [item_id for item_id in data.build_full_trainset().all_items() if item_id not in trainset.ur[trainset.to_inner_uid(user_id)]]\n",
    "# Predict ratings for the items\n",
    "predictions = [model.predict(user_id, item_id) for item_id in items_to_predict]\n",
    "# Sort predictions by estimated rating\n",
    "top_n = sorted(predictions, key=lambda x: x.est, reverse=True)[:10]\n",
    "\n",
    "# Print top recommendations\n",
    "for prediction in top_n:\n",
    "    print('Item ID:', prediction.iid, 'Estimated rating:', prediction.est)\n"
   ]
  },
  {
   "cell_type": "code",
   "execution_count": null,
   "id": "810fbde8-74b2-46a7-9213-5b307562e10d",
   "metadata": {
    "executionInfo": {
     "elapsed": 33,
     "status": "aborted",
     "timestamp": 1710404580924,
     "user": {
      "displayName": "Quốc Thái Phạm",
      "userId": "05056944187763502577"
     },
     "user_tz": -420
    },
    "id": "mriR2a1O9ayc"
   },
   "outputs": [],
   "source": []
  },
  {
   "cell_type": "code",
   "execution_count": null,
   "id": "fd52aa25-19da-4cff-8a79-d9f17319e712",
   "metadata": {
    "executionInfo": {
     "elapsed": 34,
     "status": "aborted",
     "timestamp": 1710404580925,
     "user": {
      "displayName": "Quốc Thái Phạm",
      "userId": "05056944187763502577"
     },
     "user_tz": -420
    },
    "id": "wNH2BoPy9a2U"
   },
   "outputs": [],
   "source": []
  },
  {
   "cell_type": "code",
   "execution_count": 12,
   "id": "86a1ac88-ceac-44e4-997b-1a63b4be4d73",
   "metadata": {
    "colab": {
     "base_uri": "https://localhost:8080/"
    },
    "executionInfo": {
     "elapsed": 119539,
     "status": "ok",
     "timestamp": 1710404882588,
     "user": {
      "displayName": "Quốc Thái Phạm",
      "userId": "05056944187763502577"
     },
     "user_tz": -420
    },
    "id": "Y99JaeRn25JD",
    "outputId": "6dfd0055-00bb-4539-f6fb-bb73f7b75159"
   },
   "outputs": [
    {
     "name": "stdout",
     "output_type": "stream",
     "text": [
      "Evaluating RMSE, MAE of algorithm SVD on 5 split(s).\n",
      "\n",
      "                  Fold 1  Fold 2  Fold 3  Fold 4  Fold 5  Mean    Std     \n",
      "RMSE (testset)    0.8846  0.8768  0.8789  0.8806  0.8785  0.8798  0.0027  \n",
      "MAE (testset)     0.5606  0.5566  0.5573  0.5584  0.5572  0.5580  0.0014  \n",
      "Fit time          8.70    8.55    8.94    8.59    8.79    8.71    0.14    \n",
      "Test time         1.03    0.56    1.03    1.00    1.01    0.93    0.18    \n"
     ]
    }
   ],
   "source": [
    "# https://www.youtube.com/watch?v=8wLKuscyO9I\n",
    "# Singular value decomposition\n",
    "algorithm = SVD()\n",
    "#algorithm = KNNBasic()\n",
    "#Run 5-fold cross-validation and print results\n",
    "results = cross_validate(algorithm, data, measures=['RMSE', 'MAE'], cv=5, verbose=True)"
   ]
  },
  {
   "cell_type": "code",
   "execution_count": 13,
   "id": "e77b1689-ba9c-4499-aecd-97ec44a893fd",
   "metadata": {
    "colab": {
     "base_uri": "https://localhost:8080/"
    },
    "executionInfo": {
     "elapsed": 36,
     "status": "ok",
     "timestamp": 1710404882591,
     "user": {
      "displayName": "Quốc Thái Phạm",
      "userId": "05056944187763502577"
     },
     "user_tz": -420
    },
    "id": "SA_bW3qlClpx",
    "outputId": "aeb154fd-ac68-49eb-8f67-8eb390852767"
   },
   "outputs": [
    {
     "data": {
      "text/plain": [
       "{'test_rmse': array([0.88457469, 0.87675962, 0.87885906, 0.88058919, 0.87846046]),\n",
       " 'test_mae': array([0.56060421, 0.55655786, 0.55727482, 0.55844335, 0.5572296 ]),\n",
       " 'fit_time': (8.70039701461792,\n",
       "  8.548640727996826,\n",
       "  8.93690824508667,\n",
       "  8.590626001358032,\n",
       "  8.786329507827759),\n",
       " 'test_time': (1.0321078300476074,\n",
       "  0.564140796661377,\n",
       "  1.0273747444152832,\n",
       "  1.0025465488433838,\n",
       "  1.0110280513763428)}"
      ]
     },
     "execution_count": 13,
     "metadata": {},
     "output_type": "execute_result"
    }
   ],
   "source": [
    "results"
   ]
  },
  {
   "cell_type": "code",
   "execution_count": 14,
   "id": "ec941c99-c3e0-4f3e-b0d0-6033c25b8a37",
   "metadata": {
    "colab": {
     "base_uri": "https://localhost:8080/"
    },
    "executionInfo": {
     "elapsed": 19522,
     "status": "ok",
     "timestamp": 1710405710564,
     "user": {
      "displayName": "Quốc Thái Phạm",
      "userId": "05056944187763502577"
     },
     "user_tz": -420
    },
    "id": "Vwo4tKxK31zN",
    "outputId": "fc0dfa2b-a9ff-4254-f130-f641a4f59901"
   },
   "outputs": [
    {
     "data": {
      "text/plain": [
       "<surprise.prediction_algorithms.matrix_factorization.SVD at 0x20d423c8a90>"
      ]
     },
     "execution_count": 14,
     "metadata": {},
     "output_type": "execute_result"
    }
   ],
   "source": [
    "# If the results are OK => getting full dataset => fit model\n",
    "trainset = data.build_full_trainset()\n",
    "algorithm.fit(trainset)"
   ]
  },
  {
   "cell_type": "markdown",
   "id": "5ac97f65-01a2-47a0-b926-7a76134bd739",
   "metadata": {
    "id": "vidXLyjZEnue"
   },
   "source": [
    "### Recommender for a specific user"
   ]
  },
  {
   "cell_type": "code",
   "execution_count": 15,
   "id": "d8c0fff8-4a5b-43a7-bcc6-6d725bedf20a",
   "metadata": {
    "colab": {
     "base_uri": "https://localhost:8080/",
     "height": 112
    },
    "executionInfo": {
     "elapsed": 51,
     "status": "ok",
     "timestamp": 1710405710565,
     "user": {
      "displayName": "Quốc Thái Phạm",
      "userId": "05056944187763502577"
     },
     "user_tz": -420
    },
    "id": "QglUdX3m2-Dr",
    "outputId": "21fa250d-1b34-40a5-9bb0-2a3a4956f136"
   },
   "outputs": [
    {
     "data": {
      "text/html": [
       "<div>\n",
       "<style scoped>\n",
       "    .dataframe tbody tr th:only-of-type {\n",
       "        vertical-align: middle;\n",
       "    }\n",
       "\n",
       "    .dataframe tbody tr th {\n",
       "        vertical-align: top;\n",
       "    }\n",
       "\n",
       "    .dataframe thead th {\n",
       "        text-align: right;\n",
       "    }\n",
       "</style>\n",
       "<table border=\"1\" class=\"dataframe\">\n",
       "  <thead>\n",
       "    <tr style=\"text-align: right;\">\n",
       "      <th></th>\n",
       "      <th>user_id</th>\n",
       "      <th>rating</th>\n",
       "    </tr>\n",
       "    <tr>\n",
       "      <th>product_id</th>\n",
       "      <th></th>\n",
       "      <th></th>\n",
       "    </tr>\n",
       "  </thead>\n",
       "  <tbody>\n",
       "    <tr>\n",
       "      <th>190</th>\n",
       "      <td>27</td>\n",
       "      <td>5</td>\n",
       "    </tr>\n",
       "  </tbody>\n",
       "</table>\n",
       "</div>"
      ],
      "text/plain": [
       "            user_id  rating\n",
       "product_id                 \n",
       "190              27       5"
      ]
     },
     "execution_count": 15,
     "metadata": {},
     "output_type": "execute_result"
    }
   ],
   "source": [
    "# userId = 27 has seen some movies:\n",
    "userId = 27\n",
    "df_select = df[(df['user_id'] == userId) & (df['rating'] >=3)]\n",
    "df_select = df_select.set_index('product_id')\n",
    "#df_select = df_select.join(df_title)['Name']\n",
    "df_select.head(df_select.shape[0])"
   ]
  },
  {
   "cell_type": "code",
   "execution_count": 16,
   "id": "1f568e92-8ff6-416f-968c-c30e9a6aaaf8",
   "metadata": {
    "colab": {
     "base_uri": "https://localhost:8080/"
    },
    "executionInfo": {
     "elapsed": 46,
     "status": "ok",
     "timestamp": 1710405710566,
     "user": {
      "displayName": "Quốc Thái Phạm",
      "userId": "05056944187763502577"
     },
     "user_tz": -420
    },
    "id": "G80-AoFV3Xbt",
    "outputId": "a6eca2c1-5eb6-44d3-ce4b-62045fccbec3"
   },
   "outputs": [
    {
     "data": {
      "text/plain": [
       "(1, 2)"
      ]
     },
     "execution_count": 16,
     "metadata": {},
     "output_type": "execute_result"
    }
   ],
   "source": [
    "df_select.shape"
   ]
  },
  {
   "cell_type": "code",
   "execution_count": 17,
   "id": "7a282460-db6f-47c2-9ae1-5e9e9fc78807",
   "metadata": {
    "executionInfo": {
     "elapsed": 40,
     "status": "ok",
     "timestamp": 1710405710568,
     "user": {
      "displayName": "Quốc Thái Phạm",
      "userId": "05056944187763502577"
     },
     "user_tz": -420
    },
    "id": "JiCTGcoP36Lp"
   },
   "outputs": [],
   "source": [
    "df_score = df[[\"product_id\"]]"
   ]
  },
  {
   "cell_type": "code",
   "execution_count": 18,
   "id": "f1e915f8-2dea-47c3-883f-5b4925dff2d8",
   "metadata": {
    "colab": {
     "base_uri": "https://localhost:8080/",
     "height": 424
    },
    "executionInfo": {
     "elapsed": 42,
     "status": "ok",
     "timestamp": 1710405710570,
     "user": {
      "displayName": "Quốc Thái Phạm",
      "userId": "05056944187763502577"
     },
     "user_tz": -420
    },
    "id": "8E2z4NUB4Qti",
    "outputId": "96fd830c-4934-4c63-dbf9-2a4f3a746c60"
   },
   "outputs": [
    {
     "data": {
      "text/html": [
       "<div>\n",
       "<style scoped>\n",
       "    .dataframe tbody tr th:only-of-type {\n",
       "        vertical-align: middle;\n",
       "    }\n",
       "\n",
       "    .dataframe tbody tr th {\n",
       "        vertical-align: top;\n",
       "    }\n",
       "\n",
       "    .dataframe thead th {\n",
       "        text-align: right;\n",
       "    }\n",
       "</style>\n",
       "<table border=\"1\" class=\"dataframe\">\n",
       "  <thead>\n",
       "    <tr style=\"text-align: right;\">\n",
       "      <th></th>\n",
       "      <th>product_id</th>\n",
       "    </tr>\n",
       "  </thead>\n",
       "  <tbody>\n",
       "    <tr>\n",
       "      <th>0</th>\n",
       "      <td>190</td>\n",
       "    </tr>\n",
       "    <tr>\n",
       "      <th>1</th>\n",
       "      <td>190</td>\n",
       "    </tr>\n",
       "    <tr>\n",
       "      <th>2</th>\n",
       "      <td>190</td>\n",
       "    </tr>\n",
       "    <tr>\n",
       "      <th>3</th>\n",
       "      <td>190</td>\n",
       "    </tr>\n",
       "    <tr>\n",
       "      <th>4</th>\n",
       "      <td>190</td>\n",
       "    </tr>\n",
       "    <tr>\n",
       "      <th>...</th>\n",
       "      <td>...</td>\n",
       "    </tr>\n",
       "    <tr>\n",
       "      <th>1024477</th>\n",
       "      <td>171107</td>\n",
       "    </tr>\n",
       "    <tr>\n",
       "      <th>1024478</th>\n",
       "      <td>171107</td>\n",
       "    </tr>\n",
       "    <tr>\n",
       "      <th>1024479</th>\n",
       "      <td>171107</td>\n",
       "    </tr>\n",
       "    <tr>\n",
       "      <th>1024480</th>\n",
       "      <td>171107</td>\n",
       "    </tr>\n",
       "    <tr>\n",
       "      <th>1024481</th>\n",
       "      <td>171107</td>\n",
       "    </tr>\n",
       "  </tbody>\n",
       "</table>\n",
       "<p>1024482 rows × 1 columns</p>\n",
       "</div>"
      ],
      "text/plain": [
       "         product_id\n",
       "0               190\n",
       "1               190\n",
       "2               190\n",
       "3               190\n",
       "4               190\n",
       "...             ...\n",
       "1024477      171107\n",
       "1024478      171107\n",
       "1024479      171107\n",
       "1024480      171107\n",
       "1024481      171107\n",
       "\n",
       "[1024482 rows x 1 columns]"
      ]
     },
     "execution_count": 18,
     "metadata": {},
     "output_type": "execute_result"
    }
   ],
   "source": [
    "df_score"
   ]
  },
  {
   "cell_type": "markdown",
   "id": "14586064-ec4b-4009-97a3-395a354e68cd",
   "metadata": {
    "id": "x5Gt4rAX6WO2"
   },
   "source": [
    "- Once the model has been evaluated to our satisfaction, then we can re-train the model using the entire training dataset"
   ]
  },
  {
   "cell_type": "code",
   "execution_count": 19,
   "id": "52ce1191-eaf0-4d01-8c42-f2ed8f480b7d",
   "metadata": {
    "colab": {
     "base_uri": "https://localhost:8080/"
    },
    "executionInfo": {
     "elapsed": 4458,
     "status": "ok",
     "timestamp": 1710405874118,
     "user": {
      "displayName": "Quốc Thái Phạm",
      "userId": "05056944187763502577"
     },
     "user_tz": -420
    },
    "id": "_DA1phU34ShZ",
    "outputId": "99a007ea-fc38-4305-f6ff-d8ed56f3f1d0"
   },
   "outputs": [
    {
     "name": "stderr",
     "output_type": "stream",
     "text": [
      "C:\\Users\\leo\\AppData\\Local\\Temp\\ipykernel_24460\\229877664.py:5: SettingWithCopyWarning: \n",
      "A value is trying to be set on a copy of a slice from a DataFrame.\n",
      "Try using .loc[row_indexer,col_indexer] = value instead\n",
      "\n",
      "See the caveats in the documentation: https://pandas.pydata.org/pandas-docs/stable/user_guide/indexing.html#returning-a-view-versus-a-copy\n",
      "  df_score['EstimateScore'] = df_score['product_id'].apply(lambda x: algorithm.predict(userId, x).est) # est: get EstimateScore\n"
     ]
    }
   ],
   "source": [
    "# The following are the top 5 movies to be recommended to the user with userId\n",
    "# To recommend products (i.e., movies) to the given user,\n",
    "# we can sort the list of movies in decreasing order of predicted ratings\n",
    "# and take the top N movies as recommendations:\n",
    "df_score['EstimateScore'] = df_score['product_id'].apply(lambda x: algorithm.predict(userId, x).est) # est: get EstimateScore\n",
    "df_score = df_score.sort_values(by=['EstimateScore'], ascending=False)"
   ]
  },
  {
   "cell_type": "code",
   "execution_count": 20,
   "id": "a759ba62-c255-4336-93c1-0655d48f44a7",
   "metadata": {
    "executionInfo": {
     "elapsed": 317,
     "status": "ok",
     "timestamp": 1710405880303,
     "user": {
      "displayName": "Quốc Thái Phạm",
      "userId": "05056944187763502577"
     },
     "user_tz": -420
    },
    "id": "eXVculve4vDx"
   },
   "outputs": [],
   "source": [
    "df_score = df_score.drop_duplicates()"
   ]
  },
  {
   "cell_type": "code",
   "execution_count": 21,
   "id": "c7925728-100b-4be8-9f25-9dedd4965ba1",
   "metadata": {
    "colab": {
     "base_uri": "https://localhost:8080/",
     "height": 206
    },
    "executionInfo": {
     "elapsed": 13,
     "status": "ok",
     "timestamp": 1710405881695,
     "user": {
      "displayName": "Quốc Thái Phạm",
      "userId": "05056944187763502577"
     },
     "user_tz": -420
    },
    "id": "BRW8MWy75Cz6",
    "outputId": "ab1bdb73-bdfc-4c5c-eac0-fd0176628b5a"
   },
   "outputs": [
    {
     "data": {
      "text/html": [
       "<div>\n",
       "<style scoped>\n",
       "    .dataframe tbody tr th:only-of-type {\n",
       "        vertical-align: middle;\n",
       "    }\n",
       "\n",
       "    .dataframe tbody tr th {\n",
       "        vertical-align: top;\n",
       "    }\n",
       "\n",
       "    .dataframe thead th {\n",
       "        text-align: right;\n",
       "    }\n",
       "</style>\n",
       "<table border=\"1\" class=\"dataframe\">\n",
       "  <thead>\n",
       "    <tr style=\"text-align: right;\">\n",
       "      <th></th>\n",
       "      <th>product_id</th>\n",
       "      <th>EstimateScore</th>\n",
       "    </tr>\n",
       "  </thead>\n",
       "  <tbody>\n",
       "    <tr>\n",
       "      <th>512241</th>\n",
       "      <td>25183</td>\n",
       "      <td>5.0</td>\n",
       "    </tr>\n",
       "    <tr>\n",
       "      <th>616431</th>\n",
       "      <td>11147</td>\n",
       "      <td>5.0</td>\n",
       "    </tr>\n",
       "    <tr>\n",
       "      <th>847882</th>\n",
       "      <td>1681</td>\n",
       "      <td>5.0</td>\n",
       "    </tr>\n",
       "    <tr>\n",
       "      <th>438300</th>\n",
       "      <td>23546</td>\n",
       "      <td>5.0</td>\n",
       "    </tr>\n",
       "    <tr>\n",
       "      <th>616359</th>\n",
       "      <td>11146</td>\n",
       "      <td>5.0</td>\n",
       "    </tr>\n",
       "  </tbody>\n",
       "</table>\n",
       "</div>"
      ],
      "text/plain": [
       "        product_id  EstimateScore\n",
       "512241       25183            5.0\n",
       "616431       11147            5.0\n",
       "847882        1681            5.0\n",
       "438300       23546            5.0\n",
       "616359       11146            5.0"
      ]
     },
     "execution_count": 21,
     "metadata": {},
     "output_type": "execute_result"
    }
   ],
   "source": [
    "df_score.head()"
   ]
  },
  {
   "cell_type": "code",
   "execution_count": 22,
   "id": "b8d63e1d-b1ae-4e8e-92c3-486ed812b305",
   "metadata": {
    "colab": {
     "base_uri": "https://localhost:8080/",
     "height": 424
    },
    "executionInfo": {
     "elapsed": 350,
     "status": "ok",
     "timestamp": 1710405887116,
     "user": {
      "displayName": "Quốc Thái Phạm",
      "userId": "05056944187763502577"
     },
     "user_tz": -420
    },
    "id": "FQXBHuZmdhGy",
    "outputId": "d0113f91-d3c4-4634-e670-86c5816258b6"
   },
   "outputs": [
    {
     "data": {
      "text/html": [
       "<div>\n",
       "<style scoped>\n",
       "    .dataframe tbody tr th:only-of-type {\n",
       "        vertical-align: middle;\n",
       "    }\n",
       "\n",
       "    .dataframe tbody tr th {\n",
       "        vertical-align: top;\n",
       "    }\n",
       "\n",
       "    .dataframe thead th {\n",
       "        text-align: right;\n",
       "    }\n",
       "</style>\n",
       "<table border=\"1\" class=\"dataframe\">\n",
       "  <thead>\n",
       "    <tr style=\"text-align: right;\">\n",
       "      <th></th>\n",
       "      <th>product_id</th>\n",
       "      <th>EstimateScore</th>\n",
       "    </tr>\n",
       "  </thead>\n",
       "  <tbody>\n",
       "    <tr>\n",
       "      <th>512241</th>\n",
       "      <td>25183</td>\n",
       "      <td>5.000000</td>\n",
       "    </tr>\n",
       "    <tr>\n",
       "      <th>616431</th>\n",
       "      <td>11147</td>\n",
       "      <td>5.000000</td>\n",
       "    </tr>\n",
       "    <tr>\n",
       "      <th>847882</th>\n",
       "      <td>1681</td>\n",
       "      <td>5.000000</td>\n",
       "    </tr>\n",
       "    <tr>\n",
       "      <th>438300</th>\n",
       "      <td>23546</td>\n",
       "      <td>5.000000</td>\n",
       "    </tr>\n",
       "    <tr>\n",
       "      <th>616359</th>\n",
       "      <td>11146</td>\n",
       "      <td>5.000000</td>\n",
       "    </tr>\n",
       "    <tr>\n",
       "      <th>...</th>\n",
       "      <td>...</td>\n",
       "      <td>...</td>\n",
       "    </tr>\n",
       "    <tr>\n",
       "      <th>75409</th>\n",
       "      <td>2154</td>\n",
       "      <td>3.033624</td>\n",
       "    </tr>\n",
       "    <tr>\n",
       "      <th>951961</th>\n",
       "      <td>17334</td>\n",
       "      <td>3.030076</td>\n",
       "    </tr>\n",
       "    <tr>\n",
       "      <th>238190</th>\n",
       "      <td>18553</td>\n",
       "      <td>3.024821</td>\n",
       "    </tr>\n",
       "    <tr>\n",
       "      <th>743170</th>\n",
       "      <td>15185</td>\n",
       "      <td>3.012023</td>\n",
       "    </tr>\n",
       "    <tr>\n",
       "      <th>568182</th>\n",
       "      <td>267</td>\n",
       "      <td>3.007087</td>\n",
       "    </tr>\n",
       "  </tbody>\n",
       "</table>\n",
       "<p>31203 rows × 2 columns</p>\n",
       "</div>"
      ],
      "text/plain": [
       "        product_id  EstimateScore\n",
       "512241       25183       5.000000\n",
       "616431       11147       5.000000\n",
       "847882        1681       5.000000\n",
       "438300       23546       5.000000\n",
       "616359       11146       5.000000\n",
       "...            ...            ...\n",
       "75409         2154       3.033624\n",
       "951961       17334       3.030076\n",
       "238190       18553       3.024821\n",
       "743170       15185       3.012023\n",
       "568182         267       3.007087\n",
       "\n",
       "[31203 rows x 2 columns]"
      ]
     },
     "execution_count": 22,
     "metadata": {},
     "output_type": "execute_result"
    }
   ],
   "source": [
    "df_score[df_score.EstimateScore>=3]"
   ]
  },
  {
   "cell_type": "code",
   "execution_count": null,
   "id": "8831ce23-6f61-4921-b19a-9401de74e08e",
   "metadata": {
    "executionInfo": {
     "elapsed": 40,
     "status": "aborted",
     "timestamp": 1710404580938,
     "user": {
      "displayName": "Quốc Thái Phạm",
      "userId": "05056944187763502577"
     },
     "user_tz": -420
    },
    "id": "viWGpo3Gt9Kn"
   },
   "outputs": [],
   "source": [
    "!"
   ]
  }
 ],
 "metadata": {
  "kernelspec": {
   "display_name": "Python 3 (ipykernel)",
   "language": "python",
   "name": "python3"
  },
  "language_info": {
   "codemirror_mode": {
    "name": "ipython",
    "version": 3
   },
   "file_extension": ".py",
   "mimetype": "text/x-python",
   "name": "python",
   "nbconvert_exporter": "python",
   "pygments_lexer": "ipython3",
   "version": "3.9.18"
  }
 },
 "nbformat": 4,
 "nbformat_minor": 5
}
