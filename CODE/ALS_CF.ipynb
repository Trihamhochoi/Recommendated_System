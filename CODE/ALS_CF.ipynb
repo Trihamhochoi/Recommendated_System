{
 "cells": [
  {
   "cell_type": "code",
   "execution_count": 26,
   "id": "cb4b9f63-d272-47d8-bd67-e7bfeb7cd26d",
   "metadata": {},
   "outputs": [],
   "source": [
    "import os\n",
    "import sys\n",
    "\n",
    "# os.environ['PYSPARK_PYTHON'] = sys.executable\n",
    "# os.environ['PYSPARK_DRIVER_PYTHON'] = sys.executable"
   ]
  },
  {
   "cell_type": "code",
   "execution_count": 1,
   "id": "f156b464-4600-4022-a0e2-973835be22f7",
   "metadata": {
    "id": "c0JvcgTY_23t",
    "tags": []
   },
   "outputs": [],
   "source": [
    "import findspark\n",
    "findspark.init()"
   ]
  },
  {
   "cell_type": "code",
   "execution_count": 2,
   "id": "fe6c9197-f38d-472b-876c-b7e8688d6d03",
   "metadata": {
    "id": "sMEWXllEAD3X"
   },
   "outputs": [],
   "source": [
    "# import libraries\n",
    "from pyspark import SparkContext\n",
    "from pyspark.conf import SparkConf\n",
    "from pyspark.sql import SparkSession\n",
    "import matplotlib.pyplot as plt\n",
    "import seaborn as sns\n",
    "from scipy import stats\n",
    "from datetime import datetime\n",
    "from pyspark.sql import Row\n",
    "import pyspark.sql.functions as f\n",
    "\n",
    "import pyspark.sql.types as t\n",
    "\n",
    "import pyspark.ml.feature as feat\n",
    "\n",
    "import numpy as np\n",
    "import pandas as pd\n",
    "\n",
    "# Pipeline\n",
    "from pyspark.ml import Pipeline, PipelineModel\n",
    "\n",
    "# Machine learning\n",
    "from pyspark.ml.recommendation import ALS\n",
    "from pyspark.ml.evaluation import RegressionEvaluator"
   ]
  },
  {
   "cell_type": "markdown",
   "id": "7d700b8c-e3bc-4dd9-bdb6-c4ecf9da0c60",
   "metadata": {
    "tags": []
   },
   "source": [
    "# About Dataset\n",
    "Use the information:\n",
    "-  product ID, \n",
    "-  User ID, \n",
    "- Rating\n",
    "\n",
    "in dataset Shopee: Products_ThoiTrangNam build a recommended sysytem\n",
    "\n",
    "**Then make recommendations to some specific users**"
   ]
  },
  {
   "cell_type": "code",
   "execution_count": 3,
   "id": "cda6533d-a4ff-4487-a8b3-29d67df8eb7c",
   "metadata": {},
   "outputs": [],
   "source": [
    "SparkContext.setSystemProperty(key='spark.hadoop.dfs.client.use.datanode.hostname',value='true')"
   ]
  },
  {
   "cell_type": "code",
   "execution_count": 4,
   "id": "3367c41c-09b6-438a-8037-b060dbf4be64",
   "metadata": {
    "id": "wnB3qrDkAJNX"
   },
   "outputs": [],
   "source": [
    "sc =SparkContext()"
   ]
  },
  {
   "cell_type": "code",
   "execution_count": 5,
   "id": "237856e6-0560-4fc6-bd31-dc3e19dec492",
   "metadata": {
    "id": "2mfBvmJoejHV"
   },
   "outputs": [],
   "source": [
    "sc.setLogLevel(\"ERROR\")"
   ]
  },
  {
   "cell_type": "code",
   "execution_count": 6,
   "id": "3b2e41ba-de81-41f3-a563-f992fe56ac91",
   "metadata": {
    "id": "bxVoyCsJAU1Q"
   },
   "outputs": [],
   "source": [
    "spark = SparkSession(sc)"
   ]
  },
  {
   "cell_type": "code",
   "execution_count": 7,
   "id": "10f2ac4c-cae0-4e8f-b67b-032c184ee266",
   "metadata": {},
   "outputs": [],
   "source": [
    "df = spark.read.csv(path='../DATA/clean_details.csv',inferSchema=True, header=True)"
   ]
  },
  {
   "cell_type": "code",
   "execution_count": 7,
   "id": "51fe427b-35e7-488f-8b4d-dad911fb3078",
   "metadata": {},
   "outputs": [],
   "source": [
    "#sc.cancelAllJobs()"
   ]
  },
  {
   "cell_type": "markdown",
   "id": "9f82ae3c-ac0e-41e0-8ab4-ef453698b10d",
   "metadata": {
    "tags": []
   },
   "source": [
    "# Overview"
   ]
  },
  {
   "cell_type": "code",
   "execution_count": 8,
   "id": "0ebad491-b088-442a-b490-611e6e4c85e0",
   "metadata": {},
   "outputs": [
    {
     "name": "stdout",
     "output_type": "stream",
     "text": [
      "+----------+-------+------+\n",
      "|product_id|user_id|rating|\n",
      "+----------+-------+------+\n",
      "|       190|      1|     5|\n",
      "|       190|      2|     5|\n",
      "|       190|      3|     5|\n",
      "|       190|      4|     5|\n",
      "|       190|      5|     5|\n",
      "|       190|      6|     5|\n",
      "|       190|      7|     5|\n",
      "|       190|      8|     5|\n",
      "|       190|      9|     5|\n",
      "|       190|     10|     5|\n",
      "+----------+-------+------+\n",
      "only showing top 10 rows\n",
      "\n",
      "root\n",
      " |-- product_id: integer (nullable = true)\n",
      " |-- user_id: integer (nullable = true)\n",
      " |-- rating: integer (nullable = true)\n",
      "\n",
      "There are 1024482 rows and 3 columns in dataframe\n"
     ]
    }
   ],
   "source": [
    "df.show(10)\n",
    "df.printSchema()\n",
    "print(f'There are {df.count()} rows and {len(df.columns)} columns in dataframe')"
   ]
  },
  {
   "cell_type": "markdown",
   "id": "b96ef814-2f74-4a80-ae2a-ad98dd7bdae4",
   "metadata": {},
   "source": [
    "## check null"
   ]
  },
  {
   "cell_type": "code",
   "execution_count": 9,
   "id": "ee770f03-85b9-4448-8210-622dad6b7068",
   "metadata": {},
   "outputs": [
    {
     "name": "stdout",
     "output_type": "stream",
     "text": [
      "+----------+-------+------+\n",
      "|product_id|user_id|rating|\n",
      "+----------+-------+------+\n",
      "|         0|      0|     0|\n",
      "+----------+-------+------+\n",
      "\n"
     ]
    }
   ],
   "source": [
    "df.select([f.count(f.when(f.isnan(c), c)).alias(c) for c in df.columns]).show()"
   ]
  },
  {
   "cell_type": "code",
   "execution_count": 10,
   "id": "889f094a-7425-4bba-ac28-303cca9d4761",
   "metadata": {},
   "outputs": [
    {
     "name": "stdout",
     "output_type": "stream",
     "text": [
      "+----------+-------+------+\n",
      "|product_id|user_id|rating|\n",
      "+----------+-------+------+\n",
      "|         0|      0|     0|\n",
      "+----------+-------+------+\n",
      "\n"
     ]
    }
   ],
   "source": [
    "df.select([f.count(f.when(f.isnull(c), c)).alias(c) for c in df.columns]).show()"
   ]
  },
  {
   "cell_type": "markdown",
   "id": "862851f4-c0f0-4125-81b4-86571a082173",
   "metadata": {},
   "source": [
    "## Descirble data"
   ]
  },
  {
   "cell_type": "code",
   "execution_count": 11,
   "id": "25bcff48-77a0-49b6-8b05-0498213ff7d2",
   "metadata": {},
   "outputs": [
    {
     "data": {
      "text/plain": [
       "['product_id', 'user_id', 'rating']"
      ]
     },
     "execution_count": 11,
     "metadata": {},
     "output_type": "execute_result"
    }
   ],
   "source": [
    "cat_col = df.columns\n",
    "cat_col"
   ]
  },
  {
   "cell_type": "markdown",
   "id": "5e9e3fe1-5740-4a8c-a7c5-b7d9d88fbf97",
   "metadata": {},
   "source": [
    "## Category data"
   ]
  },
  {
   "cell_type": "markdown",
   "id": "60ed6495-f27b-41d9-85fa-6f97ee711d3d",
   "metadata": {},
   "source": [
    "### Check distinct values"
   ]
  },
  {
   "cell_type": "code",
   "execution_count": 12,
   "id": "ae4eb1d3-30ff-4c51-be19-1fe2c6a78037",
   "metadata": {},
   "outputs": [
    {
     "name": "stdout",
     "output_type": "stream",
     "text": [
      "+----------+-------+------+\n",
      "|product_id|user_id|rating|\n",
      "+----------+-------+------+\n",
      "|     31267| 650636|     5|\n",
      "+----------+-------+------+\n",
      "\n"
     ]
    }
   ],
   "source": [
    "df.select([f.count_distinct(c).alias(c) for c in df.columns]).show()"
   ]
  },
  {
   "cell_type": "markdown",
   "id": "aaee5de9-01ae-4d72-8715-248996397fff",
   "metadata": {},
   "source": [
    "### Check top5 disticnt value count of each category columns in df "
   ]
  },
  {
   "cell_type": "code",
   "execution_count": 13,
   "id": "a08c83b1-d0ca-4cff-b6ac-45826e017aa4",
   "metadata": {},
   "outputs": [
    {
     "name": "stdout",
     "output_type": "stream",
     "text": [
      "+----------+-----+---------------------+\n",
      "|product_id|count|Normalize            |\n",
      "+----------+-----+---------------------+\n",
      "|1731      |412  |4.021544546414676E-4 |\n",
      "|177       |395  |3.8556070287228085E-4|\n",
      "|231       |391  |3.816562906912957E-4 |\n",
      "|17194     |389  |3.797040846008031E-4 |\n",
      "|11131     |387  |3.7775187851031057E-4|\n",
      "+----------+-----+---------------------+\n",
      "only showing top 5 rows\n",
      "\n",
      "+-------+-----+---------------------+\n",
      "|user_id|count|Normalize            |\n",
      "+-------+-----+---------------------+\n",
      "|199    |19615|0.019146261232505794 |\n",
      "|159    |2585 |0.002523226371961635 |\n",
      "|831    |2541 |0.002480277837970799 |\n",
      "|324    |2415 |0.0023572888542697677|\n",
      "|860    |2088 |0.0020381031584742336|\n",
      "+-------+-----+---------------------+\n",
      "only showing top 5 rows\n",
      "\n",
      "+------+------+--------------------+\n",
      "|rating|count |Normalize           |\n",
      "+------+------+--------------------+\n",
      "|5     |777662|0.759078246372313   |\n",
      "|4     |118212|0.11538709318465332 |\n",
      "|3     |63051 |0.061544273105823236|\n",
      "|1     |41447 |0.04045654291632259 |\n",
      "|2     |24110 |0.023533844420887823|\n",
      "+------+------+--------------------+\n",
      "\n"
     ]
    }
   ],
   "source": [
    "for col in cat_col:\n",
    "    (df.groupby(col).count()\n",
    "     .withColumn('Normalize',(f.col('count')/df.count()))\n",
    "     .orderBy(f.col('count').desc())\n",
    "     .show(5,vertical=False,truncate=False))"
   ]
  },
  {
   "cell_type": "code",
   "execution_count": 14,
   "id": "febe1b6d-9bc7-409b-a59a-d65ebda403bc",
   "metadata": {},
   "outputs": [],
   "source": [
    "df = df.withColumnRenamed(existing='user_id',new='usr_id')"
   ]
  },
  {
   "cell_type": "markdown",
   "id": "e31d726a-0caf-4909-b3bb-512a873962b1",
   "metadata": {},
   "source": [
    "# Preprocessing"
   ]
  },
  {
   "cell_type": "code",
   "execution_count": 15,
   "id": "fe62adc7-1be7-47e2-810a-4a49f7abc5c0",
   "metadata": {},
   "outputs": [
    {
     "name": "stdout",
     "output_type": "stream",
     "text": [
      "+----------+------+------+\n",
      "|product_id|usr_id|rating|\n",
      "+----------+------+------+\n",
      "|       190|     1|     5|\n",
      "|       190|     2|     5|\n",
      "|       190|     3|     5|\n",
      "|       190|     4|     5|\n",
      "|       190|     5|     5|\n",
      "|       190|     6|     5|\n",
      "|       190|     7|     5|\n",
      "|       190|     8|     5|\n",
      "|       190|     9|     5|\n",
      "|       190|    10|     5|\n",
      "+----------+------+------+\n",
      "only showing top 10 rows\n",
      "\n"
     ]
    }
   ],
   "source": [
    "df.show(10)"
   ]
  },
  {
   "cell_type": "code",
   "execution_count": 16,
   "id": "964a2adb-5606-495a-a87f-83b62de2560b",
   "metadata": {},
   "outputs": [],
   "source": [
    "#strindex = feat.StringIndexer(inputCols=['usr_id','product_id'],outputCols=['user_id','prd_id']).fit(df)"
   ]
  },
  {
   "cell_type": "code",
   "execution_count": 17,
   "id": "2107353a-db7b-4404-ba04-5c0835e1c272",
   "metadata": {},
   "outputs": [
    {
     "name": "stdout",
     "output_type": "stream",
     "text": [
      "+----------+------+------+\n",
      "|product_id|usr_id|rating|\n",
      "+----------+------+------+\n",
      "|       190|     1|     5|\n",
      "|       190|     2|     5|\n",
      "|       190|     3|     5|\n",
      "|       190|     4|     5|\n",
      "|       190|     5|     5|\n",
      "+----------+------+------+\n",
      "only showing top 5 rows\n",
      "\n"
     ]
    }
   ],
   "source": [
    "#final_df = strindex.transform(df)\n",
    "final_df = df\n",
    "del df\n",
    "final_df.show(5, truncate=True)"
   ]
  },
  {
   "cell_type": "code",
   "execution_count": 22,
   "id": "7d8cad50-37d0-474d-be60-f7198949bdba",
   "metadata": {},
   "outputs": [
    {
     "name": "stdout",
     "output_type": "stream",
     "text": [
      "Number of rows:  1024482\n",
      "root\n",
      " |-- product_id: integer (nullable = true)\n",
      " |-- usr_id: integer (nullable = true)\n",
      " |-- rating: integer (nullable = true)\n",
      "\n"
     ]
    }
   ],
   "source": [
    "print(\"Number of rows: \",final_df.count())\n",
    "final_df.printSchema()"
   ]
  },
  {
   "cell_type": "code",
   "execution_count": 19,
   "id": "5e48e886-a34a-4b0c-a950-4e37d36be57e",
   "metadata": {},
   "outputs": [
    {
     "name": "stdout",
     "output_type": "stream",
     "text": [
      "+----------+------+------+\n",
      "|product_id|usr_id|rating|\n",
      "+----------+------+------+\n",
      "|         0|     0|     0|\n",
      "+----------+------+------+\n",
      "\n"
     ]
    }
   ],
   "source": [
    "final_df.select([f.count(f.when(f.isnan(c), c)).alias(c) for c in final_df.columns]).show()"
   ]
  },
  {
   "cell_type": "code",
   "execution_count": 20,
   "id": "873654af-d674-4571-881b-1d7e8d184835",
   "metadata": {},
   "outputs": [
    {
     "name": "stdout",
     "output_type": "stream",
     "text": [
      "+----------+------+------+\n",
      "|product_id|usr_id|rating|\n",
      "+----------+------+------+\n",
      "|         0|     0|     0|\n",
      "+----------+------+------+\n",
      "\n"
     ]
    }
   ],
   "source": [
    "final_df.select([f.count(f.when(f.isnull(c), c)).alias(c) for c in final_df.columns]).show()"
   ]
  },
  {
   "cell_type": "markdown",
   "id": "b521e9f7-cd8c-4d8e-8928-ed4c3e421e24",
   "metadata": {
    "tags": []
   },
   "source": [
    "# Split Data"
   ]
  },
  {
   "cell_type": "code",
   "execution_count": 23,
   "id": "f64455a9-1d32-4477-bd7c-ab7bd0de3e84",
   "metadata": {},
   "outputs": [],
   "source": [
    "train, test = final_df.randomSplit([0.8,0.2],seed=42)"
   ]
  },
  {
   "cell_type": "markdown",
   "id": "61732834-eaf4-4a84-81ce-d372cce8c4f2",
   "metadata": {},
   "source": [
    "# Model"
   ]
  },
  {
   "cell_type": "code",
   "execution_count": 24,
   "id": "a7dae928-9cc9-4647-b306-f2c50e97c04d",
   "metadata": {},
   "outputs": [],
   "source": [
    "als = ALS(maxIter=10,\n",
    "          regParam=0.01, \n",
    "          userCol='usr_id',\n",
    "          itemCol='product_id', \n",
    "          ratingCol='rating', \n",
    "          coldStartStrategy='drop',\n",
    "          rank=10,\n",
    "          nonnegative=True)\n",
    "model_t = als.fit(train)"
   ]
  },
  {
   "cell_type": "markdown",
   "id": "5d28bc50-0d06-4f63-8712-da7a05485751",
   "metadata": {},
   "source": [
    "## Evaluation"
   ]
  },
  {
   "cell_type": "code",
   "execution_count": 40,
   "id": "cbf74bcf-7067-4b84-b1f7-5d8026b59b3e",
   "metadata": {
    "id": "X-OgP9nIVCVs"
   },
   "outputs": [],
   "source": [
    "# Evaluate the model by computing the RMSE on the test data\n",
    "predictions = model.transform(test)"
   ]
  },
  {
   "cell_type": "code",
   "execution_count": 41,
   "id": "b2e2a5bd-3bff-41ad-9d88-d2be4f73f890",
   "metadata": {
    "id": "IReXbKhbVCVt"
   },
   "outputs": [
    {
     "name": "stderr",
     "output_type": "stream",
     "text": [
      "                                                                                \r"
     ]
    },
    {
     "name": "stdout",
     "output_type": "stream",
     "text": [
      "+----------+-------+------+----------+\n",
      "|product_id|user_id|rating|prediction|\n",
      "+----------+-------+------+----------+\n",
      "|      2142|     40|   5.0| 3.9790876|\n",
      "|     25517|     40|   5.0| 3.8241038|\n",
      "|    232473|     40|   5.0|  5.035574|\n",
      "|     11317|     50|   5.0|  4.661109|\n",
      "|     13623|     57|   5.0|  5.002939|\n",
      "+----------+-------+------+----------+\n",
      "only showing top 5 rows\n",
      "\n"
     ]
    }
   ],
   "source": [
    "#inspect\n",
    "predictions.show(5)"
   ]
  },
  {
   "cell_type": "code",
   "execution_count": 42,
   "id": "3260d065-bfe0-405e-8bb3-4f9671839971",
   "metadata": {
    "id": "Pl8V2CoaVCVt"
   },
   "outputs": [
    {
     "name": "stderr",
     "output_type": "stream",
     "text": [
      "                                                                                \r"
     ]
    }
   ],
   "source": [
    "#calcuate rmse score\n",
    "evaluator = RegressionEvaluator(metricName=\"rmse\",\n",
    "                                labelCol=\"rating\",\n",
    "                                predictionCol=\"prediction\")\n",
    "rmse = evaluator.evaluate(predictions)"
   ]
  },
  {
   "cell_type": "code",
   "execution_count": 43,
   "id": "e1395aa3-0ca2-4d44-842e-4aec3b5c6eec",
   "metadata": {
    "colab": {
     "base_uri": "https://localhost:8080/"
    },
    "id": "T-34dlobMIyv",
    "outputId": "9e42042c-b349-43b5-b7fc-a2d196072c65"
   },
   "outputs": [
    {
     "name": "stdout",
     "output_type": "stream",
     "text": [
      "Root-mean-square error = 1.1477614413474846\n"
     ]
    }
   ],
   "source": [
    "print(\"Root-mean-square error = \" + str(rmse))"
   ]
  },
  {
   "cell_type": "markdown",
   "id": "54779d55-61f2-46b7-be31-972ca70398da",
   "metadata": {},
   "source": [
    "The model can predict new overall with error nearly 1.0 "
   ]
  },
  {
   "cell_type": "code",
   "execution_count": 44,
   "id": "cb719a99-06b8-4e86-905c-6aad5215a1d8",
   "metadata": {
    "id": "6QcxCIkpVCVu"
   },
   "outputs": [],
   "source": [
    "# save model to disk\n",
    "#model.save(\"recommendation_model_amazon_toys_games\")"
   ]
  },
  {
   "cell_type": "markdown",
   "id": "9c488022-e876-4e19-81f6-f6b0a28fcc9b",
   "metadata": {
    "id": "vNVOyJjJVCVu"
   },
   "source": [
    "### Providing Recommendations: for all users"
   ]
  },
  {
   "cell_type": "code",
   "execution_count": 45,
   "id": "27b06fde-6b53-485e-9989-2c93ee23b464",
   "metadata": {
    "id": "OEDUyeybVCVu"
   },
   "outputs": [],
   "source": [
    "# get 5 recommendations which have highest rating.\n",
    "user_recs = model.recommendForAllUsers(5)"
   ]
  },
  {
   "cell_type": "code",
   "execution_count": 46,
   "id": "0d21c807-83db-49e4-b9d4-80d321a72ef8",
   "metadata": {
    "colab": {
     "base_uri": "https://localhost:8080/"
    },
    "id": "L64umoOCgiLz",
    "outputId": "cac9505d-6eaa-40ba-c8c3-883428204744"
   },
   "outputs": [
    {
     "name": "stderr",
     "output_type": "stream",
     "text": [
      "[Stage 277:>                                                        (0 + 1) / 1]\r"
     ]
    },
    {
     "name": "stdout",
     "output_type": "stream",
     "text": [
      "+-------+------------------------------------------------------------------------------------------------------+\n",
      "|user_id|recommendations                                                                                       |\n",
      "+-------+------------------------------------------------------------------------------------------------------+\n",
      "|12     |[{19344, 6.25057}, {173345, 6.2220078}, {172416, 6.1911573}, {235012, 6.1029043}, {172944, 6.0931697}]|\n",
      "|26     |[{12334, 6.008749}, {172944, 6.0044107}, {19344, 5.9870224}, {173345, 5.9641447}, {235012, 5.909465}] |\n",
      "|28     |[{173345, 6.349544}, {172416, 6.240093}, {173325, 6.196763}, {231384, 6.1837873}, {151305, 6.1657777}]|\n",
      "|31     |[{10489, 6.274107}, {111747, 6.2604423}, {12382, 6.2467313}, {173710, 6.0998383}, {174879, 6.099676}] |\n",
      "|34     |[{12741, 6.9398265}, {10490, 6.916534}, {173345, 6.9019046}, {16155, 6.8827195}, {174436, 6.8670235}] |\n",
      "+-------+------------------------------------------------------------------------------------------------------+\n",
      "only showing top 5 rows\n",
      "\n"
     ]
    },
    {
     "name": "stderr",
     "output_type": "stream",
     "text": [
      "\r",
      "                                                                                \r"
     ]
    }
   ],
   "source": [
    "user_recs.show(5, truncate=False)"
   ]
  },
  {
   "cell_type": "code",
   "execution_count": 35,
   "id": "9de408ad-0f93-4e1a-828f-ed1226fdddab",
   "metadata": {
    "colab": {
     "base_uri": "https://localhost:8080/"
    },
    "id": "Te6XcXhPj3qs",
    "outputId": "9c187233-96d4-4855-c5de-416422469b1c"
   },
   "outputs": [],
   "source": [
    "#user_recs.count()"
   ]
  },
  {
   "cell_type": "markdown",
   "id": "beda02c4-ef46-4d16-9502-79044b2f2c52",
   "metadata": {
    "id": "wdkVIOhH7SYP"
   },
   "source": [
    "## Save data to file"
   ]
  },
  {
   "cell_type": "code",
   "execution_count": 49,
   "id": "113d7b9c-0f32-4ca7-b123-e03dc3f2e993",
   "metadata": {},
   "outputs": [],
   "source": [
    "df_product = df_product.select('product_id','product_name_new')"
   ]
  },
  {
   "cell_type": "code",
   "execution_count": 36,
   "id": "9fdb46fe-4718-47bb-b0b5-f63c8fb325ee",
   "metadata": {
    "id": "isoJNg-Whlfh"
   },
   "outputs": [],
   "source": [
    "#get reviewerID for reviewerID_idx\n",
    "df_reviewer_reviewer_id = data_indexed.select('reviewerID_idx', 'reviewerID').distinct()"
   ]
  },
  {
   "cell_type": "code",
   "execution_count": 37,
   "id": "777077f0-ed32-477e-82df-5bfb699693bb",
   "metadata": {
    "id": "ouQSqOjPic71"
   },
   "outputs": [],
   "source": [
    "#get product_id for asin_idx\n",
    "df_product_idx = data_indexed.select('asin_idx', 'asin').distinct()"
   ]
  },
  {
   "cell_type": "code",
   "execution_count": 51,
   "id": "9877eb21-a3b8-4b9f-a3d7-72dcbf172d9f",
   "metadata": {},
   "outputs": [
    {
     "name": "stdout",
     "output_type": "stream",
     "text": [
      "+----------+-------+------+\n",
      "|product_id|user_id|rating|\n",
      "+----------+-------+------+\n",
      "|       190|      1|   5.0|\n",
      "|       190|      2|   5.0|\n",
      "|       190|      3|   5.0|\n",
      "+----------+-------+------+\n",
      "only showing top 3 rows\n",
      "\n"
     ]
    }
   ],
   "source": [
    "data_indexed.show(3)"
   ]
  },
  {
   "cell_type": "code",
   "execution_count": 29,
   "id": "af1468ae-50c8-42eb-a339-759e738d4bc2",
   "metadata": {
    "id": "DIRu1ozKlQqj"
   },
   "outputs": [],
   "source": [
    "#combine dataframe with reviewerID\n",
    "#new_user_recs = user_recs.join(df_product, on=['product_id'], how='left')"
   ]
  },
  {
   "cell_type": "code",
   "execution_count": 39,
   "id": "34605e29-ad2d-4f45-a127-082e003bccb4",
   "metadata": {
    "colab": {
     "base_uri": "https://localhost:8080/"
    },
    "id": "Ai885yA3jEbo",
    "outputId": "448a7007-6b08-4058-fb0f-a724ee7955bb"
   },
   "outputs": [
    {
     "name": "stderr",
     "output_type": "stream",
     "text": [
      "23/08/04 14:54:47 WARN DAGScheduler: Broadcasting large task binary with size 1327.2 KiB\n",
      "23/08/04 14:55:05 WARN DAGScheduler: Broadcasting large task binary with size 1324.1 KiB\n"
     ]
    },
    {
     "name": "stdout",
     "output_type": "stream",
     "text": [
      "+--------------+-----------------------------------------------------------------------------------------------+--------------+\n",
      "|reviewerID_idx|recommendations                                                                                |reviewerID    |\n",
      "+--------------+-----------------------------------------------------------------------------------------------+--------------+\n",
      "|0             |[{9847, 6.2357802}, {6836, 5.9811497}, {9254, 5.9066997}, {7533, 5.8986154}, {7735, 5.8954325}]|AJGU56YG8G1DQ |\n",
      "|1             |[{6696, 5.283102}, {4135, 5.2031755}, {4560, 5.169352}, {7244, 5.1690936}, {8672, 5.165695}]   |A1M8AYAL3L8ACP|\n",
      "|2             |[{10415, 5.114091}, {2700, 5.0675197}, {7010, 5.048225}, {9254, 5.0290294}, {7735, 5.0211015}] |A1II2ZRPKZAQQD|\n",
      "+--------------+-----------------------------------------------------------------------------------------------+--------------+\n",
      "only showing top 3 rows\n",
      "\n"
     ]
    }
   ],
   "source": [
    "#inspect\n",
    "new_user_recs.show(3, truncate=False)"
   ]
  },
  {
   "cell_type": "code",
   "execution_count": 40,
   "id": "11432279-da2b-49bf-806f-48880aae5f3f",
   "metadata": {},
   "outputs": [
    {
     "name": "stderr",
     "output_type": "stream",
     "text": [
      "23/08/04 14:55:06 WARN DAGScheduler: Broadcasting large task binary with size 1327.2 KiB\n",
      "23/08/04 14:55:23 WARN DAGScheduler: Broadcasting large task binary with size 1525.3 KiB\n",
      "                                                                                \r"
     ]
    }
   ],
   "source": [
    "# Save to disk\n",
    "new_user_recs.write.parquet('reviews_Toys_and_Games_5_User.parquet', mode='overwrite')\n",
    "df_asin_asin_idx.write.parquet('reviews_Toys_and_Games_5_Product.parquet', mode='overwrite')"
   ]
  },
  {
   "cell_type": "markdown",
   "id": "268a24d8-605b-464a-a496-f8f84b47e113",
   "metadata": {},
   "source": [
    "## Then make recommendations to some users: \n",
    "A3GJPLCZCDXXG6, A34U85WY8ZWBPV, A2VIY2TL6QPYLG"
   ]
  },
  {
   "cell_type": "code",
   "execution_count": 41,
   "id": "8f33760a-2808-4dc9-b8f1-bd90a30e5c38",
   "metadata": {},
   "outputs": [],
   "source": [
    "def make_recommendation(reviewerID):\n",
    "    #create a dictionary for user recommendation\n",
    "    find_user_rec = new_user_recs.filter(new_user_recs['reviewerID'] == reviewerID)\n",
    "    user = find_user_rec.first()\n",
    "    lst = []\n",
    "    for row in user['recommendations']:\n",
    "        row_f = df_asin_asin_idx.filter(df_asin_asin_idx.asin_idx == row['asin_idx'])\n",
    "        row_f_first = row_f.first()\n",
    "        lst.append((row['asin_idx'], row_f_first['asin'], row['rating']))\n",
    "    dic_user_rec = {'reviewerID' : user.reviewerID, 'recommendations' :lst}\n",
    "    return dic_user_rec"
   ]
  },
  {
   "cell_type": "code",
   "execution_count": 42,
   "id": "507da93f-2aee-4905-9256-16c31b677042",
   "metadata": {},
   "outputs": [],
   "source": [
    "def make_result_dataframe(dic_user_rec, rating=4):\n",
    "    #adjust rating parameter for filter higher rating\n",
    "    #creating dataframe recommendations for new users\n",
    "    import pandas as pd\n",
    "    df_result = pd.DataFrame(dic_user_rec['recommendations'], columns=['asin_idx', 'productID', 'rating'])\n",
    "    df_result['reviewerID'] = dic_user_rec['reviewerID']\n",
    "    column_order = ['reviewerID',  'productID', 'rating', 'asin_idx']\n",
    "    df_result = df_result.reindex(columns=column_order)\n",
    "    df_result.drop('asin_idx', axis=1, inplace=True)\n",
    "    result = df_result[df_result['rating']>rating]\n",
    "    return result"
   ]
  },
  {
   "cell_type": "code",
   "execution_count": 43,
   "id": "d9437911-d46f-425a-811b-d3eae3adf9ab",
   "metadata": {},
   "outputs": [
    {
     "name": "stderr",
     "output_type": "stream",
     "text": [
      "23/08/04 14:55:28 WARN DAGScheduler: Broadcasting large task binary with size 1327.2 KiB\n",
      "23/08/04 14:55:45 WARN DAGScheduler: Broadcasting large task binary with size 1323.3 KiB\n",
      "[Stage 369:>                                                        (0 + 1) / 1]\r"
     ]
    },
    {
     "name": "stdout",
     "output_type": "stream",
     "text": [
      "Recommendation for:  A3GJPLCZCDXXG6\n"
     ]
    },
    {
     "name": "stderr",
     "output_type": "stream",
     "text": [
      "\r",
      "                                                                                \r"
     ]
    },
    {
     "data": {
      "text/html": [
       "<div>\n",
       "<style scoped>\n",
       "    .dataframe tbody tr th:only-of-type {\n",
       "        vertical-align: middle;\n",
       "    }\n",
       "\n",
       "    .dataframe tbody tr th {\n",
       "        vertical-align: top;\n",
       "    }\n",
       "\n",
       "    .dataframe thead th {\n",
       "        text-align: right;\n",
       "    }\n",
       "</style>\n",
       "<table border=\"1\" class=\"dataframe\">\n",
       "  <thead>\n",
       "    <tr style=\"text-align: right;\">\n",
       "      <th></th>\n",
       "      <th>reviewerID</th>\n",
       "      <th>productID</th>\n",
       "      <th>rating</th>\n",
       "    </tr>\n",
       "  </thead>\n",
       "  <tbody>\n",
       "    <tr>\n",
       "      <th>0</th>\n",
       "      <td>A3GJPLCZCDXXG6</td>\n",
       "      <td>B00D3Y18WO</td>\n",
       "      <td>5.634512</td>\n",
       "    </tr>\n",
       "    <tr>\n",
       "      <th>1</th>\n",
       "      <td>A3GJPLCZCDXXG6</td>\n",
       "      <td>B0007DI63S</td>\n",
       "      <td>5.598936</td>\n",
       "    </tr>\n",
       "    <tr>\n",
       "      <th>2</th>\n",
       "      <td>A3GJPLCZCDXXG6</td>\n",
       "      <td>B008L264Q8</td>\n",
       "      <td>5.564395</td>\n",
       "    </tr>\n",
       "    <tr>\n",
       "      <th>3</th>\n",
       "      <td>A3GJPLCZCDXXG6</td>\n",
       "      <td>B004Y3U90K</td>\n",
       "      <td>5.558105</td>\n",
       "    </tr>\n",
       "    <tr>\n",
       "      <th>4</th>\n",
       "      <td>A3GJPLCZCDXXG6</td>\n",
       "      <td>B00GHPHRI0</td>\n",
       "      <td>5.535957</td>\n",
       "    </tr>\n",
       "  </tbody>\n",
       "</table>\n",
       "</div>"
      ],
      "text/plain": [
       "       reviewerID   productID    rating\n",
       "0  A3GJPLCZCDXXG6  B00D3Y18WO  5.634512\n",
       "1  A3GJPLCZCDXXG6  B0007DI63S  5.598936\n",
       "2  A3GJPLCZCDXXG6  B008L264Q8  5.564395\n",
       "3  A3GJPLCZCDXXG6  B004Y3U90K  5.558105\n",
       "4  A3GJPLCZCDXXG6  B00GHPHRI0  5.535957"
      ]
     },
     "metadata": {},
     "output_type": "display_data"
    },
    {
     "name": "stderr",
     "output_type": "stream",
     "text": [
      "23/08/04 14:55:51 WARN DAGScheduler: Broadcasting large task binary with size 1327.2 KiB\n",
      "23/08/04 14:56:08 WARN DAGScheduler: Broadcasting large task binary with size 1323.3 KiB\n",
      "                                                                                \r"
     ]
    },
    {
     "name": "stdout",
     "output_type": "stream",
     "text": [
      "Recommendation for:  A34U85WY8ZWBPV\n"
     ]
    },
    {
     "data": {
      "text/html": [
       "<div>\n",
       "<style scoped>\n",
       "    .dataframe tbody tr th:only-of-type {\n",
       "        vertical-align: middle;\n",
       "    }\n",
       "\n",
       "    .dataframe tbody tr th {\n",
       "        vertical-align: top;\n",
       "    }\n",
       "\n",
       "    .dataframe thead th {\n",
       "        text-align: right;\n",
       "    }\n",
       "</style>\n",
       "<table border=\"1\" class=\"dataframe\">\n",
       "  <thead>\n",
       "    <tr style=\"text-align: right;\">\n",
       "      <th></th>\n",
       "      <th>reviewerID</th>\n",
       "      <th>productID</th>\n",
       "      <th>rating</th>\n",
       "    </tr>\n",
       "  </thead>\n",
       "  <tbody>\n",
       "    <tr>\n",
       "      <th>0</th>\n",
       "      <td>A34U85WY8ZWBPV</td>\n",
       "      <td>B00BK3FA8I</td>\n",
       "      <td>5.089292</td>\n",
       "    </tr>\n",
       "    <tr>\n",
       "      <th>1</th>\n",
       "      <td>A34U85WY8ZWBPV</td>\n",
       "      <td>B0093HPI9E</td>\n",
       "      <td>5.066402</td>\n",
       "    </tr>\n",
       "    <tr>\n",
       "      <th>2</th>\n",
       "      <td>A34U85WY8ZWBPV</td>\n",
       "      <td>B0007DI63S</td>\n",
       "      <td>5.065325</td>\n",
       "    </tr>\n",
       "    <tr>\n",
       "      <th>3</th>\n",
       "      <td>A34U85WY8ZWBPV</td>\n",
       "      <td>B00739W6VM</td>\n",
       "      <td>5.064379</td>\n",
       "    </tr>\n",
       "    <tr>\n",
       "      <th>4</th>\n",
       "      <td>A34U85WY8ZWBPV</td>\n",
       "      <td>B0007XIZ0M</td>\n",
       "      <td>5.021018</td>\n",
       "    </tr>\n",
       "  </tbody>\n",
       "</table>\n",
       "</div>"
      ],
      "text/plain": [
       "       reviewerID   productID    rating\n",
       "0  A34U85WY8ZWBPV  B00BK3FA8I  5.089292\n",
       "1  A34U85WY8ZWBPV  B0093HPI9E  5.066402\n",
       "2  A34U85WY8ZWBPV  B0007DI63S  5.065325\n",
       "3  A34U85WY8ZWBPV  B00739W6VM  5.064379\n",
       "4  A34U85WY8ZWBPV  B0007XIZ0M  5.021018"
      ]
     },
     "metadata": {},
     "output_type": "display_data"
    },
    {
     "name": "stderr",
     "output_type": "stream",
     "text": [
      "23/08/04 14:56:12 WARN DAGScheduler: Broadcasting large task binary with size 1327.2 KiB\n",
      "23/08/04 14:56:29 WARN DAGScheduler: Broadcasting large task binary with size 1323.3 KiB\n",
      "[Stage 483:>                                                        (0 + 1) / 1]\r"
     ]
    },
    {
     "name": "stdout",
     "output_type": "stream",
     "text": [
      "Recommendation for:  A2VIY2TL6QPYLG\n"
     ]
    },
    {
     "name": "stderr",
     "output_type": "stream",
     "text": [
      "\r",
      "                                                                                \r"
     ]
    },
    {
     "data": {
      "text/html": [
       "<div>\n",
       "<style scoped>\n",
       "    .dataframe tbody tr th:only-of-type {\n",
       "        vertical-align: middle;\n",
       "    }\n",
       "\n",
       "    .dataframe tbody tr th {\n",
       "        vertical-align: top;\n",
       "    }\n",
       "\n",
       "    .dataframe thead th {\n",
       "        text-align: right;\n",
       "    }\n",
       "</style>\n",
       "<table border=\"1\" class=\"dataframe\">\n",
       "  <thead>\n",
       "    <tr style=\"text-align: right;\">\n",
       "      <th></th>\n",
       "      <th>reviewerID</th>\n",
       "      <th>productID</th>\n",
       "      <th>rating</th>\n",
       "    </tr>\n",
       "  </thead>\n",
       "  <tbody>\n",
       "    <tr>\n",
       "      <th>0</th>\n",
       "      <td>A2VIY2TL6QPYLG</td>\n",
       "      <td>B00BY7YIPG</td>\n",
       "      <td>4.860012</td>\n",
       "    </tr>\n",
       "    <tr>\n",
       "      <th>1</th>\n",
       "      <td>A2VIY2TL6QPYLG</td>\n",
       "      <td>B009B7F6CA</td>\n",
       "      <td>4.828602</td>\n",
       "    </tr>\n",
       "    <tr>\n",
       "      <th>2</th>\n",
       "      <td>A2VIY2TL6QPYLG</td>\n",
       "      <td>B00ERZGLT8</td>\n",
       "      <td>4.795135</td>\n",
       "    </tr>\n",
       "    <tr>\n",
       "      <th>3</th>\n",
       "      <td>A2VIY2TL6QPYLG</td>\n",
       "      <td>B004SGOSI2</td>\n",
       "      <td>4.794385</td>\n",
       "    </tr>\n",
       "    <tr>\n",
       "      <th>4</th>\n",
       "      <td>A2VIY2TL6QPYLG</td>\n",
       "      <td>B00ERZVZZS</td>\n",
       "      <td>4.739208</td>\n",
       "    </tr>\n",
       "  </tbody>\n",
       "</table>\n",
       "</div>"
      ],
      "text/plain": [
       "       reviewerID   productID    rating\n",
       "0  A2VIY2TL6QPYLG  B00BY7YIPG  4.860012\n",
       "1  A2VIY2TL6QPYLG  B009B7F6CA  4.828602\n",
       "2  A2VIY2TL6QPYLG  B00ERZGLT8  4.795135\n",
       "3  A2VIY2TL6QPYLG  B004SGOSI2  4.794385\n",
       "4  A2VIY2TL6QPYLG  B00ERZVZZS  4.739208"
      ]
     },
     "metadata": {},
     "output_type": "display_data"
    }
   ],
   "source": [
    "#recommendation for each users\n",
    "for user in ['A3GJPLCZCDXXG6', 'A34U85WY8ZWBPV', 'A2VIY2TL6QPYLG']:\n",
    "    user_recom = make_recommendation(user)\n",
    "    result = make_result_dataframe(user_recom)\n",
    "    print(\"Recommendation for: \", user)\n",
    "    display(result)    "
   ]
  },
  {
   "cell_type": "markdown",
   "id": "217581f8-9feb-4897-89d6-4a84ca92c981",
   "metadata": {},
   "source": [
    "#### Summary\n",
    "* A3GJPLCZCDXXG6 user might likes these productIDs: B009Y943F6, B009Y94H1G, B007CB7X1E, B00D0GYMTG, B00ERZVZZS\n",
    "\n",
    "* A34U85WY8ZWBPV user might likes these productIDs: B00D3Y18WO, B004Y3U90K, B003AVWOMS, B00AZQ2SYU, B000BX4TTO\n",
    "\n",
    "* A2VIY2TL6QPYLG user might likes these productIDs: B00A0GNOVQ, B00D95E30G, B001L123JS, B000PC62EQ, B00CFELU30 \t"
   ]
  },
  {
   "cell_type": "markdown",
   "id": "c4ff37e2-e365-41ad-961d-d151e0469926",
   "metadata": {
    "id": "1mfdo6Lh1ILQ"
   },
   "source": [
    "## Or reading the saved file to get input data => recommendation"
   ]
  },
  {
   "cell_type": "code",
   "execution_count": 44,
   "id": "89b5a769-ef09-4ed5-b9d1-84e437c81412",
   "metadata": {
    "id": "KNxbC0z21XIr"
   },
   "outputs": [],
   "source": [
    "# Read the Parquet file into a new DataFrame\n",
    "new_user_recs = spark.read.parquet('reviews_Toys_and_Games_5_User.parquet')"
   ]
  },
  {
   "cell_type": "code",
   "execution_count": 45,
   "id": "802cf669-541e-478e-b897-df8c51e0fea1",
   "metadata": {
    "colab": {
     "base_uri": "https://localhost:8080/"
    },
    "id": "q80alzhr1wHK",
    "outputId": "10018a7f-fdfe-4d5a-b825-d6574557dc0e"
   },
   "outputs": [
    {
     "name": "stdout",
     "output_type": "stream",
     "text": [
      "root\n",
      " |-- reviewerID_idx: integer (nullable = true)\n",
      " |-- recommendations: array (nullable = true)\n",
      " |    |-- element: struct (containsNull = true)\n",
      " |    |    |-- asin_idx: integer (nullable = true)\n",
      " |    |    |-- rating: float (nullable = true)\n",
      " |-- reviewerID: string (nullable = true)\n",
      "\n"
     ]
    }
   ],
   "source": [
    "new_user_recs.printSchema()"
   ]
  },
  {
   "cell_type": "code",
   "execution_count": 46,
   "id": "a3cd875b-39cf-4bc8-a88b-790e9e17ae9c",
   "metadata": {
    "colab": {
     "base_uri": "https://localhost:8080/"
    },
    "id": "cvUonJ-v1z7r",
    "outputId": "4b8a638c-ad45-4ab8-e5e6-b572377ef2a8"
   },
   "outputs": [
    {
     "name": "stdout",
     "output_type": "stream",
     "text": [
      "+--------------+--------------------+--------------+\n",
      "|reviewerID_idx|     recommendations|    reviewerID|\n",
      "+--------------+--------------------+--------------+\n",
      "|             0|[{9847, 6.2357802...| AJGU56YG8G1DQ|\n",
      "|             1|[{6696, 5.283102}...|A1M8AYAL3L8ACP|\n",
      "+--------------+--------------------+--------------+\n",
      "only showing top 2 rows\n",
      "\n"
     ]
    }
   ],
   "source": [
    "new_user_recs.show(2)"
   ]
  },
  {
   "cell_type": "code",
   "execution_count": 47,
   "id": "554777b2-9a97-46a4-86f0-237ecc4c9daf",
   "metadata": {
    "id": "xsCwUpBi14sl"
   },
   "outputs": [],
   "source": [
    "df_asin_asin_idx = spark.read.parquet('reviews_Toys_and_Games_5_Product.parquet')"
   ]
  },
  {
   "cell_type": "code",
   "execution_count": 48,
   "id": "92264d09-919a-4d9a-aca6-8d4792225642",
   "metadata": {
    "colab": {
     "base_uri": "https://localhost:8080/"
    },
    "id": "MuDRy-gT2EJw",
    "outputId": "6c9f942c-5ec5-4a68-9141-b80a3733aab6"
   },
   "outputs": [
    {
     "name": "stdout",
     "output_type": "stream",
     "text": [
      "root\n",
      " |-- asin_idx: double (nullable = true)\n",
      " |-- asin: string (nullable = true)\n",
      "\n"
     ]
    }
   ],
   "source": [
    "df_asin_asin_idx.printSchema()"
   ]
  },
  {
   "cell_type": "code",
   "execution_count": 49,
   "id": "43c8a84a-cabd-415d-928d-39d062c5732e",
   "metadata": {
    "colab": {
     "base_uri": "https://localhost:8080/"
    },
    "id": "CFOn_ioC2JIl",
    "outputId": "817e8c43-b7c4-4ca2-bde9-e6fc3b9ba3d9"
   },
   "outputs": [
    {
     "name": "stdout",
     "output_type": "stream",
     "text": [
      "+--------+----------+\n",
      "|asin_idx|      asin|\n",
      "+--------+----------+\n",
      "|  9630.0|1603800689|\n",
      "|    19.0|B00000K3BR|\n",
      "+--------+----------+\n",
      "only showing top 2 rows\n",
      "\n"
     ]
    }
   ],
   "source": [
    "df_asin_asin_idx.show(2)"
   ]
  },
  {
   "cell_type": "code",
   "execution_count": 50,
   "id": "1fd9eecc-4f0e-442b-9631-b3f5a776a817",
   "metadata": {},
   "outputs": [
    {
     "name": "stdout",
     "output_type": "stream",
     "text": [
      "Recommendation for:  A3GJPLCZCDXXG6\n"
     ]
    },
    {
     "data": {
      "text/html": [
       "<div>\n",
       "<style scoped>\n",
       "    .dataframe tbody tr th:only-of-type {\n",
       "        vertical-align: middle;\n",
       "    }\n",
       "\n",
       "    .dataframe tbody tr th {\n",
       "        vertical-align: top;\n",
       "    }\n",
       "\n",
       "    .dataframe thead th {\n",
       "        text-align: right;\n",
       "    }\n",
       "</style>\n",
       "<table border=\"1\" class=\"dataframe\">\n",
       "  <thead>\n",
       "    <tr style=\"text-align: right;\">\n",
       "      <th></th>\n",
       "      <th>reviewerID</th>\n",
       "      <th>productID</th>\n",
       "      <th>rating</th>\n",
       "    </tr>\n",
       "  </thead>\n",
       "  <tbody>\n",
       "    <tr>\n",
       "      <th>0</th>\n",
       "      <td>A3GJPLCZCDXXG6</td>\n",
       "      <td>B00D3Y18WO</td>\n",
       "      <td>5.634512</td>\n",
       "    </tr>\n",
       "    <tr>\n",
       "      <th>1</th>\n",
       "      <td>A3GJPLCZCDXXG6</td>\n",
       "      <td>B0007DI63S</td>\n",
       "      <td>5.598936</td>\n",
       "    </tr>\n",
       "    <tr>\n",
       "      <th>2</th>\n",
       "      <td>A3GJPLCZCDXXG6</td>\n",
       "      <td>B008L264Q8</td>\n",
       "      <td>5.564395</td>\n",
       "    </tr>\n",
       "    <tr>\n",
       "      <th>3</th>\n",
       "      <td>A3GJPLCZCDXXG6</td>\n",
       "      <td>B004Y3U90K</td>\n",
       "      <td>5.558105</td>\n",
       "    </tr>\n",
       "    <tr>\n",
       "      <th>4</th>\n",
       "      <td>A3GJPLCZCDXXG6</td>\n",
       "      <td>B00GHPHRI0</td>\n",
       "      <td>5.535957</td>\n",
       "    </tr>\n",
       "  </tbody>\n",
       "</table>\n",
       "</div>"
      ],
      "text/plain": [
       "       reviewerID   productID    rating\n",
       "0  A3GJPLCZCDXXG6  B00D3Y18WO  5.634512\n",
       "1  A3GJPLCZCDXXG6  B0007DI63S  5.598936\n",
       "2  A3GJPLCZCDXXG6  B008L264Q8  5.564395\n",
       "3  A3GJPLCZCDXXG6  B004Y3U90K  5.558105\n",
       "4  A3GJPLCZCDXXG6  B00GHPHRI0  5.535957"
      ]
     },
     "metadata": {},
     "output_type": "display_data"
    },
    {
     "name": "stdout",
     "output_type": "stream",
     "text": [
      "Recommendation for:  A34U85WY8ZWBPV\n"
     ]
    },
    {
     "data": {
      "text/html": [
       "<div>\n",
       "<style scoped>\n",
       "    .dataframe tbody tr th:only-of-type {\n",
       "        vertical-align: middle;\n",
       "    }\n",
       "\n",
       "    .dataframe tbody tr th {\n",
       "        vertical-align: top;\n",
       "    }\n",
       "\n",
       "    .dataframe thead th {\n",
       "        text-align: right;\n",
       "    }\n",
       "</style>\n",
       "<table border=\"1\" class=\"dataframe\">\n",
       "  <thead>\n",
       "    <tr style=\"text-align: right;\">\n",
       "      <th></th>\n",
       "      <th>reviewerID</th>\n",
       "      <th>productID</th>\n",
       "      <th>rating</th>\n",
       "    </tr>\n",
       "  </thead>\n",
       "  <tbody>\n",
       "    <tr>\n",
       "      <th>0</th>\n",
       "      <td>A34U85WY8ZWBPV</td>\n",
       "      <td>B00BK3FA8I</td>\n",
       "      <td>5.089292</td>\n",
       "    </tr>\n",
       "    <tr>\n",
       "      <th>1</th>\n",
       "      <td>A34U85WY8ZWBPV</td>\n",
       "      <td>B0093HPI9E</td>\n",
       "      <td>5.066402</td>\n",
       "    </tr>\n",
       "    <tr>\n",
       "      <th>2</th>\n",
       "      <td>A34U85WY8ZWBPV</td>\n",
       "      <td>B0007DI63S</td>\n",
       "      <td>5.065325</td>\n",
       "    </tr>\n",
       "    <tr>\n",
       "      <th>3</th>\n",
       "      <td>A34U85WY8ZWBPV</td>\n",
       "      <td>B00739W6VM</td>\n",
       "      <td>5.064379</td>\n",
       "    </tr>\n",
       "    <tr>\n",
       "      <th>4</th>\n",
       "      <td>A34U85WY8ZWBPV</td>\n",
       "      <td>B0007XIZ0M</td>\n",
       "      <td>5.021018</td>\n",
       "    </tr>\n",
       "  </tbody>\n",
       "</table>\n",
       "</div>"
      ],
      "text/plain": [
       "       reviewerID   productID    rating\n",
       "0  A34U85WY8ZWBPV  B00BK3FA8I  5.089292\n",
       "1  A34U85WY8ZWBPV  B0093HPI9E  5.066402\n",
       "2  A34U85WY8ZWBPV  B0007DI63S  5.065325\n",
       "3  A34U85WY8ZWBPV  B00739W6VM  5.064379\n",
       "4  A34U85WY8ZWBPV  B0007XIZ0M  5.021018"
      ]
     },
     "metadata": {},
     "output_type": "display_data"
    },
    {
     "name": "stdout",
     "output_type": "stream",
     "text": [
      "Recommendation for:  A2VIY2TL6QPYLG\n"
     ]
    },
    {
     "data": {
      "text/html": [
       "<div>\n",
       "<style scoped>\n",
       "    .dataframe tbody tr th:only-of-type {\n",
       "        vertical-align: middle;\n",
       "    }\n",
       "\n",
       "    .dataframe tbody tr th {\n",
       "        vertical-align: top;\n",
       "    }\n",
       "\n",
       "    .dataframe thead th {\n",
       "        text-align: right;\n",
       "    }\n",
       "</style>\n",
       "<table border=\"1\" class=\"dataframe\">\n",
       "  <thead>\n",
       "    <tr style=\"text-align: right;\">\n",
       "      <th></th>\n",
       "      <th>reviewerID</th>\n",
       "      <th>productID</th>\n",
       "      <th>rating</th>\n",
       "    </tr>\n",
       "  </thead>\n",
       "  <tbody>\n",
       "    <tr>\n",
       "      <th>0</th>\n",
       "      <td>A2VIY2TL6QPYLG</td>\n",
       "      <td>B00BY7YIPG</td>\n",
       "      <td>4.860012</td>\n",
       "    </tr>\n",
       "    <tr>\n",
       "      <th>1</th>\n",
       "      <td>A2VIY2TL6QPYLG</td>\n",
       "      <td>B009B7F6CA</td>\n",
       "      <td>4.828602</td>\n",
       "    </tr>\n",
       "    <tr>\n",
       "      <th>2</th>\n",
       "      <td>A2VIY2TL6QPYLG</td>\n",
       "      <td>B00ERZGLT8</td>\n",
       "      <td>4.795135</td>\n",
       "    </tr>\n",
       "    <tr>\n",
       "      <th>3</th>\n",
       "      <td>A2VIY2TL6QPYLG</td>\n",
       "      <td>B004SGOSI2</td>\n",
       "      <td>4.794385</td>\n",
       "    </tr>\n",
       "    <tr>\n",
       "      <th>4</th>\n",
       "      <td>A2VIY2TL6QPYLG</td>\n",
       "      <td>B00ERZVZZS</td>\n",
       "      <td>4.739208</td>\n",
       "    </tr>\n",
       "  </tbody>\n",
       "</table>\n",
       "</div>"
      ],
      "text/plain": [
       "       reviewerID   productID    rating\n",
       "0  A2VIY2TL6QPYLG  B00BY7YIPG  4.860012\n",
       "1  A2VIY2TL6QPYLG  B009B7F6CA  4.828602\n",
       "2  A2VIY2TL6QPYLG  B00ERZGLT8  4.795135\n",
       "3  A2VIY2TL6QPYLG  B004SGOSI2  4.794385\n",
       "4  A2VIY2TL6QPYLG  B00ERZVZZS  4.739208"
      ]
     },
     "metadata": {},
     "output_type": "display_data"
    }
   ],
   "source": [
    "#recommendation for each users\n",
    "for user in ['A3GJPLCZCDXXG6', 'A34U85WY8ZWBPV', 'A2VIY2TL6QPYLG']:\n",
    "    user_recom = make_recommendation(user)\n",
    "    result = make_result_dataframe(user_recom)\n",
    "    print(\"Recommendation for: \", user)\n",
    "    display(result)    "
   ]
  }
 ],
 "metadata": {
  "kernelspec": {
   "display_name": "Python 3 (ipykernel)",
   "language": "python",
   "name": "python3"
  },
  "language_info": {
   "codemirror_mode": {
    "name": "ipython",
    "version": 3
   },
   "file_extension": ".py",
   "mimetype": "text/x-python",
   "name": "python",
   "nbconvert_exporter": "python",
   "pygments_lexer": "ipython3",
   "version": "3.9.18"
  }
 },
 "nbformat": 4,
 "nbformat_minor": 5
}
