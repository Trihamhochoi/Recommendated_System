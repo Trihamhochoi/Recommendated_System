{
 "cells": [
  {
   "cell_type": "code",
   "execution_count": 1,
   "id": "f156b464-4600-4022-a0e2-973835be22f7",
   "metadata": {
    "id": "c0JvcgTY_23t",
    "tags": []
   },
   "outputs": [],
   "source": [
    "import findspark\n",
    "findspark.init()"
   ]
  },
  {
   "cell_type": "code",
   "execution_count": 1,
   "id": "fe6c9197-f38d-472b-876c-b7e8688d6d03",
   "metadata": {
    "id": "sMEWXllEAD3X"
   },
   "outputs": [],
   "source": [
    "# import libraries\n",
    "from pyspark import SparkContext\n",
    "from pyspark.conf import SparkConf\n",
    "from pyspark.sql import SparkSession\n",
    "import matplotlib.pyplot as plt\n",
    "import seaborn as sns\n",
    "from scipy import stats\n",
    "from datetime import datetime\n",
    "from pyspark.sql import Row\n",
    "import pyspark.sql.functions as f\n",
    "\n",
    "import pyspark.sql.types as t\n",
    "\n",
    "import pyspark.ml.feature as feat\n",
    "\n",
    "import numpy as np\n",
    "import pandas as pd\n",
    "\n",
    "# Pipeline\n",
    "from pyspark.ml import Pipeline, PipelineModel\n",
    "\n",
    "# Machine learning\n",
    "from pyspark.ml.recommendation import ALS\n",
    "from pyspark.ml.evaluation import RegressionEvaluator"
   ]
  },
  {
   "cell_type": "markdown",
   "id": "7d700b8c-e3bc-4dd9-bdb6-c4ecf9da0c60",
   "metadata": {
    "tags": []
   },
   "source": [
    "# About Dataset\n",
    "Use the information:\n",
    "-  product ID, \n",
    "-  User ID, \n",
    "- Rating\n",
    "\n",
    "in dataset Shopee: Products_ThoiTrangNam build a recommended sysytem\n",
    "\n",
    "**Then make recommendations to some specific users**"
   ]
  },
  {
   "cell_type": "code",
   "execution_count": 2,
   "id": "cda6533d-a4ff-4487-a8b3-29d67df8eb7c",
   "metadata": {},
   "outputs": [],
   "source": [
    "SparkContext.setSystemProperty(key='spark.hadoop.dfs.client.use.datanode.hostname',value='true')"
   ]
  },
  {
   "cell_type": "code",
   "execution_count": 3,
   "id": "3367c41c-09b6-438a-8037-b060dbf4be64",
   "metadata": {
    "id": "wnB3qrDkAJNX"
   },
   "outputs": [],
   "source": [
    "sc =SparkContext()"
   ]
  },
  {
   "cell_type": "code",
   "execution_count": 4,
   "id": "237856e6-0560-4fc6-bd31-dc3e19dec492",
   "metadata": {
    "id": "2mfBvmJoejHV"
   },
   "outputs": [],
   "source": [
    "sc.setLogLevel(\"ERROR\")"
   ]
  },
  {
   "cell_type": "code",
   "execution_count": 5,
   "id": "3b2e41ba-de81-41f3-a563-f992fe56ac91",
   "metadata": {
    "id": "bxVoyCsJAU1Q"
   },
   "outputs": [],
   "source": [
    "spark = SparkSession(sc)"
   ]
  },
  {
   "cell_type": "code",
   "execution_count": 6,
   "id": "10f2ac4c-cae0-4e8f-b67b-032c184ee266",
   "metadata": {},
   "outputs": [],
   "source": [
    "df = spark.read.csv(path='../DATA/clean_details.csv',inferSchema=True, header=True)"
   ]
  },
  {
   "cell_type": "code",
   "execution_count": 7,
   "id": "51fe427b-35e7-488f-8b4d-dad911fb3078",
   "metadata": {},
   "outputs": [],
   "source": [
    "#sc.cancelAllJobs()"
   ]
  },
  {
   "cell_type": "markdown",
   "id": "9f82ae3c-ac0e-41e0-8ab4-ef453698b10d",
   "metadata": {
    "tags": []
   },
   "source": [
    "# Overview"
   ]
  },
  {
   "cell_type": "code",
   "execution_count": 8,
   "id": "0ebad491-b088-442a-b490-611e6e4c85e0",
   "metadata": {},
   "outputs": [
    {
     "name": "stdout",
     "output_type": "stream",
     "text": [
      "+----------+-------+------+\n",
      "|product_id|user_id|rating|\n",
      "+----------+-------+------+\n",
      "|       190|      1|     5|\n",
      "|       190|      2|     5|\n",
      "|       190|      3|     5|\n",
      "|       190|      4|     5|\n",
      "|       190|      5|     5|\n",
      "|       190|      6|     5|\n",
      "|       190|      7|     5|\n",
      "|       190|      8|     5|\n",
      "|       190|      9|     5|\n",
      "|       190|     10|     5|\n",
      "+----------+-------+------+\n",
      "only showing top 10 rows\n",
      "\n",
      "root\n",
      " |-- product_id: integer (nullable = true)\n",
      " |-- user_id: integer (nullable = true)\n",
      " |-- rating: integer (nullable = true)\n",
      "\n",
      "There are 1024482 rows and 3 columns in dataframe\n"
     ]
    }
   ],
   "source": [
    "df.show(10)\n",
    "df.printSchema()\n",
    "print(f'There are {df.count()} rows and {len(df.columns)} columns in dataframe')"
   ]
  },
  {
   "cell_type": "markdown",
   "id": "b96ef814-2f74-4a80-ae2a-ad98dd7bdae4",
   "metadata": {},
   "source": [
    "## check null"
   ]
  },
  {
   "cell_type": "code",
   "execution_count": 9,
   "id": "ee770f03-85b9-4448-8210-622dad6b7068",
   "metadata": {},
   "outputs": [
    {
     "name": "stdout",
     "output_type": "stream",
     "text": [
      "+----------+-------+------+\n",
      "|product_id|user_id|rating|\n",
      "+----------+-------+------+\n",
      "|         0|      0|     0|\n",
      "+----------+-------+------+\n",
      "\n"
     ]
    }
   ],
   "source": [
    "df.select([f.count(f.when(f.isnan(c), c)).alias(c) for c in df.columns]).show()"
   ]
  },
  {
   "cell_type": "code",
   "execution_count": 10,
   "id": "889f094a-7425-4bba-ac28-303cca9d4761",
   "metadata": {},
   "outputs": [
    {
     "name": "stdout",
     "output_type": "stream",
     "text": [
      "+----------+-------+------+\n",
      "|product_id|user_id|rating|\n",
      "+----------+-------+------+\n",
      "|         0|      0|     0|\n",
      "+----------+-------+------+\n",
      "\n"
     ]
    }
   ],
   "source": [
    "df.select([f.count(f.when(f.isnull(c), c)).alias(c) for c in df.columns]).show()"
   ]
  },
  {
   "cell_type": "markdown",
   "id": "862851f4-c0f0-4125-81b4-86571a082173",
   "metadata": {},
   "source": [
    "## Descirble data"
   ]
  },
  {
   "cell_type": "code",
   "execution_count": 11,
   "id": "25bcff48-77a0-49b6-8b05-0498213ff7d2",
   "metadata": {},
   "outputs": [
    {
     "data": {
      "text/plain": [
       "['product_id', 'user_id', 'rating']"
      ]
     },
     "execution_count": 11,
     "metadata": {},
     "output_type": "execute_result"
    }
   ],
   "source": [
    "cat_col = df.columns\n",
    "cat_col"
   ]
  },
  {
   "cell_type": "markdown",
   "id": "5e9e3fe1-5740-4a8c-a7c5-b7d9d88fbf97",
   "metadata": {},
   "source": [
    "## Category data"
   ]
  },
  {
   "cell_type": "markdown",
   "id": "60ed6495-f27b-41d9-85fa-6f97ee711d3d",
   "metadata": {},
   "source": [
    "### Check distinct values"
   ]
  },
  {
   "cell_type": "code",
   "execution_count": 12,
   "id": "ae4eb1d3-30ff-4c51-be19-1fe2c6a78037",
   "metadata": {},
   "outputs": [
    {
     "name": "stdout",
     "output_type": "stream",
     "text": [
      "+----------+-------+------+\n",
      "|product_id|user_id|rating|\n",
      "+----------+-------+------+\n",
      "|     31267| 650636|     5|\n",
      "+----------+-------+------+\n",
      "\n"
     ]
    }
   ],
   "source": [
    "df.select([f.count_distinct(c).alias(c) for c in df.columns]).show()"
   ]
  },
  {
   "cell_type": "markdown",
   "id": "aaee5de9-01ae-4d72-8715-248996397fff",
   "metadata": {},
   "source": [
    "### Check top5 disticnt value count of each category columns in df "
   ]
  },
  {
   "cell_type": "code",
   "execution_count": 13,
   "id": "a08c83b1-d0ca-4cff-b6ac-45826e017aa4",
   "metadata": {},
   "outputs": [
    {
     "name": "stdout",
     "output_type": "stream",
     "text": [
      "+----------+-----+---------------------+\n",
      "|product_id|count|Normalize            |\n",
      "+----------+-----+---------------------+\n",
      "|1731      |412  |4.021544546414676E-4 |\n",
      "|177       |395  |3.8556070287228085E-4|\n",
      "|231       |391  |3.816562906912957E-4 |\n",
      "|17194     |389  |3.797040846008031E-4 |\n",
      "|11131     |387  |3.7775187851031057E-4|\n",
      "+----------+-----+---------------------+\n",
      "only showing top 5 rows\n",
      "\n",
      "+-------+-----+---------------------+\n",
      "|user_id|count|Normalize            |\n",
      "+-------+-----+---------------------+\n",
      "|199    |19615|0.019146261232505794 |\n",
      "|159    |2585 |0.002523226371961635 |\n",
      "|831    |2541 |0.002480277837970799 |\n",
      "|324    |2415 |0.0023572888542697677|\n",
      "|860    |2088 |0.0020381031584742336|\n",
      "+-------+-----+---------------------+\n",
      "only showing top 5 rows\n",
      "\n",
      "+------+------+--------------------+\n",
      "|rating|count |Normalize           |\n",
      "+------+------+--------------------+\n",
      "|5     |777662|0.759078246372313   |\n",
      "|4     |118212|0.11538709318465332 |\n",
      "|3     |63051 |0.061544273105823236|\n",
      "|1     |41447 |0.04045654291632259 |\n",
      "|2     |24110 |0.023533844420887823|\n",
      "+------+------+--------------------+\n",
      "\n"
     ]
    }
   ],
   "source": [
    "for col in cat_col:\n",
    "    (df.groupby(col).count()\n",
    "     .withColumn('Normalize',(f.col('count')/df.count()))\n",
    "     .orderBy(f.col('count').desc())\n",
    "     .show(5,vertical=False,truncate=False))"
   ]
  },
  {
   "cell_type": "code",
   "execution_count": 14,
   "id": "febe1b6d-9bc7-409b-a59a-d65ebda403bc",
   "metadata": {},
   "outputs": [],
   "source": [
    "df = df.withColumnRenamed(existing='user_id',new='usr_id')"
   ]
  },
  {
   "cell_type": "markdown",
   "id": "e31d726a-0caf-4909-b3bb-512a873962b1",
   "metadata": {},
   "source": [
    "# Preprocessing"
   ]
  },
  {
   "cell_type": "code",
   "execution_count": 15,
   "id": "fe62adc7-1be7-47e2-810a-4a49f7abc5c0",
   "metadata": {},
   "outputs": [
    {
     "name": "stdout",
     "output_type": "stream",
     "text": [
      "+----------+------+------+\n",
      "|product_id|usr_id|rating|\n",
      "+----------+------+------+\n",
      "|       190|     1|     5|\n",
      "|       190|     2|     5|\n",
      "|       190|     3|     5|\n",
      "|       190|     4|     5|\n",
      "|       190|     5|     5|\n",
      "|       190|     6|     5|\n",
      "|       190|     7|     5|\n",
      "|       190|     8|     5|\n",
      "|       190|     9|     5|\n",
      "|       190|    10|     5|\n",
      "+----------+------+------+\n",
      "only showing top 10 rows\n",
      "\n"
     ]
    }
   ],
   "source": [
    "df.show(10)"
   ]
  },
  {
   "cell_type": "code",
   "execution_count": 16,
   "id": "964a2adb-5606-495a-a87f-83b62de2560b",
   "metadata": {},
   "outputs": [],
   "source": [
    "strindex = feat.StringIndexer(inputCols=['usr_id','product_id'],outputCols=['user_id','prd_id']).fit(df)"
   ]
  },
  {
   "cell_type": "code",
   "execution_count": 17,
   "id": "2107353a-db7b-4404-ba04-5c0835e1c272",
   "metadata": {},
   "outputs": [],
   "source": [
    "final_df = strindex.transform(df)"
   ]
  },
  {
   "cell_type": "code",
   "execution_count": 18,
   "id": "7d8cad50-37d0-474d-be60-f7198949bdba",
   "metadata": {},
   "outputs": [
    {
     "name": "stdout",
     "output_type": "stream",
     "text": [
      "+----------+------+------+--------+------+\n",
      "|product_id|usr_id|rating| user_id|prd_id|\n",
      "+----------+------+------+--------+------+\n",
      "|       190|     1|     5|113654.0| 367.0|\n",
      "|       190|     2|     5| 50699.0| 367.0|\n",
      "|       190|     3|     5|284299.0| 367.0|\n",
      "|       190|     4|     5|376354.0| 367.0|\n",
      "|       190|     5|     5|  6462.0| 367.0|\n",
      "|       190|     6|     5|  6657.0| 367.0|\n",
      "|       190|     7|     5|625739.0| 367.0|\n",
      "|       190|     8|     5|   477.0| 367.0|\n",
      "|       190|     9|     5| 32734.0| 367.0|\n",
      "|       190|    10|     5| 33207.0| 367.0|\n",
      "+----------+------+------+--------+------+\n",
      "only showing top 10 rows\n",
      "\n",
      "root\n",
      " |-- product_id: integer (nullable = true)\n",
      " |-- usr_id: integer (nullable = true)\n",
      " |-- rating: integer (nullable = true)\n",
      " |-- user_id: double (nullable = false)\n",
      " |-- prd_id: double (nullable = false)\n",
      "\n"
     ]
    }
   ],
   "source": [
    "final_df.show(10)\n",
    "final_df.printSchema()"
   ]
  },
  {
   "cell_type": "code",
   "execution_count": 19,
   "id": "5e48e886-a34a-4b0c-a950-4e37d36be57e",
   "metadata": {},
   "outputs": [
    {
     "name": "stdout",
     "output_type": "stream",
     "text": [
      "+----------+------+------+-------+------+\n",
      "|product_id|usr_id|rating|user_id|prd_id|\n",
      "+----------+------+------+-------+------+\n",
      "|         0|     0|     0|      0|     0|\n",
      "+----------+------+------+-------+------+\n",
      "\n"
     ]
    }
   ],
   "source": [
    "final_df.select([f.count(f.when(f.isnan(c), c)).alias(c) for c in final_df.columns]).show()"
   ]
  },
  {
   "cell_type": "code",
   "execution_count": 20,
   "id": "873654af-d674-4571-881b-1d7e8d184835",
   "metadata": {},
   "outputs": [
    {
     "name": "stdout",
     "output_type": "stream",
     "text": [
      "+----------+------+------+-------+------+\n",
      "|product_id|usr_id|rating|user_id|prd_id|\n",
      "+----------+------+------+-------+------+\n",
      "|         0|     0|     0|      0|     0|\n",
      "+----------+------+------+-------+------+\n",
      "\n"
     ]
    }
   ],
   "source": [
    "final_df.select([f.count(f.when(f.isnull(c), c)).alias(c) for c in final_df.columns]).show()"
   ]
  },
  {
   "cell_type": "markdown",
   "id": "b521e9f7-cd8c-4d8e-8928-ed4c3e421e24",
   "metadata": {
    "tags": []
   },
   "source": [
    "# Split Data"
   ]
  },
  {
   "cell_type": "code",
   "execution_count": 21,
   "id": "f64455a9-1d32-4477-bd7c-ab7bd0de3e84",
   "metadata": {},
   "outputs": [],
   "source": [
    "train, test = final_df.randomSplit([0.8,0.2],seed=42)"
   ]
  },
  {
   "cell_type": "markdown",
   "id": "61732834-eaf4-4a84-81ce-d372cce8c4f2",
   "metadata": {},
   "source": [
    "# Model"
   ]
  },
  {
   "cell_type": "markdown",
   "id": "00497ee4-dc5a-4e25-b8ae-b4bb01298d38",
   "metadata": {},
   "source": [
    "# Evaluation"
   ]
  },
  {
   "cell_type": "code",
   "execution_count": 22,
   "id": "a7dae928-9cc9-4647-b306-f2c50e97c04d",
   "metadata": {},
   "outputs": [
    {
     "name": "stderr",
     "output_type": "stream",
     "text": [
      "ERROR:root:Exception while sending command.\n",
      "Traceback (most recent call last):\n",
      "  File \"C:\\ProgramData\\Anaconda3\\envs\\env39\\lib\\site-packages\\py4j\\clientserver.py\", line 511, in send_command\n",
      "    answer = smart_decode(self.stream.readline()[:-1])\n",
      "  File \"C:\\ProgramData\\Anaconda3\\envs\\env39\\lib\\socket.py\", line 704, in readinto\n",
      "    return self._sock.recv_into(b)\n",
      "ConnectionResetError: [WinError 10054] An existing connection was forcibly closed by the remote host\n",
      "\n",
      "During handling of the above exception, another exception occurred:\n",
      "\n",
      "Traceback (most recent call last):\n",
      "  File \"C:\\ProgramData\\Anaconda3\\envs\\env39\\lib\\site-packages\\py4j\\java_gateway.py\", line 1038, in send_command\n",
      "    response = connection.send_command(command)\n",
      "  File \"C:\\ProgramData\\Anaconda3\\envs\\env39\\lib\\site-packages\\py4j\\clientserver.py\", line 539, in send_command\n",
      "    raise Py4JNetworkError(\n",
      "py4j.protocol.Py4JNetworkError: Error while sending or receiving\n"
     ]
    },
    {
     "ename": "ConnectionRefusedError",
     "evalue": "[WinError 10061] No connection could be made because the target machine actively refused it",
     "output_type": "error",
     "traceback": [
      "\u001b[1;31m---------------------------------------------------------------------------\u001b[0m",
      "\u001b[1;31mPy4JJavaError\u001b[0m                             Traceback (most recent call last)",
      "    \u001b[1;31m[... skipping hidden 1 frame]\u001b[0m\n",
      "Cell \u001b[1;32mIn[22], line 9\u001b[0m\n\u001b[0;32m      1\u001b[0m als \u001b[38;5;241m=\u001b[39m ALS(maxIter\u001b[38;5;241m=\u001b[39m\u001b[38;5;241m10\u001b[39m,\n\u001b[0;32m      2\u001b[0m           regParam\u001b[38;5;241m=\u001b[39m\u001b[38;5;241m0.01\u001b[39m, \n\u001b[0;32m      3\u001b[0m           userCol\u001b[38;5;241m=\u001b[39m\u001b[38;5;124m'\u001b[39m\u001b[38;5;124muser_id\u001b[39m\u001b[38;5;124m'\u001b[39m,\n\u001b[1;32m   (...)\u001b[0m\n\u001b[0;32m      7\u001b[0m           rank\u001b[38;5;241m=\u001b[39m\u001b[38;5;241m10\u001b[39m,\n\u001b[0;32m      8\u001b[0m           nonnegative\u001b[38;5;241m=\u001b[39m\u001b[38;5;28;01mTrue\u001b[39;00m)\n\u001b[1;32m----> 9\u001b[0m model_t \u001b[38;5;241m=\u001b[39m \u001b[43mals\u001b[49m\u001b[38;5;241;43m.\u001b[39;49m\u001b[43mfit\u001b[49m\u001b[43m(\u001b[49m\u001b[43mtrain\u001b[49m\u001b[43m)\u001b[49m\n",
      "File \u001b[1;32mC:\\ProgramData\\Anaconda3\\envs\\env39\\lib\\site-packages\\pyspark\\ml\\base.py:205\u001b[0m, in \u001b[0;36mEstimator.fit\u001b[1;34m(self, dataset, params)\u001b[0m\n\u001b[0;32m    204\u001b[0m     \u001b[38;5;28;01melse\u001b[39;00m:\n\u001b[1;32m--> 205\u001b[0m         \u001b[38;5;28;01mreturn\u001b[39;00m \u001b[38;5;28;43mself\u001b[39;49m\u001b[38;5;241;43m.\u001b[39;49m\u001b[43m_fit\u001b[49m\u001b[43m(\u001b[49m\u001b[43mdataset\u001b[49m\u001b[43m)\u001b[49m\n\u001b[0;32m    206\u001b[0m \u001b[38;5;28;01melse\u001b[39;00m:\n",
      "File \u001b[1;32mC:\\ProgramData\\Anaconda3\\envs\\env39\\lib\\site-packages\\pyspark\\ml\\wrapper.py:381\u001b[0m, in \u001b[0;36mJavaEstimator._fit\u001b[1;34m(self, dataset)\u001b[0m\n\u001b[0;32m    380\u001b[0m \u001b[38;5;28;01mdef\u001b[39;00m \u001b[38;5;21m_fit\u001b[39m(\u001b[38;5;28mself\u001b[39m, dataset: DataFrame) \u001b[38;5;241m-\u001b[39m\u001b[38;5;241m>\u001b[39m JM:\n\u001b[1;32m--> 381\u001b[0m     java_model \u001b[38;5;241m=\u001b[39m \u001b[38;5;28;43mself\u001b[39;49m\u001b[38;5;241;43m.\u001b[39;49m\u001b[43m_fit_java\u001b[49m\u001b[43m(\u001b[49m\u001b[43mdataset\u001b[49m\u001b[43m)\u001b[49m\n\u001b[0;32m    382\u001b[0m     model \u001b[38;5;241m=\u001b[39m \u001b[38;5;28mself\u001b[39m\u001b[38;5;241m.\u001b[39m_create_model(java_model)\n",
      "File \u001b[1;32mC:\\ProgramData\\Anaconda3\\envs\\env39\\lib\\site-packages\\pyspark\\ml\\wrapper.py:378\u001b[0m, in \u001b[0;36mJavaEstimator._fit_java\u001b[1;34m(self, dataset)\u001b[0m\n\u001b[0;32m    377\u001b[0m \u001b[38;5;28mself\u001b[39m\u001b[38;5;241m.\u001b[39m_transfer_params_to_java()\n\u001b[1;32m--> 378\u001b[0m \u001b[38;5;28;01mreturn\u001b[39;00m \u001b[38;5;28;43mself\u001b[39;49m\u001b[38;5;241;43m.\u001b[39;49m\u001b[43m_java_obj\u001b[49m\u001b[38;5;241;43m.\u001b[39;49m\u001b[43mfit\u001b[49m\u001b[43m(\u001b[49m\u001b[43mdataset\u001b[49m\u001b[38;5;241;43m.\u001b[39;49m\u001b[43m_jdf\u001b[49m\u001b[43m)\u001b[49m\n",
      "File \u001b[1;32mC:\\ProgramData\\Anaconda3\\envs\\env39\\lib\\site-packages\\py4j\\java_gateway.py:1322\u001b[0m, in \u001b[0;36mJavaMember.__call__\u001b[1;34m(self, *args)\u001b[0m\n\u001b[0;32m   1321\u001b[0m answer \u001b[38;5;241m=\u001b[39m \u001b[38;5;28mself\u001b[39m\u001b[38;5;241m.\u001b[39mgateway_client\u001b[38;5;241m.\u001b[39msend_command(command)\n\u001b[1;32m-> 1322\u001b[0m return_value \u001b[38;5;241m=\u001b[39m \u001b[43mget_return_value\u001b[49m\u001b[43m(\u001b[49m\n\u001b[0;32m   1323\u001b[0m \u001b[43m    \u001b[49m\u001b[43manswer\u001b[49m\u001b[43m,\u001b[49m\u001b[43m \u001b[49m\u001b[38;5;28;43mself\u001b[39;49m\u001b[38;5;241;43m.\u001b[39;49m\u001b[43mgateway_client\u001b[49m\u001b[43m,\u001b[49m\u001b[43m \u001b[49m\u001b[38;5;28;43mself\u001b[39;49m\u001b[38;5;241;43m.\u001b[39;49m\u001b[43mtarget_id\u001b[49m\u001b[43m,\u001b[49m\u001b[43m \u001b[49m\u001b[38;5;28;43mself\u001b[39;49m\u001b[38;5;241;43m.\u001b[39;49m\u001b[43mname\u001b[49m\u001b[43m)\u001b[49m\n\u001b[0;32m   1325\u001b[0m \u001b[38;5;28;01mfor\u001b[39;00m temp_arg \u001b[38;5;129;01min\u001b[39;00m temp_args:\n",
      "File \u001b[1;32mC:\\ProgramData\\Anaconda3\\envs\\env39\\lib\\site-packages\\pyspark\\errors\\exceptions\\captured.py:179\u001b[0m, in \u001b[0;36mcapture_sql_exception.<locals>.deco\u001b[1;34m(*a, **kw)\u001b[0m\n\u001b[0;32m    178\u001b[0m \u001b[38;5;28;01mtry\u001b[39;00m:\n\u001b[1;32m--> 179\u001b[0m     \u001b[38;5;28;01mreturn\u001b[39;00m f(\u001b[38;5;241m*\u001b[39ma, \u001b[38;5;241m*\u001b[39m\u001b[38;5;241m*\u001b[39mkw)\n\u001b[0;32m    180\u001b[0m \u001b[38;5;28;01mexcept\u001b[39;00m Py4JJavaError \u001b[38;5;28;01mas\u001b[39;00m e:\n",
      "File \u001b[1;32mC:\\ProgramData\\Anaconda3\\envs\\env39\\lib\\site-packages\\py4j\\protocol.py:326\u001b[0m, in \u001b[0;36mget_return_value\u001b[1;34m(answer, gateway_client, target_id, name)\u001b[0m\n\u001b[0;32m    325\u001b[0m \u001b[38;5;28;01mif\u001b[39;00m answer[\u001b[38;5;241m1\u001b[39m] \u001b[38;5;241m==\u001b[39m REFERENCE_TYPE:\n\u001b[1;32m--> 326\u001b[0m     \u001b[38;5;28;01mraise\u001b[39;00m Py4JJavaError(\n\u001b[0;32m    327\u001b[0m         \u001b[38;5;124m\"\u001b[39m\u001b[38;5;124mAn error occurred while calling \u001b[39m\u001b[38;5;132;01m{0}\u001b[39;00m\u001b[38;5;132;01m{1}\u001b[39;00m\u001b[38;5;132;01m{2}\u001b[39;00m\u001b[38;5;124m.\u001b[39m\u001b[38;5;130;01m\\n\u001b[39;00m\u001b[38;5;124m\"\u001b[39m\u001b[38;5;241m.\u001b[39m\n\u001b[0;32m    328\u001b[0m         \u001b[38;5;28mformat\u001b[39m(target_id, \u001b[38;5;124m\"\u001b[39m\u001b[38;5;124m.\u001b[39m\u001b[38;5;124m\"\u001b[39m, name), value)\n\u001b[0;32m    329\u001b[0m \u001b[38;5;28;01melse\u001b[39;00m:\n",
      "\u001b[1;31m<class 'str'>\u001b[0m: (<class 'ConnectionRefusedError'>, ConnectionRefusedError(10061, 'No connection could be made because the target machine actively refused it', None, 10061, None))",
      "\nDuring handling of the above exception, another exception occurred:\n",
      "\u001b[1;31mConnectionRefusedError\u001b[0m                    Traceback (most recent call last)",
      "    \u001b[1;31m[... skipping hidden 1 frame]\u001b[0m\n",
      "File \u001b[1;32mC:\\ProgramData\\Anaconda3\\envs\\env39\\lib\\site-packages\\IPython\\core\\interactiveshell.py:2155\u001b[0m, in \u001b[0;36mInteractiveShell.showtraceback\u001b[1;34m(self, exc_tuple, filename, tb_offset, exception_only, running_compiled_code)\u001b[0m\n\u001b[0;32m   2152\u001b[0m         traceback\u001b[38;5;241m.\u001b[39mprint_exc()\n\u001b[0;32m   2153\u001b[0m         \u001b[38;5;28;01mreturn\u001b[39;00m \u001b[38;5;28;01mNone\u001b[39;00m\n\u001b[1;32m-> 2155\u001b[0m     \u001b[38;5;28;43mself\u001b[39;49m\u001b[38;5;241;43m.\u001b[39;49m\u001b[43m_showtraceback\u001b[49m\u001b[43m(\u001b[49m\u001b[43metype\u001b[49m\u001b[43m,\u001b[49m\u001b[43m \u001b[49m\u001b[43mvalue\u001b[49m\u001b[43m,\u001b[49m\u001b[43m \u001b[49m\u001b[43mstb\u001b[49m\u001b[43m)\u001b[49m\n\u001b[0;32m   2156\u001b[0m \u001b[38;5;28;01mif\u001b[39;00m \u001b[38;5;28mself\u001b[39m\u001b[38;5;241m.\u001b[39mcall_pdb:\n\u001b[0;32m   2157\u001b[0m     \u001b[38;5;66;03m# drop into debugger\u001b[39;00m\n\u001b[0;32m   2158\u001b[0m     \u001b[38;5;28mself\u001b[39m\u001b[38;5;241m.\u001b[39mdebugger(force\u001b[38;5;241m=\u001b[39m\u001b[38;5;28;01mTrue\u001b[39;00m)\n",
      "File \u001b[1;32mC:\\ProgramData\\Anaconda3\\envs\\env39\\lib\\site-packages\\ipykernel\\zmqshell.py:559\u001b[0m, in \u001b[0;36mZMQInteractiveShell._showtraceback\u001b[1;34m(self, etype, evalue, stb)\u001b[0m\n\u001b[0;32m    553\u001b[0m sys\u001b[38;5;241m.\u001b[39mstdout\u001b[38;5;241m.\u001b[39mflush()\n\u001b[0;32m    554\u001b[0m sys\u001b[38;5;241m.\u001b[39mstderr\u001b[38;5;241m.\u001b[39mflush()\n\u001b[0;32m    556\u001b[0m exc_content \u001b[38;5;241m=\u001b[39m {\n\u001b[0;32m    557\u001b[0m     \u001b[38;5;124m\"\u001b[39m\u001b[38;5;124mtraceback\u001b[39m\u001b[38;5;124m\"\u001b[39m: stb,\n\u001b[0;32m    558\u001b[0m     \u001b[38;5;124m\"\u001b[39m\u001b[38;5;124mename\u001b[39m\u001b[38;5;124m\"\u001b[39m: \u001b[38;5;28mstr\u001b[39m(etype\u001b[38;5;241m.\u001b[39m\u001b[38;5;18m__name__\u001b[39m),\n\u001b[1;32m--> 559\u001b[0m     \u001b[38;5;124m\"\u001b[39m\u001b[38;5;124mevalue\u001b[39m\u001b[38;5;124m\"\u001b[39m: \u001b[38;5;28;43mstr\u001b[39;49m\u001b[43m(\u001b[49m\u001b[43mevalue\u001b[49m\u001b[43m)\u001b[49m,\n\u001b[0;32m    560\u001b[0m }\n\u001b[0;32m    562\u001b[0m dh \u001b[38;5;241m=\u001b[39m \u001b[38;5;28mself\u001b[39m\u001b[38;5;241m.\u001b[39mdisplayhook\n\u001b[0;32m    563\u001b[0m \u001b[38;5;66;03m# Send exception info over pub socket for other clients than the caller\u001b[39;00m\n\u001b[0;32m    564\u001b[0m \u001b[38;5;66;03m# to pick up\u001b[39;00m\n",
      "File \u001b[1;32mC:\\ProgramData\\Anaconda3\\envs\\env39\\lib\\site-packages\\py4j\\protocol.py:471\u001b[0m, in \u001b[0;36mPy4JJavaError.__str__\u001b[1;34m(self)\u001b[0m\n\u001b[0;32m    469\u001b[0m \u001b[38;5;28;01mdef\u001b[39;00m \u001b[38;5;21m__str__\u001b[39m(\u001b[38;5;28mself\u001b[39m):\n\u001b[0;32m    470\u001b[0m     gateway_client \u001b[38;5;241m=\u001b[39m \u001b[38;5;28mself\u001b[39m\u001b[38;5;241m.\u001b[39mjava_exception\u001b[38;5;241m.\u001b[39m_gateway_client\n\u001b[1;32m--> 471\u001b[0m     answer \u001b[38;5;241m=\u001b[39m \u001b[43mgateway_client\u001b[49m\u001b[38;5;241;43m.\u001b[39;49m\u001b[43msend_command\u001b[49m\u001b[43m(\u001b[49m\u001b[38;5;28;43mself\u001b[39;49m\u001b[38;5;241;43m.\u001b[39;49m\u001b[43mexception_cmd\u001b[49m\u001b[43m)\u001b[49m\n\u001b[0;32m    472\u001b[0m     return_value \u001b[38;5;241m=\u001b[39m get_return_value(answer, gateway_client, \u001b[38;5;28;01mNone\u001b[39;00m, \u001b[38;5;28;01mNone\u001b[39;00m)\n\u001b[0;32m    473\u001b[0m     \u001b[38;5;66;03m# Note: technically this should return a bytestring 'str' rather than\u001b[39;00m\n\u001b[0;32m    474\u001b[0m     \u001b[38;5;66;03m# unicodes in Python 2; however, it can return unicodes for now.\u001b[39;00m\n\u001b[0;32m    475\u001b[0m     \u001b[38;5;66;03m# See https://github.com/bartdag/py4j/issues/306 for more details.\u001b[39;00m\n",
      "File \u001b[1;32mC:\\ProgramData\\Anaconda3\\envs\\env39\\lib\\site-packages\\py4j\\java_gateway.py:1036\u001b[0m, in \u001b[0;36mGatewayClient.send_command\u001b[1;34m(self, command, retry, binary)\u001b[0m\n\u001b[0;32m   1015\u001b[0m \u001b[38;5;28;01mdef\u001b[39;00m \u001b[38;5;21msend_command\u001b[39m(\u001b[38;5;28mself\u001b[39m, command, retry\u001b[38;5;241m=\u001b[39m\u001b[38;5;28;01mTrue\u001b[39;00m, binary\u001b[38;5;241m=\u001b[39m\u001b[38;5;28;01mFalse\u001b[39;00m):\n\u001b[0;32m   1016\u001b[0m \u001b[38;5;250m    \u001b[39m\u001b[38;5;124;03m\"\"\"Sends a command to the JVM. This method is not intended to be\u001b[39;00m\n\u001b[0;32m   1017\u001b[0m \u001b[38;5;124;03m       called directly by Py4J users. It is usually called by\u001b[39;00m\n\u001b[0;32m   1018\u001b[0m \u001b[38;5;124;03m       :class:`JavaMember` instances.\u001b[39;00m\n\u001b[1;32m   (...)\u001b[0m\n\u001b[0;32m   1034\u001b[0m \u001b[38;5;124;03m     if `binary` is `True`.\u001b[39;00m\n\u001b[0;32m   1035\u001b[0m \u001b[38;5;124;03m    \"\"\"\u001b[39;00m\n\u001b[1;32m-> 1036\u001b[0m     connection \u001b[38;5;241m=\u001b[39m \u001b[38;5;28;43mself\u001b[39;49m\u001b[38;5;241;43m.\u001b[39;49m\u001b[43m_get_connection\u001b[49m\u001b[43m(\u001b[49m\u001b[43m)\u001b[49m\n\u001b[0;32m   1037\u001b[0m     \u001b[38;5;28;01mtry\u001b[39;00m:\n\u001b[0;32m   1038\u001b[0m         response \u001b[38;5;241m=\u001b[39m connection\u001b[38;5;241m.\u001b[39msend_command(command)\n",
      "File \u001b[1;32mC:\\ProgramData\\Anaconda3\\envs\\env39\\lib\\site-packages\\py4j\\clientserver.py:284\u001b[0m, in \u001b[0;36mJavaClient._get_connection\u001b[1;34m(self)\u001b[0m\n\u001b[0;32m    281\u001b[0m     \u001b[38;5;28;01mpass\u001b[39;00m\n\u001b[0;32m    283\u001b[0m \u001b[38;5;28;01mif\u001b[39;00m connection \u001b[38;5;129;01mis\u001b[39;00m \u001b[38;5;28;01mNone\u001b[39;00m \u001b[38;5;129;01mor\u001b[39;00m connection\u001b[38;5;241m.\u001b[39msocket \u001b[38;5;129;01mis\u001b[39;00m \u001b[38;5;28;01mNone\u001b[39;00m:\n\u001b[1;32m--> 284\u001b[0m     connection \u001b[38;5;241m=\u001b[39m \u001b[38;5;28;43mself\u001b[39;49m\u001b[38;5;241;43m.\u001b[39;49m\u001b[43m_create_new_connection\u001b[49m\u001b[43m(\u001b[49m\u001b[43m)\u001b[49m\n\u001b[0;32m    285\u001b[0m \u001b[38;5;28;01mreturn\u001b[39;00m connection\n",
      "File \u001b[1;32mC:\\ProgramData\\Anaconda3\\envs\\env39\\lib\\site-packages\\py4j\\clientserver.py:291\u001b[0m, in \u001b[0;36mJavaClient._create_new_connection\u001b[1;34m(self)\u001b[0m\n\u001b[0;32m    287\u001b[0m \u001b[38;5;28;01mdef\u001b[39;00m \u001b[38;5;21m_create_new_connection\u001b[39m(\u001b[38;5;28mself\u001b[39m):\n\u001b[0;32m    288\u001b[0m     connection \u001b[38;5;241m=\u001b[39m ClientServerConnection(\n\u001b[0;32m    289\u001b[0m         \u001b[38;5;28mself\u001b[39m\u001b[38;5;241m.\u001b[39mjava_parameters, \u001b[38;5;28mself\u001b[39m\u001b[38;5;241m.\u001b[39mpython_parameters,\n\u001b[0;32m    290\u001b[0m         \u001b[38;5;28mself\u001b[39m\u001b[38;5;241m.\u001b[39mgateway_property, \u001b[38;5;28mself\u001b[39m)\n\u001b[1;32m--> 291\u001b[0m     \u001b[43mconnection\u001b[49m\u001b[38;5;241;43m.\u001b[39;49m\u001b[43mconnect_to_java_server\u001b[49m\u001b[43m(\u001b[49m\u001b[43m)\u001b[49m\n\u001b[0;32m    292\u001b[0m     \u001b[38;5;28mself\u001b[39m\u001b[38;5;241m.\u001b[39mset_thread_connection(connection)\n\u001b[0;32m    293\u001b[0m     \u001b[38;5;28;01mreturn\u001b[39;00m connection\n",
      "File \u001b[1;32mC:\\ProgramData\\Anaconda3\\envs\\env39\\lib\\site-packages\\py4j\\clientserver.py:438\u001b[0m, in \u001b[0;36mClientServerConnection.connect_to_java_server\u001b[1;34m(self)\u001b[0m\n\u001b[0;32m    435\u001b[0m \u001b[38;5;28;01mif\u001b[39;00m \u001b[38;5;28mself\u001b[39m\u001b[38;5;241m.\u001b[39mssl_context:\n\u001b[0;32m    436\u001b[0m     \u001b[38;5;28mself\u001b[39m\u001b[38;5;241m.\u001b[39msocket \u001b[38;5;241m=\u001b[39m \u001b[38;5;28mself\u001b[39m\u001b[38;5;241m.\u001b[39mssl_context\u001b[38;5;241m.\u001b[39mwrap_socket(\n\u001b[0;32m    437\u001b[0m         \u001b[38;5;28mself\u001b[39m\u001b[38;5;241m.\u001b[39msocket, server_hostname\u001b[38;5;241m=\u001b[39m\u001b[38;5;28mself\u001b[39m\u001b[38;5;241m.\u001b[39mjava_address)\n\u001b[1;32m--> 438\u001b[0m \u001b[38;5;28;43mself\u001b[39;49m\u001b[38;5;241;43m.\u001b[39;49m\u001b[43msocket\u001b[49m\u001b[38;5;241;43m.\u001b[39;49m\u001b[43mconnect\u001b[49m\u001b[43m(\u001b[49m\u001b[43m(\u001b[49m\u001b[38;5;28;43mself\u001b[39;49m\u001b[38;5;241;43m.\u001b[39;49m\u001b[43mjava_address\u001b[49m\u001b[43m,\u001b[49m\u001b[43m \u001b[49m\u001b[38;5;28;43mself\u001b[39;49m\u001b[38;5;241;43m.\u001b[39;49m\u001b[43mjava_port\u001b[49m\u001b[43m)\u001b[49m\u001b[43m)\u001b[49m\n\u001b[0;32m    439\u001b[0m \u001b[38;5;28mself\u001b[39m\u001b[38;5;241m.\u001b[39mstream \u001b[38;5;241m=\u001b[39m \u001b[38;5;28mself\u001b[39m\u001b[38;5;241m.\u001b[39msocket\u001b[38;5;241m.\u001b[39mmakefile(\u001b[38;5;124m\"\u001b[39m\u001b[38;5;124mrb\u001b[39m\u001b[38;5;124m\"\u001b[39m)\n\u001b[0;32m    440\u001b[0m \u001b[38;5;28mself\u001b[39m\u001b[38;5;241m.\u001b[39mis_connected \u001b[38;5;241m=\u001b[39m \u001b[38;5;28;01mTrue\u001b[39;00m\n",
      "\u001b[1;31mConnectionRefusedError\u001b[0m: [WinError 10061] No connection could be made because the target machine actively refused it"
     ]
    }
   ],
   "source": [
    "als = ALS(maxIter=10,\n",
    "          regParam=0.01, \n",
    "          userCol='user_id',\n",
    "          itemCol='prd_id', \n",
    "          ratingCol='rating', \n",
    "          coldStartStrategy='drop',\n",
    "          rank=10,\n",
    "          nonnegative=True)\n",
    "model_t = als.fit(train)"
   ]
  },
  {
   "cell_type": "code",
   "execution_count": 49,
   "id": "68c73ff5-6aa4-4bcb-8012-eb19c2b9b1a7",
   "metadata": {},
   "outputs": [
    {
     "name": "stdout",
     "output_type": "stream",
     "text": [
      "Root-mean square error = 1.3074620224307896\n"
     ]
    }
   ],
   "source": [
    "# evaluate \n",
    "pred_t = model_t.transform(test)\n",
    "evaluator = RegressionEvaluator(metricName='rmse',\n",
    "                                labelCol='rating',\n",
    "                                predictionCol='prediction')\n",
    "rmse = evaluator.evaluate(pred_t)\n",
    "print(\"Root-mean square error = \"+str(rmse))"
   ]
  },
  {
   "cell_type": "code",
   "execution_count": 50,
   "id": "0c69ec7e-dfb5-4beb-b289-94ff8cd38bc8",
   "metadata": {},
   "outputs": [],
   "source": [
    "user_recs = model_t.recommendForAllUsers(10)"
   ]
  },
  {
   "cell_type": "code",
   "execution_count": 51,
   "id": "5ab9a913-f528-4c96-96ae-325a8060f422",
   "metadata": {},
   "outputs": [
    {
     "name": "stdout",
     "output_type": "stream",
     "text": [
      "root\n",
      " |-- user_id: integer (nullable = false)\n",
      " |-- recommendations: array (nullable = true)\n",
      " |    |-- element: struct (containsNull = true)\n",
      " |    |    |-- prd_id: integer (nullable = true)\n",
      " |    |    |-- rating: float (nullable = true)\n",
      "\n"
     ]
    }
   ],
   "source": [
    "user_recs.printSchema()"
   ]
  },
  {
   "cell_type": "code",
   "execution_count": 64,
   "id": "5a588fd3-738e-40ec-b499-523f64f51736",
   "metadata": {},
   "outputs": [
    {
     "name": "stdout",
     "output_type": "stream",
     "text": [
      "+-------+--------------------+\n",
      "|user_id|     recommendations|\n",
      "+-------+--------------------+\n",
      "|     31|[{2608, 6.0681133...|\n",
      "|     34|[{11808, 8.067472...|\n",
      "|     53|[{9466, 7.335936}...|\n",
      "|     65|[{10928, 7.626090...|\n",
      "|     78|[{6875, 8.079903}...|\n",
      "|     85|[{2700, 8.284455}...|\n",
      "|    108|[{10731, 7.793638...|\n",
      "|    133|[{10928, 8.332048...|\n",
      "|    137|[{5377, 8.048038}...|\n",
      "|    148|[{10928, 9.205428...|\n",
      "+-------+--------------------+\n",
      "only showing top 10 rows\n",
      "\n"
     ]
    }
   ],
   "source": [
    "user_recs.show(10)"
   ]
  },
  {
   "cell_type": "code",
   "execution_count": 65,
   "id": "942c8403-25aa-435b-8198-ec2b954b538c",
   "metadata": {},
   "outputs": [
    {
     "name": "stdout",
     "output_type": "stream",
     "text": [
      "+-------+------------------+------+---------+\n",
      "|user_id|               col|prd_id|   rating|\n",
      "+-------+------------------+------+---------+\n",
      "|     31| {2608, 6.0681133}|  2608|6.0681133|\n",
      "|     31| {2941, 6.0042872}|  2941|6.0042872|\n",
      "|     31| {11802, 5.924115}| 11802| 5.924115|\n",
      "|     31|  {7332, 5.847309}|  7332| 5.847309|\n",
      "|     31| {7524, 5.8088546}|  7524|5.8088546|\n",
      "|     31|{11395, 5.7949514}| 11395|5.7949514|\n",
      "|     31|  {10731, 5.70828}| 10731|  5.70828|\n",
      "|     31|  {5389, 5.664432}|  5389| 5.664432|\n",
      "|     31|  {9703, 5.643629}|  9703| 5.643629|\n",
      "|     31| {4395, 5.6272407}|  4395|5.6272407|\n",
      "|     34| {11808, 8.067472}| 11808| 8.067472|\n",
      "|     34|  {6875, 7.980544}|  6875| 7.980544|\n",
      "|     34|{11802, 7.3937116}| 11802|7.3937116|\n",
      "|     34| {9866, 7.2814918}|  9866|7.2814918|\n",
      "|     34|  {4961, 7.113665}|  4961| 7.113665|\n",
      "|     34| {7769, 7.0938873}|  7769|7.0938873|\n",
      "|     34| {9425, 7.0872297}|  9425|7.0872297|\n",
      "|     34|  {6022, 7.034169}|  6022| 7.034169|\n",
      "|     34|  {3474, 7.011326}|  3474| 7.011326|\n",
      "|     34|  {2685, 6.995719}|  2685| 6.995719|\n",
      "+-------+------------------+------+---------+\n",
      "only showing top 20 rows\n",
      "\n"
     ]
    }
   ],
   "source": [
    "result = user_recs.select(f.col('user_id'),\n",
    "                       f.explode(f.col('recommendations')))\n",
    "\n",
    "result = (result.withColumn('prd_id', \n",
    "                               result.col.getField('prd_id'))\n",
    "             .withColumn('rating',  \n",
    "                         result.col.getField('rating'))\n",
    "            )\n",
    "result.show()"
   ]
  },
  {
   "cell_type": "code",
   "execution_count": 66,
   "id": "15b83cea-7b85-4104-9421-113041aba2cd",
   "metadata": {},
   "outputs": [
    {
     "name": "stdout",
     "output_type": "stream",
     "text": [
      "+-------+-----------------+\n",
      "|summary|           rating|\n",
      "+-------+-----------------+\n",
      "|  count|           194080|\n",
      "|   mean|7.053887954934731|\n",
      "| stddev|0.972378526601487|\n",
      "|    min|        1.0987473|\n",
      "|    max|         17.95811|\n",
      "+-------+-----------------+\n",
      "\n"
     ]
    }
   ],
   "source": [
    "result.select('rating').describe().show()"
   ]
  },
  {
   "cell_type": "markdown",
   "id": "aa588dde-f030-4458-9d57-71efd729a233",
   "metadata": {},
   "source": [
    "# Check new data"
   ]
  },
  {
   "cell_type": "code",
   "execution_count": 69,
   "id": "35c77d68-2d7f-4414-b88c-eb67282b2095",
   "metadata": {},
   "outputs": [
    {
     "name": "stdout",
     "output_type": "stream",
     "text": [
      "+--------------+----------+-------+-------+------+\n",
      "|    reviewerID|      asin|overall|user_id|prd_id|\n",
      "+--------------+----------+-------+-------+------+\n",
      "|A1VXOAVRGKGEAK|0439893577|    5.0|14349.0|2524.0|\n",
      "| A8R62G708TSCM|0439893577|    4.0|18115.0|2524.0|\n",
      "|A21KH420DK0ICA|0439893577|    5.0| 4454.0|2524.0|\n",
      "| AR29QK6HPFYZ4|0439893577|    5.0|18990.0|2524.0|\n",
      "| ACCH8EOML6FN5|0439893577|    4.0| 2769.0|2524.0|\n",
      "+--------------+----------+-------+-------+------+\n",
      "only showing top 5 rows\n",
      "\n"
     ]
    }
   ],
   "source": [
    "final_df.show(5)"
   ]
  },
  {
   "cell_type": "code",
   "execution_count": 81,
   "id": "6e245d59-fd70-4cd1-9b03-730a58126e6b",
   "metadata": {},
   "outputs": [],
   "source": [
    "check_reviewer = ['A3GJPLCZCDXXG6', 'A34U85WY8ZWBPV', 'A2VIY2TL6QPYLG']"
   ]
  },
  {
   "cell_type": "markdown",
   "id": "aec51e2e-9211-4e88-be3d-19fb5babaf08",
   "metadata": {},
   "source": [
    "- test if there are more than 2 values for one reviewer "
   ]
  },
  {
   "cell_type": "code",
   "execution_count": 79,
   "id": "8610a321-e37a-42f8-b461-c6b712b102ba",
   "metadata": {},
   "outputs": [
    {
     "name": "stdout",
     "output_type": "stream",
     "text": [
      "+--------------+--------+\n",
      "|    reviewerID|count_id|\n",
      "+--------------+--------+\n",
      "| ADF0URBXWJQOJ|       1|\n",
      "| ARIFCL50JD5SK|       1|\n",
      "| ATRQPL5OG4NIP|       1|\n",
      "|A1OPV6BD37T1VL|       1|\n",
      "| A2S0HZ2WHXRKD|       1|\n",
      "|A2P6QCZWW3H1X6|       1|\n",
      "| A9XCW04U6X4NP|       1|\n",
      "|A3LUUDFQJWLRTB|       1|\n",
      "| ATHUV6LFX2AXM|       1|\n",
      "|A3OPXNND84JPV6|       1|\n",
      "+--------------+--------+\n",
      "only showing top 10 rows\n",
      "\n"
     ]
    }
   ],
   "source": [
    "check_distinct = final_df.select('reviewerID','user_id').distinct().groupby('reviewerID').agg(f.count(f.col('user_id')).alias('count_id'))\n",
    "check_distinct.show(10)"
   ]
  },
  {
   "cell_type": "code",
   "execution_count": 80,
   "id": "815f3942-5bcc-444b-9345-13556e6eae2f",
   "metadata": {},
   "outputs": [
    {
     "name": "stdout",
     "output_type": "stream",
     "text": [
      "+----------+--------+\n",
      "|reviewerID|count_id|\n",
      "+----------+--------+\n",
      "+----------+--------+\n",
      "\n"
     ]
    }
   ],
   "source": [
    "check_distinct.filter(f.col('count_id')>1).show()"
   ]
  },
  {
   "cell_type": "code",
   "execution_count": 83,
   "id": "ae3607b5-5eec-4454-992e-1f66ac099e43",
   "metadata": {},
   "outputs": [
    {
     "name": "stdout",
     "output_type": "stream",
     "text": [
      "+--------------+-------+\n",
      "|    reviewerID|user_id|\n",
      "+--------------+-------+\n",
      "|A34U85WY8ZWBPV|16527.0|\n",
      "|A2VIY2TL6QPYLG| 7861.0|\n",
      "|A3GJPLCZCDXXG6| 6190.0|\n",
      "+--------------+-------+\n",
      "\n"
     ]
    }
   ],
   "source": [
    "map_data = final_df.select('reviewerID','user_id').distinct().filter(f.col('reviewerID').isin(check_reviewer))\n",
    "map_data.show()"
   ]
  },
  {
   "cell_type": "code",
   "execution_count": 87,
   "id": "00f802f3-face-4b24-86bf-58f26652a62f",
   "metadata": {},
   "outputs": [
    {
     "data": {
      "text/plain": [
       "[16527.0, 7861.0, 6190.0]"
      ]
     },
     "execution_count": 87,
     "metadata": {},
     "output_type": "execute_result"
    }
   ],
   "source": [
    "id_reviewer_encode = [i[0] for i in map_data.select('user_id').collect()]\n",
    "id_reviewer_encode"
   ]
  },
  {
   "cell_type": "markdown",
   "id": "15b9fa00-78b8-4ac7-b185-210bfc9a9fbc",
   "metadata": {},
   "source": [
    "- List of product id encoder is recommended by system  "
   ]
  },
  {
   "cell_type": "code",
   "execution_count": 88,
   "id": "8c1d06d4-16a2-4d9c-94b0-ec60d72cd9f7",
   "metadata": {},
   "outputs": [
    {
     "name": "stdout",
     "output_type": "stream",
     "text": [
      "+-------+------------------+------+---------+\n",
      "|user_id|               col|prd_id|   rating|\n",
      "+-------+------------------+------+---------+\n",
      "|   7861| {6874, 7.1505904}|  6874|7.1505904|\n",
      "|   7861|  {5309, 7.061749}|  5309| 7.061749|\n",
      "|   7861| {5308, 6.8394947}|  5308|6.8394947|\n",
      "|   7861|  {3500, 6.692243}|  3500| 6.692243|\n",
      "|   7861| {3503, 6.6303864}|  3503|6.6303864|\n",
      "|   7861| {3209, 6.6245437}|  3209|6.6245437|\n",
      "|   7861| {11883, 6.582908}| 11883| 6.582908|\n",
      "|   7861| {6794, 6.5016327}|  6794|6.5016327|\n",
      "|   7861|  {7944, 6.410063}|  7944| 6.410063|\n",
      "|   7861| {3099, 6.4076023}|  3099|6.4076023|\n",
      "|   6190| {5377, 7.2214284}|  5377|7.2214284|\n",
      "|   6190| {8154, 6.9718266}|  8154|6.9718266|\n",
      "|   6190| {2649, 6.8427224}|  2649|6.8427224|\n",
      "|   6190| {10731, 6.788498}| 10731| 6.788498|\n",
      "|   6190|  {8158, 6.787895}|  8158| 6.787895|\n",
      "|   6190|  {6095, 6.750331}|  6095| 6.750331|\n",
      "|   6190|  {9424, 6.742305}|  9424| 6.742305|\n",
      "|   6190|{11832, 6.7392454}| 11832|6.7392454|\n",
      "|   6190|  {6708, 6.711317}|  6708| 6.711317|\n",
      "|   6190| {6766, 6.6967993}|  6766|6.6967993|\n",
      "+-------+------------------+------+---------+\n",
      "only showing top 20 rows\n",
      "\n"
     ]
    }
   ],
   "source": [
    "result.filter(f.col('user_id').isin(id_reviewer_encode)).show()"
   ]
  }
 ],
 "metadata": {
  "kernelspec": {
   "display_name": "Python 3 (ipykernel)",
   "language": "python",
   "name": "python3"
  },
  "language_info": {
   "codemirror_mode": {
    "name": "ipython",
    "version": 3
   },
   "file_extension": ".py",
   "mimetype": "text/x-python",
   "name": "python",
   "nbconvert_exporter": "python",
   "pygments_lexer": "ipython3",
   "version": "3.9.18"
  }
 },
 "nbformat": 4,
 "nbformat_minor": 5
}
