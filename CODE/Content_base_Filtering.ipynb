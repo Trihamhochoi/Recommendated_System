{
 "cells": [
  {
   "cell_type": "code",
   "execution_count": 8,
   "id": "4ec42733-a55f-4e72-9e90-fd5736999fce",
   "metadata": {},
   "outputs": [],
   "source": [
    "import numpy as np\n",
    "import pandas as pd\n",
    "import matplotlib.pyplot as plt\n",
    "from sklearn.feature_extraction.text import TfidfVectorizer\n",
    "from sklearn.metrics.pairwise import linear_kernel, cosine_similarity\n",
    "from underthesea import word_tokenize, pos_tag, sent_tokenize\n",
    "import warnings\n",
    "from gensim import corpora, models, similarities\n",
    "import gensim\n",
    "import re"
   ]
  },
  {
   "cell_type": "code",
   "execution_count": 4,
   "id": "c3a98db6-b7b2-411a-9ee7-bbdca70091cc",
   "metadata": {},
   "outputs": [],
   "source": [
    "import matplotlib.pyplot as plt \n",
    "import seaborn as sns\n",
    "import glob\n",
    "import os \n",
    "from tqdm.auto import tqdm\n",
    "import re"
   ]
  },
  {
   "cell_type": "markdown",
   "id": "84c38e07-6e64-4a30-be78-0923b5545ce8",
   "metadata": {},
   "source": [
    "# Function:"
   ]
  },
  {
   "cell_type": "code",
   "execution_count": 23,
   "id": "4459dc50-667e-492f-aab0-71289d680acd",
   "metadata": {},
   "outputs": [],
   "source": [
    "def recommender(view_prd:str, \n",
    "                dict_prd:corpora.Dictionary,\n",
    "                tfidf_model:gensim.models.tfidfmodel.TfidfModel, \n",
    "                similarity:gensim.similarities.docsim.SparseMatrixSimilarity,\n",
    "                prd_df:pd.DataFrame):\n",
    "    # Convert search words into Sparse Vectors\n",
    "    view_prd = view_prd.lower().split()\n",
    "    kw_vector = dict_prd.doc2bow(view_prd)\n",
    "    print(\"View product's vector:\")\n",
    "    print(kw_vector)\n",
    "\n",
    "    # similarity calculation \n",
    "    sim = similarity[tfidf_model[kw_vector]]\n",
    "\n",
    "    # print result\n",
    "    list_id = []\n",
    "    list_score = []\n",
    "    for i in range(len(sim)):\n",
    "        list_id.append(i)\n",
    "        list_score.append(sim[i])\n",
    "\n",
    "    # Create df\n",
    "    df_res = pd.DataFrame({'id': list_id, 'score': list_score})\n",
    "\n",
    "    # Get 5 highest score\n",
    "    five_h_score = df_res.sort_values(by='score', ascending=False).head(6)\n",
    "    print(\"Five highest scores:\")\n",
    "    print(five_h_score)\n",
    "    print('IDS to list:')\n",
    "    id_to_ls = five_h_score['id'].to_list()\n",
    "    print(id_to_ls)\n",
    "\n",
    "    # Find prd \n",
    "    prd_find = prd_df[prd_df.index.isin(id_to_ls)]\n",
    "    prd_results = prd_find[['product_id','product_name','sub_category','price','rating']]\n",
    "    final = pd.concat([prd_results,five_h_score], axis=1).sort_values(by='score', ascending=False)\n",
    "    return final"
   ]
  },
  {
   "cell_type": "markdown",
   "id": "28453734-d7d9-4032-9c42-027597a9a0c3",
   "metadata": {},
   "source": [
    "# Load Product DF:"
   ]
  },
  {
   "cell_type": "code",
   "execution_count": 5,
   "id": "130fac15-7341-4aa0-b07f-3704ee1e098a",
   "metadata": {},
   "outputs": [
    {
     "data": {
      "text/html": [
       "<div>\n",
       "<style scoped>\n",
       "    .dataframe tbody tr th:only-of-type {\n",
       "        vertical-align: middle;\n",
       "    }\n",
       "\n",
       "    .dataframe tbody tr th {\n",
       "        vertical-align: top;\n",
       "    }\n",
       "\n",
       "    .dataframe thead th {\n",
       "        text-align: right;\n",
       "    }\n",
       "</style>\n",
       "<table border=\"1\" class=\"dataframe\">\n",
       "  <thead>\n",
       "    <tr style=\"text-align: right;\">\n",
       "      <th></th>\n",
       "      <th>product_id</th>\n",
       "      <th>product_name</th>\n",
       "      <th>sub_category</th>\n",
       "      <th>price</th>\n",
       "      <th>rating</th>\n",
       "      <th>clean_desc</th>\n",
       "      <th>clean_prd_name</th>\n",
       "    </tr>\n",
       "  </thead>\n",
       "  <tbody>\n",
       "    <tr>\n",
       "      <th>0</th>\n",
       "      <td>190</td>\n",
       "      <td>Áo ba lỗ thun gân ,form body tôn dáng</td>\n",
       "      <td>Áo Ba Lỗ</td>\n",
       "      <td>86250.0</td>\n",
       "      <td>4.9</td>\n",
       "      <td>áo lỗ chiều đường_phố nhiệt_đới tal fit xuất_x...</td>\n",
       "      <td>áo lỗ thun gân form body</td>\n",
       "    </tr>\n",
       "    <tr>\n",
       "      <th>1</th>\n",
       "      <td>191</td>\n",
       "      <td>Áo Ba Lỗ Nam Trắng Chất Cotton Siêu Mát, Siêu Đẹp</td>\n",
       "      <td>Áo Ba Lỗ</td>\n",
       "      <td>26800.0</td>\n",
       "      <td>4.9</td>\n",
       "      <td>áo lỗ xuất_xứ việt_nam tổ_chức trách_nhiệm sản...</td>\n",
       "      <td>áo lỗ nam trắng chất_cotton siêu_mát đẹp</td>\n",
       "    </tr>\n",
       "    <tr>\n",
       "      <th>2</th>\n",
       "      <td>192</td>\n",
       "      <td>Áo Ba Lỗ Nam Tyasuo chất vải co dãn mát, không...</td>\n",
       "      <td>Áo Ba Lỗ</td>\n",
       "      <td>39500.0</td>\n",
       "      <td>4.8</td>\n",
       "      <td>áo lỗ thương_hiệu tyasuo chiều áo không_thể đư...</td>\n",
       "      <td>áo lỗ nam tyasuo chất vải co_dãn mát không_xù mềm</td>\n",
       "    </tr>\n",
       "    <tr>\n",
       "      <th>3</th>\n",
       "      <td>193</td>\n",
       "      <td>ÁO BA LỖ HÀNG VIỆT NAM 100% COTTON</td>\n",
       "      <td>Áo Ba Lỗ</td>\n",
       "      <td>16500.0</td>\n",
       "      <td>4.8</td>\n",
       "      <td>áo lỗ chất_liệu hàng gửi hà_nội áo lỗ nam mặc ...</td>\n",
       "      <td>áo lỗ hàng việt_nam</td>\n",
       "    </tr>\n",
       "    <tr>\n",
       "      <th>4</th>\n",
       "      <td>194</td>\n",
       "      <td>Áo Thun Nam Thể Thao Ba Lỗ Mẫu Mới Siêu Đẹp (B...</td>\n",
       "      <td>Áo Ba Lỗ</td>\n",
       "      <td>45000.0</td>\n",
       "      <td>4.8</td>\n",
       "      <td>áo lỗ chiều áo không_thể hàng gửi hà_nội thông...</td>\n",
       "      <td>áo thun nam thể_thao lỗ mẫu mới đẹp</td>\n",
       "    </tr>\n",
       "  </tbody>\n",
       "</table>\n",
       "</div>"
      ],
      "text/plain": [
       "   product_id                                       product_name sub_category  \\\n",
       "0         190              Áo ba lỗ thun gân ,form body tôn dáng     Áo Ba Lỗ   \n",
       "1         191  Áo Ba Lỗ Nam Trắng Chất Cotton Siêu Mát, Siêu Đẹp     Áo Ba Lỗ   \n",
       "2         192  Áo Ba Lỗ Nam Tyasuo chất vải co dãn mát, không...     Áo Ba Lỗ   \n",
       "3         193                 ÁO BA LỖ HÀNG VIỆT NAM 100% COTTON     Áo Ba Lỗ   \n",
       "4         194  Áo Thun Nam Thể Thao Ba Lỗ Mẫu Mới Siêu Đẹp (B...     Áo Ba Lỗ   \n",
       "\n",
       "     price  rating                                         clean_desc  \\\n",
       "0  86250.0     4.9  áo lỗ chiều đường_phố nhiệt_đới tal fit xuất_x...   \n",
       "1  26800.0     4.9  áo lỗ xuất_xứ việt_nam tổ_chức trách_nhiệm sản...   \n",
       "2  39500.0     4.8  áo lỗ thương_hiệu tyasuo chiều áo không_thể đư...   \n",
       "3  16500.0     4.8  áo lỗ chất_liệu hàng gửi hà_nội áo lỗ nam mặc ...   \n",
       "4  45000.0     4.8  áo lỗ chiều áo không_thể hàng gửi hà_nội thông...   \n",
       "\n",
       "                                      clean_prd_name  \n",
       "0                           áo lỗ thun gân form body  \n",
       "1           áo lỗ nam trắng chất_cotton siêu_mát đẹp  \n",
       "2  áo lỗ nam tyasuo chất vải co_dãn mát không_xù mềm  \n",
       "3                                áo lỗ hàng việt_nam  \n",
       "4                áo thun nam thể_thao lỗ mẫu mới đẹp  "
      ]
     },
     "execution_count": 5,
     "metadata": {},
     "output_type": "execute_result"
    }
   ],
   "source": [
    "use_cols = ['product_id','sub_category','price','rating','clean_desc','product_name','clean_prd_name']\n",
    "clean_prd_df = pd.read_csv('../DATA/clean_products.csv',usecols=use_cols)\n",
    "clean_prd_df.head()"
   ]
  },
  {
   "cell_type": "markdown",
   "id": "998e4deb-aea3-4eab-95e6-776117a62f98",
   "metadata": {},
   "source": [
    "# Gensim"
   ]
  },
  {
   "cell_type": "markdown",
   "id": "52bf77f9-c652-43db-99f4-248f0dd341c3",
   "metadata": {},
   "source": [
    "## Load Model and Product Dataframe:"
   ]
  },
  {
   "cell_type": "code",
   "execution_count": 17,
   "id": "08f5bcaf-4c42-449e-a4fb-e68aa2c1dfcc",
   "metadata": {},
   "outputs": [],
   "source": [
    "# Load the TF-IDF model from the file\n",
    "loaded_tfidf_model = models.TfidfModel.load('../DATA/Gensim/tfidf_model')\n",
    "\n",
    "# Load the dictionary from the file\n",
    "loaded_dictionary = corpora.Dictionary.load('../DATA/Gensim/corpus_dictionary')\n",
    "\n",
    "# Load the similarity matrx \n",
    "loaded_similarity_matrix  = similarities.SparseMatrixSimilarity.load(\"../DATA/Gensim/similarity_matrix.index\")"
   ]
  },
  {
   "cell_type": "markdown",
   "id": "20a6f042-e809-4e03-abfc-0447862e8288",
   "metadata": {},
   "source": [
    "## Test Fuction:"
   ]
  },
  {
   "cell_type": "code",
   "execution_count": 18,
   "id": "d28744ca-4aa5-42a3-8669-de54b7554eeb",
   "metadata": {},
   "outputs": [
    {
     "data": {
      "text/plain": [
       "'áo thun nam lỗ lông_vũ_thoáng mát vải_sợi tre tổng_hợp đẹp'"
      ]
     },
     "execution_count": 18,
     "metadata": {},
     "output_type": "execute_result"
    }
   ],
   "source": [
    "text_prd = clean_prd_df.loc[100,'clean_prd_name']\n",
    "text_prd"
   ]
  },
  {
   "cell_type": "code",
   "execution_count": 24,
   "id": "30117237-c965-4faf-b569-355be5def471",
   "metadata": {},
   "outputs": [
    {
     "name": "stdout",
     "output_type": "stream",
     "text": [
      "View product's vector:\n",
      "[(3, 1), (4, 1), (5, 1), (7, 1), (10, 1), (14, 1), (290, 1), (291, 1), (292, 1), (293, 1)]\n",
      "Five highest scores:\n",
      "          id     score\n",
      "100      100  1.000000\n",
      "16256  16256  0.659966\n",
      "7073    7073  0.640037\n",
      "16325  16325  0.578909\n",
      "151      151  0.474653\n",
      "150      150  0.465541\n",
      "IDS to list:\n",
      "[100, 16256, 7073, 16325, 151, 150]\n"
     ]
    }
   ],
   "source": [
    "results_df = recommender(view_prd=text_prd,\n",
    "                dict_prd=loaded_dictionary,\n",
    "                tfidf_model=loaded_tfidf_model,\n",
    "                similarity=loaded_similarity_matrix,\n",
    "                prd_df=clean_prd_df)"
   ]
  },
  {
   "cell_type": "code",
   "execution_count": 25,
   "id": "82ddf237-84a8-456d-ae10-02e49a512d1f",
   "metadata": {},
   "outputs": [
    {
     "data": {
      "text/html": [
       "<div>\n",
       "<style scoped>\n",
       "    .dataframe tbody tr th:only-of-type {\n",
       "        vertical-align: middle;\n",
       "    }\n",
       "\n",
       "    .dataframe tbody tr th {\n",
       "        vertical-align: top;\n",
       "    }\n",
       "\n",
       "    .dataframe thead th {\n",
       "        text-align: right;\n",
       "    }\n",
       "</style>\n",
       "<table border=\"1\" class=\"dataframe\">\n",
       "  <thead>\n",
       "    <tr style=\"text-align: right;\">\n",
       "      <th></th>\n",
       "      <th>product_id</th>\n",
       "      <th>product_name</th>\n",
       "      <th>sub_category</th>\n",
       "      <th>price</th>\n",
       "      <th>rating</th>\n",
       "      <th>id</th>\n",
       "      <th>score</th>\n",
       "    </tr>\n",
       "  </thead>\n",
       "  <tbody>\n",
       "    <tr>\n",
       "      <th>100</th>\n",
       "      <td>19100</td>\n",
       "      <td>Áo thun nam ba lỗ TN195 lông vũ thoáng mát vải...</td>\n",
       "      <td>Áo Ba Lỗ</td>\n",
       "      <td>47170.0</td>\n",
       "      <td>4.7</td>\n",
       "      <td>100</td>\n",
       "      <td>1.000000</td>\n",
       "    </tr>\n",
       "    <tr>\n",
       "      <th>16256</th>\n",
       "      <td>233922</td>\n",
       "      <td>ÁO ĐÔI ÁO CẶP SO CUTE</td>\n",
       "      <td>Đồ Bộ</td>\n",
       "      <td>35000.0</td>\n",
       "      <td>5.0</td>\n",
       "      <td>16256</td>\n",
       "      <td>0.659966</td>\n",
       "    </tr>\n",
       "    <tr>\n",
       "      <th>7073</th>\n",
       "      <td>18689</td>\n",
       "      <td>Áo Polo Nam ELEGANCE ATINO chữ nổi tinh tế vải...</td>\n",
       "      <td>Áo</td>\n",
       "      <td>129000.0</td>\n",
       "      <td>4.9</td>\n",
       "      <td>7073</td>\n",
       "      <td>0.640037</td>\n",
       "    </tr>\n",
       "    <tr>\n",
       "      <th>16325</th>\n",
       "      <td>233991</td>\n",
       "      <td>⚡️ GIÁ RẺ NHẤT ⚡️ Đồ hể thao Nam - quần nỉ phố...</td>\n",
       "      <td>Đồ Bộ</td>\n",
       "      <td>52000.0</td>\n",
       "      <td>4.8</td>\n",
       "      <td>16325</td>\n",
       "      <td>0.578909</td>\n",
       "    </tr>\n",
       "    <tr>\n",
       "      <th>151</th>\n",
       "      <td>19151</td>\n",
       "      <td>Áo thun nam ba lỗ TN102 sát nách nhiều màu vải...</td>\n",
       "      <td>Áo Ba Lỗ</td>\n",
       "      <td>68085.0</td>\n",
       "      <td>4.7</td>\n",
       "      <td>151</td>\n",
       "      <td>0.474653</td>\n",
       "    </tr>\n",
       "    <tr>\n",
       "      <th>150</th>\n",
       "      <td>19150</td>\n",
       "      <td>Áo phông nam ba lỗ thể thao SPORT TN109 nhiều ...</td>\n",
       "      <td>Áo Ba Lỗ</td>\n",
       "      <td>32400.0</td>\n",
       "      <td>4.8</td>\n",
       "      <td>150</td>\n",
       "      <td>0.465541</td>\n",
       "    </tr>\n",
       "  </tbody>\n",
       "</table>\n",
       "</div>"
      ],
      "text/plain": [
       "       product_id                                       product_name  \\\n",
       "100         19100  Áo thun nam ba lỗ TN195 lông vũ thoáng mát vải...   \n",
       "16256      233922                              ÁO ĐÔI ÁO CẶP SO CUTE   \n",
       "7073        18689  Áo Polo Nam ELEGANCE ATINO chữ nổi tinh tế vải...   \n",
       "16325      233991  ⚡️ GIÁ RẺ NHẤT ⚡️ Đồ hể thao Nam - quần nỉ phố...   \n",
       "151         19151  Áo thun nam ba lỗ TN102 sát nách nhiều màu vải...   \n",
       "150         19150  Áo phông nam ba lỗ thể thao SPORT TN109 nhiều ...   \n",
       "\n",
       "      sub_category     price  rating     id     score  \n",
       "100       Áo Ba Lỗ   47170.0     4.7    100  1.000000  \n",
       "16256        Đồ Bộ   35000.0     5.0  16256  0.659966  \n",
       "7073            Áo  129000.0     4.9   7073  0.640037  \n",
       "16325        Đồ Bộ   52000.0     4.8  16325  0.578909  \n",
       "151       Áo Ba Lỗ   68085.0     4.7    151  0.474653  \n",
       "150       Áo Ba Lỗ   32400.0     4.8    150  0.465541  "
      ]
     },
     "execution_count": 25,
     "metadata": {},
     "output_type": "execute_result"
    }
   ],
   "source": [
    "results_df"
   ]
  },
  {
   "cell_type": "markdown",
   "id": "93efbfff-5ab6-4db9-b9b5-e99aee9abde9",
   "metadata": {},
   "source": [
    "## Apply Cosine Similarity"
   ]
  },
  {
   "cell_type": "code",
   "execution_count": 56,
   "id": "9771b199-20e9-4af9-89a7-ea68d2dc78c4",
   "metadata": {},
   "outputs": [
    {
     "data": {
      "text/html": [
       "<div>\n",
       "<style scoped>\n",
       "    .dataframe tbody tr th:only-of-type {\n",
       "        vertical-align: middle;\n",
       "    }\n",
       "\n",
       "    .dataframe tbody tr th {\n",
       "        vertical-align: top;\n",
       "    }\n",
       "\n",
       "    .dataframe thead th {\n",
       "        text-align: right;\n",
       "    }\n",
       "</style>\n",
       "<table border=\"1\" class=\"dataframe\">\n",
       "  <thead>\n",
       "    <tr style=\"text-align: right;\">\n",
       "      <th></th>\n",
       "      <th>item_id</th>\n",
       "      <th>product_id</th>\n",
       "      <th>product_name</th>\n",
       "      <th>sub_category</th>\n",
       "      <th>price</th>\n",
       "      <th>rating</th>\n",
       "      <th>clean_desc</th>\n",
       "      <th>clean_prd_name</th>\n",
       "    </tr>\n",
       "  </thead>\n",
       "  <tbody>\n",
       "    <tr>\n",
       "      <th>0</th>\n",
       "      <td>0</td>\n",
       "      <td>190</td>\n",
       "      <td>Áo ba lỗ thun gân ,form body tôn dáng</td>\n",
       "      <td>Áo Ba Lỗ</td>\n",
       "      <td>86250.0</td>\n",
       "      <td>4.9</td>\n",
       "      <td>áo lỗ chiều đường_phố nhiệt_đới tal fit xuất_x...</td>\n",
       "      <td>áo lỗ thun gân form body</td>\n",
       "    </tr>\n",
       "    <tr>\n",
       "      <th>1</th>\n",
       "      <td>1</td>\n",
       "      <td>191</td>\n",
       "      <td>Áo Ba Lỗ Nam Trắng Chất Cotton Siêu Mát, Siêu Đẹp</td>\n",
       "      <td>Áo Ba Lỗ</td>\n",
       "      <td>26800.0</td>\n",
       "      <td>4.9</td>\n",
       "      <td>áo lỗ xuất_xứ việt_nam tổ_chức trách_nhiệm sản...</td>\n",
       "      <td>áo lỗ nam trắng chất_cotton siêu_mát đẹp</td>\n",
       "    </tr>\n",
       "    <tr>\n",
       "      <th>2</th>\n",
       "      <td>2</td>\n",
       "      <td>192</td>\n",
       "      <td>Áo Ba Lỗ Nam Tyasuo chất vải co dãn mát, không...</td>\n",
       "      <td>Áo Ba Lỗ</td>\n",
       "      <td>39500.0</td>\n",
       "      <td>4.8</td>\n",
       "      <td>áo lỗ thương_hiệu tyasuo chiều áo không_thể đư...</td>\n",
       "      <td>áo lỗ nam tyasuo chất vải co_dãn mát không_xù mềm</td>\n",
       "    </tr>\n",
       "    <tr>\n",
       "      <th>3</th>\n",
       "      <td>3</td>\n",
       "      <td>193</td>\n",
       "      <td>ÁO BA LỖ HÀNG VIỆT NAM 100% COTTON</td>\n",
       "      <td>Áo Ba Lỗ</td>\n",
       "      <td>16500.0</td>\n",
       "      <td>4.8</td>\n",
       "      <td>áo lỗ chất_liệu hàng gửi hà_nội áo lỗ nam mặc ...</td>\n",
       "      <td>áo lỗ hàng việt_nam</td>\n",
       "    </tr>\n",
       "    <tr>\n",
       "      <th>4</th>\n",
       "      <td>4</td>\n",
       "      <td>194</td>\n",
       "      <td>Áo Thun Nam Thể Thao Ba Lỗ Mẫu Mới Siêu Đẹp (B...</td>\n",
       "      <td>Áo Ba Lỗ</td>\n",
       "      <td>45000.0</td>\n",
       "      <td>4.8</td>\n",
       "      <td>áo lỗ chiều áo không_thể hàng gửi hà_nội thông...</td>\n",
       "      <td>áo thun nam thể_thao lỗ mẫu mới đẹp</td>\n",
       "    </tr>\n",
       "  </tbody>\n",
       "</table>\n",
       "</div>"
      ],
      "text/plain": [
       "   item_id  product_id                                       product_name  \\\n",
       "0        0         190              Áo ba lỗ thun gân ,form body tôn dáng   \n",
       "1        1         191  Áo Ba Lỗ Nam Trắng Chất Cotton Siêu Mát, Siêu Đẹp   \n",
       "2        2         192  Áo Ba Lỗ Nam Tyasuo chất vải co dãn mát, không...   \n",
       "3        3         193                 ÁO BA LỖ HÀNG VIỆT NAM 100% COTTON   \n",
       "4        4         194  Áo Thun Nam Thể Thao Ba Lỗ Mẫu Mới Siêu Đẹp (B...   \n",
       "\n",
       "  sub_category    price  rating  \\\n",
       "0     Áo Ba Lỗ  86250.0     4.9   \n",
       "1     Áo Ba Lỗ  26800.0     4.9   \n",
       "2     Áo Ba Lỗ  39500.0     4.8   \n",
       "3     Áo Ba Lỗ  16500.0     4.8   \n",
       "4     Áo Ba Lỗ  45000.0     4.8   \n",
       "\n",
       "                                          clean_desc  \\\n",
       "0  áo lỗ chiều đường_phố nhiệt_đới tal fit xuất_x...   \n",
       "1  áo lỗ xuất_xứ việt_nam tổ_chức trách_nhiệm sản...   \n",
       "2  áo lỗ thương_hiệu tyasuo chiều áo không_thể đư...   \n",
       "3  áo lỗ chất_liệu hàng gửi hà_nội áo lỗ nam mặc ...   \n",
       "4  áo lỗ chiều áo không_thể hàng gửi hà_nội thông...   \n",
       "\n",
       "                                      clean_prd_name  \n",
       "0                           áo lỗ thun gân form body  \n",
       "1           áo lỗ nam trắng chất_cotton siêu_mát đẹp  \n",
       "2  áo lỗ nam tyasuo chất vải co_dãn mát không_xù mềm  \n",
       "3                                áo lỗ hàng việt_nam  \n",
       "4                áo thun nam thể_thao lỗ mẫu mới đẹp  "
      ]
     },
     "execution_count": 56,
     "metadata": {},
     "output_type": "execute_result"
    }
   ],
   "source": [
    "final_df = clean_prd_df.reset_index().rename(columns={'index':'item_id'})\n",
    "final_df.head()"
   ]
  },
  {
   "cell_type": "code",
   "execution_count": 68,
   "id": "377103bb-5c23-462f-aedb-bc9c176e02bc",
   "metadata": {},
   "outputs": [
    {
     "data": {
      "text/plain": [
       "'Áo Ba Lỗ Nam Trắng Chất Cotton Siêu Mát, Siêu Đẹp'"
      ]
     },
     "execution_count": 68,
     "metadata": {},
     "output_type": "execute_result"
    }
   ],
   "source": [
    "final_df.loc[final_df['item_id'] == 1,'product_name'].values[0]"
   ]
  },
  {
   "cell_type": "code",
   "execution_count": 69,
   "id": "72a5d448-7c94-4a23-85b1-cbe3b1a039cf",
   "metadata": {},
   "outputs": [],
   "source": [
    "def recommend_cosine(prd_id,\n",
    "                     df,\n",
    "                     cosine_array, num = 5):\n",
    "    text =  df.loc[df['item_id'] == prd_id,'product_name'].values[0]\n",
    "    print(f'Recommending {num} products similar to ***{text}***')\n",
    "    recs = cosine_array[prd_id][:num]\n",
    "    for rec in recs:\n",
    "        #print(rec[1])\n",
    "        print(f\"Recommnended:\\tItem ID: {rec[1]}, {df.loc[df['item_id'] == rec[1],'product_name'].values[0]}, (score: {rec[0]})\\n\")"
   ]
  },
  {
   "cell_type": "code",
   "execution_count": 71,
   "id": "49116e27-44c0-4ce5-a42f-f43e1fd7dd93",
   "metadata": {},
   "outputs": [
    {
     "name": "stdout",
     "output_type": "stream",
     "text": [
      "Recommending 4 products similar to ***áo sọc nam***\n",
      "Recommnended:\tItem ID: 474, áo 3 lỗ nam sọc ngang Mã: NB073, (score: 0.7646320602976147)\n",
      "\n",
      "Recommnended:\tItem ID: 41193, Áo Sơ Mi Nam Dài Tay Kẻ Sọc Thời Trang, (score: 0.8196531776925334)\n",
      "\n",
      "Recommnended:\tItem ID: 35176, Quần thể thao kẻ sọc nam 1 sọc - 2 sọc - 3 sọc, (score: 0.8400904703451335)\n",
      "\n",
      "Recommnended:\tItem ID: 18173, Áo Thun Nam Kẻ Sọc Thời Trang Cy33, (score: 0.8549251132460183)\n",
      "\n"
     ]
    }
   ],
   "source": [
    "recommend_cosine(prd_id=2001,df=final_df,cosine_array=results,num=4)"
   ]
  }
 ],
 "metadata": {
  "kernelspec": {
   "display_name": "Python 3 (ipykernel)",
   "language": "python",
   "name": "python3"
  },
  "language_info": {
   "codemirror_mode": {
    "name": "ipython",
    "version": 3
   },
   "file_extension": ".py",
   "mimetype": "text/x-python",
   "name": "python",
   "nbconvert_exporter": "python",
   "pygments_lexer": "ipython3",
   "version": "3.9.18"
  }
 },
 "nbformat": 4,
 "nbformat_minor": 5
}
