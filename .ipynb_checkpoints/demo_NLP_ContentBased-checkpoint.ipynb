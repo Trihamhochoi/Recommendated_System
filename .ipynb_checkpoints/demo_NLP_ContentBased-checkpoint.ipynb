{
  "nbformat": 4,
  "nbformat_minor": 0,
  "metadata": {
    "colab": {
      "provenance": []
    },
    "kernelspec": {
      "name": "python3",
      "display_name": "Python 3"
    },
    "language_info": {
      "name": "python"
    }
  },
  "cells": [
    {
      "cell_type": "markdown",
      "metadata": {
        "id": "YlPqixJQt3ai"
      },
      "source": [
        "# Topic 2: Recommendation System\n",
        "### Demo: Underthesea, Gemsim, Cosin Similarity"
      ]
    },
    {
      "cell_type": "code",
      "metadata": {
        "id": "QrOeE0DduQFr"
      },
      "source": [
        "!pip install gensim\n",
        "!pip install jieba\n",
        "!pip install underthesea"
      ],
      "execution_count": null,
      "outputs": []
    },
    {
      "cell_type": "code",
      "metadata": {
        "id": "sTLO7wyGt0t0"
      },
      "source": [
        "import numpy as np\n",
        "import pandas as pd\n",
        "import matplotlib.pyplot as plt\n",
        "from sklearn.feature_extraction.text import TfidfVectorizer\n",
        "from sklearn.metrics.pairwise import linear_kernel, cosine_similarity\n",
        "from underthesea import word_tokenize, pos_tag, sent_tokenize\n",
        "import warnings\n",
        "from gensim import corpora, models, similarities\n",
        "import jieba\n",
        "import re"
      ],
      "execution_count": null,
      "outputs": []
    },
    {
      "cell_type": "code",
      "metadata": {
        "colab": {
          "base_uri": "https://localhost:8080/"
        },
        "id": "cZBqTbC4vXPa",
        "outputId": "2b520fc9-6f7e-4c8e-beac-36d08f44671c"
      },
      "source": [
        "from google.colab import drive\n",
        "drive.mount(\"/content/gdrive\", force_remount=True)\n",
        "\n",
        "%cd '/content/gdrive/My Drive/LDS0/Topic_8_2/demo'"
      ],
      "execution_count": null,
      "outputs": [
        {
          "output_type": "stream",
          "name": "stdout",
          "text": [
            "Mounted at /content/gdrive\n",
            "/content/gdrive/My Drive/LDS0/Topic_8_2/demo\n"
          ]
        }
      ]
    },
    {
      "cell_type": "code",
      "metadata": {
        "id": "Tw4PUXAhv13S"
      },
      "source": [
        "STOP_WORD_FILE = 'vietnamese-stopwords.txt'"
      ],
      "execution_count": null,
      "outputs": []
    },
    {
      "cell_type": "code",
      "metadata": {
        "id": "qnWGjZfov3cI"
      },
      "source": [
        "with open(STOP_WORD_FILE, 'r', encoding='utf-8') as file:\n",
        "    stop_words = file.read()\n",
        "\n",
        "stop_words = stop_words.split('\\n')"
      ],
      "execution_count": null,
      "outputs": []
    },
    {
      "cell_type": "markdown",
      "metadata": {
        "id": "lu8DXDJ-wYxT"
      },
      "source": [
        "# Underthesea\n",
        "#### word_tokenize, pos_tag, sent_tokenize\n",
        "- link: https://github.com/undertheseanlp/underthesea"
      ]
    },
    {
      "cell_type": "code",
      "metadata": {
        "id": "uAgQqYeev_6Y"
      },
      "source": [
        "data = [\"Kem Dưỡng Da Ban Ngày Trắng Hồng Rạng Rỡ Pond's White Beauty 50g với công thức phức hợp dưỡng trắng Vitamin B3 giúp tăng cường khả năng dưỡng trắng từ sâu bên trong, làm mờ vết thâm sạm, cho làn da trắng hồng rạng rỡ bên ngoài.\",\n",
        "        \"Kem Dưỡng Da Đêm Ngày Trắng Hồng Rạng Rỡ Pond's White Beauty 50g với công thức phức hợp dưỡng trắng Vitamin B3+ giúp tăng cường khả năng dưỡng trắng da liên tục suốt cả đêm từ sâu bên trong, mang đến làn da sáng mịn rạng rỡ sau mỗi lần sử dụng.\",\n",
        "        \"Kem Dưỡng Trắng Da Ban Đêm Senka White Beauty Glow Gel Cream 50g Với công nghệ độc quyền và tiên tiến Natu-Ence từ Shiseido giúp nâng cao hiệu quả của các dưỡng chất từ thiên nhiên, Kem dưỡng trắng da ban đêm Senka sẽ bổ sung các dưỡng chất cần thiết và độ ẩm cho làn da luôn mịn màng, dưỡng trắng da vượt trội.\",\n",
        "        \"Kem dưỡng nâng tông da trắng hồng tự nhiên Laneige White Dew Tone Up Cream 50ml giúp làm sáng ngay lập tức vùng da bị vàng và xỉn màu với kết cấu giống dạng sữa dưỡng giàu độ ẩm. Công thức sữa dưỡng dầu/nước chứa TiO2 (titanium dioxide) mang đến hiệu quả làm tăng tông màu da cho những vùng da bị tối hay xỉn màu\",\n",
        "        \"Kem Dưỡng Nivea Ngọc Trai Làm Sáng Da Ban Đêm 50ml 5 in 1 Pearl Filler Pearl White Night Face Cream Công thức vượt trội được chiết xuất từ các dưỡng chất thiên nhiên, vừa giúp dưỡng trắng da, ngay cả làn da sạm đen, vừa nuôi dưỡng làn da trong lúc ngủ. Cho bạn làn da trắng mượt như nước, không ngại bắt nắng\",\n",
        "        \"Phấn Phủ Dưỡng Ẩm Dạng Nén Laneige Light Fit Pact 9.5g. Kết cấu mỏng nhẹ, độ bám dính cao Giúp che phủ hiệu quả hoàn hảo Thể hiện màu sắc tự nhiên\",\n",
        "        \"Phấn Phủ Kiềm Dầu Dạng Bột Khoáng Innisfree No Sebum Mineral Powder 5g dạng bột có chiết xuất 100% từ bạc hà và hạt ngọc trai giúp kiềm hút dầu và loại bỏ bã nhờn dư thừa trên da mang đến làn da sáng mịn.\",\n",
        "        \"Sữa Rửa Mặt Ngăn Ngừa Lão Hóa Pond's Age Miracle 100g gồm 6 dưỡng chất chuyên biệt, giúp thúc đẩy quá trình tái tạo da đẩy lùi quá trình lão hóa.\",\n",
        "        \"Sữa Rửa Mặt Ngăn Ngừa Lão Hóa Da Innisfree Jeju Pomegranate Revitalizing Foam Cleanser 150ml từ nước ép lựu và dầu hạt lựu giúp làm sạch da sâu da mà không gây khô căng.\"\n",
        "        ]"
      ],
      "execution_count": null,
      "outputs": []
    },
    {
      "cell_type": "code",
      "metadata": {
        "id": "aJ4HxxLh1j_b"
      },
      "source": [
        "df = pd.DataFrame(data, columns =['products'])"
      ],
      "execution_count": null,
      "outputs": []
    },
    {
      "cell_type": "code",
      "metadata": {
        "colab": {
          "base_uri": "https://localhost:8080/",
          "height": 331
        },
        "id": "VmiG7ywB1zXD",
        "outputId": "408ccee9-1cae-4ffd-c940-767d84a53c70"
      },
      "source": [
        "df"
      ],
      "execution_count": null,
      "outputs": [
        {
          "output_type": "execute_result",
          "data": {
            "text/plain": [
              "                                            products\n",
              "0  Kem Dưỡng Da Ban Ngày Trắng Hồng Rạng Rỡ Pond'...\n",
              "1  Kem Dưỡng Da Đêm Ngày Trắng Hồng Rạng Rỡ Pond'...\n",
              "2  Kem Dưỡng Trắng Da Ban Đêm Senka White Beauty ...\n",
              "3  Kem dưỡng nâng tông da trắng hồng tự nhiên Lan...\n",
              "4  Kem Dưỡng Nivea Ngọc Trai Làm Sáng Da Ban Đêm ...\n",
              "5  Phấn Phủ Dưỡng Ẩm Dạng Nén Laneige Light Fit P...\n",
              "6  Phấn Phủ Kiềm Dầu Dạng Bột Khoáng Innisfree No...\n",
              "7  Sữa Rửa Mặt Ngăn Ngừa Lão Hóa Pond's Age Mirac...\n",
              "8  Sữa Rửa Mặt Ngăn Ngừa Lão Hóa Da Innisfree Jej..."
            ],
            "text/html": [
              "\n",
              "  <div id=\"df-20ca47cc-b010-43ac-b687-51e7e9a547dd\" class=\"colab-df-container\">\n",
              "    <div>\n",
              "<style scoped>\n",
              "    .dataframe tbody tr th:only-of-type {\n",
              "        vertical-align: middle;\n",
              "    }\n",
              "\n",
              "    .dataframe tbody tr th {\n",
              "        vertical-align: top;\n",
              "    }\n",
              "\n",
              "    .dataframe thead th {\n",
              "        text-align: right;\n",
              "    }\n",
              "</style>\n",
              "<table border=\"1\" class=\"dataframe\">\n",
              "  <thead>\n",
              "    <tr style=\"text-align: right;\">\n",
              "      <th></th>\n",
              "      <th>products</th>\n",
              "    </tr>\n",
              "  </thead>\n",
              "  <tbody>\n",
              "    <tr>\n",
              "      <th>0</th>\n",
              "      <td>Kem Dưỡng Da Ban Ngày Trắng Hồng Rạng Rỡ Pond'...</td>\n",
              "    </tr>\n",
              "    <tr>\n",
              "      <th>1</th>\n",
              "      <td>Kem Dưỡng Da Đêm Ngày Trắng Hồng Rạng Rỡ Pond'...</td>\n",
              "    </tr>\n",
              "    <tr>\n",
              "      <th>2</th>\n",
              "      <td>Kem Dưỡng Trắng Da Ban Đêm Senka White Beauty ...</td>\n",
              "    </tr>\n",
              "    <tr>\n",
              "      <th>3</th>\n",
              "      <td>Kem dưỡng nâng tông da trắng hồng tự nhiên Lan...</td>\n",
              "    </tr>\n",
              "    <tr>\n",
              "      <th>4</th>\n",
              "      <td>Kem Dưỡng Nivea Ngọc Trai Làm Sáng Da Ban Đêm ...</td>\n",
              "    </tr>\n",
              "    <tr>\n",
              "      <th>5</th>\n",
              "      <td>Phấn Phủ Dưỡng Ẩm Dạng Nén Laneige Light Fit P...</td>\n",
              "    </tr>\n",
              "    <tr>\n",
              "      <th>6</th>\n",
              "      <td>Phấn Phủ Kiềm Dầu Dạng Bột Khoáng Innisfree No...</td>\n",
              "    </tr>\n",
              "    <tr>\n",
              "      <th>7</th>\n",
              "      <td>Sữa Rửa Mặt Ngăn Ngừa Lão Hóa Pond's Age Mirac...</td>\n",
              "    </tr>\n",
              "    <tr>\n",
              "      <th>8</th>\n",
              "      <td>Sữa Rửa Mặt Ngăn Ngừa Lão Hóa Da Innisfree Jej...</td>\n",
              "    </tr>\n",
              "  </tbody>\n",
              "</table>\n",
              "</div>\n",
              "    <div class=\"colab-df-buttons\">\n",
              "\n",
              "  <div class=\"colab-df-container\">\n",
              "    <button class=\"colab-df-convert\" onclick=\"convertToInteractive('df-20ca47cc-b010-43ac-b687-51e7e9a547dd')\"\n",
              "            title=\"Convert this dataframe to an interactive table.\"\n",
              "            style=\"display:none;\">\n",
              "\n",
              "  <svg xmlns=\"http://www.w3.org/2000/svg\" height=\"24px\" viewBox=\"0 -960 960 960\">\n",
              "    <path d=\"M120-120v-720h720v720H120Zm60-500h600v-160H180v160Zm220 220h160v-160H400v160Zm0 220h160v-160H400v160ZM180-400h160v-160H180v160Zm440 0h160v-160H620v160ZM180-180h160v-160H180v160Zm440 0h160v-160H620v160Z\"/>\n",
              "  </svg>\n",
              "    </button>\n",
              "\n",
              "  <style>\n",
              "    .colab-df-container {\n",
              "      display:flex;\n",
              "      gap: 12px;\n",
              "    }\n",
              "\n",
              "    .colab-df-convert {\n",
              "      background-color: #E8F0FE;\n",
              "      border: none;\n",
              "      border-radius: 50%;\n",
              "      cursor: pointer;\n",
              "      display: none;\n",
              "      fill: #1967D2;\n",
              "      height: 32px;\n",
              "      padding: 0 0 0 0;\n",
              "      width: 32px;\n",
              "    }\n",
              "\n",
              "    .colab-df-convert:hover {\n",
              "      background-color: #E2EBFA;\n",
              "      box-shadow: 0px 1px 2px rgba(60, 64, 67, 0.3), 0px 1px 3px 1px rgba(60, 64, 67, 0.15);\n",
              "      fill: #174EA6;\n",
              "    }\n",
              "\n",
              "    .colab-df-buttons div {\n",
              "      margin-bottom: 4px;\n",
              "    }\n",
              "\n",
              "    [theme=dark] .colab-df-convert {\n",
              "      background-color: #3B4455;\n",
              "      fill: #D2E3FC;\n",
              "    }\n",
              "\n",
              "    [theme=dark] .colab-df-convert:hover {\n",
              "      background-color: #434B5C;\n",
              "      box-shadow: 0px 1px 3px 1px rgba(0, 0, 0, 0.15);\n",
              "      filter: drop-shadow(0px 1px 2px rgba(0, 0, 0, 0.3));\n",
              "      fill: #FFFFFF;\n",
              "    }\n",
              "  </style>\n",
              "\n",
              "    <script>\n",
              "      const buttonEl =\n",
              "        document.querySelector('#df-20ca47cc-b010-43ac-b687-51e7e9a547dd button.colab-df-convert');\n",
              "      buttonEl.style.display =\n",
              "        google.colab.kernel.accessAllowed ? 'block' : 'none';\n",
              "\n",
              "      async function convertToInteractive(key) {\n",
              "        const element = document.querySelector('#df-20ca47cc-b010-43ac-b687-51e7e9a547dd');\n",
              "        const dataTable =\n",
              "          await google.colab.kernel.invokeFunction('convertToInteractive',\n",
              "                                                    [key], {});\n",
              "        if (!dataTable) return;\n",
              "\n",
              "        const docLinkHtml = 'Like what you see? Visit the ' +\n",
              "          '<a target=\"_blank\" href=https://colab.research.google.com/notebooks/data_table.ipynb>data table notebook</a>'\n",
              "          + ' to learn more about interactive tables.';\n",
              "        element.innerHTML = '';\n",
              "        dataTable['output_type'] = 'display_data';\n",
              "        await google.colab.output.renderOutput(dataTable, element);\n",
              "        const docLink = document.createElement('div');\n",
              "        docLink.innerHTML = docLinkHtml;\n",
              "        element.appendChild(docLink);\n",
              "      }\n",
              "    </script>\n",
              "  </div>\n",
              "\n",
              "\n",
              "<div id=\"df-f23137b3-fbf0-4fea-8b7a-65710ec71e15\">\n",
              "  <button class=\"colab-df-quickchart\" onclick=\"quickchart('df-f23137b3-fbf0-4fea-8b7a-65710ec71e15')\"\n",
              "            title=\"Suggest charts\"\n",
              "            style=\"display:none;\">\n",
              "\n",
              "<svg xmlns=\"http://www.w3.org/2000/svg\" height=\"24px\"viewBox=\"0 0 24 24\"\n",
              "     width=\"24px\">\n",
              "    <g>\n",
              "        <path d=\"M19 3H5c-1.1 0-2 .9-2 2v14c0 1.1.9 2 2 2h14c1.1 0 2-.9 2-2V5c0-1.1-.9-2-2-2zM9 17H7v-7h2v7zm4 0h-2V7h2v10zm4 0h-2v-4h2v4z\"/>\n",
              "    </g>\n",
              "</svg>\n",
              "  </button>\n",
              "\n",
              "<style>\n",
              "  .colab-df-quickchart {\n",
              "      --bg-color: #E8F0FE;\n",
              "      --fill-color: #1967D2;\n",
              "      --hover-bg-color: #E2EBFA;\n",
              "      --hover-fill-color: #174EA6;\n",
              "      --disabled-fill-color: #AAA;\n",
              "      --disabled-bg-color: #DDD;\n",
              "  }\n",
              "\n",
              "  [theme=dark] .colab-df-quickchart {\n",
              "      --bg-color: #3B4455;\n",
              "      --fill-color: #D2E3FC;\n",
              "      --hover-bg-color: #434B5C;\n",
              "      --hover-fill-color: #FFFFFF;\n",
              "      --disabled-bg-color: #3B4455;\n",
              "      --disabled-fill-color: #666;\n",
              "  }\n",
              "\n",
              "  .colab-df-quickchart {\n",
              "    background-color: var(--bg-color);\n",
              "    border: none;\n",
              "    border-radius: 50%;\n",
              "    cursor: pointer;\n",
              "    display: none;\n",
              "    fill: var(--fill-color);\n",
              "    height: 32px;\n",
              "    padding: 0;\n",
              "    width: 32px;\n",
              "  }\n",
              "\n",
              "  .colab-df-quickchart:hover {\n",
              "    background-color: var(--hover-bg-color);\n",
              "    box-shadow: 0 1px 2px rgba(60, 64, 67, 0.3), 0 1px 3px 1px rgba(60, 64, 67, 0.15);\n",
              "    fill: var(--button-hover-fill-color);\n",
              "  }\n",
              "\n",
              "  .colab-df-quickchart-complete:disabled,\n",
              "  .colab-df-quickchart-complete:disabled:hover {\n",
              "    background-color: var(--disabled-bg-color);\n",
              "    fill: var(--disabled-fill-color);\n",
              "    box-shadow: none;\n",
              "  }\n",
              "\n",
              "  .colab-df-spinner {\n",
              "    border: 2px solid var(--fill-color);\n",
              "    border-color: transparent;\n",
              "    border-bottom-color: var(--fill-color);\n",
              "    animation:\n",
              "      spin 1s steps(1) infinite;\n",
              "  }\n",
              "\n",
              "  @keyframes spin {\n",
              "    0% {\n",
              "      border-color: transparent;\n",
              "      border-bottom-color: var(--fill-color);\n",
              "      border-left-color: var(--fill-color);\n",
              "    }\n",
              "    20% {\n",
              "      border-color: transparent;\n",
              "      border-left-color: var(--fill-color);\n",
              "      border-top-color: var(--fill-color);\n",
              "    }\n",
              "    30% {\n",
              "      border-color: transparent;\n",
              "      border-left-color: var(--fill-color);\n",
              "      border-top-color: var(--fill-color);\n",
              "      border-right-color: var(--fill-color);\n",
              "    }\n",
              "    40% {\n",
              "      border-color: transparent;\n",
              "      border-right-color: var(--fill-color);\n",
              "      border-top-color: var(--fill-color);\n",
              "    }\n",
              "    60% {\n",
              "      border-color: transparent;\n",
              "      border-right-color: var(--fill-color);\n",
              "    }\n",
              "    80% {\n",
              "      border-color: transparent;\n",
              "      border-right-color: var(--fill-color);\n",
              "      border-bottom-color: var(--fill-color);\n",
              "    }\n",
              "    90% {\n",
              "      border-color: transparent;\n",
              "      border-bottom-color: var(--fill-color);\n",
              "    }\n",
              "  }\n",
              "</style>\n",
              "\n",
              "  <script>\n",
              "    async function quickchart(key) {\n",
              "      const quickchartButtonEl =\n",
              "        document.querySelector('#' + key + ' button');\n",
              "      quickchartButtonEl.disabled = true;  // To prevent multiple clicks.\n",
              "      quickchartButtonEl.classList.add('colab-df-spinner');\n",
              "      try {\n",
              "        const charts = await google.colab.kernel.invokeFunction(\n",
              "            'suggestCharts', [key], {});\n",
              "      } catch (error) {\n",
              "        console.error('Error during call to suggestCharts:', error);\n",
              "      }\n",
              "      quickchartButtonEl.classList.remove('colab-df-spinner');\n",
              "      quickchartButtonEl.classList.add('colab-df-quickchart-complete');\n",
              "    }\n",
              "    (() => {\n",
              "      let quickchartButtonEl =\n",
              "        document.querySelector('#df-f23137b3-fbf0-4fea-8b7a-65710ec71e15 button');\n",
              "      quickchartButtonEl.style.display =\n",
              "        google.colab.kernel.accessAllowed ? 'block' : 'none';\n",
              "    })();\n",
              "  </script>\n",
              "</div>\n",
              "    </div>\n",
              "  </div>\n"
            ],
            "application/vnd.google.colaboratory.intrinsic+json": {
              "type": "dataframe",
              "variable_name": "df",
              "summary": "{\n  \"name\": \"df\",\n  \"rows\": 9,\n  \"fields\": [\n    {\n      \"column\": \"products\",\n      \"properties\": {\n        \"dtype\": \"string\",\n        \"num_unique_values\": 9,\n        \"samples\": [\n          \"S\\u1eefa R\\u1eeda M\\u1eb7t Ng\\u0103n Ng\\u1eeba L\\u00e3o H\\u00f3a Pond's Age Miracle 100g g\\u1ed3m 6 d\\u01b0\\u1ee1ng ch\\u1ea5t chuy\\u00ean bi\\u1ec7t, gi\\u00fap th\\u00fac \\u0111\\u1ea9y qu\\u00e1 tr\\u00ecnh t\\u00e1i t\\u1ea1o da \\u0111\\u1ea9y l\\u00f9i qu\\u00e1 tr\\u00ecnh l\\u00e3o h\\u00f3a.\",\n          \"Kem D\\u01b0\\u1ee1ng Da \\u0110\\u00eam Ng\\u00e0y Tr\\u1eafng H\\u1ed3ng R\\u1ea1ng R\\u1ee1 Pond's White Beauty 50g v\\u1edbi c\\u00f4ng th\\u1ee9c ph\\u1ee9c h\\u1ee3p d\\u01b0\\u1ee1ng tr\\u1eafng Vitamin B3+ gi\\u00fap t\\u0103ng c\\u01b0\\u1eddng kh\\u1ea3 n\\u0103ng d\\u01b0\\u1ee1ng tr\\u1eafng da li\\u00ean t\\u1ee5c su\\u1ed1t c\\u1ea3 \\u0111\\u00eam t\\u1eeb s\\u00e2u b\\u00ean trong, mang \\u0111\\u1ebfn l\\u00e0n da s\\u00e1ng m\\u1ecbn r\\u1ea1ng r\\u1ee1 sau m\\u1ed7i l\\u1ea7n s\\u1eed d\\u1ee5ng.\",\n          \"Ph\\u1ea5n Ph\\u1ee7 D\\u01b0\\u1ee1ng \\u1ea8m D\\u1ea1ng N\\u00e9n Laneige Light Fit Pact 9.5g. K\\u1ebft c\\u1ea5u m\\u1ecfng nh\\u1eb9, \\u0111\\u1ed9 b\\u00e1m d\\u00ednh cao Gi\\u00fap che ph\\u1ee7 hi\\u1ec7u qu\\u1ea3 ho\\u00e0n h\\u1ea3o Th\\u1ec3 hi\\u1ec7n m\\u00e0u s\\u1eafc t\\u1ef1 nhi\\u00ean\"\n        ],\n        \"semantic_type\": \"\",\n        \"description\": \"\"\n      }\n    }\n  ]\n}"
            }
          },
          "metadata": {},
          "execution_count": 8
        }
      ]
    },
    {
      "cell_type": "code",
      "metadata": {
        "id": "VLD-LUBJ1Pos"
      },
      "source": [
        "# word_tokenize\n",
        "df[\"products_wt\"]=df[\"products\"].apply(lambda x: word_tokenize(x, format=\"text\"))"
      ],
      "execution_count": null,
      "outputs": []
    },
    {
      "cell_type": "code",
      "metadata": {
        "colab": {
          "base_uri": "https://localhost:8080/",
          "height": 112
        },
        "id": "2WVOyuyZ2TTq",
        "outputId": "3ef5b8fe-5ff5-4b05-efbf-a6c363db443e"
      },
      "source": [
        "df.head(2)"
      ],
      "execution_count": null,
      "outputs": [
        {
          "output_type": "execute_result",
          "data": {
            "text/plain": [
              "                                            products  \\\n",
              "0  Kem Dưỡng Da Ban Ngày Trắng Hồng Rạng Rỡ Pond'...   \n",
              "1  Kem Dưỡng Da Đêm Ngày Trắng Hồng Rạng Rỡ Pond'...   \n",
              "\n",
              "                                         products_wt  \n",
              "0  Kem Dưỡng_Da Ban_Ngày Trắng_Hồng Rạng_Rỡ Pond'...  \n",
              "1  Kem Dưỡng_Da_Đêm Ngày Trắng_Hồng Rạng_Rỡ Pond'...  "
            ],
            "text/html": [
              "\n",
              "  <div id=\"df-6c8deefc-85d0-4dd3-b3f5-990f7879eed4\" class=\"colab-df-container\">\n",
              "    <div>\n",
              "<style scoped>\n",
              "    .dataframe tbody tr th:only-of-type {\n",
              "        vertical-align: middle;\n",
              "    }\n",
              "\n",
              "    .dataframe tbody tr th {\n",
              "        vertical-align: top;\n",
              "    }\n",
              "\n",
              "    .dataframe thead th {\n",
              "        text-align: right;\n",
              "    }\n",
              "</style>\n",
              "<table border=\"1\" class=\"dataframe\">\n",
              "  <thead>\n",
              "    <tr style=\"text-align: right;\">\n",
              "      <th></th>\n",
              "      <th>products</th>\n",
              "      <th>products_wt</th>\n",
              "    </tr>\n",
              "  </thead>\n",
              "  <tbody>\n",
              "    <tr>\n",
              "      <th>0</th>\n",
              "      <td>Kem Dưỡng Da Ban Ngày Trắng Hồng Rạng Rỡ Pond'...</td>\n",
              "      <td>Kem Dưỡng_Da Ban_Ngày Trắng_Hồng Rạng_Rỡ Pond'...</td>\n",
              "    </tr>\n",
              "    <tr>\n",
              "      <th>1</th>\n",
              "      <td>Kem Dưỡng Da Đêm Ngày Trắng Hồng Rạng Rỡ Pond'...</td>\n",
              "      <td>Kem Dưỡng_Da_Đêm Ngày Trắng_Hồng Rạng_Rỡ Pond'...</td>\n",
              "    </tr>\n",
              "  </tbody>\n",
              "</table>\n",
              "</div>\n",
              "    <div class=\"colab-df-buttons\">\n",
              "\n",
              "  <div class=\"colab-df-container\">\n",
              "    <button class=\"colab-df-convert\" onclick=\"convertToInteractive('df-6c8deefc-85d0-4dd3-b3f5-990f7879eed4')\"\n",
              "            title=\"Convert this dataframe to an interactive table.\"\n",
              "            style=\"display:none;\">\n",
              "\n",
              "  <svg xmlns=\"http://www.w3.org/2000/svg\" height=\"24px\" viewBox=\"0 -960 960 960\">\n",
              "    <path d=\"M120-120v-720h720v720H120Zm60-500h600v-160H180v160Zm220 220h160v-160H400v160Zm0 220h160v-160H400v160ZM180-400h160v-160H180v160Zm440 0h160v-160H620v160ZM180-180h160v-160H180v160Zm440 0h160v-160H620v160Z\"/>\n",
              "  </svg>\n",
              "    </button>\n",
              "\n",
              "  <style>\n",
              "    .colab-df-container {\n",
              "      display:flex;\n",
              "      gap: 12px;\n",
              "    }\n",
              "\n",
              "    .colab-df-convert {\n",
              "      background-color: #E8F0FE;\n",
              "      border: none;\n",
              "      border-radius: 50%;\n",
              "      cursor: pointer;\n",
              "      display: none;\n",
              "      fill: #1967D2;\n",
              "      height: 32px;\n",
              "      padding: 0 0 0 0;\n",
              "      width: 32px;\n",
              "    }\n",
              "\n",
              "    .colab-df-convert:hover {\n",
              "      background-color: #E2EBFA;\n",
              "      box-shadow: 0px 1px 2px rgba(60, 64, 67, 0.3), 0px 1px 3px 1px rgba(60, 64, 67, 0.15);\n",
              "      fill: #174EA6;\n",
              "    }\n",
              "\n",
              "    .colab-df-buttons div {\n",
              "      margin-bottom: 4px;\n",
              "    }\n",
              "\n",
              "    [theme=dark] .colab-df-convert {\n",
              "      background-color: #3B4455;\n",
              "      fill: #D2E3FC;\n",
              "    }\n",
              "\n",
              "    [theme=dark] .colab-df-convert:hover {\n",
              "      background-color: #434B5C;\n",
              "      box-shadow: 0px 1px 3px 1px rgba(0, 0, 0, 0.15);\n",
              "      filter: drop-shadow(0px 1px 2px rgba(0, 0, 0, 0.3));\n",
              "      fill: #FFFFFF;\n",
              "    }\n",
              "  </style>\n",
              "\n",
              "    <script>\n",
              "      const buttonEl =\n",
              "        document.querySelector('#df-6c8deefc-85d0-4dd3-b3f5-990f7879eed4 button.colab-df-convert');\n",
              "      buttonEl.style.display =\n",
              "        google.colab.kernel.accessAllowed ? 'block' : 'none';\n",
              "\n",
              "      async function convertToInteractive(key) {\n",
              "        const element = document.querySelector('#df-6c8deefc-85d0-4dd3-b3f5-990f7879eed4');\n",
              "        const dataTable =\n",
              "          await google.colab.kernel.invokeFunction('convertToInteractive',\n",
              "                                                    [key], {});\n",
              "        if (!dataTable) return;\n",
              "\n",
              "        const docLinkHtml = 'Like what you see? Visit the ' +\n",
              "          '<a target=\"_blank\" href=https://colab.research.google.com/notebooks/data_table.ipynb>data table notebook</a>'\n",
              "          + ' to learn more about interactive tables.';\n",
              "        element.innerHTML = '';\n",
              "        dataTable['output_type'] = 'display_data';\n",
              "        await google.colab.output.renderOutput(dataTable, element);\n",
              "        const docLink = document.createElement('div');\n",
              "        docLink.innerHTML = docLinkHtml;\n",
              "        element.appendChild(docLink);\n",
              "      }\n",
              "    </script>\n",
              "  </div>\n",
              "\n",
              "\n",
              "<div id=\"df-7f0b4e9b-5dae-4565-9bd8-09e58959f707\">\n",
              "  <button class=\"colab-df-quickchart\" onclick=\"quickchart('df-7f0b4e9b-5dae-4565-9bd8-09e58959f707')\"\n",
              "            title=\"Suggest charts\"\n",
              "            style=\"display:none;\">\n",
              "\n",
              "<svg xmlns=\"http://www.w3.org/2000/svg\" height=\"24px\"viewBox=\"0 0 24 24\"\n",
              "     width=\"24px\">\n",
              "    <g>\n",
              "        <path d=\"M19 3H5c-1.1 0-2 .9-2 2v14c0 1.1.9 2 2 2h14c1.1 0 2-.9 2-2V5c0-1.1-.9-2-2-2zM9 17H7v-7h2v7zm4 0h-2V7h2v10zm4 0h-2v-4h2v4z\"/>\n",
              "    </g>\n",
              "</svg>\n",
              "  </button>\n",
              "\n",
              "<style>\n",
              "  .colab-df-quickchart {\n",
              "      --bg-color: #E8F0FE;\n",
              "      --fill-color: #1967D2;\n",
              "      --hover-bg-color: #E2EBFA;\n",
              "      --hover-fill-color: #174EA6;\n",
              "      --disabled-fill-color: #AAA;\n",
              "      --disabled-bg-color: #DDD;\n",
              "  }\n",
              "\n",
              "  [theme=dark] .colab-df-quickchart {\n",
              "      --bg-color: #3B4455;\n",
              "      --fill-color: #D2E3FC;\n",
              "      --hover-bg-color: #434B5C;\n",
              "      --hover-fill-color: #FFFFFF;\n",
              "      --disabled-bg-color: #3B4455;\n",
              "      --disabled-fill-color: #666;\n",
              "  }\n",
              "\n",
              "  .colab-df-quickchart {\n",
              "    background-color: var(--bg-color);\n",
              "    border: none;\n",
              "    border-radius: 50%;\n",
              "    cursor: pointer;\n",
              "    display: none;\n",
              "    fill: var(--fill-color);\n",
              "    height: 32px;\n",
              "    padding: 0;\n",
              "    width: 32px;\n",
              "  }\n",
              "\n",
              "  .colab-df-quickchart:hover {\n",
              "    background-color: var(--hover-bg-color);\n",
              "    box-shadow: 0 1px 2px rgba(60, 64, 67, 0.3), 0 1px 3px 1px rgba(60, 64, 67, 0.15);\n",
              "    fill: var(--button-hover-fill-color);\n",
              "  }\n",
              "\n",
              "  .colab-df-quickchart-complete:disabled,\n",
              "  .colab-df-quickchart-complete:disabled:hover {\n",
              "    background-color: var(--disabled-bg-color);\n",
              "    fill: var(--disabled-fill-color);\n",
              "    box-shadow: none;\n",
              "  }\n",
              "\n",
              "  .colab-df-spinner {\n",
              "    border: 2px solid var(--fill-color);\n",
              "    border-color: transparent;\n",
              "    border-bottom-color: var(--fill-color);\n",
              "    animation:\n",
              "      spin 1s steps(1) infinite;\n",
              "  }\n",
              "\n",
              "  @keyframes spin {\n",
              "    0% {\n",
              "      border-color: transparent;\n",
              "      border-bottom-color: var(--fill-color);\n",
              "      border-left-color: var(--fill-color);\n",
              "    }\n",
              "    20% {\n",
              "      border-color: transparent;\n",
              "      border-left-color: var(--fill-color);\n",
              "      border-top-color: var(--fill-color);\n",
              "    }\n",
              "    30% {\n",
              "      border-color: transparent;\n",
              "      border-left-color: var(--fill-color);\n",
              "      border-top-color: var(--fill-color);\n",
              "      border-right-color: var(--fill-color);\n",
              "    }\n",
              "    40% {\n",
              "      border-color: transparent;\n",
              "      border-right-color: var(--fill-color);\n",
              "      border-top-color: var(--fill-color);\n",
              "    }\n",
              "    60% {\n",
              "      border-color: transparent;\n",
              "      border-right-color: var(--fill-color);\n",
              "    }\n",
              "    80% {\n",
              "      border-color: transparent;\n",
              "      border-right-color: var(--fill-color);\n",
              "      border-bottom-color: var(--fill-color);\n",
              "    }\n",
              "    90% {\n",
              "      border-color: transparent;\n",
              "      border-bottom-color: var(--fill-color);\n",
              "    }\n",
              "  }\n",
              "</style>\n",
              "\n",
              "  <script>\n",
              "    async function quickchart(key) {\n",
              "      const quickchartButtonEl =\n",
              "        document.querySelector('#' + key + ' button');\n",
              "      quickchartButtonEl.disabled = true;  // To prevent multiple clicks.\n",
              "      quickchartButtonEl.classList.add('colab-df-spinner');\n",
              "      try {\n",
              "        const charts = await google.colab.kernel.invokeFunction(\n",
              "            'suggestCharts', [key], {});\n",
              "      } catch (error) {\n",
              "        console.error('Error during call to suggestCharts:', error);\n",
              "      }\n",
              "      quickchartButtonEl.classList.remove('colab-df-spinner');\n",
              "      quickchartButtonEl.classList.add('colab-df-quickchart-complete');\n",
              "    }\n",
              "    (() => {\n",
              "      let quickchartButtonEl =\n",
              "        document.querySelector('#df-7f0b4e9b-5dae-4565-9bd8-09e58959f707 button');\n",
              "      quickchartButtonEl.style.display =\n",
              "        google.colab.kernel.accessAllowed ? 'block' : 'none';\n",
              "    })();\n",
              "  </script>\n",
              "</div>\n",
              "    </div>\n",
              "  </div>\n"
            ],
            "application/vnd.google.colaboratory.intrinsic+json": {
              "type": "dataframe",
              "variable_name": "df",
              "summary": "{\n  \"name\": \"df\",\n  \"rows\": 9,\n  \"fields\": [\n    {\n      \"column\": \"products\",\n      \"properties\": {\n        \"dtype\": \"string\",\n        \"num_unique_values\": 9,\n        \"samples\": [\n          \"S\\u1eefa R\\u1eeda M\\u1eb7t Ng\\u0103n Ng\\u1eeba L\\u00e3o H\\u00f3a Pond's Age Miracle 100g g\\u1ed3m 6 d\\u01b0\\u1ee1ng ch\\u1ea5t chuy\\u00ean bi\\u1ec7t, gi\\u00fap th\\u00fac \\u0111\\u1ea9y qu\\u00e1 tr\\u00ecnh t\\u00e1i t\\u1ea1o da \\u0111\\u1ea9y l\\u00f9i qu\\u00e1 tr\\u00ecnh l\\u00e3o h\\u00f3a.\",\n          \"Kem D\\u01b0\\u1ee1ng Da \\u0110\\u00eam Ng\\u00e0y Tr\\u1eafng H\\u1ed3ng R\\u1ea1ng R\\u1ee1 Pond's White Beauty 50g v\\u1edbi c\\u00f4ng th\\u1ee9c ph\\u1ee9c h\\u1ee3p d\\u01b0\\u1ee1ng tr\\u1eafng Vitamin B3+ gi\\u00fap t\\u0103ng c\\u01b0\\u1eddng kh\\u1ea3 n\\u0103ng d\\u01b0\\u1ee1ng tr\\u1eafng da li\\u00ean t\\u1ee5c su\\u1ed1t c\\u1ea3 \\u0111\\u00eam t\\u1eeb s\\u00e2u b\\u00ean trong, mang \\u0111\\u1ebfn l\\u00e0n da s\\u00e1ng m\\u1ecbn r\\u1ea1ng r\\u1ee1 sau m\\u1ed7i l\\u1ea7n s\\u1eed d\\u1ee5ng.\",\n          \"Ph\\u1ea5n Ph\\u1ee7 D\\u01b0\\u1ee1ng \\u1ea8m D\\u1ea1ng N\\u00e9n Laneige Light Fit Pact 9.5g. K\\u1ebft c\\u1ea5u m\\u1ecfng nh\\u1eb9, \\u0111\\u1ed9 b\\u00e1m d\\u00ednh cao Gi\\u00fap che ph\\u1ee7 hi\\u1ec7u qu\\u1ea3 ho\\u00e0n h\\u1ea3o Th\\u1ec3 hi\\u1ec7n m\\u00e0u s\\u1eafc t\\u1ef1 nhi\\u00ean\"\n        ],\n        \"semantic_type\": \"\",\n        \"description\": \"\"\n      }\n    },\n    {\n      \"column\": \"products_wt\",\n      \"properties\": {\n        \"dtype\": \"string\",\n        \"num_unique_values\": 9,\n        \"samples\": [\n          \"S\\u1eefa R\\u1eeda_M\\u1eb7t Ng\\u0103n_Ng\\u1eeba L\\u00e3o H\\u00f3a Pond's_Age Miracle 100 g g\\u1ed3m 6 d\\u01b0\\u1ee1ng_ch\\u1ea5t chuy\\u00ean_bi\\u1ec7t , gi\\u00fap th\\u00fac_\\u0111\\u1ea9y qu\\u00e1_tr\\u00ecnh t\\u00e1i_t\\u1ea1o da \\u0111\\u1ea9y_l\\u00f9i qu\\u00e1_tr\\u00ecnh l\\u00e3o h\\u00f3a .\",\n          \"Kem D\\u01b0\\u1ee1ng_Da_\\u0110\\u00eam Ng\\u00e0y Tr\\u1eafng_H\\u1ed3ng R\\u1ea1ng_R\\u1ee1 Pond's_White Beauty 50 g v\\u1edbi c\\u00f4ng_th\\u1ee9c ph\\u1ee9c_h\\u1ee3p_d\\u01b0\\u1ee1ng tr\\u1eafng Vitamin_B3 + gi\\u00fap t\\u0103ng_c\\u01b0\\u1eddng kh\\u1ea3_n\\u0103ng d\\u01b0\\u1ee1ng_tr\\u1eafng da li\\u00ean_t\\u1ee5c su\\u1ed1t c\\u1ea3 \\u0111\\u00eam t\\u1eeb s\\u00e2u b\\u00ean trong , mang \\u0111\\u1ebfn l\\u00e0n da s\\u00e1ng m\\u1ecbn r\\u1ea1ng_r\\u1ee1 sau m\\u1ed7i l\\u1ea7n s\\u1eed_d\\u1ee5ng .\",\n          \"Ph\\u1ea5n Ph\\u1ee7_D\\u01b0\\u1ee1ng \\u1ea8m_D\\u1ea1ng N\\u00e9n Laneige_Light Fit Pact 9.5_g . K\\u1ebft_c\\u1ea5u m\\u1ecfng nh\\u1eb9 , \\u0111\\u1ed9 b\\u00e1m d\\u00ednh cao Gi\\u00fap che_ph\\u1ee7 hi\\u1ec7u_qu\\u1ea3 ho\\u00e0n_h\\u1ea3o Th\\u1ec3_hi\\u1ec7n m\\u00e0u_s\\u1eafc t\\u1ef1_nhi\\u00ean\"\n        ],\n        \"semantic_type\": \"\",\n        \"description\": \"\"\n      }\n    }\n  ]\n}"
            }
          },
          "metadata": {},
          "execution_count": 10
        }
      ]
    },
    {
      "cell_type": "code",
      "metadata": {
        "id": "hdx4K38i2U5R"
      },
      "source": [
        "# postag\n",
        "products_postag= df[\"products\"].apply(lambda x: pos_tag(x))"
      ],
      "execution_count": null,
      "outputs": []
    },
    {
      "cell_type": "code",
      "metadata": {
        "colab": {
          "base_uri": "https://localhost:8080/"
        },
        "id": "X_2HZY2820NK",
        "outputId": "622689f0-d40c-4fc1-9af7-4b1c859fc125"
      },
      "source": [
        "products_postag"
      ],
      "execution_count": null,
      "outputs": [
        {
          "output_type": "execute_result",
          "data": {
            "text/plain": [
              "0    [(Kem, Np), (Dưỡng Da, Np), (Ban Ngày, Np), (T...\n",
              "1    [(Kem, Np), (Dưỡng Da Đêm, Np), (Ngày, Np), (T...\n",
              "2    [(Kem, Np), (Dưỡng Trắng, Np), (Da Ban Đêm, Np...\n",
              "3    [(Kem, N), (dưỡng, N), (nâng, V), (tông, N), (...\n",
              "4    [(Kem, Np), (Dưỡng Nivea, Np), (Ngọc Trai, Np)...\n",
              "5    [(Phấn, Np), (Phủ Dưỡng, Np), (Ẩm Dạng, Np), (...\n",
              "6    [(Phấn, Np), (Phủ Kiềm, Np), (Dầu Dạng, Np), (...\n",
              "7    [(Sữa, N), (Rửa Mặt, Np), (Ngăn Ngừa, Np), (Lã...\n",
              "8    [(Sữa, N), (Rửa Mặt, Np), (Ngăn Ngừa, Np), (Lã...\n",
              "Name: products, dtype: object"
            ]
          },
          "metadata": {},
          "execution_count": 12
        }
      ]
    },
    {
      "cell_type": "code",
      "metadata": {
        "id": "nWXAb_7_21g6"
      },
      "source": [
        "# sent_tokenize\n",
        "products_sent = df[\"products\"].apply(lambda x: sent_tokenize(x))"
      ],
      "execution_count": null,
      "outputs": []
    },
    {
      "cell_type": "code",
      "metadata": {
        "colab": {
          "base_uri": "https://localhost:8080/"
        },
        "id": "-3V2-zxE4CwT",
        "outputId": "d69dc30e-8ffc-41d2-9da4-9cab055cd1d5"
      },
      "source": [
        "products_sent"
      ],
      "execution_count": null,
      "outputs": [
        {
          "output_type": "execute_result",
          "data": {
            "text/plain": [
              "0    [Kem Dưỡng Da Ban Ngày Trắng Hồng Rạng Rỡ Pond...\n",
              "1    [Kem Dưỡng Da Đêm Ngày Trắng Hồng Rạng Rỡ Pond...\n",
              "2    [Kem Dưỡng Trắng Da Ban Đêm Senka White Beauty...\n",
              "3    [Kem dưỡng nâng tông da trắng hồng tự nhiên La...\n",
              "4    [Kem Dưỡng Nivea Ngọc Trai Làm Sáng Da Ban Đêm...\n",
              "5    [Phấn Phủ Dưỡng Ẩm Dạng Nén Laneige Light Fit ...\n",
              "6    [Phấn Phủ Kiềm Dầu Dạng Bột Khoáng Innisfree N...\n",
              "7    [Sữa Rửa Mặt Ngăn Ngừa Lão Hóa Pond's Age Mira...\n",
              "8    [Sữa Rửa Mặt Ngăn Ngừa Lão Hóa Da Innisfree Je...\n",
              "Name: products, dtype: object"
            ]
          },
          "metadata": {},
          "execution_count": 14
        }
      ]
    },
    {
      "cell_type": "markdown",
      "metadata": {
        "id": "xE8fstP24M5R"
      },
      "source": [
        "# Gemsim\n",
        "- https://pypi.org/project/gensim/\n",
        "-Là một thư viện Python chuyên xác định sự tương tự về ngữ nghĩa giữa hai tài liệu thông qua mô hình không gian vector và bộ công cụ mô hình hóa chủ đề.\n",
        "- Có thể xử lý kho dữ liệu văn bản lớn với sự trợ giúp của việc truyền dữ liệu hiệu quả và các thuật toán tăng cường\n",
        "- Tốc độ xử lý và tối ưu hóa việc sử dụng bộ nhớ tốt\n",
        "- Tuy nhiên, Gensim có ít tùy chọn tùy biến cho các function\n",
        "#### Tham khảo:\n",
        "- link https://www.tutorialspoint.com/gensim/index.htm\n",
        "- link https://www.machinelearningplus.com/nlp/gensim-tutorial/"
      ]
    },
    {
      "cell_type": "code",
      "metadata": {
        "id": "IbaFFQP14qYE"
      },
      "source": [
        "# Tokenize(split) the sentences into words\n",
        "products_gem = [[text for text in x.split()] for x in df.products_wt]"
      ],
      "execution_count": null,
      "outputs": []
    },
    {
      "cell_type": "code",
      "metadata": {
        "colab": {
          "base_uri": "https://localhost:8080/"
        },
        "id": "4P9xVhMu46by",
        "outputId": "e76a3509-ace6-41f0-b95d-a1663391f5a3"
      },
      "source": [
        "len(products_gem)"
      ],
      "execution_count": null,
      "outputs": [
        {
          "output_type": "execute_result",
          "data": {
            "text/plain": [
              "9"
            ]
          },
          "metadata": {},
          "execution_count": 16
        }
      ]
    },
    {
      "cell_type": "code",
      "metadata": {
        "colab": {
          "base_uri": "https://localhost:8080/"
        },
        "id": "QaVDNJ9J5Cla",
        "outputId": "2e99f78c-3d46-4a35-f108-905d1d8b6f68"
      },
      "source": [
        "products_gem[:1]"
      ],
      "execution_count": null,
      "outputs": [
        {
          "output_type": "execute_result",
          "data": {
            "text/plain": [
              "[['Kem',\n",
              "  'Dưỡng_Da',\n",
              "  'Ban_Ngày',\n",
              "  'Trắng_Hồng',\n",
              "  'Rạng_Rỡ',\n",
              "  \"Pond's_White\",\n",
              "  'Beauty',\n",
              "  '50',\n",
              "  'g',\n",
              "  'với',\n",
              "  'công_thức',\n",
              "  'phức_hợp_dưỡng',\n",
              "  'trắng',\n",
              "  'Vitamin_B3',\n",
              "  'giúp',\n",
              "  'tăng_cường',\n",
              "  'khả_năng',\n",
              "  'dưỡng_trắng',\n",
              "  'từ',\n",
              "  'sâu',\n",
              "  'bên',\n",
              "  'trong',\n",
              "  ',',\n",
              "  'làm',\n",
              "  'mờ',\n",
              "  'vết',\n",
              "  'thâm_sạm',\n",
              "  ',',\n",
              "  'cho',\n",
              "  'làn',\n",
              "  'da',\n",
              "  'trắng',\n",
              "  'hồng',\n",
              "  'rạng_rỡ',\n",
              "  'bên',\n",
              "  'ngoài',\n",
              "  '.']]"
            ]
          },
          "metadata": {},
          "execution_count": 17
        }
      ]
    },
    {
      "cell_type": "code",
      "metadata": {
        "id": "wh25oBcFIBPH"
      },
      "source": [
        "import re"
      ],
      "execution_count": null,
      "outputs": []
    },
    {
      "cell_type": "code",
      "metadata": {
        "id": "xAs_1rEI5Goh"
      },
      "source": [
        "# remove some special elements in texts\n",
        "products_gem_re = [[re.sub('[0-9]+','', e) for e in text] for text in products_gem] # số\n",
        "products_gem_re = [[t.lower() for t in text if not t in ['', ' ', ',', '.', '...', '-',':', ';', '?', '%', '_%' , '(', ')', '+', '/', 'g', 'ml']] for text in  products_gem_re] # ký tự đặc biệt\n",
        "products_gem_re = [[t for t in text if not t in stop_words] for text in products_gem_re] # stopword\n",
        "# Các xử lý khác..."
      ],
      "execution_count": null,
      "outputs": []
    },
    {
      "cell_type": "code",
      "metadata": {
        "colab": {
          "base_uri": "https://localhost:8080/"
        },
        "id": "geF80jzl5ayj",
        "outputId": "274ca438-d934-4ec5-c7c9-46aaabee14a8"
      },
      "source": [
        "products_gem_re[:1]"
      ],
      "execution_count": null,
      "outputs": [
        {
          "output_type": "execute_result",
          "data": {
            "text/plain": [
              "[['kem',\n",
              "  'dưỡng_da',\n",
              "  'ban_ngày',\n",
              "  'trắng_hồng',\n",
              "  'rạng_rỡ',\n",
              "  \"pond's_white\",\n",
              "  'beauty',\n",
              "  'công_thức',\n",
              "  'phức_hợp_dưỡng',\n",
              "  'trắng',\n",
              "  'vitamin_b',\n",
              "  'giúp',\n",
              "  'tăng_cường',\n",
              "  'khả_năng',\n",
              "  'dưỡng_trắng',\n",
              "  'sâu',\n",
              "  'mờ',\n",
              "  'vết',\n",
              "  'thâm_sạm',\n",
              "  'làn',\n",
              "  'da',\n",
              "  'trắng',\n",
              "  'hồng',\n",
              "  'rạng_rỡ']]"
            ]
          },
          "metadata": {},
          "execution_count": 20
        }
      ]
    },
    {
      "cell_type": "code",
      "metadata": {
        "id": "GSXvRNkA411y"
      },
      "source": [
        "# Obtain the number of features based on dictionary: Use corpora.Dictionary\n",
        "dictionary = corpora.Dictionary(products_gem_re)"
      ],
      "execution_count": null,
      "outputs": []
    },
    {
      "cell_type": "code",
      "metadata": {
        "id": "HT-5Y4Th5vPR",
        "colab": {
          "base_uri": "https://localhost:8080/"
        },
        "outputId": "8ffe194c-01fa-40a8-a509-d84d39ce072c"
      },
      "source": [
        "# List of features in dictionary\n",
        "dictionary.token2id"
      ],
      "execution_count": null,
      "outputs": [
        {
          "output_type": "execute_result",
          "data": {
            "text/plain": [
              "{'ban_ngày': 0,\n",
              " 'beauty': 1,\n",
              " 'công_thức': 2,\n",
              " 'da': 3,\n",
              " 'dưỡng_da': 4,\n",
              " 'dưỡng_trắng': 5,\n",
              " 'giúp': 6,\n",
              " 'hồng': 7,\n",
              " 'kem': 8,\n",
              " 'khả_năng': 9,\n",
              " 'làn': 10,\n",
              " 'mờ': 11,\n",
              " 'phức_hợp_dưỡng': 12,\n",
              " \"pond's_white\": 13,\n",
              " 'rạng_rỡ': 14,\n",
              " 'sâu': 15,\n",
              " 'thâm_sạm': 16,\n",
              " 'trắng': 17,\n",
              " 'trắng_hồng': 18,\n",
              " 'tăng_cường': 19,\n",
              " 'vitamin_b': 20,\n",
              " 'vết': 21,\n",
              " 'dưỡng_da_đêm': 22,\n",
              " 'liên_tục': 23,\n",
              " 'mịn': 24,\n",
              " 'suốt': 25,\n",
              " 'đêm': 26,\n",
              " 'ban_đêm': 27,\n",
              " 'bổ_sung': 28,\n",
              " 'cream': 29,\n",
              " 'công_nghệ': 30,\n",
              " 'cần_thiết': 31,\n",
              " 'da_ban_đêm': 32,\n",
              " 'dưỡng': 33,\n",
              " 'dưỡng_chất': 34,\n",
              " 'glow_gel': 35,\n",
              " 'hiệu_quả': 36,\n",
              " 'kem_dưỡng': 37,\n",
              " 'mịn_màng': 38,\n",
              " 'natu-ence': 39,\n",
              " 'nâng': 40,\n",
              " 'senka': 41,\n",
              " 'shiseido': 42,\n",
              " 'thiên_nhiên': 43,\n",
              " 'tiên_tiến': 44,\n",
              " 'vượt_trội': 45,\n",
              " 'white_beauty': 46,\n",
              " 'độ_ẩm': 47,\n",
              " 'độc_quyền': 48,\n",
              " 'chứa': 49,\n",
              " 'dew_tone': 50,\n",
              " 'dạng': 51,\n",
              " 'dầu': 52,\n",
              " 'giàu': 53,\n",
              " 'kết_cấu': 54,\n",
              " 'laneige_white': 55,\n",
              " 'màu': 56,\n",
              " 'màu_da': 57,\n",
              " 'sữa_dưỡng': 58,\n",
              " 'tio': 59,\n",
              " 'titanium_dioxide': 60,\n",
              " 'tông': 61,\n",
              " 'tối': 62,\n",
              " 'tự_nhiên': 63,\n",
              " 'up': 64,\n",
              " 'vàng': 65,\n",
              " 'xỉn': 66,\n",
              " 'bắt': 67,\n",
              " 'chiết_xuất': 68,\n",
              " 'da_ban': 69,\n",
              " 'dưỡng_nivea': 70,\n",
              " 'face_cream': 71,\n",
              " 'filler_pearl': 72,\n",
              " 'in': 73,\n",
              " 'không': 74,\n",
              " 'làm_sáng': 75,\n",
              " 'ngại': 76,\n",
              " 'ngọc_trai': 77,\n",
              " 'nuôi_dưỡng': 78,\n",
              " 'nắng': 79,\n",
              " 'pearl': 80,\n",
              " 'sạm': 81,\n",
              " 'trắng_mượt': 82,\n",
              " 'white_night': 83,\n",
              " 'đen': 84,\n",
              " '._g': 85,\n",
              " 'bám': 86,\n",
              " 'che_phủ': 87,\n",
              " 'dính': 88,\n",
              " 'fit': 89,\n",
              " 'hoàn_hảo': 90,\n",
              " 'laneige_light': 91,\n",
              " 'màu_sắc': 92,\n",
              " 'mỏng': 93,\n",
              " 'nhẹ': 94,\n",
              " 'nén': 95,\n",
              " 'pact': 96,\n",
              " 'phấn': 97,\n",
              " 'phủ_dưỡng': 98,\n",
              " 'thể_hiện': 99,\n",
              " 'độ': 100,\n",
              " 'ẩm_dạng': 101,\n",
              " 'bã': 102,\n",
              " 'bạc_hà': 103,\n",
              " 'bột': 104,\n",
              " 'bột_khoáng': 105,\n",
              " 'chiết': 106,\n",
              " 'dư_thừa': 107,\n",
              " 'dầu_dạng': 108,\n",
              " 'hút': 109,\n",
              " 'hạt': 110,\n",
              " 'innisfree_no': 111,\n",
              " 'kiềm': 112,\n",
              " 'loại_bỏ': 113,\n",
              " 'nhờn': 114,\n",
              " 'phủ_kiềm': 115,\n",
              " 'powder': 116,\n",
              " 'sebum_mineral': 117,\n",
              " 'xuất': 118,\n",
              " 'chuyên_biệt': 119,\n",
              " 'hóa': 120,\n",
              " 'lão': 121,\n",
              " 'miracle': 122,\n",
              " 'ngăn_ngừa': 123,\n",
              " \"pond's_age\": 124,\n",
              " 'rửa_mặt': 125,\n",
              " 'sữa': 126,\n",
              " 'thúc_đẩy': 127,\n",
              " 'tái_tạo': 128,\n",
              " 'đẩy_lùi': 129,\n",
              " 'cleanser': 130,\n",
              " 'căng': 131,\n",
              " 'da_innisfree': 132,\n",
              " 'jeju_pomegranate': 133,\n",
              " 'khô': 134,\n",
              " 'lão_hóa': 135,\n",
              " 'lựu_giúp': 136,\n",
              " 'revitalizing_foam': 137,\n",
              " 'sạch': 138,\n",
              " 'ép_lựu': 139}"
            ]
          },
          "metadata": {},
          "execution_count": 22
        }
      ]
    },
    {
      "cell_type": "code",
      "metadata": {
        "id": "Jo5-RvLP6FDa"
      },
      "source": [
        "# Numbers of features (word) in dictionary\n",
        "feature_cnt = len(dictionary.token2id)"
      ],
      "execution_count": null,
      "outputs": []
    },
    {
      "cell_type": "code",
      "metadata": {
        "colab": {
          "base_uri": "https://localhost:8080/"
        },
        "id": "Duldb3_d6Hwa",
        "outputId": "dc7c9472-5e77-4913-cc1b-8d1f8c48231c"
      },
      "source": [
        "feature_cnt"
      ],
      "execution_count": null,
      "outputs": [
        {
          "output_type": "execute_result",
          "data": {
            "text/plain": [
              "140"
            ]
          },
          "metadata": {},
          "execution_count": 24
        }
      ]
    },
    {
      "cell_type": "code",
      "metadata": {
        "id": "14MVVIaU6J0q"
      },
      "source": [
        "# Obtain corpus based on dictionary (dense matrix)\n",
        "corpus = [dictionary.doc2bow(text) for text in products_gem_re]"
      ],
      "execution_count": null,
      "outputs": []
    },
    {
      "cell_type": "code",
      "metadata": {
        "id": "oAoMCbg26RIC",
        "colab": {
          "base_uri": "https://localhost:8080/"
        },
        "outputId": "15e84d1b-4fca-4f98-85e8-8cff920bddc7"
      },
      "source": [
        "corpus[0]"
      ],
      "execution_count": null,
      "outputs": [
        {
          "output_type": "execute_result",
          "data": {
            "text/plain": [
              "[(0, 1),\n",
              " (1, 1),\n",
              " (2, 1),\n",
              " (3, 1),\n",
              " (4, 1),\n",
              " (5, 1),\n",
              " (6, 1),\n",
              " (7, 1),\n",
              " (8, 1),\n",
              " (9, 1),\n",
              " (10, 1),\n",
              " (11, 1),\n",
              " (12, 1),\n",
              " (13, 1),\n",
              " (14, 2),\n",
              " (15, 1),\n",
              " (16, 1),\n",
              " (17, 2),\n",
              " (18, 1),\n",
              " (19, 1),\n",
              " (20, 1),\n",
              " (21, 1)]"
            ]
          },
          "metadata": {},
          "execution_count": 26
        }
      ]
    },
    {
      "cell_type": "code",
      "metadata": {
        "id": "B2EtBzuz6UiK"
      },
      "source": [
        "# Use TF-IDF Model to process corpus, obtaining index\n",
        "tfidf = models.TfidfModel(corpus)\n",
        "# tính toán sự tương tự trong ma trận thưa thớt\n",
        "index = similarities.SparseMatrixSimilarity(tfidf[corpus],\n",
        "                                            num_features = feature_cnt)"
      ],
      "execution_count": null,
      "outputs": []
    },
    {
      "cell_type": "code",
      "source": [
        "data_result = pd.DataFrame(index[tfidf[corpus]])"
      ],
      "metadata": {
        "id": "nv-YLiwdPL3A"
      },
      "execution_count": null,
      "outputs": []
    },
    {
      "cell_type": "code",
      "source": [
        "data_result"
      ],
      "metadata": {
        "colab": {
          "base_uri": "https://localhost:8080/",
          "height": 331
        },
        "id": "qjCAExskQBBg",
        "outputId": "7b479a30-58d6-48f5-f81e-d17dc2942215"
      },
      "execution_count": null,
      "outputs": [
        {
          "output_type": "execute_result",
          "data": {
            "text/plain": [
              "          0         1         2         3         4         5         6  \\\n",
              "0  1.000000  0.563961  0.043519  0.044117  0.038099  0.000200  0.005425   \n",
              "1  0.563961  1.000000  0.037981  0.017230  0.070373  0.000217  0.040661   \n",
              "2  0.043519  0.037981  1.000000  0.084052  0.104230  0.012963  0.004569   \n",
              "3  0.044117  0.017230  0.084052  1.000000  0.023113  0.051415  0.031031   \n",
              "4  0.038099  0.070373  0.104230  0.023113  1.000000  0.000154  0.036860   \n",
              "5  0.000200  0.000217  0.012963  0.051415  0.000154  1.000000  0.025959   \n",
              "6  0.005425  0.040661  0.004569  0.031031  0.036860  0.025959  1.000000   \n",
              "7  0.000425  0.000690  0.027841  0.000527  0.015007  0.000173  0.000504   \n",
              "8  0.020859  0.023114  0.001036  0.013533  0.030801  0.000000  0.047116   \n",
              "\n",
              "          7         8  \n",
              "0  0.000425  0.020859  \n",
              "1  0.000690  0.023114  \n",
              "2  0.027841  0.001036  \n",
              "3  0.000527  0.013533  \n",
              "4  0.015007  0.030801  \n",
              "5  0.000173  0.000000  \n",
              "6  0.000504  0.047116  \n",
              "7  1.000000  0.099481  \n",
              "8  0.099481  1.000000  "
            ],
            "text/html": [
              "\n",
              "  <div id=\"df-e8c87297-6ef2-4a87-9bf7-f47904fddcf1\" class=\"colab-df-container\">\n",
              "    <div>\n",
              "<style scoped>\n",
              "    .dataframe tbody tr th:only-of-type {\n",
              "        vertical-align: middle;\n",
              "    }\n",
              "\n",
              "    .dataframe tbody tr th {\n",
              "        vertical-align: top;\n",
              "    }\n",
              "\n",
              "    .dataframe thead th {\n",
              "        text-align: right;\n",
              "    }\n",
              "</style>\n",
              "<table border=\"1\" class=\"dataframe\">\n",
              "  <thead>\n",
              "    <tr style=\"text-align: right;\">\n",
              "      <th></th>\n",
              "      <th>0</th>\n",
              "      <th>1</th>\n",
              "      <th>2</th>\n",
              "      <th>3</th>\n",
              "      <th>4</th>\n",
              "      <th>5</th>\n",
              "      <th>6</th>\n",
              "      <th>7</th>\n",
              "      <th>8</th>\n",
              "    </tr>\n",
              "  </thead>\n",
              "  <tbody>\n",
              "    <tr>\n",
              "      <th>0</th>\n",
              "      <td>1.000000</td>\n",
              "      <td>0.563961</td>\n",
              "      <td>0.043519</td>\n",
              "      <td>0.044117</td>\n",
              "      <td>0.038099</td>\n",
              "      <td>0.000200</td>\n",
              "      <td>0.005425</td>\n",
              "      <td>0.000425</td>\n",
              "      <td>0.020859</td>\n",
              "    </tr>\n",
              "    <tr>\n",
              "      <th>1</th>\n",
              "      <td>0.563961</td>\n",
              "      <td>1.000000</td>\n",
              "      <td>0.037981</td>\n",
              "      <td>0.017230</td>\n",
              "      <td>0.070373</td>\n",
              "      <td>0.000217</td>\n",
              "      <td>0.040661</td>\n",
              "      <td>0.000690</td>\n",
              "      <td>0.023114</td>\n",
              "    </tr>\n",
              "    <tr>\n",
              "      <th>2</th>\n",
              "      <td>0.043519</td>\n",
              "      <td>0.037981</td>\n",
              "      <td>1.000000</td>\n",
              "      <td>0.084052</td>\n",
              "      <td>0.104230</td>\n",
              "      <td>0.012963</td>\n",
              "      <td>0.004569</td>\n",
              "      <td>0.027841</td>\n",
              "      <td>0.001036</td>\n",
              "    </tr>\n",
              "    <tr>\n",
              "      <th>3</th>\n",
              "      <td>0.044117</td>\n",
              "      <td>0.017230</td>\n",
              "      <td>0.084052</td>\n",
              "      <td>1.000000</td>\n",
              "      <td>0.023113</td>\n",
              "      <td>0.051415</td>\n",
              "      <td>0.031031</td>\n",
              "      <td>0.000527</td>\n",
              "      <td>0.013533</td>\n",
              "    </tr>\n",
              "    <tr>\n",
              "      <th>4</th>\n",
              "      <td>0.038099</td>\n",
              "      <td>0.070373</td>\n",
              "      <td>0.104230</td>\n",
              "      <td>0.023113</td>\n",
              "      <td>1.000000</td>\n",
              "      <td>0.000154</td>\n",
              "      <td>0.036860</td>\n",
              "      <td>0.015007</td>\n",
              "      <td>0.030801</td>\n",
              "    </tr>\n",
              "    <tr>\n",
              "      <th>5</th>\n",
              "      <td>0.000200</td>\n",
              "      <td>0.000217</td>\n",
              "      <td>0.012963</td>\n",
              "      <td>0.051415</td>\n",
              "      <td>0.000154</td>\n",
              "      <td>1.000000</td>\n",
              "      <td>0.025959</td>\n",
              "      <td>0.000173</td>\n",
              "      <td>0.000000</td>\n",
              "    </tr>\n",
              "    <tr>\n",
              "      <th>6</th>\n",
              "      <td>0.005425</td>\n",
              "      <td>0.040661</td>\n",
              "      <td>0.004569</td>\n",
              "      <td>0.031031</td>\n",
              "      <td>0.036860</td>\n",
              "      <td>0.025959</td>\n",
              "      <td>1.000000</td>\n",
              "      <td>0.000504</td>\n",
              "      <td>0.047116</td>\n",
              "    </tr>\n",
              "    <tr>\n",
              "      <th>7</th>\n",
              "      <td>0.000425</td>\n",
              "      <td>0.000690</td>\n",
              "      <td>0.027841</td>\n",
              "      <td>0.000527</td>\n",
              "      <td>0.015007</td>\n",
              "      <td>0.000173</td>\n",
              "      <td>0.000504</td>\n",
              "      <td>1.000000</td>\n",
              "      <td>0.099481</td>\n",
              "    </tr>\n",
              "    <tr>\n",
              "      <th>8</th>\n",
              "      <td>0.020859</td>\n",
              "      <td>0.023114</td>\n",
              "      <td>0.001036</td>\n",
              "      <td>0.013533</td>\n",
              "      <td>0.030801</td>\n",
              "      <td>0.000000</td>\n",
              "      <td>0.047116</td>\n",
              "      <td>0.099481</td>\n",
              "      <td>1.000000</td>\n",
              "    </tr>\n",
              "  </tbody>\n",
              "</table>\n",
              "</div>\n",
              "    <div class=\"colab-df-buttons\">\n",
              "\n",
              "  <div class=\"colab-df-container\">\n",
              "    <button class=\"colab-df-convert\" onclick=\"convertToInteractive('df-e8c87297-6ef2-4a87-9bf7-f47904fddcf1')\"\n",
              "            title=\"Convert this dataframe to an interactive table.\"\n",
              "            style=\"display:none;\">\n",
              "\n",
              "  <svg xmlns=\"http://www.w3.org/2000/svg\" height=\"24px\" viewBox=\"0 -960 960 960\">\n",
              "    <path d=\"M120-120v-720h720v720H120Zm60-500h600v-160H180v160Zm220 220h160v-160H400v160Zm0 220h160v-160H400v160ZM180-400h160v-160H180v160Zm440 0h160v-160H620v160ZM180-180h160v-160H180v160Zm440 0h160v-160H620v160Z\"/>\n",
              "  </svg>\n",
              "    </button>\n",
              "\n",
              "  <style>\n",
              "    .colab-df-container {\n",
              "      display:flex;\n",
              "      gap: 12px;\n",
              "    }\n",
              "\n",
              "    .colab-df-convert {\n",
              "      background-color: #E8F0FE;\n",
              "      border: none;\n",
              "      border-radius: 50%;\n",
              "      cursor: pointer;\n",
              "      display: none;\n",
              "      fill: #1967D2;\n",
              "      height: 32px;\n",
              "      padding: 0 0 0 0;\n",
              "      width: 32px;\n",
              "    }\n",
              "\n",
              "    .colab-df-convert:hover {\n",
              "      background-color: #E2EBFA;\n",
              "      box-shadow: 0px 1px 2px rgba(60, 64, 67, 0.3), 0px 1px 3px 1px rgba(60, 64, 67, 0.15);\n",
              "      fill: #174EA6;\n",
              "    }\n",
              "\n",
              "    .colab-df-buttons div {\n",
              "      margin-bottom: 4px;\n",
              "    }\n",
              "\n",
              "    [theme=dark] .colab-df-convert {\n",
              "      background-color: #3B4455;\n",
              "      fill: #D2E3FC;\n",
              "    }\n",
              "\n",
              "    [theme=dark] .colab-df-convert:hover {\n",
              "      background-color: #434B5C;\n",
              "      box-shadow: 0px 1px 3px 1px rgba(0, 0, 0, 0.15);\n",
              "      filter: drop-shadow(0px 1px 2px rgba(0, 0, 0, 0.3));\n",
              "      fill: #FFFFFF;\n",
              "    }\n",
              "  </style>\n",
              "\n",
              "    <script>\n",
              "      const buttonEl =\n",
              "        document.querySelector('#df-e8c87297-6ef2-4a87-9bf7-f47904fddcf1 button.colab-df-convert');\n",
              "      buttonEl.style.display =\n",
              "        google.colab.kernel.accessAllowed ? 'block' : 'none';\n",
              "\n",
              "      async function convertToInteractive(key) {\n",
              "        const element = document.querySelector('#df-e8c87297-6ef2-4a87-9bf7-f47904fddcf1');\n",
              "        const dataTable =\n",
              "          await google.colab.kernel.invokeFunction('convertToInteractive',\n",
              "                                                    [key], {});\n",
              "        if (!dataTable) return;\n",
              "\n",
              "        const docLinkHtml = 'Like what you see? Visit the ' +\n",
              "          '<a target=\"_blank\" href=https://colab.research.google.com/notebooks/data_table.ipynb>data table notebook</a>'\n",
              "          + ' to learn more about interactive tables.';\n",
              "        element.innerHTML = '';\n",
              "        dataTable['output_type'] = 'display_data';\n",
              "        await google.colab.output.renderOutput(dataTable, element);\n",
              "        const docLink = document.createElement('div');\n",
              "        docLink.innerHTML = docLinkHtml;\n",
              "        element.appendChild(docLink);\n",
              "      }\n",
              "    </script>\n",
              "  </div>\n",
              "\n",
              "\n",
              "<div id=\"df-6987c2f9-ba64-4244-9ca9-c2c5633e3792\">\n",
              "  <button class=\"colab-df-quickchart\" onclick=\"quickchart('df-6987c2f9-ba64-4244-9ca9-c2c5633e3792')\"\n",
              "            title=\"Suggest charts\"\n",
              "            style=\"display:none;\">\n",
              "\n",
              "<svg xmlns=\"http://www.w3.org/2000/svg\" height=\"24px\"viewBox=\"0 0 24 24\"\n",
              "     width=\"24px\">\n",
              "    <g>\n",
              "        <path d=\"M19 3H5c-1.1 0-2 .9-2 2v14c0 1.1.9 2 2 2h14c1.1 0 2-.9 2-2V5c0-1.1-.9-2-2-2zM9 17H7v-7h2v7zm4 0h-2V7h2v10zm4 0h-2v-4h2v4z\"/>\n",
              "    </g>\n",
              "</svg>\n",
              "  </button>\n",
              "\n",
              "<style>\n",
              "  .colab-df-quickchart {\n",
              "      --bg-color: #E8F0FE;\n",
              "      --fill-color: #1967D2;\n",
              "      --hover-bg-color: #E2EBFA;\n",
              "      --hover-fill-color: #174EA6;\n",
              "      --disabled-fill-color: #AAA;\n",
              "      --disabled-bg-color: #DDD;\n",
              "  }\n",
              "\n",
              "  [theme=dark] .colab-df-quickchart {\n",
              "      --bg-color: #3B4455;\n",
              "      --fill-color: #D2E3FC;\n",
              "      --hover-bg-color: #434B5C;\n",
              "      --hover-fill-color: #FFFFFF;\n",
              "      --disabled-bg-color: #3B4455;\n",
              "      --disabled-fill-color: #666;\n",
              "  }\n",
              "\n",
              "  .colab-df-quickchart {\n",
              "    background-color: var(--bg-color);\n",
              "    border: none;\n",
              "    border-radius: 50%;\n",
              "    cursor: pointer;\n",
              "    display: none;\n",
              "    fill: var(--fill-color);\n",
              "    height: 32px;\n",
              "    padding: 0;\n",
              "    width: 32px;\n",
              "  }\n",
              "\n",
              "  .colab-df-quickchart:hover {\n",
              "    background-color: var(--hover-bg-color);\n",
              "    box-shadow: 0 1px 2px rgba(60, 64, 67, 0.3), 0 1px 3px 1px rgba(60, 64, 67, 0.15);\n",
              "    fill: var(--button-hover-fill-color);\n",
              "  }\n",
              "\n",
              "  .colab-df-quickchart-complete:disabled,\n",
              "  .colab-df-quickchart-complete:disabled:hover {\n",
              "    background-color: var(--disabled-bg-color);\n",
              "    fill: var(--disabled-fill-color);\n",
              "    box-shadow: none;\n",
              "  }\n",
              "\n",
              "  .colab-df-spinner {\n",
              "    border: 2px solid var(--fill-color);\n",
              "    border-color: transparent;\n",
              "    border-bottom-color: var(--fill-color);\n",
              "    animation:\n",
              "      spin 1s steps(1) infinite;\n",
              "  }\n",
              "\n",
              "  @keyframes spin {\n",
              "    0% {\n",
              "      border-color: transparent;\n",
              "      border-bottom-color: var(--fill-color);\n",
              "      border-left-color: var(--fill-color);\n",
              "    }\n",
              "    20% {\n",
              "      border-color: transparent;\n",
              "      border-left-color: var(--fill-color);\n",
              "      border-top-color: var(--fill-color);\n",
              "    }\n",
              "    30% {\n",
              "      border-color: transparent;\n",
              "      border-left-color: var(--fill-color);\n",
              "      border-top-color: var(--fill-color);\n",
              "      border-right-color: var(--fill-color);\n",
              "    }\n",
              "    40% {\n",
              "      border-color: transparent;\n",
              "      border-right-color: var(--fill-color);\n",
              "      border-top-color: var(--fill-color);\n",
              "    }\n",
              "    60% {\n",
              "      border-color: transparent;\n",
              "      border-right-color: var(--fill-color);\n",
              "    }\n",
              "    80% {\n",
              "      border-color: transparent;\n",
              "      border-right-color: var(--fill-color);\n",
              "      border-bottom-color: var(--fill-color);\n",
              "    }\n",
              "    90% {\n",
              "      border-color: transparent;\n",
              "      border-bottom-color: var(--fill-color);\n",
              "    }\n",
              "  }\n",
              "</style>\n",
              "\n",
              "  <script>\n",
              "    async function quickchart(key) {\n",
              "      const quickchartButtonEl =\n",
              "        document.querySelector('#' + key + ' button');\n",
              "      quickchartButtonEl.disabled = true;  // To prevent multiple clicks.\n",
              "      quickchartButtonEl.classList.add('colab-df-spinner');\n",
              "      try {\n",
              "        const charts = await google.colab.kernel.invokeFunction(\n",
              "            'suggestCharts', [key], {});\n",
              "      } catch (error) {\n",
              "        console.error('Error during call to suggestCharts:', error);\n",
              "      }\n",
              "      quickchartButtonEl.classList.remove('colab-df-spinner');\n",
              "      quickchartButtonEl.classList.add('colab-df-quickchart-complete');\n",
              "    }\n",
              "    (() => {\n",
              "      let quickchartButtonEl =\n",
              "        document.querySelector('#df-6987c2f9-ba64-4244-9ca9-c2c5633e3792 button');\n",
              "      quickchartButtonEl.style.display =\n",
              "        google.colab.kernel.accessAllowed ? 'block' : 'none';\n",
              "    })();\n",
              "  </script>\n",
              "</div>\n",
              "    </div>\n",
              "  </div>\n"
            ],
            "application/vnd.google.colaboratory.intrinsic+json": {
              "type": "dataframe",
              "variable_name": "data_result",
              "summary": "{\n  \"name\": \"data_result\",\n  \"rows\": 9,\n  \"fields\": [\n    {\n      \"column\": 0,\n      \"properties\": {\n        \"dtype\": \"float32\",\n        \"num_unique_values\": 9,\n        \"samples\": [\n          0.00042465946171432734,\n          0.5639608502388,\n          0.00019996271294075996\n        ],\n        \"semantic_type\": \"\",\n        \"description\": \"\"\n      }\n    },\n    {\n      \"column\": 1,\n      \"properties\": {\n        \"dtype\": \"float32\",\n        \"num_unique_values\": 9,\n        \"samples\": [\n          0.0006903328467160463,\n          1.0,\n          0.0002167082711821422\n        ],\n        \"semantic_type\": \"\",\n        \"description\": \"\"\n      }\n    },\n    {\n      \"column\": 2,\n      \"properties\": {\n        \"dtype\": \"float32\",\n        \"num_unique_values\": 9,\n        \"samples\": [\n          0.027841301634907722,\n          0.03798091784119606,\n          0.012962550856173038\n        ],\n        \"semantic_type\": \"\",\n        \"description\": \"\"\n      }\n    },\n    {\n      \"column\": 3,\n      \"properties\": {\n        \"dtype\": \"float32\",\n        \"num_unique_values\": 9,\n        \"samples\": [\n          0.0005273086135275662,\n          0.01722951978445053,\n          0.05141523480415344\n        ],\n        \"semantic_type\": \"\",\n        \"description\": \"\"\n      }\n    },\n    {\n      \"column\": 4,\n      \"properties\": {\n        \"dtype\": \"float32\",\n        \"num_unique_values\": 9,\n        \"samples\": [\n          0.01500694453716278,\n          0.07037299126386642,\n          0.00015361681289505213\n        ],\n        \"semantic_type\": \"\",\n        \"description\": \"\"\n      }\n    },\n    {\n      \"column\": 5,\n      \"properties\": {\n        \"dtype\": \"float32\",\n        \"num_unique_values\": 9,\n        \"samples\": [\n          0.00017279101302847266,\n          0.0002167082711821422,\n          0.9999997615814209\n        ],\n        \"semantic_type\": \"\",\n        \"description\": \"\"\n      }\n    },\n    {\n      \"column\": 6,\n      \"properties\": {\n        \"dtype\": \"float32\",\n        \"num_unique_values\": 9,\n        \"samples\": [\n          0.0005040175747126341,\n          0.040661077946424484,\n          0.025959279388189316\n        ],\n        \"semantic_type\": \"\",\n        \"description\": \"\"\n      }\n    },\n    {\n      \"column\": 7,\n      \"properties\": {\n        \"dtype\": \"float32\",\n        \"num_unique_values\": 9,\n        \"samples\": [\n          1.0000001192092896,\n          0.0006903328467160463,\n          0.00017279101302847266\n        ],\n        \"semantic_type\": \"\",\n        \"description\": \"\"\n      }\n    },\n    {\n      \"column\": 8,\n      \"properties\": {\n        \"dtype\": \"float32\",\n        \"num_unique_values\": 9,\n        \"samples\": [\n          0.0994812548160553,\n          0.023113885894417763,\n          0.0\n        ],\n        \"semantic_type\": \"\",\n        \"description\": \"\"\n      }\n    }\n  ]\n}"
            }
          },
          "metadata": {},
          "execution_count": 29
        }
      ]
    },
    {
      "cell_type": "code",
      "source": [
        "# TRƯỜNG HỢP 1:\n",
        "# Khi người dùng chọn 1 sản phẩm\n",
        "# Giả sử là chọn sản phẩm đầu tiên để xem -> index=0 (mã sản phẩm)\n",
        "# Tìm các sản phẩm đề xuất\n",
        "# index[tfidf[corpus[0]]]\n",
        "data_result[0]"
      ],
      "metadata": {
        "colab": {
          "base_uri": "https://localhost:8080/"
        },
        "id": "6sGJ1K6RQIe3",
        "outputId": "2f99d26e-e755-4d50-940b-399a6f2ae376"
      },
      "execution_count": null,
      "outputs": [
        {
          "output_type": "execute_result",
          "data": {
            "text/plain": [
              "0    1.000000\n",
              "1    0.563961\n",
              "2    0.043519\n",
              "3    0.044117\n",
              "4    0.038099\n",
              "5    0.000200\n",
              "6    0.005425\n",
              "7    0.000425\n",
              "8    0.020859\n",
              "Name: 0, dtype: float32"
            ]
          },
          "metadata": {},
          "execution_count": 30
        }
      ]
    },
    {
      "cell_type": "code",
      "source": [
        "# Vậy sản phẩm liên quan là sản phẩm có index = 1\n",
        "df.iloc[1]"
      ],
      "metadata": {
        "colab": {
          "base_uri": "https://localhost:8080/"
        },
        "id": "9yBXQjpmRbmt",
        "outputId": "ee1830a5-da18-40b4-b12e-cdc0b7a7bf9d"
      },
      "execution_count": null,
      "outputs": [
        {
          "output_type": "execute_result",
          "data": {
            "text/plain": [
              "products       Kem Dưỡng Da Đêm Ngày Trắng Hồng Rạng Rỡ Pond'...\n",
              "products_wt    Kem Dưỡng_Da_Đêm Ngày Trắng_Hồng Rạng_Rỡ Pond'...\n",
              "Name: 1, dtype: object"
            ]
          },
          "metadata": {},
          "execution_count": 31
        }
      ]
    },
    {
      "cell_type": "code",
      "metadata": {
        "id": "tYVqF8ZE6Zni"
      },
      "source": [
        "# TRƯỜNG HỢP 2:\n",
        "# Khi người dùng gõ một nội dung tìm kiếm có mô tả sơ lược về một sản phẩm nào đó\n",
        "# Thì cần chuẩn hóa nội dung đó về giống như nội dung trong cột products_wt\n",
        "# Giả sử nội dung người dùng gõ giống như sản phẩm đầu tiên\n",
        "product_selection = df.head(1)"
      ],
      "execution_count": null,
      "outputs": []
    },
    {
      "cell_type": "code",
      "metadata": {
        "colab": {
          "base_uri": "https://localhost:8080/",
          "height": 81
        },
        "id": "Shs7NQXo6yOx",
        "outputId": "6cf06c20-a52b-44ab-b85b-a565af3a8d09"
      },
      "source": [
        "product_selection"
      ],
      "execution_count": null,
      "outputs": [
        {
          "output_type": "execute_result",
          "data": {
            "text/plain": [
              "                                            products  \\\n",
              "0  Kem Dưỡng Da Ban Ngày Trắng Hồng Rạng Rỡ Pond'...   \n",
              "\n",
              "                                         products_wt  \n",
              "0  Kem Dưỡng_Da Ban_Ngày Trắng_Hồng Rạng_Rỡ Pond'...  "
            ],
            "text/html": [
              "\n",
              "  <div id=\"df-3d112e19-5e5c-419b-b42d-f5aa7c008080\" class=\"colab-df-container\">\n",
              "    <div>\n",
              "<style scoped>\n",
              "    .dataframe tbody tr th:only-of-type {\n",
              "        vertical-align: middle;\n",
              "    }\n",
              "\n",
              "    .dataframe tbody tr th {\n",
              "        vertical-align: top;\n",
              "    }\n",
              "\n",
              "    .dataframe thead th {\n",
              "        text-align: right;\n",
              "    }\n",
              "</style>\n",
              "<table border=\"1\" class=\"dataframe\">\n",
              "  <thead>\n",
              "    <tr style=\"text-align: right;\">\n",
              "      <th></th>\n",
              "      <th>products</th>\n",
              "      <th>products_wt</th>\n",
              "    </tr>\n",
              "  </thead>\n",
              "  <tbody>\n",
              "    <tr>\n",
              "      <th>0</th>\n",
              "      <td>Kem Dưỡng Da Ban Ngày Trắng Hồng Rạng Rỡ Pond'...</td>\n",
              "      <td>Kem Dưỡng_Da Ban_Ngày Trắng_Hồng Rạng_Rỡ Pond'...</td>\n",
              "    </tr>\n",
              "  </tbody>\n",
              "</table>\n",
              "</div>\n",
              "    <div class=\"colab-df-buttons\">\n",
              "\n",
              "  <div class=\"colab-df-container\">\n",
              "    <button class=\"colab-df-convert\" onclick=\"convertToInteractive('df-3d112e19-5e5c-419b-b42d-f5aa7c008080')\"\n",
              "            title=\"Convert this dataframe to an interactive table.\"\n",
              "            style=\"display:none;\">\n",
              "\n",
              "  <svg xmlns=\"http://www.w3.org/2000/svg\" height=\"24px\" viewBox=\"0 -960 960 960\">\n",
              "    <path d=\"M120-120v-720h720v720H120Zm60-500h600v-160H180v160Zm220 220h160v-160H400v160Zm0 220h160v-160H400v160ZM180-400h160v-160H180v160Zm440 0h160v-160H620v160ZM180-180h160v-160H180v160Zm440 0h160v-160H620v160Z\"/>\n",
              "  </svg>\n",
              "    </button>\n",
              "\n",
              "  <style>\n",
              "    .colab-df-container {\n",
              "      display:flex;\n",
              "      gap: 12px;\n",
              "    }\n",
              "\n",
              "    .colab-df-convert {\n",
              "      background-color: #E8F0FE;\n",
              "      border: none;\n",
              "      border-radius: 50%;\n",
              "      cursor: pointer;\n",
              "      display: none;\n",
              "      fill: #1967D2;\n",
              "      height: 32px;\n",
              "      padding: 0 0 0 0;\n",
              "      width: 32px;\n",
              "    }\n",
              "\n",
              "    .colab-df-convert:hover {\n",
              "      background-color: #E2EBFA;\n",
              "      box-shadow: 0px 1px 2px rgba(60, 64, 67, 0.3), 0px 1px 3px 1px rgba(60, 64, 67, 0.15);\n",
              "      fill: #174EA6;\n",
              "    }\n",
              "\n",
              "    .colab-df-buttons div {\n",
              "      margin-bottom: 4px;\n",
              "    }\n",
              "\n",
              "    [theme=dark] .colab-df-convert {\n",
              "      background-color: #3B4455;\n",
              "      fill: #D2E3FC;\n",
              "    }\n",
              "\n",
              "    [theme=dark] .colab-df-convert:hover {\n",
              "      background-color: #434B5C;\n",
              "      box-shadow: 0px 1px 3px 1px rgba(0, 0, 0, 0.15);\n",
              "      filter: drop-shadow(0px 1px 2px rgba(0, 0, 0, 0.3));\n",
              "      fill: #FFFFFF;\n",
              "    }\n",
              "  </style>\n",
              "\n",
              "    <script>\n",
              "      const buttonEl =\n",
              "        document.querySelector('#df-3d112e19-5e5c-419b-b42d-f5aa7c008080 button.colab-df-convert');\n",
              "      buttonEl.style.display =\n",
              "        google.colab.kernel.accessAllowed ? 'block' : 'none';\n",
              "\n",
              "      async function convertToInteractive(key) {\n",
              "        const element = document.querySelector('#df-3d112e19-5e5c-419b-b42d-f5aa7c008080');\n",
              "        const dataTable =\n",
              "          await google.colab.kernel.invokeFunction('convertToInteractive',\n",
              "                                                    [key], {});\n",
              "        if (!dataTable) return;\n",
              "\n",
              "        const docLinkHtml = 'Like what you see? Visit the ' +\n",
              "          '<a target=\"_blank\" href=https://colab.research.google.com/notebooks/data_table.ipynb>data table notebook</a>'\n",
              "          + ' to learn more about interactive tables.';\n",
              "        element.innerHTML = '';\n",
              "        dataTable['output_type'] = 'display_data';\n",
              "        await google.colab.output.renderOutput(dataTable, element);\n",
              "        const docLink = document.createElement('div');\n",
              "        docLink.innerHTML = docLinkHtml;\n",
              "        element.appendChild(docLink);\n",
              "      }\n",
              "    </script>\n",
              "  </div>\n",
              "\n",
              "    </div>\n",
              "  </div>\n"
            ],
            "application/vnd.google.colaboratory.intrinsic+json": {
              "type": "dataframe",
              "variable_name": "product_selection",
              "summary": "{\n  \"name\": \"product_selection\",\n  \"rows\": 1,\n  \"fields\": [\n    {\n      \"column\": \"products\",\n      \"properties\": {\n        \"dtype\": \"string\",\n        \"num_unique_values\": 1,\n        \"samples\": [\n          \"Kem D\\u01b0\\u1ee1ng Da Ban Ng\\u00e0y Tr\\u1eafng H\\u1ed3ng R\\u1ea1ng R\\u1ee1 Pond's White Beauty 50g v\\u1edbi c\\u00f4ng th\\u1ee9c ph\\u1ee9c h\\u1ee3p d\\u01b0\\u1ee1ng tr\\u1eafng Vitamin B3 gi\\u00fap t\\u0103ng c\\u01b0\\u1eddng kh\\u1ea3 n\\u0103ng d\\u01b0\\u1ee1ng tr\\u1eafng t\\u1eeb s\\u00e2u b\\u00ean trong, l\\u00e0m m\\u1edd v\\u1ebft th\\u00e2m s\\u1ea1m, cho l\\u00e0n da tr\\u1eafng h\\u1ed3ng r\\u1ea1ng r\\u1ee1 b\\u00ean ngo\\u00e0i.\"\n        ],\n        \"semantic_type\": \"\",\n        \"description\": \"\"\n      }\n    },\n    {\n      \"column\": \"products_wt\",\n      \"properties\": {\n        \"dtype\": \"string\",\n        \"num_unique_values\": 1,\n        \"samples\": [\n          \"Kem D\\u01b0\\u1ee1ng_Da Ban_Ng\\u00e0y Tr\\u1eafng_H\\u1ed3ng R\\u1ea1ng_R\\u1ee1 Pond's_White Beauty 50 g v\\u1edbi c\\u00f4ng_th\\u1ee9c ph\\u1ee9c_h\\u1ee3p_d\\u01b0\\u1ee1ng tr\\u1eafng Vitamin_B3 gi\\u00fap t\\u0103ng_c\\u01b0\\u1eddng kh\\u1ea3_n\\u0103ng d\\u01b0\\u1ee1ng_tr\\u1eafng t\\u1eeb s\\u00e2u b\\u00ean trong , l\\u00e0m m\\u1edd v\\u1ebft th\\u00e2m_s\\u1ea1m , cho l\\u00e0n da tr\\u1eafng h\\u1ed3ng r\\u1ea1ng_r\\u1ee1 b\\u00ean ngo\\u00e0i .\"\n        ],\n        \"semantic_type\": \"\",\n        \"description\": \"\"\n      }\n    }\n  ]\n}"
            }
          },
          "metadata": {},
          "execution_count": 33
        }
      ]
    },
    {
      "cell_type": "code",
      "metadata": {
        "colab": {
          "base_uri": "https://localhost:8080/",
          "height": 203
        },
        "id": "xTR3TVpt6qqK",
        "outputId": "45ba01df-5c44-4ecc-a469-d203dc37fa43"
      },
      "source": [
        "type(product_selection['products_wt'])"
      ],
      "execution_count": null,
      "outputs": [
        {
          "output_type": "execute_result",
          "data": {
            "text/plain": [
              "pandas.core.series.Series"
            ],
            "text/html": [
              "<div style=\"max-width:800px; border: 1px solid var(--colab-border-color);\"><style>\n",
              "      pre.function-repr-contents {\n",
              "        overflow-x: auto;\n",
              "        padding: 8px 12px;\n",
              "        max-height: 500px;\n",
              "      }\n",
              "\n",
              "      pre.function-repr-contents.function-repr-contents-collapsed {\n",
              "        cursor: pointer;\n",
              "        max-height: 100px;\n",
              "      }\n",
              "    </style>\n",
              "    <pre style=\"white-space: initial; background:\n",
              "         var(--colab-secondary-surface-color); padding: 8px 12px;\n",
              "         border-bottom: 1px solid var(--colab-border-color);\"><b>pandas.core.series.Series</b><br/>def __init__(data=None, index=None, dtype: Dtype | None=None, name=None, copy: bool=False, fastpath: bool=False) -&gt; None</pre><pre class=\"function-repr-contents function-repr-contents-collapsed\" style=\"\"><a class=\"filepath\" style=\"display:none\" href=\"#\">/usr/local/lib/python3.10/dist-packages/pandas/core/series.py</a>One-dimensional ndarray with axis labels (including time series).\n",
              "\n",
              "Labels need not be unique but must be a hashable type. The object\n",
              "supports both integer- and label-based indexing and provides a host of\n",
              "methods for performing operations involving the index. Statistical\n",
              "methods from ndarray have been overridden to automatically exclude\n",
              "missing data (currently represented as NaN).\n",
              "\n",
              "Operations between Series (+, -, /, \\*, \\*\\*) align values based on their\n",
              "associated index values-- they need not be the same length. The result\n",
              "index will be the sorted union of the two indexes.\n",
              "\n",
              "Parameters\n",
              "----------\n",
              "data : array-like, Iterable, dict, or scalar value\n",
              "    Contains data stored in Series. If data is a dict, argument order is\n",
              "    maintained.\n",
              "index : array-like or Index (1d)\n",
              "    Values must be hashable and have the same length as `data`.\n",
              "    Non-unique index values are allowed. Will default to\n",
              "    RangeIndex (0, 1, 2, ..., n) if not provided. If data is dict-like\n",
              "    and index is None, then the keys in the data are used as the index. If the\n",
              "    index is not None, the resulting Series is reindexed with the index values.\n",
              "dtype : str, numpy.dtype, or ExtensionDtype, optional\n",
              "    Data type for the output Series. If not specified, this will be\n",
              "    inferred from `data`.\n",
              "    See the :ref:`user guide &lt;basics.dtypes&gt;` for more usages.\n",
              "name : str, optional\n",
              "    The name to give to the Series.\n",
              "copy : bool, default False\n",
              "    Copy input data. Only affects Series or 1d ndarray input. See examples.\n",
              "\n",
              "Notes\n",
              "-----\n",
              "Please reference the :ref:`User Guide &lt;basics.series&gt;` for more information.\n",
              "\n",
              "Examples\n",
              "--------\n",
              "Constructing Series from a dictionary with an Index specified\n",
              "\n",
              "&gt;&gt;&gt; d = {&#x27;a&#x27;: 1, &#x27;b&#x27;: 2, &#x27;c&#x27;: 3}\n",
              "&gt;&gt;&gt; ser = pd.Series(data=d, index=[&#x27;a&#x27;, &#x27;b&#x27;, &#x27;c&#x27;])\n",
              "&gt;&gt;&gt; ser\n",
              "a   1\n",
              "b   2\n",
              "c   3\n",
              "dtype: int64\n",
              "\n",
              "The keys of the dictionary match with the Index values, hence the Index\n",
              "values have no effect.\n",
              "\n",
              "&gt;&gt;&gt; d = {&#x27;a&#x27;: 1, &#x27;b&#x27;: 2, &#x27;c&#x27;: 3}\n",
              "&gt;&gt;&gt; ser = pd.Series(data=d, index=[&#x27;x&#x27;, &#x27;y&#x27;, &#x27;z&#x27;])\n",
              "&gt;&gt;&gt; ser\n",
              "x   NaN\n",
              "y   NaN\n",
              "z   NaN\n",
              "dtype: float64\n",
              "\n",
              "Note that the Index is first build with the keys from the dictionary.\n",
              "After this the Series is reindexed with the given Index values, hence we\n",
              "get all NaN as a result.\n",
              "\n",
              "Constructing Series from a list with `copy=False`.\n",
              "\n",
              "&gt;&gt;&gt; r = [1, 2]\n",
              "&gt;&gt;&gt; ser = pd.Series(r, copy=False)\n",
              "&gt;&gt;&gt; ser.iloc[0] = 999\n",
              "&gt;&gt;&gt; r\n",
              "[1, 2]\n",
              "&gt;&gt;&gt; ser\n",
              "0    999\n",
              "1      2\n",
              "dtype: int64\n",
              "\n",
              "Due to input data type the Series has a `copy` of\n",
              "the original data even though `copy=False`, so\n",
              "the data is unchanged.\n",
              "\n",
              "Constructing Series from a 1d ndarray with `copy=False`.\n",
              "\n",
              "&gt;&gt;&gt; r = np.array([1, 2])\n",
              "&gt;&gt;&gt; ser = pd.Series(r, copy=False)\n",
              "&gt;&gt;&gt; ser.iloc[0] = 999\n",
              "&gt;&gt;&gt; r\n",
              "array([999,   2])\n",
              "&gt;&gt;&gt; ser\n",
              "0    999\n",
              "1      2\n",
              "dtype: int64\n",
              "\n",
              "Due to input data type the Series has a `view` on\n",
              "the original data, so\n",
              "the data is changed as well.</pre>\n",
              "      <script>\n",
              "      if (google.colab.kernel.accessAllowed && google.colab.files && google.colab.files.view) {\n",
              "        for (const element of document.querySelectorAll('.filepath')) {\n",
              "          element.style.display = 'block'\n",
              "          element.onclick = (event) => {\n",
              "            event.preventDefault();\n",
              "            event.stopPropagation();\n",
              "            google.colab.files.view(element.textContent, 216);\n",
              "          };\n",
              "        }\n",
              "      }\n",
              "      for (const element of document.querySelectorAll('.function-repr-contents')) {\n",
              "        element.onclick = (event) => {\n",
              "          event.preventDefault();\n",
              "          event.stopPropagation();\n",
              "          element.classList.toggle('function-repr-contents-collapsed');\n",
              "        };\n",
              "      }\n",
              "      </script>\n",
              "      </div>"
            ]
          },
          "metadata": {},
          "execution_count": 34
        }
      ]
    },
    {
      "cell_type": "code",
      "metadata": {
        "id": "vRJKJ3zc63IJ"
      },
      "source": [
        "# sản phẩm đang xem\n",
        "name_description_pre = product_selection['products_wt'].to_string(index=False)"
      ],
      "execution_count": null,
      "outputs": []
    },
    {
      "cell_type": "code",
      "metadata": {
        "colab": {
          "base_uri": "https://localhost:8080/",
          "height": 36
        },
        "id": "kiJzcqdL6_si",
        "outputId": "29459331-002b-48e1-d555-1b7390b9b8a3"
      },
      "source": [
        "# tien xu ly tuong tu\n",
        "# nen viet ham xu ly\n",
        "# goi khi can\n",
        "name_description_pre"
      ],
      "execution_count": null,
      "outputs": [
        {
          "output_type": "execute_result",
          "data": {
            "text/plain": [
              "\"Kem Dưỡng_Da Ban_Ngày Trắng_Hồng Rạng_Rỡ Pond's...\""
            ],
            "application/vnd.google.colaboratory.intrinsic+json": {
              "type": "string"
            }
          },
          "metadata": {},
          "execution_count": 36
        }
      ]
    },
    {
      "cell_type": "code",
      "metadata": {
        "id": "PlLm2kII7zk2"
      },
      "source": [
        "view_product = name_description_pre.lower().split()\n",
        "#..."
      ],
      "execution_count": null,
      "outputs": []
    },
    {
      "cell_type": "code",
      "metadata": {
        "id": "jrmV8fsL7TjK"
      },
      "source": [
        "# Convert search words into Sparse Vectors\n",
        "kw_vector = dictionary.doc2bow(view_product)"
      ],
      "execution_count": null,
      "outputs": []
    },
    {
      "cell_type": "code",
      "metadata": {
        "colab": {
          "base_uri": "https://localhost:8080/"
        },
        "id": "DNTekyC27Yga",
        "outputId": "ba259ea3-8dc3-420c-837d-76f21e91c978"
      },
      "source": [
        "kw_vector"
      ],
      "execution_count": null,
      "outputs": [
        {
          "output_type": "execute_result",
          "data": {
            "text/plain": [
              "[(0, 1), (4, 1), (8, 1), (14, 1), (18, 1)]"
            ]
          },
          "metadata": {},
          "execution_count": 39
        }
      ]
    },
    {
      "cell_type": "code",
      "metadata": {
        "id": "qlho6rq88LhK"
      },
      "source": [
        "# similarity calculation\n",
        "sim = index[tfidf[kw_vector]]"
      ],
      "execution_count": null,
      "outputs": []
    },
    {
      "cell_type": "code",
      "source": [
        "sim"
      ],
      "metadata": {
        "colab": {
          "base_uri": "https://localhost:8080/"
        },
        "id": "QbR6-GcQPV8Y",
        "outputId": "db28aba8-77d6-469f-ef8a-39d5aa32d8f5"
      },
      "execution_count": null,
      "outputs": [
        {
          "output_type": "execute_result",
          "data": {
            "text/plain": [
              "array([0.58622503, 0.269912  , 0.00888718, 0.00749037, 0.00926828,\n",
              "       0.        , 0.        , 0.        , 0.        ], dtype=float32)"
            ]
          },
          "metadata": {},
          "execution_count": 41
        }
      ]
    },
    {
      "cell_type": "code",
      "metadata": {
        "colab": {
          "base_uri": "https://localhost:8080/"
        },
        "id": "AsXQQBvX8OZa",
        "outputId": "ec0cfd43-ed5c-447e-c47c-88a22ac70b85"
      },
      "source": [
        "# print result\n",
        "for i in range(len(sim)):\n",
        "    # Vì lấy mẫu đầu tiên để xem nên bỏ qua mẫu đầu tiên\n",
        "    if i!=0:\n",
        "        print('keyword is similar to doc_index %d: %.2f' % (i, sim[i]))"
      ],
      "execution_count": null,
      "outputs": [
        {
          "output_type": "stream",
          "name": "stdout",
          "text": [
            "keyword is similar to doc_index 1: 0.27\n",
            "keyword is similar to doc_index 2: 0.01\n",
            "keyword is similar to doc_index 3: 0.01\n",
            "keyword is similar to doc_index 4: 0.01\n",
            "keyword is similar to doc_index 5: 0.00\n",
            "keyword is similar to doc_index 6: 0.00\n",
            "keyword is similar to doc_index 7: 0.00\n",
            "keyword is similar to doc_index 8: 0.00\n"
          ]
        }
      ]
    },
    {
      "cell_type": "code",
      "metadata": {
        "id": "im3UQHs-6NG6"
      },
      "source": [
        "# Giả sử sản phẩm liên quan nhất có index là 1 như trên\n",
        "product_famillier = df.iloc[[1]]"
      ],
      "execution_count": null,
      "outputs": []
    },
    {
      "cell_type": "code",
      "metadata": {
        "colab": {
          "base_uri": "https://localhost:8080/",
          "height": 81
        },
        "id": "rsFcBbhO-I7q",
        "outputId": "c4c84112-591a-4692-92d0-7125c61a70d7"
      },
      "source": [
        "product_famillier"
      ],
      "execution_count": null,
      "outputs": [
        {
          "output_type": "execute_result",
          "data": {
            "text/plain": [
              "                                            products  \\\n",
              "1  Kem Dưỡng Da Đêm Ngày Trắng Hồng Rạng Rỡ Pond'...   \n",
              "\n",
              "                                         products_wt  \n",
              "1  Kem Dưỡng_Da_Đêm Ngày Trắng_Hồng Rạng_Rỡ Pond'...  "
            ],
            "text/html": [
              "\n",
              "  <div id=\"df-e4189d1f-a857-454d-96de-966454771799\" class=\"colab-df-container\">\n",
              "    <div>\n",
              "<style scoped>\n",
              "    .dataframe tbody tr th:only-of-type {\n",
              "        vertical-align: middle;\n",
              "    }\n",
              "\n",
              "    .dataframe tbody tr th {\n",
              "        vertical-align: top;\n",
              "    }\n",
              "\n",
              "    .dataframe thead th {\n",
              "        text-align: right;\n",
              "    }\n",
              "</style>\n",
              "<table border=\"1\" class=\"dataframe\">\n",
              "  <thead>\n",
              "    <tr style=\"text-align: right;\">\n",
              "      <th></th>\n",
              "      <th>products</th>\n",
              "      <th>products_wt</th>\n",
              "    </tr>\n",
              "  </thead>\n",
              "  <tbody>\n",
              "    <tr>\n",
              "      <th>1</th>\n",
              "      <td>Kem Dưỡng Da Đêm Ngày Trắng Hồng Rạng Rỡ Pond'...</td>\n",
              "      <td>Kem Dưỡng_Da_Đêm Ngày Trắng_Hồng Rạng_Rỡ Pond'...</td>\n",
              "    </tr>\n",
              "  </tbody>\n",
              "</table>\n",
              "</div>\n",
              "    <div class=\"colab-df-buttons\">\n",
              "\n",
              "  <div class=\"colab-df-container\">\n",
              "    <button class=\"colab-df-convert\" onclick=\"convertToInteractive('df-e4189d1f-a857-454d-96de-966454771799')\"\n",
              "            title=\"Convert this dataframe to an interactive table.\"\n",
              "            style=\"display:none;\">\n",
              "\n",
              "  <svg xmlns=\"http://www.w3.org/2000/svg\" height=\"24px\" viewBox=\"0 -960 960 960\">\n",
              "    <path d=\"M120-120v-720h720v720H120Zm60-500h600v-160H180v160Zm220 220h160v-160H400v160Zm0 220h160v-160H400v160ZM180-400h160v-160H180v160Zm440 0h160v-160H620v160ZM180-180h160v-160H180v160Zm440 0h160v-160H620v160Z\"/>\n",
              "  </svg>\n",
              "    </button>\n",
              "\n",
              "  <style>\n",
              "    .colab-df-container {\n",
              "      display:flex;\n",
              "      gap: 12px;\n",
              "    }\n",
              "\n",
              "    .colab-df-convert {\n",
              "      background-color: #E8F0FE;\n",
              "      border: none;\n",
              "      border-radius: 50%;\n",
              "      cursor: pointer;\n",
              "      display: none;\n",
              "      fill: #1967D2;\n",
              "      height: 32px;\n",
              "      padding: 0 0 0 0;\n",
              "      width: 32px;\n",
              "    }\n",
              "\n",
              "    .colab-df-convert:hover {\n",
              "      background-color: #E2EBFA;\n",
              "      box-shadow: 0px 1px 2px rgba(60, 64, 67, 0.3), 0px 1px 3px 1px rgba(60, 64, 67, 0.15);\n",
              "      fill: #174EA6;\n",
              "    }\n",
              "\n",
              "    .colab-df-buttons div {\n",
              "      margin-bottom: 4px;\n",
              "    }\n",
              "\n",
              "    [theme=dark] .colab-df-convert {\n",
              "      background-color: #3B4455;\n",
              "      fill: #D2E3FC;\n",
              "    }\n",
              "\n",
              "    [theme=dark] .colab-df-convert:hover {\n",
              "      background-color: #434B5C;\n",
              "      box-shadow: 0px 1px 3px 1px rgba(0, 0, 0, 0.15);\n",
              "      filter: drop-shadow(0px 1px 2px rgba(0, 0, 0, 0.3));\n",
              "      fill: #FFFFFF;\n",
              "    }\n",
              "  </style>\n",
              "\n",
              "    <script>\n",
              "      const buttonEl =\n",
              "        document.querySelector('#df-e4189d1f-a857-454d-96de-966454771799 button.colab-df-convert');\n",
              "      buttonEl.style.display =\n",
              "        google.colab.kernel.accessAllowed ? 'block' : 'none';\n",
              "\n",
              "      async function convertToInteractive(key) {\n",
              "        const element = document.querySelector('#df-e4189d1f-a857-454d-96de-966454771799');\n",
              "        const dataTable =\n",
              "          await google.colab.kernel.invokeFunction('convertToInteractive',\n",
              "                                                    [key], {});\n",
              "        if (!dataTable) return;\n",
              "\n",
              "        const docLinkHtml = 'Like what you see? Visit the ' +\n",
              "          '<a target=\"_blank\" href=https://colab.research.google.com/notebooks/data_table.ipynb>data table notebook</a>'\n",
              "          + ' to learn more about interactive tables.';\n",
              "        element.innerHTML = '';\n",
              "        dataTable['output_type'] = 'display_data';\n",
              "        await google.colab.output.renderOutput(dataTable, element);\n",
              "        const docLink = document.createElement('div');\n",
              "        docLink.innerHTML = docLinkHtml;\n",
              "        element.appendChild(docLink);\n",
              "      }\n",
              "    </script>\n",
              "  </div>\n",
              "\n",
              "    </div>\n",
              "  </div>\n"
            ],
            "application/vnd.google.colaboratory.intrinsic+json": {
              "type": "dataframe",
              "variable_name": "product_famillier",
              "summary": "{\n  \"name\": \"product_famillier\",\n  \"rows\": 1,\n  \"fields\": [\n    {\n      \"column\": \"products\",\n      \"properties\": {\n        \"dtype\": \"string\",\n        \"num_unique_values\": 1,\n        \"samples\": [\n          \"Kem D\\u01b0\\u1ee1ng Da \\u0110\\u00eam Ng\\u00e0y Tr\\u1eafng H\\u1ed3ng R\\u1ea1ng R\\u1ee1 Pond's White Beauty 50g v\\u1edbi c\\u00f4ng th\\u1ee9c ph\\u1ee9c h\\u1ee3p d\\u01b0\\u1ee1ng tr\\u1eafng Vitamin B3+ gi\\u00fap t\\u0103ng c\\u01b0\\u1eddng kh\\u1ea3 n\\u0103ng d\\u01b0\\u1ee1ng tr\\u1eafng da li\\u00ean t\\u1ee5c su\\u1ed1t c\\u1ea3 \\u0111\\u00eam t\\u1eeb s\\u00e2u b\\u00ean trong, mang \\u0111\\u1ebfn l\\u00e0n da s\\u00e1ng m\\u1ecbn r\\u1ea1ng r\\u1ee1 sau m\\u1ed7i l\\u1ea7n s\\u1eed d\\u1ee5ng.\"\n        ],\n        \"semantic_type\": \"\",\n        \"description\": \"\"\n      }\n    },\n    {\n      \"column\": \"products_wt\",\n      \"properties\": {\n        \"dtype\": \"string\",\n        \"num_unique_values\": 1,\n        \"samples\": [\n          \"Kem D\\u01b0\\u1ee1ng_Da_\\u0110\\u00eam Ng\\u00e0y Tr\\u1eafng_H\\u1ed3ng R\\u1ea1ng_R\\u1ee1 Pond's_White Beauty 50 g v\\u1edbi c\\u00f4ng_th\\u1ee9c ph\\u1ee9c_h\\u1ee3p_d\\u01b0\\u1ee1ng tr\\u1eafng Vitamin_B3 + gi\\u00fap t\\u0103ng_c\\u01b0\\u1eddng kh\\u1ea3_n\\u0103ng d\\u01b0\\u1ee1ng_tr\\u1eafng da li\\u00ean_t\\u1ee5c su\\u1ed1t c\\u1ea3 \\u0111\\u00eam t\\u1eeb s\\u00e2u b\\u00ean trong , mang \\u0111\\u1ebfn l\\u00e0n da s\\u00e1ng m\\u1ecbn r\\u1ea1ng_r\\u1ee1 sau m\\u1ed7i l\\u1ea7n s\\u1eed_d\\u1ee5ng .\"\n        ],\n        \"semantic_type\": \"\",\n        \"description\": \"\"\n      }\n    }\n  ]\n}"
            }
          },
          "metadata": {},
          "execution_count": 44
        }
      ]
    },
    {
      "cell_type": "markdown",
      "metadata": {
        "id": "bRLniR9_-54G"
      },
      "source": [
        "# Cosine_similarity\n",
        "- link https://scikit-learn.org/stable/modules/generated/sklearn.metrics.pairwise.cosine_similarity.html\n",
        "- link https://en.wikipedia.org/wiki/Cosine_similarity\n",
        "![image.png](data:image/png;base64,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)"
      ]
    },
    {
      "cell_type": "code",
      "metadata": {
        "colab": {
          "base_uri": "https://localhost:8080/"
        },
        "id": "BCJTrUHlg9Su",
        "outputId": "9dfcf16e-8c06-43cd-dfdb-49f2f3a2dacc"
      },
      "source": [
        "from numpy import dot\n",
        "from numpy.linalg import norm\n",
        "X = [1,2]\n",
        "Y = [2,2]\n",
        "cos_sim = dot(X,Y) / (norm(X)*norm(Y))\n",
        "print(cos_sim)"
      ],
      "execution_count": null,
      "outputs": [
        {
          "output_type": "stream",
          "name": "stdout",
          "text": [
            "0.9486832980505138\n"
          ]
        }
      ]
    },
    {
      "cell_type": "markdown",
      "metadata": {
        "id": "agQDiSIRhFHw"
      },
      "source": []
    },
    {
      "cell_type": "code",
      "metadata": {
        "id": "Z0Co_spi-KMS"
      },
      "source": [
        "tf = TfidfVectorizer(analyzer='word', stop_words=stop_words)"
      ],
      "execution_count": null,
      "outputs": []
    },
    {
      "cell_type": "code",
      "metadata": {
        "id": "Q4hifg_YLD5S"
      },
      "source": [
        "tfidf_matrix = tf.fit_transform(df.products_wt)"
      ],
      "execution_count": null,
      "outputs": []
    },
    {
      "cell_type": "code",
      "metadata": {
        "id": "y8mOycJtLUW-"
      },
      "source": [
        "cosine_similarities = cosine_similarity(tfidf_matrix, tfidf_matrix)"
      ],
      "execution_count": null,
      "outputs": []
    },
    {
      "cell_type": "code",
      "metadata": {
        "colab": {
          "base_uri": "https://localhost:8080/"
        },
        "id": "NqfY7tHlLYon",
        "outputId": "8737f4ec-8c03-4832-f32e-4df3f50129e9"
      },
      "source": [
        "cosine_similarities"
      ],
      "execution_count": null,
      "outputs": [
        {
          "output_type": "execute_result",
          "data": {
            "text/plain": [
              "array([[1.        , 0.69519827, 0.1551208 , 0.12374782, 0.15994914,\n",
              "        0.00965768, 0.04347849, 0.04908612, 0.05106241],\n",
              "       [0.69519827, 1.        , 0.15715171, 0.10934188, 0.21851252,\n",
              "        0.01015654, 0.10185011, 0.06193459, 0.0751564 ],\n",
              "       [0.1551208 , 0.15715171, 1.        , 0.19403449, 0.26562584,\n",
              "        0.0304808 , 0.06240797, 0.0773547 , 0.04822855],\n",
              "       [0.12374782, 0.10934188, 0.19403449, 1.        , 0.1497956 ,\n",
              "        0.08191914, 0.08858269, 0.0278274 , 0.08692276],\n",
              "       [0.15994914, 0.21851252, 0.26562584, 0.1497956 , 1.        ,\n",
              "        0.00771569, 0.13257418, 0.06271941, 0.12209577],\n",
              "       [0.00965768, 0.01015654, 0.0304808 , 0.08191914, 0.00771569,\n",
              "        1.        , 0.04378038, 0.00966135, 0.        ],\n",
              "       [0.04347849, 0.10185011, 0.06240797, 0.08858269, 0.13257418,\n",
              "        0.04378038, 1.        , 0.06232388, 0.10206116],\n",
              "       [0.04908612, 0.06193459, 0.0773547 , 0.0278274 , 0.06271941,\n",
              "        0.00966135, 0.06232388, 1.        , 0.14212572],\n",
              "       [0.05106241, 0.0751564 , 0.04822855, 0.08692276, 0.12209577,\n",
              "        0.        , 0.10206116, 0.14212572, 1.        ]])"
            ]
          },
          "metadata": {},
          "execution_count": 49
        }
      ]
    },
    {
      "cell_type": "code",
      "metadata": {
        "id": "JmR09B0hLdXG",
        "colab": {
          "base_uri": "https://localhost:8080/"
        },
        "outputId": "7d7021b9-df4b-4ef9-e4a4-d4937938dc60"
      },
      "source": [
        "cosine_similarities.shape"
      ],
      "execution_count": null,
      "outputs": [
        {
          "output_type": "execute_result",
          "data": {
            "text/plain": [
              "(9, 9)"
            ]
          },
          "metadata": {},
          "execution_count": 50
        }
      ]
    },
    {
      "cell_type": "code",
      "metadata": {
        "colab": {
          "base_uri": "https://localhost:8080/"
        },
        "id": "RhlbsLkmLeEf",
        "outputId": "6d369fe2-44ea-43d5-950e-c3201ada6757"
      },
      "source": [
        "# với mỗi sản phẩm, lấy 3 sản phẩm tương quan nhất\n",
        "results = {}\n",
        "\n",
        "for idx, row in df.iterrows():\n",
        "    similar_indices = cosine_similarities[idx].argsort()[-4:-1]\n",
        "    similar_items = [(cosine_similarities[idx][i]) for i in similar_indices]\n",
        "    similar_items = [(cosine_similarities[idx][i], df.index[i]) for i in similar_indices]\n",
        "    print(similar_items[0:])\n",
        "    results[idx] = similar_items[0:]"
      ],
      "execution_count": null,
      "outputs": [
        {
          "output_type": "stream",
          "name": "stdout",
          "text": [
            "[(0.15512079719991662, 2), (0.15994914305652225, 4), (0.6951982684968354, 1)]\n",
            "[(0.15715171135957345, 2), (0.218512522363034, 4), (0.6951982684968354, 0)]\n",
            "[(0.15715171135957345, 1), (0.19403448802686324, 3), (0.26562584202409356, 4)]\n",
            "[(0.12374782171555312, 0), (0.14979560104276052, 4), (0.19403448802686324, 2)]\n",
            "[(0.15994914305652225, 0), (0.218512522363034, 1), (0.26562584202409356, 2)]\n",
            "[(0.03048080117011501, 2), (0.043780376453166577, 6), (0.08191914396190085, 3)]\n",
            "[(0.10185010798524011, 1), (0.1020611638551705, 8), (0.13257417789271964, 4)]\n",
            "[(0.06271940602042296, 4), (0.07735469936250719, 2), (0.14212571768388169, 8)]\n",
            "[(0.1020611638551705, 6), (0.12209577477360442, 4), (0.14212571768388169, 7)]\n"
          ]
        }
      ]
    },
    {
      "cell_type": "code",
      "metadata": {
        "colab": {
          "base_uri": "https://localhost:8080/"
        },
        "id": "suhVcWK5MVPL",
        "outputId": "fca74265-ab41-459c-ae8d-626635ebf90b"
      },
      "source": [
        "results[0]"
      ],
      "execution_count": null,
      "outputs": [
        {
          "output_type": "execute_result",
          "data": {
            "text/plain": [
              "[(0.15512079719991662, 2), (0.15994914305652225, 4), (0.6951982684968354, 1)]"
            ]
          },
          "metadata": {},
          "execution_count": 52
        }
      ]
    }
  ]
}